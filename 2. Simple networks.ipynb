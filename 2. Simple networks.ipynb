{
 "metadata": {
  "name": "",
  "signature": "sha256:c7ffe35850aa5bb3f4f6757b929be81bab4f596de9430b41591d0fe1f13c747c"
 },
 "nbformat": 3,
 "nbformat_minor": 0,
 "worksheets": [
  {
   "cells": [
    {
     "cell_type": "markdown",
     "metadata": {},
     "source": [
      "# Introduction to Tethne: Simple Networks"
     ]
    },
    {
     "cell_type": "markdown",
     "metadata": {},
     "source": [
      "In this notebook we will use the ``Paper``s in our WoS dataset to create a simple coauthor network, and then export that network to GraphML so that we can visualize it in Cytoscape."
     ]
    },
    {
     "cell_type": "markdown",
     "metadata": {},
     "source": [
      "## Before you start"
     ]
    },
    {
     "cell_type": "markdown",
     "metadata": {},
     "source": [
      "* Download the Web of Science practice dataset from [here](http://devo-evo.lab.asu.edu/methods/tethne/datasets.zip), and store it in a place where you can find it. You'll need the full path to your dataset.\n",
      "* Complete the tutorial **\"Loading Data, part 1\"**"
     ]
    },
    {
     "cell_type": "markdown",
     "metadata": {},
     "source": [
      "## Loading our WoS data"
     ]
    },
    {
     "cell_type": "markdown",
     "metadata": {},
     "source": [
      "We'll use the Web of Science dataset from our last workbook. Since this is a new workbook, we'll have to load it again. We'll load all of the WoS data files at once using the **``from_dir``** function."
     ]
    },
    {
     "cell_type": "code",
     "collapsed": false,
     "input": [
      "from tethne.readers import wos\n",
      "datadirpath = '/Users/erickpeirson/tethne-notebooks/data/wos'\n",
      "papers = wos.from_dir(datadirpath)"
     ],
     "language": "python",
     "metadata": {},
     "outputs": [],
     "prompt_number": 1
    },
    {
     "cell_type": "markdown",
     "metadata": {},
     "source": [
      "## Importing a ``networks`` module"
     ]
    },
    {
     "cell_type": "markdown",
     "metadata": {},
     "source": [
      "The modules in the ``tethne.networks`` subpackage provide a variety of functions for building \n",
      "\n",
      "| Module                       | Description                                                                 | \n",
      "| ---------------------------- |-----------------------------------------------------------------------------|\n",
      "| ``tethne.networks.authors``  |  Methods for making networks among authors, or among authors' institutions. |\n",
      "| ``tethne.networks.features`` |  Methods for making networks based on featuresets (later in this workshop). |\n",
      "| ``tethne.networks.papers``   |  Methods for making networks among papers, or their cited references.       |\n",
      "| ``tethne.networks.topics``   |  Methods for making networks based on topic models.                         |"
     ]
    },
    {
     "cell_type": "markdown",
     "metadata": {},
     "source": [
      "In this tutorial we'll work with the ``authors`` module. You can import it like so:"
     ]
    },
    {
     "cell_type": "code",
     "collapsed": false,
     "input": [
      "from tethne.networks import authors"
     ],
     "language": "python",
     "metadata": {},
     "outputs": [],
     "prompt_number": 2
    },
    {
     "cell_type": "markdown",
     "metadata": {},
     "source": [
      "## Building a network"
     ]
    },
    {
     "cell_type": "markdown",
     "metadata": {},
     "source": [
      "The functions in the ``authors`` module all take a list of ``Paper``s as their first parameter. See the Tethne documentation for details about each method. In this workbook we'll use the **``authors.coauthors``** function, which doesn't require any additional parameters."
     ]
    },
    {
     "cell_type": "code",
     "collapsed": false,
     "input": [
      "coauthor_graph = authors.coauthors(papers)"
     ],
     "language": "python",
     "metadata": {},
     "outputs": [],
     "prompt_number": 3
    },
    {
     "cell_type": "markdown",
     "metadata": {},
     "source": [
      "The ``authors.coauthors`` function returns a ``Graph`` object from the [``NetworkX`` Python package](https://networkx.github.io/). We'll come back to the joys of NetworkX later on in these tutorials."
     ]
    },
    {
     "cell_type": "code",
     "collapsed": false,
     "input": [
      "type(coauthor_graph)"
     ],
     "language": "python",
     "metadata": {},
     "outputs": [
      {
       "metadata": {},
       "output_type": "pyout",
       "prompt_number": 4,
       "text": [
        "networkx.classes.graph.Graph"
       ]
      }
     ],
     "prompt_number": 4
    },
    {
     "cell_type": "markdown",
     "metadata": {},
     "source": [
      "You can view a list of nodes and edges in the ``Graph`` using the ``nodes`` and ``edges`` methods:"
     ]
    },
    {
     "cell_type": "code",
     "collapsed": false,
     "input": [
      "coauthor_graph.nodes()[0:10]    # [0:10] selects only the first 10 entries in the list."
     ],
     "language": "python",
     "metadata": {},
     "outputs": [
      {
       "metadata": {},
       "output_type": "pyout",
       "prompt_number": 5,
       "text": [
        "['SALVANES AGV',\n",
        " 'CHEN YH',\n",
        " 'KRAKOWSKI J',\n",
        " 'BAL G',\n",
        " 'KIAER LP',\n",
        " 'CARCAMO HA',\n",
        " 'KNOEPP JD',\n",
        " 'RAO GY',\n",
        " 'KOS M',\n",
        " 'ABASOLO M']"
       ]
      }
     ],
     "prompt_number": 5
    },
    {
     "cell_type": "code",
     "collapsed": false,
     "input": [
      "coauthor_graph.edges()[0:10]"
     ],
     "language": "python",
     "metadata": {},
     "outputs": [
      {
       "metadata": {},
       "output_type": "pyout",
       "prompt_number": 6,
       "text": [
        "[('SALVANES AGV', 'SKJAERAASEN JE'),\n",
        " ('SALVANES AGV', 'NILSEN T'),\n",
        " ('CHEN YH', 'WELTER SC'),\n",
        " ('KRAKOWSKI J', 'RUSSELL J'),\n",
        " ('KRAKOWSKI J', 'STOEHR MU'),\n",
        " ('KRAKOWSKI J', 'BENOWICZ A'),\n",
        " ('KRAKOWSKI J', 'EL-KASSABY YA'),\n",
        " ('BAL G', 'CAM S'),\n",
        " ('BAL G', 'EVANNO G'),\n",
        " ('BAL G', 'COTE J')]"
       ]
      }
     ],
     "prompt_number": 6
    },
    {
     "cell_type": "code",
     "collapsed": false,
     "input": [
      "print 'This graph has {0} nodes and {1} edges.'.format(\n",
      "    len(coauthor_graph.nodes()), len(coauthor_graph.edges())\n",
      "    )"
     ],
     "language": "python",
     "metadata": {},
     "outputs": [
      {
       "output_type": "stream",
       "stream": "stdout",
       "text": [
        "This graph has 4313 nodes and 10567 edges.\n"
       ]
      }
     ],
     "prompt_number": 7
    },
    {
     "cell_type": "markdown",
     "metadata": {},
     "source": [
      "The ``authors.coauthors`` function tries to include some additional information about each node and edge. You can see data attached to nodes and edges by using the ``data=True`` keyword argument:"
     ]
    },
    {
     "cell_type": "code",
     "collapsed": false,
     "input": [
      "coauthor_graph.nodes(data=True)[0]   # Let's just look at the first one."
     ],
     "language": "python",
     "metadata": {},
     "outputs": [
      {
       "metadata": {},
       "output_type": "pyout",
       "prompt_number": 8,
       "text": [
        "('SALVANES AGV', {'institution': 'UNIV BERGEN, NORWAY'})"
       ]
      }
     ],
     "prompt_number": 8
    },
    {
     "cell_type": "markdown",
     "metadata": {},
     "source": [
      "In this case, our WoS dataset had information about author institutional affiliations. For example, check out this ``Paper``:"
     ]
    },
    {
     "cell_type": "code",
     "collapsed": false,
     "input": [
      "papers[1]['institutions'] "
     ],
     "language": "python",
     "metadata": {},
     "outputs": [
      {
       "metadata": {},
       "output_type": "pyout",
       "prompt_number": 9,
       "text": [
        "[['VRIJE UNIV AMSTERDAM, NETHERLANDS', 'MARINE BIOL LAB, MA 02543 USA'],\n",
        " ['WILKES UNIV, PA 18766 USA'],\n",
        " ['MARINE BIOL LAB, MA 02543 USA']]"
       ]
      }
     ],
     "prompt_number": 9
    },
    {
     "cell_type": "markdown",
     "metadata": {},
     "source": [
      "Each entry in this list corresponds to an author in this ``Paper``. Some authors have multiple affiliations."
     ]
    },
    {
     "cell_type": "markdown",
     "metadata": {},
     "source": [
      "Each edge in our coauthor graph contains information about how many papers two authors have written together, and an abbreviated citation for each ``Paper``."
     ]
    },
    {
     "cell_type": "code",
     "collapsed": false,
     "input": [
      "coauthor_graph.edges(data=True)[1]   # Just look at the first one."
     ],
     "language": "python",
     "metadata": {},
     "outputs": [
      {
       "metadata": {},
       "output_type": "pyout",
       "prompt_number": 10,
       "text": [
        "('SALVANES AGV',\n",
        " 'NILSEN T',\n",
        " {'ayjid': ['SALVANES AGV 2004 MARINE ECOLOGY PROGRESS SERIES'], 'weight': 1})"
       ]
      }
     ],
     "prompt_number": 10
    },
    {
     "cell_type": "markdown",
     "metadata": {},
     "source": [
      "## Thresholds"
     ]
    },
    {
     "cell_type": "markdown",
     "metadata": {},
     "source": [
      "Many network-building functions accept a ``threshold`` keyword argument. For the ``coauthors`` function, ``threshold`` specifies the minimum number of papers that two authors have to write together in order for an edge to be drawn between them. The default is ``threshold=1``; setting ``threshold=2`` will result in a smaller graph."
     ]
    },
    {
     "cell_type": "code",
     "collapsed": false,
     "input": [
      "smaller_graph = authors.coauthors(papers, threshold=2)"
     ],
     "language": "python",
     "metadata": {},
     "outputs": [],
     "prompt_number": 11
    },
    {
     "cell_type": "code",
     "collapsed": false,
     "input": [
      "print 'This graph has only {0} nodes and {1} edges.'.format(len(smaller_graph.nodes()), len(smaller_graph.edges()))"
     ],
     "language": "python",
     "metadata": {},
     "outputs": [
      {
       "output_type": "stream",
       "stream": "stdout",
       "text": [
        "This graph has only 761 nodes and 1126 edges.\n"
       ]
      }
     ],
     "prompt_number": 12
    },
    {
     "cell_type": "markdown",
     "metadata": {},
     "source": [
      "## Exporting and visualizing networks"
     ]
    },
    {
     "cell_type": "markdown",
     "metadata": {},
     "source": [
      "Functions for exporting networks in some common network file formats can be found in the **``writers``** subpackage. For a single network, we can use the methods in the **``writers.graph``** module."
     ]
    },
    {
     "cell_type": "markdown",
     "metadata": {},
     "source": [
      "The [GraphML file format](http://graphml.graphdrawing.org/) is a popular and well-supported graph format. To write a GraphML file from your network, first import the ``writers.graph`` module."
     ]
    },
    {
     "cell_type": "code",
     "collapsed": false,
     "input": [
      "from tethne.writers import graph"
     ],
     "language": "python",
     "metadata": {},
     "outputs": [],
     "prompt_number": 13
    },
    {
     "cell_type": "markdown",
     "metadata": {},
     "source": [
      "Then specify a path to the file that you want to create (it will be created for you), and pass it along with your graph to the ``graph.to_graphml`` function."
     ]
    },
    {
     "cell_type": "code",
     "collapsed": false,
     "input": [
      "graphml_path = '/Users/erickpeirson/tethne-notebooks/output/my_graphml_file.graphml'"
     ],
     "language": "python",
     "metadata": {},
     "outputs": [],
     "prompt_number": 14
    },
    {
     "cell_type": "code",
     "collapsed": false,
     "input": [
      "graph.to_graphml(coauthor_graph, graphml_path)"
     ],
     "language": "python",
     "metadata": {},
     "outputs": [],
     "prompt_number": 15
    },
    {
     "cell_type": "markdown",
     "metadata": {},
     "source": [
      "If you open that the resulting file in a text editor, you should see a bunch of XML that looks something like this:"
     ]
    },
    {
     "cell_type": "markdown",
     "metadata": {},
     "source": [
      "```\n",
      "<graphml xmlns=\"http://graphml.graphdrawing.org/xmlns\" xmlns:xsi=\"http://www.w3.org/2001/XMLSchema-instance\" xsi:schemaLocation=\"http://graphml.graphdrawing.org/xmlns http://graphml.graphdrawing.org/xmlns/1.0/graphml.xsd\">\n",
      "  <key attr.name=\"weight\" attr.type=\"int\" for=\"edge\" id=\"weight\" />\n",
      "  <key attr.name=\"ayjid\" attr.type=\"string\" for=\"edge\" id=\"ayjid\" />\n",
      "  <key attr.name=\"institution\" attr.type=\"string\" for=\"node\" id=\"institution\" />\n",
      "  <key attr.name=\"type\" attr.type=\"string\" for=\"graph\" id=\"type\" />\n",
      "  <graph edgedefault=\"undirected\">\n",
      "    <data key=\"type\">coauthors</data>\n",
      "    <node id=\"SALVANES AGV\">\n",
      "      <data key=\"institution\">UNIV BERGEN, NORWAY</data>\n",
      "    </node>\n",
      "    <node id=\"CHEN YH\">\n",
      "      <data key=\"institution\">UNIV CALIF BERKELEY, CA 94720 USA</data>\n",
      "    </node>\n",
      "    .\n",
      "    .\n",
      "    .\n",
      "    <edge source=\"CHATTIPAKORN N\" target=\"CHATTIPAKORN S\">\n",
      "      <data key=\"ayjid\">['PRATCHAYASAKUL W 2008 INDIAN JOURNAL OF MEDICAL RESEARCH']</data>\n",
      "      <data key=\"weight\">1</data>\n",
      "    </edge>\n",
      "    <edge source=\"EIN-GEDY S\" target=\"HUBNER S\">\n",
      "      <data key=\"ayjid\">['HUBNER S 2013 JOURNAL OF EVOLUTIONARY BIOLOGY']</data>\n",
      "      <data key=\"weight\">1</data>\n",
      "    </edge>\n",
      "    <edge source=\"RIPLEY BS\" target=\"GILBERT ME\">\n",
      "      <data key=\"ayjid\">['RIPLEY BS 2007 JOURNAL OF EXPERIMENTAL BOTANY', 'IBRAHIM DG 2008 PLANT CELL AND ENVIRONMENT', 'OSBORNE CP 2008 JOURNAL OF EXPERIMENTAL BOTANY']</data>\n",
      "      <data key=\"weight\">3</data>\n",
      "    </edge>\n",
      "  </graph>\n",
      "</graphml>\n",
      "```"
     ]
    },
    {
     "cell_type": "markdown",
     "metadata": {},
     "source": [
      "Try loading this file in your favorite network visualization software. Here's what it looks like for me in Cytoscape:"
     ]
    },
    {
     "cell_type": "markdown",
     "metadata": {},
     "source": [
      "![](http://devo-evo.lab.asu.edu/methods/tethne/images/coauthor_graph_whole.png)"
     ]
    },
    {
     "cell_type": "markdown",
     "metadata": {},
     "source": [
      "Zooming in, I've used the ``name`` attribute in the graph to add node labels, set edge width as a function of weight (see above), and colored the nodes by institution."
     ]
    },
    {
     "cell_type": "markdown",
     "metadata": {},
     "source": [
      "![](http://devo-evo.lab.asu.edu/methods/tethne/images/coauthor_graph_closeup.png)"
     ]
    },
    {
     "cell_type": "markdown",
     "metadata": {},
     "source": [
      "## The great thing about NetworkX..."
     ]
    },
    {
     "cell_type": "markdown",
     "metadata": {},
     "source": [
      "...is that it comes with a bunch of great network analysis algorithms! You can read about them [here](http://networkx.github.io/documentation/networkx-1.9/reference/algorithms.html). For example, I can calculate the betweenness centrality for all of the nodes in a network using the ``networkx.betweenness_centrality`` function."
     ]
    },
    {
     "cell_type": "code",
     "collapsed": false,
     "input": [
      "import networkx as nx"
     ],
     "language": "python",
     "metadata": {},
     "outputs": [],
     "prompt_number": 16
    },
    {
     "cell_type": "code",
     "collapsed": false,
     "input": [
      "bcentrality = nx.betweenness_centrality(coauthor_graph)"
     ],
     "language": "python",
     "metadata": {},
     "outputs": [],
     "prompt_number": 17
    },
    {
     "cell_type": "markdown",
     "metadata": {},
     "source": [
      "``networkx.betweenness_centrality`` returns a ``dict`` that maps node IDs onto their betweenness centrality scores."
     ]
    },
    {
     "cell_type": "code",
     "collapsed": false,
     "input": [
      "bcentrality.items()[5:20]"
     ],
     "language": "python",
     "metadata": {},
     "outputs": [
      {
       "metadata": {},
       "output_type": "pyout",
       "prompt_number": 18,
       "text": [
        "[('RAO GY', 0.0),\n",
        " ('KOS M', 0.0),\n",
        " ('HAUSMANN N', 0.0),\n",
        " ('COTTRELL J', 0.0),\n",
        " ('TUFTS DM', 0.0),\n",
        " ('MITCHELL-OLDS T', 0.003371312274142717),\n",
        " ('NILSSON JA', 0.0),\n",
        " ('LUO DW', 0.0),\n",
        " ('CHAVANNE H', 0.0),\n",
        " ('ZYTKOWIAK R', 5.120515456933377e-05),\n",
        " ('PILTTI T', 0.0),\n",
        " ('UDELHOVEN T', 0.0),\n",
        " ('YOUNG TP', 0.0),\n",
        " ('HENRY RJ', 0.0),\n",
        " ('LOPATINA EB', 0.0)]"
       ]
      }
     ],
     "prompt_number": 18
    },
    {
     "cell_type": "markdown",
     "metadata": {},
     "source": [
      "We can then add those values as attributes to the nodes in that network using ``networkx.set_node_attributes``:"
     ]
    },
    {
     "cell_type": "code",
     "collapsed": false,
     "input": [
      "nx.set_node_attributes(coauthor_graph, 'centrality', bcentrality)"
     ],
     "language": "python",
     "metadata": {},
     "outputs": [],
     "prompt_number": 19
    },
    {
     "cell_type": "code",
     "collapsed": false,
     "input": [
      "coauthor_graph.nodes(data=True)[10]"
     ],
     "language": "python",
     "metadata": {},
     "outputs": [
      {
       "metadata": {},
       "output_type": "pyout",
       "prompt_number": 20,
       "text": [
        "('PRAVOSUDOV VV',\n",
        " {'centrality': 1.0759032530580399e-07,\n",
        "  'institution': 'UNIV NEVADA, NV 89557 USA'})"
       ]
      }
     ],
     "prompt_number": 20
    },
    {
     "cell_type": "markdown",
     "metadata": {},
     "source": [
      "...and those values get included when we export our graph to GraphML!"
     ]
    },
    {
     "cell_type": "code",
     "collapsed": false,
     "input": [
      "graphml_path_updated = '/Users/erickpeirson/tethne-notebooks/output/my_graphml_file_centrality.graphml'"
     ],
     "language": "python",
     "metadata": {},
     "outputs": [],
     "prompt_number": 21
    },
    {
     "cell_type": "code",
     "collapsed": false,
     "input": [
      "graph.to_graphml(coauthor_graph, graphml_path_updated)"
     ],
     "language": "python",
     "metadata": {},
     "outputs": [],
     "prompt_number": 22
    },
    {
     "cell_type": "markdown",
     "metadata": {},
     "source": [
      "Here I've set node size based on betweenness centrality:"
     ]
    },
    {
     "cell_type": "markdown",
     "metadata": {},
     "source": [
      "![](http://devo-evo.lab.asu.edu/methods/tethne/images/coauthor_graph_closeup_bc.png)"
     ]
    }
   ],
   "metadata": {}
  }
 ]
}