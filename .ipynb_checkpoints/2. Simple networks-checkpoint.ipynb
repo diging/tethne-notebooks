{
 "cells": [
  {
   "cell_type": "markdown",
   "metadata": {},
   "source": [
    "# Introduction to Tethne: Simple Networks"
   ]
  },
  {
   "cell_type": "markdown",
   "metadata": {},
   "source": [
    "In this notebook we will use the ``Paper``s in our WoS dataset to create a simple coauthor network, and then export that network to GraphML so that we can visualize it in Cytoscape."
   ]
  },
  {
   "cell_type": "markdown",
   "metadata": {},
   "source": [
    "## Before you start"
   ]
  },
  {
   "cell_type": "markdown",
   "metadata": {},
   "source": [
    "* Download the Web of Science practice dataset from [here](http://devo-evo.lab.asu.edu/methods/tethne/datasets.zip), and store it in a place where you can find it. You'll need the full path to your dataset.\n",
    "* Complete the tutorial **\"Loading Data, part 1\"**"
   ]
  },
  {
   "cell_type": "markdown",
   "metadata": {},
   "source": [
    "## Loading our WoS data"
   ]
  },
  {
   "cell_type": "markdown",
   "metadata": {},
   "source": [
    "We'll use the Web of Science dataset from our last workbook. Since this is a new workbook, we'll have to load it again. We'll load all of the WoS data files at once using the **``from_dir``** function."
   ]
  },
  {
   "cell_type": "code",
   "execution_count": 1,
   "metadata": {
    "collapsed": false
   },
   "outputs": [],
   "source": [
    "from tethne.readers import wos\n",
    "datadirpath = '/Users/erickpeirson/Downloads/datasets/wos'\n",
    "papers = wos.read(datadirpath)"
   ]
  },
  {
   "cell_type": "markdown",
   "metadata": {},
   "source": [
    "## Importing a ``networks`` module"
   ]
  },
  {
   "cell_type": "markdown",
   "metadata": {},
   "source": [
    "The modules in the ``tethne.networks`` subpackage provide a variety of functions for building \n",
    "\n",
    "| Module                       | Description                                                                 | \n",
    "| ---------------------------- |-----------------------------------------------------------------------------|\n",
    "| ``tethne.networks.authors``  |  Methods for making networks among authors, or among authors' institutions. |\n",
    "| ``tethne.networks.features`` |  Methods for making networks based on featuresets (later in this workshop). |\n",
    "| ``tethne.networks.papers``   |  Methods for making networks among papers, or their cited references.       |\n",
    "| ``tethne.networks.topics``   |  Methods for making networks based on topic models.                         |"
   ]
  },
  {
   "cell_type": "markdown",
   "metadata": {},
   "source": [
    "In this tutorial we'll work with the ``authors`` module. You can import it like so:"
   ]
  },
  {
   "cell_type": "code",
   "execution_count": 2,
   "metadata": {
    "collapsed": false
   },
   "outputs": [],
   "source": [
    "from tethne.networks import authors"
   ]
  },
  {
   "cell_type": "code",
   "execution_count": 3,
   "metadata": {
    "collapsed": false
   },
   "outputs": [
    {
     "data": {
      "text/plain": [
       "<function tethne.networks.authors.coauthors>"
      ]
     },
     "execution_count": 3,
     "metadata": {},
     "output_type": "execute_result"
    }
   ],
   "source": [
    "authors.coauthors"
   ]
  },
  {
   "cell_type": "markdown",
   "metadata": {},
   "source": [
    "## Building a network"
   ]
  },
  {
   "cell_type": "markdown",
   "metadata": {},
   "source": [
    "The functions in the ``authors`` module all take a list of ``Paper``s as their first parameter. See the Tethne documentation for details about each method. In this workbook we'll use the **``authors.coauthors``** function, which doesn't require any additional parameters."
   ]
  },
  {
   "cell_type": "code",
   "execution_count": 4,
   "metadata": {
    "collapsed": false
   },
   "outputs": [],
   "source": [
    "coauthor_graph = authors.coauthors(papers)"
   ]
  },
  {
   "cell_type": "markdown",
   "metadata": {},
   "source": [
    "The ``authors.coauthors`` function returns a ``Graph`` object from the [``NetworkX`` Python package](https://networkx.github.io/). We'll come back to the joys of NetworkX later on in these tutorials."
   ]
  },
  {
   "cell_type": "code",
   "execution_count": 5,
   "metadata": {
    "collapsed": false
   },
   "outputs": [
    {
     "data": {
      "text/plain": [
       "networkx.classes.graph.Graph"
      ]
     },
     "execution_count": 5,
     "metadata": {},
     "output_type": "execute_result"
    }
   ],
   "source": [
    "type(coauthor_graph)"
   ]
  },
  {
   "cell_type": "markdown",
   "metadata": {},
   "source": [
    "You can view a list of nodes and edges in the ``Graph`` using the ``nodes`` and ``edges`` methods:"
   ]
  },
  {
   "cell_type": "code",
   "execution_count": 6,
   "metadata": {
    "collapsed": false
   },
   "outputs": [
    {
     "data": {
      "text/plain": [
       "[('LIU', 'SR'),\n",
       " ('IVEY', 'CHRISTOPHER T'),\n",
       " ('LOMAN', 'J'),\n",
       " ('FERRIER', 'SHARON M'),\n",
       " ('ROOD', 'SB'),\n",
       " ('WIESENBERG', 'GUIDO L B'),\n",
       " ('DODD', 'RS'),\n",
       " ('BRONMARK', 'CHRISTER'),\n",
       " ('BALTISBERGER', 'MATTHIAS'),\n",
       " ('HEYNEN', 'M')]"
      ]
     },
     "execution_count": 6,
     "metadata": {},
     "output_type": "execute_result"
    }
   ],
   "source": [
    "coauthor_graph.nodes()[0:10]    # [0:10] selects only the first 10 entries in the list."
   ]
  },
  {
   "cell_type": "code",
   "execution_count": 7,
   "metadata": {
    "collapsed": false
   },
   "outputs": [
    {
     "data": {
      "text/plain": [
       "[(('LIU', 'SR'), ('YIN', 'CY')),\n",
       " (('LIU', 'SR'), ('LI', 'CY')),\n",
       " (('LIU', 'SR'), ('BERNINGER', 'F')),\n",
       " (('IVEY', 'CHRISTOPHER T'), ('THEISS', 'KATHRYN')),\n",
       " (('IVEY', 'CHRISTOPHER T'), ('KEPHART', 'SUSAN')),\n",
       " (('LOMAN', 'J'), ('CLAESSON', 'D')),\n",
       " (('FERRIER', 'SHARON M'), ('BAILEY', 'JOSEPH K')),\n",
       " (('FERRIER', 'SHARON M'), ('GRADY', 'KEVIN C')),\n",
       " (('FERRIER', 'SHARON M'), ('BANGERT', 'RANDY K')),\n",
       " (('FERRIER', 'SHARON M'), ('ALLAN', 'GERY J'))]"
      ]
     },
     "execution_count": 7,
     "metadata": {},
     "output_type": "execute_result"
    }
   ],
   "source": [
    "coauthor_graph.edges()[0:10]"
   ]
  },
  {
   "cell_type": "code",
   "execution_count": 8,
   "metadata": {
    "collapsed": false
   },
   "outputs": [
    {
     "name": "stdout",
     "output_type": "stream",
     "text": [
      "This graph has 4770 nodes and 10923 edges.\n"
     ]
    }
   ],
   "source": [
    "print 'This graph has {0} nodes and {1} edges.'.format(\n",
    "    len(coauthor_graph.nodes()), len(coauthor_graph.edges())\n",
    "    )"
   ]
  },
  {
   "cell_type": "markdown",
   "metadata": {},
   "source": [
    "The ``authors.coauthors`` function tries to include some additional information about each node and edge. You can see data attached to nodes and edges by using the ``data=True`` keyword argument:"
   ]
  },
  {
   "cell_type": "code",
   "execution_count": 9,
   "metadata": {
    "collapsed": false
   },
   "outputs": [
    {
     "data": {
      "text/plain": [
       "(('LIU', 'SR'), {'count': 2.0, 'documentCount': 2.0})"
      ]
     },
     "execution_count": 9,
     "metadata": {},
     "output_type": "execute_result"
    }
   ],
   "source": [
    "coauthor_graph.nodes(data=True)[0]   # Let's just look at the first one."
   ]
  },
  {
   "cell_type": "markdown",
   "metadata": {},
   "source": [
    "Each edge in our coauthor graph contains information about how many papers two authors have written together, and an abbreviated citation for each ``Paper``."
   ]
  },
  {
   "cell_type": "code",
   "execution_count": 10,
   "metadata": {
    "collapsed": false
   },
   "outputs": [
    {
     "data": {
      "text/plain": [
       "(('LIU', 'SR'),\n",
       " ('YIN', 'CY'),\n",
       " {'ayjid': 'LI CY 2004 ENVIRONMENTAL AND EXPERIMENTAL BOTANY',\n",
       "  'date': 2004,\n",
       "  'weight': 1})"
      ]
     },
     "execution_count": 10,
     "metadata": {},
     "output_type": "execute_result"
    }
   ],
   "source": [
    "coauthor_graph.edges(data=True)[0]   # Just look at the first one."
   ]
  },
  {
   "cell_type": "markdown",
   "metadata": {},
   "source": [
    "## Thresholds"
   ]
  },
  {
   "cell_type": "markdown",
   "metadata": {},
   "source": [
    "Many network-building functions accept a ``min_weight`` keyword argument. For the ``coauthors`` function, ``min_weight`` specifies the minimum number of papers that two authors have to write together in order for an edge to be drawn between them. The default is ``min_weight=1``; setting ``min_weight=2`` will result in a smaller graph."
   ]
  },
  {
   "cell_type": "code",
   "execution_count": 11,
   "metadata": {
    "collapsed": false
   },
   "outputs": [],
   "source": [
    "smaller_graph = authors.coauthors(papers, min_weight=2)"
   ]
  },
  {
   "cell_type": "code",
   "execution_count": 12,
   "metadata": {
    "collapsed": false
   },
   "outputs": [
    {
     "name": "stdout",
     "output_type": "stream",
     "text": [
      "This graph has only 666 nodes and 960 edges.\n"
     ]
    }
   ],
   "source": [
    "print 'This graph has only {0} nodes and {1} edges.'.format(len(smaller_graph.nodes()), len(smaller_graph.edges()))"
   ]
  },
  {
   "cell_type": "markdown",
   "metadata": {},
   "source": [
    "## Exporting and visualizing networks"
   ]
  },
  {
   "cell_type": "markdown",
   "metadata": {},
   "source": [
    "Functions for exporting networks in some common network file formats can be found in the **``writers``** subpackage. For a single network, we can use the methods in the **``writers.graph``** module."
   ]
  },
  {
   "cell_type": "markdown",
   "metadata": {},
   "source": [
    "The [GraphML file format](http://graphml.graphdrawing.org/) is a popular and well-supported graph format. To write a GraphML file from your network, first import the ``writers.graph`` module."
   ]
  },
  {
   "cell_type": "code",
   "execution_count": 13,
   "metadata": {
    "collapsed": false
   },
   "outputs": [],
   "source": [
    "from tethne.writers import graph"
   ]
  },
  {
   "cell_type": "markdown",
   "metadata": {},
   "source": [
    "Then specify a path to the file that you want to create (it will be created for you), and pass it along with your graph to the ``graph.to_graphml`` function."
   ]
  },
  {
   "cell_type": "code",
   "execution_count": 14,
   "metadata": {
    "collapsed": false
   },
   "outputs": [],
   "source": [
    "graphml_path = '/Users/erickpeirson/Downloads//my_graphml_file.graphml'"
   ]
  },
  {
   "cell_type": "code",
   "execution_count": 15,
   "metadata": {
    "collapsed": false
   },
   "outputs": [],
   "source": [
    "graph.to_graphml(coauthor_graph, graphml_path)"
   ]
  },
  {
   "cell_type": "markdown",
   "metadata": {},
   "source": [
    "If you open that the resulting file in a text editor, you should see a bunch of XML that looks something like this:"
   ]
  },
  {
   "cell_type": "markdown",
   "metadata": {},
   "source": [
    "```\n",
    "<graphml xmlns=\"http://graphml.graphdrawing.org/xmlns\" xmlns:xsi=\"http://www.w3.org/2001/XMLSchema-instance\" xsi:schemaLocation=\"http://graphml.graphdrawing.org/xmlns http://graphml.graphdrawing.org/xmlns/1.0/graphml.xsd\">\n",
    "  <key attr.name=\"weight\" attr.type=\"int\" for=\"edge\" id=\"weight\" />\n",
    "  <key attr.name=\"ayjid\" attr.type=\"string\" for=\"edge\" id=\"ayjid\" />\n",
    "  <key attr.name=\"institution\" attr.type=\"string\" for=\"node\" id=\"institution\" />\n",
    "  <key attr.name=\"type\" attr.type=\"string\" for=\"graph\" id=\"type\" />\n",
    "  <graph edgedefault=\"undirected\">\n",
    "    <data key=\"type\">coauthors</data>\n",
    "    <node id=\"SALVANES AGV\">\n",
    "      <data key=\"institution\">UNIV BERGEN, NORWAY</data>\n",
    "    </node>\n",
    "    <node id=\"CHEN YH\">\n",
    "      <data key=\"institution\">UNIV CALIF BERKELEY, CA 94720 USA</data>\n",
    "    </node>\n",
    "    .\n",
    "    .\n",
    "    .\n",
    "    <edge source=\"CHATTIPAKORN N\" target=\"CHATTIPAKORN S\">\n",
    "      <data key=\"ayjid\">['PRATCHAYASAKUL W 2008 INDIAN JOURNAL OF MEDICAL RESEARCH']</data>\n",
    "      <data key=\"weight\">1</data>\n",
    "    </edge>\n",
    "    <edge source=\"EIN-GEDY S\" target=\"HUBNER S\">\n",
    "      <data key=\"ayjid\">['HUBNER S 2013 JOURNAL OF EVOLUTIONARY BIOLOGY']</data>\n",
    "      <data key=\"weight\">1</data>\n",
    "    </edge>\n",
    "    <edge source=\"RIPLEY BS\" target=\"GILBERT ME\">\n",
    "      <data key=\"ayjid\">['RIPLEY BS 2007 JOURNAL OF EXPERIMENTAL BOTANY', 'IBRAHIM DG 2008 PLANT CELL AND ENVIRONMENT', 'OSBORNE CP 2008 JOURNAL OF EXPERIMENTAL BOTANY']</data>\n",
    "      <data key=\"weight\">3</data>\n",
    "    </edge>\n",
    "  </graph>\n",
    "</graphml>\n",
    "```"
   ]
  },
  {
   "cell_type": "markdown",
   "metadata": {},
   "source": [
    "Try loading this file in your favorite network visualization software. Here's what it looks like for me in Cytoscape:"
   ]
  },
  {
   "cell_type": "markdown",
   "metadata": {},
   "source": [
    "![](http://devo-evo.lab.asu.edu/methods/tethne/images/coauthor_graph_whole.png)"
   ]
  },
  {
   "cell_type": "markdown",
   "metadata": {},
   "source": [
    "Zooming in, I've used the ``name`` attribute in the graph to add node labels, set edge width as a function of weight (see above), and colored the nodes by institution."
   ]
  },
  {
   "cell_type": "markdown",
   "metadata": {},
   "source": [
    "![](http://devo-evo.lab.asu.edu/methods/tethne/images/coauthor_graph_closeup.png)"
   ]
  },
  {
   "cell_type": "markdown",
   "metadata": {},
   "source": [
    "## The great thing about NetworkX..."
   ]
  },
  {
   "cell_type": "markdown",
   "metadata": {},
   "source": [
    "...is that it comes with a bunch of great network analysis algorithms! You can read about them [here](http://networkx.github.io/documentation/networkx-1.9/reference/algorithms.html). For example, I can calculate the betweenness centrality for all of the nodes in a network using the ``networkx.betweenness_centrality`` function."
   ]
  },
  {
   "cell_type": "code",
   "execution_count": 16,
   "metadata": {
    "collapsed": false
   },
   "outputs": [],
   "source": [
    "import networkx as nx"
   ]
  },
  {
   "cell_type": "code",
   "execution_count": 17,
   "metadata": {
    "collapsed": false
   },
   "outputs": [],
   "source": [
    "bcentrality = nx.betweenness_centrality(coauthor_graph)"
   ]
  },
  {
   "cell_type": "markdown",
   "metadata": {},
   "source": [
    "``networkx.betweenness_centrality`` returns a ``dict`` that maps node IDs onto their betweenness centrality scores."
   ]
  },
  {
   "cell_type": "code",
   "execution_count": 18,
   "metadata": {
    "collapsed": false
   },
   "outputs": [
    {
     "data": {
      "text/plain": [
       "[(('WIESENBERG', 'GUIDO L B'), 0.0),\n",
       " (('FRESCHET', 'GREGOIRE T'), 1.5832114846864756e-06),\n",
       " (('BRONMARK', 'CHRISTER'), 0.0),\n",
       " (('BALTISBERGER', 'MATTHIAS'), 0.0),\n",
       " (('REHFELDT', 'GERALD E'), 0.0),\n",
       " (('HEYNEN', 'M'), 0.0),\n",
       " (('MARQUEZGUZMAN', 'J'), 0.0),\n",
       " (('DORRIS', 'J'), 0.0),\n",
       " (('DEJONG', 'TJ'), 0.0),\n",
       " (('RAMIREZHERRERA', 'C'), 0.0),\n",
       " (('ABBOTT', 'LB'), 0.0),\n",
       " (('FRIAR', 'ELIZABETH'), 0.0),\n",
       " (('KVET', 'JAN'), 0.0),\n",
       " (('DANG', 'QL'), 0.0),\n",
       " (('JAQUISH', 'BC'), 0.0)]"
      ]
     },
     "execution_count": 18,
     "metadata": {},
     "output_type": "execute_result"
    }
   ],
   "source": [
    "bcentrality.items()[5:20]"
   ]
  },
  {
   "cell_type": "markdown",
   "metadata": {},
   "source": [
    "We can then add those values as attributes to the nodes in that network using ``networkx.set_node_attributes``:"
   ]
  },
  {
   "cell_type": "code",
   "execution_count": 19,
   "metadata": {
    "collapsed": false
   },
   "outputs": [],
   "source": [
    "nx.set_node_attributes(coauthor_graph, 'centrality', bcentrality)"
   ]
  },
  {
   "cell_type": "code",
   "execution_count": 20,
   "metadata": {
    "collapsed": false
   },
   "outputs": [
    {
     "data": {
      "text/plain": [
       "(('MARQUEZGUZMAN', 'J'),\n",
       " {'centrality': 0.0, 'count': 1.0, 'documentCount': 1.0})"
      ]
     },
     "execution_count": 20,
     "metadata": {},
     "output_type": "execute_result"
    }
   ],
   "source": [
    "coauthor_graph.nodes(data=True)[10]"
   ]
  },
  {
   "cell_type": "markdown",
   "metadata": {},
   "source": [
    "...and those values get included when we export our graph to GraphML!"
   ]
  },
  {
   "cell_type": "code",
   "execution_count": 21,
   "metadata": {
    "collapsed": false
   },
   "outputs": [],
   "source": [
    "graphml_path_updated = '/Users/erickpeirson/Downloads/my_graphml_file_centrality.graphml'"
   ]
  },
  {
   "cell_type": "code",
   "execution_count": 22,
   "metadata": {
    "collapsed": false
   },
   "outputs": [],
   "source": [
    "graph.to_graphml(coauthor_graph, graphml_path_updated)"
   ]
  },
  {
   "cell_type": "markdown",
   "metadata": {},
   "source": [
    "Here I've set node size based on betweenness centrality:"
   ]
  },
  {
   "cell_type": "markdown",
   "metadata": {},
   "source": [
    "![](http://devo-evo.lab.asu.edu/methods/tethne/images/coauthor_graph_closeup_bc.png)"
   ]
  }
 ],
 "metadata": {
  "kernelspec": {
   "display_name": "Python 2",
   "language": "python",
   "name": "python2"
  },
  "language_info": {
   "codemirror_mode": {
    "name": "ipython",
    "version": 2
   },
   "file_extension": ".py",
   "mimetype": "text/x-python",
   "name": "python",
   "nbconvert_exporter": "python",
   "pygments_lexer": "ipython2",
   "version": "2.7.9"
  }
 },
 "nbformat": 4,
 "nbformat_minor": 0
}
