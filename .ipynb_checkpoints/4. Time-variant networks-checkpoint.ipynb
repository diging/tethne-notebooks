{
 "cells": [
  {
   "cell_type": "code",
   "execution_count": 1,
   "metadata": {
    "collapsed": false
   },
   "outputs": [
    {
     "name": "stdout",
     "output_type": "stream",
     "text": [
      "Populating the interactive namespace from numpy and matplotlib\n"
     ]
    }
   ],
   "source": [
    "%pylab inline"
   ]
  },
  {
   "cell_type": "code",
   "execution_count": 2,
   "metadata": {
    "collapsed": false
   },
   "outputs": [],
   "source": [
    "from pprint import pprint\n",
    "import matplotlib.pyplot as plt"
   ]
  },
  {
   "cell_type": "code",
   "execution_count": 3,
   "metadata": {
    "collapsed": true
   },
   "outputs": [],
   "source": [
    "import networkx as nx\n",
    "from collections import defaultdict\n",
    "import warnings\n",
    "from tethne import networks\n",
    "from tethne.utilities import _iterable"
   ]
  },
  {
   "cell_type": "markdown",
   "metadata": {},
   "source": [
    "# Introduction to Tethne: Time-Variant Networks"
   ]
  },
  {
   "cell_type": "markdown",
   "metadata": {},
   "source": [
    "Now that we can index our ``Corpus`` temporally using the ``slice`` method, we can start to build time-variant networks. In this workbook we'll build a time-variant coauthor network using a ``GraphCollection``."
   ]
  },
  {
   "cell_type": "markdown",
   "metadata": {},
   "source": [
    "## Before you start"
   ]
  },
  {
   "cell_type": "markdown",
   "metadata": {},
   "source": [
    "* Download the Web of Science practice dataset from [here](http://devo-evo.lab.asu.edu/methods/tethne/datasets.zip), and store it in a place where you can find it. You'll need the full path to your dataset.\n",
    "* Complete the tutorial **\"Time and Change, Working with Corpora\"**"
   ]
  },
  {
   "cell_type": "markdown",
   "metadata": {},
   "source": [
    "## Loading data"
   ]
  },
  {
   "cell_type": "markdown",
   "metadata": {},
   "source": [
    "We'll use the same WoS dataset that we've used in previous workbooks. Load it up using **``read()``**."
   ]
  },
  {
   "cell_type": "code",
   "execution_count": 4,
   "metadata": {
    "collapsed": false
   },
   "outputs": [],
   "source": [
    "from tethne.readers.wos import read\n",
    "datadirpath = '/Users/erickpeirson/Projects/tethne-notebooks/data/wos'\n",
    "MyCorpus = read(datadirpath)"
   ]
  },
  {
   "cell_type": "markdown",
   "metadata": {},
   "source": [
    "## Slicing our ``Corpus``"
   ]
  },
  {
   "cell_type": "markdown",
   "metadata": {},
   "source": [
    "To generate a time-variant network, we must first slice our ``Corpus`` temporally. Many research questions about social networks like coauthor networks involve how nodes recruit new neighbors. To look at this in the context of our dataset, we'll want to keep old nodes and edges around even if they don't show up in more recent slices. So we'll do a simple 1-year time-period slice, but with ``cumulative=True``."
   ]
  },
  {
   "cell_type": "markdown",
   "metadata": {},
   "source": [
    "**Note**: In early versions of Tethne, ``slice()`` performed indexing on the spot, and stored the results in memory. As of v0.7.x, ``slice()`` returns a generator over slices. ``slice()`` also no longer operates on non-date fields, since this functionality is already provided by ``index()``."
   ]
  },
  {
   "cell_type": "code",
   "execution_count": 5,
   "metadata": {
    "collapsed": false
   },
   "outputs": [
    {
     "data": {
      "text/plain": [
       "<generator object slice at 0x11298cf00>"
      ]
     },
     "execution_count": 5,
     "metadata": {},
     "output_type": "execute_result"
    }
   ],
   "source": [
    "MyCorpus.slice(window_size=3, cumulative=True)"
   ]
  },
  {
   "cell_type": "markdown",
   "metadata": {},
   "source": [
    "## Creating a ``GraphCollection``"
   ]
  },
  {
   "cell_type": "markdown",
   "metadata": {},
   "source": [
    "As the name suggests, a ``GraphCollection`` is a container for graphs. The ``GraphCollection`` class gives us some convenient methods for generating and interrogating time-variant networks. The ``GraphCollection.build`` method allows us to build a series of graphs from our ``Corpus`` -- one graph per slice -- all in one step.\n",
    "\n",
    "First, import ``GraphCollection`` directly from the ``tethne`` package."
   ]
  },
  {
   "cell_type": "code",
   "execution_count": 6,
   "metadata": {
    "collapsed": false
   },
   "outputs": [],
   "source": [
    "from tethne import GraphCollection"
   ]
  },
  {
   "cell_type": "code",
   "execution_count": 7,
   "metadata": {
    "collapsed": false
   },
   "outputs": [],
   "source": [
    "from tethne.networks import coauthors"
   ]
  },
  {
   "cell_type": "markdown",
   "metadata": {},
   "source": [
    "The following code builds a collection of co-authorship networks, using a 3-year cumulative time-window."
   ]
  },
  {
   "cell_type": "code",
   "execution_count": 8,
   "metadata": {
    "collapsed": false
   },
   "outputs": [],
   "source": [
    "MyGraphCollection = GraphCollection(MyCorpus, coauthors, slice_kwargs={'window_size': 5, 'step_size': 2})"
   ]
  },
  {
   "cell_type": "markdown",
   "metadata": {},
   "source": [
    "We passed the ``GraphCollection`` constructor three arguments in the code-block above: \n",
    "\n",
    "1. Our ``Corpus`` instance;\n",
    "2. A network-building function (``coauthors``);\n",
    "3. Keyword arguments for ``slice()``."
   ]
  },
  {
   "cell_type": "markdown",
   "metadata": {},
   "source": [
    "We can use the ``plot_node_distribution`` and ``plot_edge_distribution`` methods to see how many nodes and edges are in the graph at each point in time (technically, how many nodes and edges are in each graph, each of which corresponds to a slice in the ``Corpus``)."
   ]
  },
  {
   "cell_type": "code",
   "execution_count": 9,
   "metadata": {
    "collapsed": false
   },
   "outputs": [
    {
     "data": {
      "image/png": "[encoded data removed]",
      "text/plain": [
       "<matplotlib.figure.Figure at 0x102a29610>"
      ]
     },
     "metadata": {},
     "output_type": "display_data"
    }
   ],
   "source": [
    "node_distribution = MyGraphCollection.node_distribution()\n",
    "edge_distribution = MyGraphCollection.edge_distribution()\n",
    "\n",
    "plt.figure(figsize=(15, 4))\n",
    "plt.subplot(121)\n",
    "plt.bar(node_distribution.keys(), node_distribution.values())\n",
    "plt.xlim(min(node_distribution.keys()), max(node_distribution.keys()))\n",
    "plt.ylabel('Number of nodes per graph')\n",
    "\n",
    "plt.subplot(122)\n",
    "plt.bar(edge_distribution.keys(), edge_distribution.values())\n",
    "plt.xlim(min(edge_distribution.keys()), max(edge_distribution.keys()))\n",
    "plt.ylabel('Number of edges per graph')\n",
    "plt.show()"
   ]
  },
  {
   "cell_type": "markdown",
   "metadata": {},
   "source": [
    "## Analyzing time-variant networks"
   ]
  },
  {
   "cell_type": "markdown",
   "metadata": {},
   "source": [
    "The ``GraphCollection`` makes it easy to apply algorithms from [NetworkX](http://networkx.github.io/documentation/networkx-1.9/reference/algorithms.html) across the whole time-variant network (i.e. to all graphs in the ``GraphCollection``). "
   ]
  },
  {
   "cell_type": "markdown",
   "metadata": {},
   "source": [
    "The method ``analyze`` applies an algorithm to all of the graphs in the ``GraphCollection``."
   ]
  },
  {
   "cell_type": "code",
   "execution_count": 12,
   "metadata": {
    "collapsed": false
   },
   "outputs": [],
   "source": [
    "dc = MyGraphCollection.analyze('degree_centrality')"
   ]
  },
  {
   "cell_type": "code",
   "execution_count": 16,
   "metadata": {
    "collapsed": false
   },
   "outputs": [
    {
     "data": {
      "text/plain": [
       "[(20, 0.09523809523809523),\n",
       " (21, 0.023809523809523808),\n",
       " (22, 0.023809523809523808),\n",
       " (23, 0.09523809523809523),\n",
       " (24, 0.09523809523809523),\n",
       " (25, 0.09523809523809523),\n",
       " (26, 0.09523809523809523),\n",
       " (27, 0.023809523809523808),\n",
       " (28, 0.023809523809523808),\n",
       " (29, 0.023809523809523808)]"
      ]
     },
     "execution_count": 16,
     "metadata": {},
     "output_type": "execute_result"
    }
   ],
   "source": [
    "dc[1986].items()[20:30]"
   ]
  },
  {
   "cell_type": "code",
   "execution_count": 17,
   "metadata": {
    "collapsed": false
   },
   "outputs": [],
   "source": [
    "bcentrality = MyGraphCollection.analyze('betweenness_centrality')"
   ]
  },
  {
   "cell_type": "markdown",
   "metadata": {},
   "source": [
    "Some algorithms, like \"degree_centrality\" and \"betweenness_centrality\" return a value for each node in each graph. In that case, the nodes in each graph are updated with those values."
   ]
  },
  {
   "cell_type": "code",
   "execution_count": 25,
   "metadata": {
    "collapsed": false
   },
   "outputs": [
    {
     "data": {
      "text/plain": [
       "[(15,\n",
       "  {'betweenness_centrality': 1.892637011147632e-05,\n",
       "   'count': 17.0,\n",
       "   'degree_centrality': 0.003930376193149916,\n",
       "   'documentCount': 17}),\n",
       " (16,\n",
       "  {'betweenness_centrality': 0.0,\n",
       "   'count': 4.0,\n",
       "   'degree_centrality': 0.0005614823133071309,\n",
       "   'documentCount': 4})]"
      ]
     },
     "execution_count": 25,
     "metadata": {},
     "output_type": "execute_result"
    }
   ],
   "source": [
    "MyGraphCollection[2008].nodes(data=True)[15:17]   # Shows the attributes for two of the nodes in the 2008 graph."
   ]
  },
  {
   "cell_type": "markdown",
   "metadata": {},
   "source": [
    "The method ``plot_attr_distribution`` can help to visualize the results of an algorithm across the graphs in the ``GraphCollection``. In the example below, ``attr='degree_centrality'`` selects the degree_centrality attribute, ``etype='node'`` indicates that the attribute belongs to nodes (not edges), and ``stat=mean`` specifies that the Python function ``mean`` should be applied to the collection of values in each graph."
   ]
  },
  {
   "cell_type": "markdown",
   "metadata": {},
   "source": [
    "We can use ``node_history`` to look at how the attribute of a particular node changes across graphs. In the example below, the specified node appears first in 2008, and its centrality increases through 2011."
   ]
  },
  {
   "cell_type": "code",
   "execution_count": 36,
   "metadata": {
    "collapsed": true
   },
   "outputs": [],
   "source": [
    "node_id = MyGraphCollection.node_lookup[(u'WARWICK', u'SI')]\n",
    "warwick_centrality = MyGraphCollection.node_history(node_id, 'degree_centrality')"
   ]
  },
  {
   "cell_type": "code",
   "execution_count": 40,
   "metadata": {
    "collapsed": false
   },
   "outputs": [
    {
     "data": {
      "text/plain": [
       "[(1984, 0.029411764705882353),\n",
       " (1985, 0.025),\n",
       " (1986, 0.023809523809523808),\n",
       " (1987, 0.023809523809523808),\n",
       " (1988, 0.02127659574468085),\n",
       " (1989, 0.0196078431372549),\n",
       " (1990, 0.017857142857142856),\n",
       " (1991, 0.014285714285714285),\n",
       " (1992, 0.010869565217391304),\n",
       " (1993, 0.007936507936507936),\n",
       " (1994, 0.006024096385542169),\n",
       " (1995, 0.004405286343612335),\n",
       " (1996, 0.0036231884057971015),\n",
       " (1997, 0.002967359050445104),\n",
       " (1998, 0.0024449877750611247),\n",
       " (1999, 0.002145922746781116),\n",
       " (2000, 0.0018656716417910447),\n",
       " (2001, 0.0016420361247947454),\n",
       " (2002, 0.0014749262536873156),\n",
       " (2003, 0.0013003901170351106)]"
      ]
     },
     "execution_count": 40,
     "metadata": {},
     "output_type": "execute_result"
    }
   ],
   "source": [
    "warwick_centrality.items()[:20]    # First 20 years."
   ]
  },
  {
   "cell_type": "code",
   "execution_count": 34,
   "metadata": {
    "collapsed": false
   },
   "outputs": [
    {
     "data": {
      "image/png": "[encoded data removed]",
      "text/plain": [
       "<matplotlib.figure.Figure at 0x11b66bd50>"
      ]
     },
     "metadata": {},
     "output_type": "display_data"
    }
   ],
   "source": [
    "plt.plot(warwick_centrality.keys(), warwick_centrality.values(), 'ro')\n",
    "plt.ylabel('Degree Centrality')\n",
    "plt.show()"
   ]
  },
  {
   "cell_type": "markdown",
   "metadata": {},
   "source": [
    "## Node indexing"
   ]
  },
  {
   "cell_type": "markdown",
   "metadata": {},
   "source": [
    "Note that in the example above we had to convert our author name, ``(u'WARWICK', u'SI')``, to an id, ``node_id``. That's because the ``GraphCollection`` indexes all of the nodes so that we can track them across graphs. The index is stored in ``GraphCollection.node_index``:"
   ]
  },
  {
   "cell_type": "code",
   "execution_count": 46,
   "metadata": {
    "collapsed": false
   },
   "outputs": [
    {
     "data": {
      "text/plain": [
       "[(0, (u'ANANTARAM', '')),\n",
       " (1, (u'SEN', u'K')),\n",
       " (2, (u'LAROI', u'GH')),\n",
       " (3, (u'DUGLE', u'JR')),\n",
       " (4, (u'WILKINS', u'DA')),\n",
       " (5, (u'LEWIS', u'MC')),\n",
       " (6, (u'BOSCHHUIR', '')),\n",
       " (7, (u'GROOT', u'J')),\n",
       " (8, (u'TAMARIN', u'RH')),\n",
       " (9, (u'MALECHA', u'SR'))]"
      ]
     },
     "execution_count": 46,
     "metadata": {},
     "output_type": "execute_result"
    }
   ],
   "source": [
    "MyGraphCollection.node_index.items()[0:10]    # The first ten nodes in the index."
   ]
  },
  {
   "cell_type": "code",
   "execution_count": 47,
   "metadata": {
    "collapsed": false
   },
   "outputs": [
    {
     "data": {
      "text/plain": [
       "(u'TUOMI', u'JUHA')"
      ]
     },
     "execution_count": 47,
     "metadata": {},
     "output_type": "execute_result"
    }
   ],
   "source": [
    "MyGraphCollection.node_index[2467]    # Get the name of a specific node."
   ]
  },
  {
   "cell_type": "markdown",
   "metadata": {},
   "source": [
    "To look up the index of a node based on its name (e.g. an author name), use ``GraphCollection.node_lookup``:"
   ]
  },
  {
   "cell_type": "code",
   "execution_count": 48,
   "metadata": {
    "collapsed": false
   },
   "outputs": [
    {
     "data": {
      "text/plain": [
       "[((u'LIU', u'SR'), 1070),\n",
       " ((u'IVEY', u'CHRISTOPHER T'), 1777),\n",
       " ((u'BURNS', u'KEVIN C'), 4150),\n",
       " ((u'FERRIER', u'SHARON M'), 3567),\n",
       " ((u'ROOD', u'SB'), 1453),\n",
       " ((u'YOKOYAMA', u'JUN'), 3566),\n",
       " ((u'FRESCHET', u'GREGOIRE T'), 4007),\n",
       " ((u'SEXTON', u'JASON P'), 3486),\n",
       " ((u'PEARSONS', u'TODD N'), 1451),\n",
       " ((u'BALTISBERGER', u'MATTHIAS'), 3563)]"
      ]
     },
     "execution_count": 48,
     "metadata": {},
     "output_type": "execute_result"
    }
   ],
   "source": [
    "MyGraphCollection.node_lookup.items()[0:10]    # The first ten nodes in the lookup table."
   ]
  },
  {
   "cell_type": "code",
   "execution_count": 50,
   "metadata": {
    "collapsed": false
   },
   "outputs": [
    {
     "data": {
      "text/plain": [
       "3486"
      ]
     },
     "execution_count": 50,
     "metadata": {},
     "output_type": "execute_result"
    }
   ],
   "source": [
    "MyGraphCollection.node_lookup[(u'SEXTON', u'JASON P')]    # Get the index of a specific node."
   ]
  },
  {
   "cell_type": "markdown",
   "metadata": {},
   "source": [
    "## Writing dynamic graphs"
   ]
  },
  {
   "cell_type": "markdown",
   "metadata": {},
   "source": [
    "Cytoscape provides support for Dynamic XGMML, which is a network file format that supports time-variant graphs. You can write DXGMML using the ``to_dxgmml`` function in the ``writers.collection`` module."
   ]
  },
  {
   "cell_type": "code",
   "execution_count": 51,
   "metadata": {
    "collapsed": false
   },
   "outputs": [],
   "source": [
    "from tethne.writers import collection"
   ]
  },
  {
   "cell_type": "code",
   "execution_count": 53,
   "metadata": {
    "collapsed": false
   },
   "outputs": [],
   "source": [
    "outpath = '/Users/erickpeirson/Projects/tethne-notebooks/output/my_dynnetwork.xgmml'\n",
    "collection.to_dxgmml(MyGraphCollection, outpath)"
   ]
  },
  {
   "cell_type": "markdown",
   "metadata": {},
   "source": [
    "Here's a snapshot from around 2008. Node size is mapped to betweenness centrality."
   ]
  },
  {
   "cell_type": "markdown",
   "metadata": {},
   "source": [
    "![](http://devo-evo.lab.asu.edu/methods/tethne/images/coauthors_dyn.png)"
   ]
  },
  {
   "cell_type": "markdown",
   "metadata": {},
   "source": [
    "**Caution:** Cytoscape still has a hard time with large dynamic graphs. This is mostly useful for heuristic purposes, or small graphs."
   ]
  }
 ],
 "metadata": {
  "kernelspec": {
   "display_name": "Python 2",
   "language": "python",
   "name": "python2"
  },
  "language_info": {
   "codemirror_mode": {
    "name": "ipython",
    "version": 2
   },
   "file_extension": ".py",
   "mimetype": "text/x-python",
   "name": "python",
   "nbconvert_exporter": "python",
   "pygments_lexer": "ipython2",
   "version": "2.7.9"
  }
 },
 "nbformat": 4,
 "nbformat_minor": 0
}
