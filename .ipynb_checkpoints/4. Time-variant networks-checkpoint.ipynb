{
 "metadata": {
  "name": "",
  "signature": "sha256:9516ecfd5d4e9835e666fec7864e86f14c6986cdb44fc05460eed334332c0d04"
 },
 "nbformat": 3,
 "nbformat_minor": 0,
 "worksheets": [
  {
   "cells": [
    {
     "cell_type": "code",
     "collapsed": false,
     "input": [
      "from pprint import pprint\n",
      "import matplotlib.pyplot as plt"
     ],
     "language": "python",
     "metadata": {},
     "outputs": [],
     "prompt_number": 1
    },
    {
     "cell_type": "markdown",
     "metadata": {},
     "source": [
      "# Introduction to Tethne: Time-Variant Networks"
     ]
    },
    {
     "cell_type": "markdown",
     "metadata": {},
     "source": [
      "Now that we can index our ``Corpus`` temporally using the ``slice`` method, we can start to build time-variant networks. In this workbook we'll build a time-variant coauthor network using a ``GraphCollection``."
     ]
    },
    {
     "cell_type": "markdown",
     "metadata": {},
     "source": [
      "## Before you start"
     ]
    },
    {
     "cell_type": "markdown",
     "metadata": {},
     "source": [
      "* Download the Web of Science practice dataset from [here](http://devo-evo.lab.asu.edu/methods/tethne/datasets.zip), and store it in a place where you can find it. You'll need the full path to your dataset.\n",
      "* Complete the tutorial **\"Time and Change, Working with Corpora\"**"
     ]
    },
    {
     "cell_type": "markdown",
     "metadata": {},
     "source": [
      "## Loading data"
     ]
    },
    {
     "cell_type": "markdown",
     "metadata": {},
     "source": [
      "We'll use the same WoS dataset that we've used in previous workbooks. Load it up using **``corpus_from_dir``**."
     ]
    },
    {
     "cell_type": "code",
     "collapsed": false,
     "input": [
      "from tethne.readers import wos\n",
      "datadirpath = '/Users/erickpeirson/tethne-notebooks/data/wos'\n",
      "MyCorpus = wos.corpus_from_dir(datadirpath)"
     ],
     "language": "python",
     "metadata": {},
     "outputs": [],
     "prompt_number": 2
    },
    {
     "cell_type": "markdown",
     "metadata": {},
     "source": [
      "## Slicing our ``Corpus``"
     ]
    },
    {
     "cell_type": "markdown",
     "metadata": {},
     "source": [
      "To generate a time-variant network, we must first slice our ``Corpus`` temporally. Many research questions about social networks like coauthor networks involve how nodes recruit new neighbors. To look at this in the context of our dataset, we'll want to keep old nodes and edges around even if they don't show up in more recent slices. So we'll do a simple 1-year time-period slice, but with ``cumulative=True``."
     ]
    },
    {
     "cell_type": "code",
     "collapsed": false,
     "input": [
      "MyCorpus.slice('date', method='time_window', window_size=3)"
     ],
     "language": "python",
     "metadata": {},
     "outputs": [],
     "prompt_number": 3
    },
    {
     "cell_type": "markdown",
     "metadata": {},
     "source": [
      "## Creating a ``GraphCollection``"
     ]
    },
    {
     "cell_type": "markdown",
     "metadata": {},
     "source": [
      "As the name suggests, a ``GraphCollection`` is a container for graphs. The ``GraphCollection`` class gives us some convenient methods for generating and interrogating time-variant networks. The ``GraphCollection.build`` method allows us to build a series of graphs from our ``Corpus`` -- one graph per slice -- all in one step.\n",
      "\n",
      "First, import ``GraphCollection`` directly from the ``tethne`` package."
     ]
    },
    {
     "cell_type": "code",
     "collapsed": false,
     "input": [
      "from tethne import GraphCollection"
     ],
     "language": "python",
     "metadata": {},
     "outputs": [],
     "prompt_number": 4
    },
    {
     "cell_type": "code",
     "collapsed": false,
     "input": [
      "MyGraphCollection = GraphCollection().build(MyCorpus, 'date', 'authors', 'coauthors')"
     ],
     "language": "python",
     "metadata": {},
     "outputs": []
    },
    {
     "cell_type": "markdown",
     "metadata": {},
     "source": [
      "We passed the ``build`` method four arguments in the code-block above: the first was our ``Corpus``, second was the slice axis to use (``date``); the third and fourth arguments specify which graph-building method to use. ``authors`` picks out the ``authors`` module from the ``tethne.networks`` subpackage, and ``coauthors`` picks out the ``authors.coauthors`` method."
     ]
    },
    {
     "cell_type": "markdown",
     "metadata": {},
     "source": [
      "We can use the ``plot_node_distribution`` and ``plot_edge_distribution`` methods to see how many nodes and edges are in the graph at each point in time (technically, how many nodes and edges are in each graph, each of which corresponds to a slice in the ``Corpus``)."
     ]
    },
    {
     "cell_type": "code",
     "collapsed": false,
     "input": [
      "fig = MyGraphCollection.plot_node_distribution()"
     ],
     "language": "python",
     "metadata": {},
     "outputs": [
      {
       "metadata": {},
       "output_type": "display_data",
       "png": "[encoded data removed]",
       "text": [
        "<matplotlib.figure.Figure at 0x10bd42b10>"
       ]
      }
     ]
    },
    {
     "cell_type": "code",
     "collapsed": false,
     "input": [
      "fig = MyGraphCollection.plot_edge_distribution()"
     ],
     "language": "python",
     "metadata": {},
     "outputs": []
    },
    {
     "cell_type": "markdown",
     "metadata": {},
     "source": [
      "## Analyzing time-variant networks"
     ]
    },
    {
     "cell_type": "markdown",
     "metadata": {},
     "source": [
      "The ``GraphCollection`` makes it easy to apply algorithms from [NetworkX](http://networkx.github.io/documentation/networkx-1.9/reference/algorithms.html) across the whole time-variant network (i.e. to all graphs in the ``GraphCollection``). "
     ]
    },
    {
     "cell_type": "markdown",
     "metadata": {},
     "source": [
      "The method ``analyze`` applies an algorithm to all of the graphs in the ``GraphCollection``."
     ]
    },
    {
     "cell_type": "code",
     "collapsed": false,
     "input": [
      "dc = MyGraphCollection.analyze('degree_centrality')"
     ],
     "language": "python",
     "metadata": {},
     "outputs": []
    },
    {
     "cell_type": "code",
     "collapsed": false,
     "input": [
      "bcentrality = MyGraphCollection.analyze('betweenness_centrality')"
     ],
     "language": "python",
     "metadata": {},
     "outputs": []
    },
    {
     "cell_type": "markdown",
     "metadata": {},
     "source": [
      "Some algorithms, like \"degree_centrality\" and \"betweenness_centrality\" return a value for each node in each graph. In that case, the nodes in each graph are updated with those values."
     ]
    },
    {
     "cell_type": "code",
     "collapsed": false,
     "input": [
      "MyGraphCollection.graphs[2008].nodes(data=True)[0]   # Shows the attributes for one of the nodes in the 2008 graph."
     ],
     "language": "python",
     "metadata": {},
     "outputs": []
    },
    {
     "cell_type": "markdown",
     "metadata": {},
     "source": [
      "The method ``plot_attr_distribution`` can help to visualize the results of an algorithm across the graphs in the ``GraphCollection``. In the example below, ``attr='degree_centrality'`` selects the degree_centrality attribute, ``etype='node'`` indicates that the attribute belongs to nodes (not edges), and ``stat=mean`` specifies that the Python function ``mean`` should be applied to the collection of values in each graph."
     ]
    },
    {
     "cell_type": "code",
     "collapsed": false,
     "input": [
      "fig = MyGraphCollection.plot_attr_distribution(attr='degree_centrality', etype='node', stat=mean)"
     ],
     "language": "python",
     "metadata": {},
     "outputs": []
    },
    {
     "cell_type": "markdown",
     "metadata": {},
     "source": [
      "In the example below, we use the Python function ``max``, instead. Note that the value of the ``stat`` kwarg must be a callable object (a function or method) that accepts a sequence (a list or tuple) of values and returns some number (int or float)."
     ]
    },
    {
     "cell_type": "code",
     "collapsed": false,
     "input": [
      "fig = MyGraphCollection.plot_attr_distribution(attr='betweenness_centrality', etype='node', stat=max)"
     ],
     "language": "python",
     "metadata": {},
     "outputs": []
    },
    {
     "cell_type": "markdown",
     "metadata": {},
     "source": [
      "We can use ``node_history`` to look at how the attribute of a particular node changes across graphs. In the example below, the specified node appears first in 2008, and its centrality increases through 2011."
     ]
    },
    {
     "cell_type": "code",
     "collapsed": false,
     "input": [
      "MyGraphCollection.node_history(2467, 'betweenness_centrality')"
     ],
     "language": "python",
     "metadata": {},
     "outputs": []
    },
    {
     "cell_type": "markdown",
     "metadata": {},
     "source": [
      "Some NetworkX algorithms return a single value for each graph. In that case, ``analyze`` just returns a ``dict`` mapping graph keys onto values from the algorithm."
     ]
    },
    {
     "cell_type": "code",
     "collapsed": false,
     "input": [
      "ac = MyGraphCollection.analyze('average_clustering')\n",
      "pprint(ac)"
     ],
     "language": "python",
     "metadata": {},
     "outputs": []
    },
    {
     "cell_type": "markdown",
     "metadata": {},
     "source": [
      "We can plot those values using MatPlotLib."
     ]
    },
    {
     "cell_type": "code",
     "collapsed": false,
     "input": [
      "fig = plt.plot(ac.keys(), ac.values())"
     ],
     "language": "python",
     "metadata": {},
     "outputs": []
    },
    {
     "cell_type": "markdown",
     "metadata": {},
     "source": [
      "## Node indexing"
     ]
    },
    {
     "cell_type": "markdown",
     "metadata": {},
     "source": [
      "Note that the name of the node in the ``node_history`` example is an integer, ``2467``. That's because the ``GraphCollection`` indexes all of the nodes so that we can track them across graphs. The index is stored in ``GraphCollection.node_index``:"
     ]
    },
    {
     "cell_type": "code",
     "collapsed": false,
     "input": [
      "MyGraphCollection.node_index.items()[0:10]    # The first ten nodes in the index."
     ],
     "language": "python",
     "metadata": {},
     "outputs": []
    },
    {
     "cell_type": "code",
     "collapsed": false,
     "input": [
      "MyGraphCollection.node_index[2467]    # Get the name of a specific node."
     ],
     "language": "python",
     "metadata": {},
     "outputs": []
    },
    {
     "cell_type": "markdown",
     "metadata": {},
     "source": [
      "To look up the index of a node based on its name (e.g. an author name), use ``GraphCollection.node_lookup``:"
     ]
    },
    {
     "cell_type": "code",
     "collapsed": false,
     "input": [
      "MyGraphCollection.node_lookup.items()[0:10]    # The first ten nodes in the lookup table."
     ],
     "language": "python",
     "metadata": {},
     "outputs": []
    },
    {
     "cell_type": "code",
     "collapsed": false,
     "input": [
      "MyGraphCollection.node_lookup['PRAVOSUDOV VV']    # Get the index of a specific node."
     ],
     "language": "python",
     "metadata": {},
     "outputs": []
    },
    {
     "cell_type": "markdown",
     "metadata": {},
     "source": [
      "## Writing dynamic graphs"
     ]
    },
    {
     "cell_type": "markdown",
     "metadata": {},
     "source": [
      "Cytoscape provides support for Dynamic XGMML, which is a network file format that supports time-variant graphs. You can write DXGMML using the ``to_dxgmml`` function in the ``writers.collection`` module."
     ]
    },
    {
     "cell_type": "code",
     "collapsed": false,
     "input": [
      "from tethne.writers import collection"
     ],
     "language": "python",
     "metadata": {},
     "outputs": []
    },
    {
     "cell_type": "code",
     "collapsed": false,
     "input": [
      "outpath = '/Users/erickpeirson/tethne-notebooks/output/my_dynnetwork.xgmml'\n",
      "collection.to_dxgmml(MyGraphCollection, outpath)"
     ],
     "language": "python",
     "metadata": {},
     "outputs": []
    },
    {
     "cell_type": "markdown",
     "metadata": {},
     "source": [
      "Here's a snapshot from around 2008. Node size is mapped to betweenness centrality."
     ]
    },
    {
     "cell_type": "markdown",
     "metadata": {},
     "source": [
      "![](http://devo-evo.lab.asu.edu/methods/tethne/images/coauthors_dyn.png)"
     ]
    },
    {
     "cell_type": "markdown",
     "metadata": {},
     "source": [
      "**Caution:** Cytoscape still has a hard time with large dynamic graphs. This is mostly useful for heuristic purposes, or small graphs."
     ]
    }
   ],
   "metadata": {}
  }
 ]
}