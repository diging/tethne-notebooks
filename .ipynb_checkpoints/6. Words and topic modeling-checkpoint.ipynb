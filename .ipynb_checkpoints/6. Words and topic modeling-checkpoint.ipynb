{
 "metadata": {
  "name": "",
  "signature": "sha256:69f5e159fcfe1b8f91ef6f9ef5f6e7629ba3ea583edc7b61834d62fd9e9ef11a"
 },
 "nbformat": 3,
 "nbformat_minor": 0,
 "worksheets": [
  {
   "cells": [
    {
     "cell_type": "markdown",
     "metadata": {},
     "source": [
      "# Introduction to Tethne: Words and Topic Modeling"
     ]
    },
    {
     "cell_type": "markdown",
     "metadata": {},
     "source": [
      "In this workbook we'll start working with word-based featuresets, and use a ``ModelManager`` to build a simple [Latent Dirichlet Allocation](http://en.wikipedia.org/wiki/Latent_Dirichlet_allocation) topic model."
     ]
    },
    {
     "cell_type": "markdown",
     "metadata": {},
     "source": [
      "## Before you start"
     ]
    },
    {
     "cell_type": "markdown",
     "metadata": {},
     "source": [
      "* Download the practice dataset from [here](http://devo-evo.lab.asu.edu/methods/tethne/datasets.zip), and store it in a place where you can find it. You'll need the full path to your dataset.\n",
      "* Complete the tutorial **\"Time-variant networks\"**\n",
      "* Download and install [MALLET](http://mallet.cs.umass.edu/). You will need to know the full path to your MALLET installation."
     ]
    },
    {
     "cell_type": "markdown",
     "metadata": {},
     "source": [
      "## Loading JSTOR DfR datasets"
     ]
    },
    {
     "cell_type": "markdown",
     "metadata": {},
     "source": [
      "First, import the ``dfr`` module from ``tethne.readers``."
     ]
    },
    {
     "cell_type": "code",
     "collapsed": false,
     "input": [
      "from tethne.readers import dfr"
     ],
     "language": "python",
     "metadata": {},
     "outputs": [],
     "prompt_number": 2
    },
    {
     "cell_type": "markdown",
     "metadata": {},
     "source": [
      "The DfR reader works just like the WoS reader, except that it also allows you to specify some features that you wish to load from the dataset. Unlike WoS datasets, DfR datasets can contain wordcounts, bigrams, trigrams, and quadgrams in addition to bibliographic data. Use the ``features`` kwarg to specify the featuresets that you wish to load. Here ``'uni'`` refers to the featureset ``wordcounts`` in the DfR dataset; ``'bi'`` would refer to ``bigrams``, ``'tri'`` to ``trigrams``, and so on."
     ]
    },
    {
     "cell_type": "code",
     "collapsed": false,
     "input": [
      "dfrpath = \"/Users/erickpeirson/tethne-notebooks/data/dfr\""
     ],
     "language": "python",
     "metadata": {},
     "outputs": [],
     "prompt_number": 3
    },
    {
     "cell_type": "code",
     "collapsed": false,
     "input": [
      "MyCorpus = dfr.read_corpus(dfrpath, features=['uni'])"
     ],
     "language": "python",
     "metadata": {},
     "outputs": [],
     "prompt_number": 4
    },
    {
     "cell_type": "code",
     "collapsed": false,
     "input": [
      "print 'There are {0} papers in this corpus.'.format(len(MyCorpus.papers))"
     ],
     "language": "python",
     "metadata": {},
     "outputs": [
      {
       "output_type": "stream",
       "stream": "stdout",
       "text": [
        "There are 241 papers in this corpus.\n"
       ]
      }
     ],
     "prompt_number": 5
    },
    {
     "cell_type": "markdown",
     "metadata": {},
     "source": [
      "Whereas Corpora generated from WoS datasets are indexed by ``wosid``, Corpora generated from DfR datasets are indexed by ``doi``."
     ]
    },
    {
     "cell_type": "code",
     "collapsed": false,
     "input": [
      "MyCorpus.papers.keys()[0:10]    # The first 10 dois in the Paper index."
     ],
     "language": "python",
     "metadata": {},
     "outputs": [
      {
       "metadata": {},
       "output_type": "pyout",
       "prompt_number": 6,
       "text": [
        "['10.2307/2418718',\n",
        " '10.2307/2258178',\n",
        " '10.2307/3241549',\n",
        " '10.2307/2416998',\n",
        " '10.2307/20000814',\n",
        " '10.2307/2428935',\n",
        " '10.2307/2418714',\n",
        " '10.2307/1729159',\n",
        " '10.2307/2407516',\n",
        " '10.2307/2816048']"
       ]
      }
     ],
     "prompt_number": 6
    },
    {
     "cell_type": "markdown",
     "metadata": {},
     "source": [
      "So you can retrieve specific ``Paper``s from ``Corpus.papers`` using their DOIs:"
     ]
    },
    {
     "cell_type": "code",
     "collapsed": false,
     "input": [
      "MyCorpus.papers['10.2307/2418718']"
     ],
     "language": "python",
     "metadata": {},
     "outputs": [
      {
       "metadata": {},
       "output_type": "pyout",
       "prompt_number": 7,
       "text": [
        "{'abstract': None,\n",
        " 'accession': 'f2fc8e8a-2bcd-42ed-90d0-22968577a995',\n",
        " 'atitle': 'THE INPUT FROM POPULATION GENETICS: \"THE NEW ECOLOGICAL GENETICS\"',\n",
        " 'auinit': ['J'],\n",
        " 'aulast': ['ANTONOVICS'],\n",
        " 'auuri': None,\n",
        " 'ayjid': 'ANTONOVICS J 1976 SYSTEMATIC BOTANY',\n",
        " 'citations': None,\n",
        " 'contents': None,\n",
        " 'date': 1976,\n",
        " 'doi': '10.2307/2418718',\n",
        " 'eid': None,\n",
        " 'epage': '245',\n",
        " 'institutions': None,\n",
        " 'issue': '3',\n",
        " 'jtitle': 'SYSTEMATIC BOTANY',\n",
        " 'pmid': None,\n",
        " 'spage': '233',\n",
        " 'topics': None,\n",
        " 'uri': None,\n",
        " 'volume': '1',\n",
        " 'wosid': None}"
       ]
      }
     ],
     "prompt_number": 7
    },
    {
     "cell_type": "markdown",
     "metadata": {},
     "source": [
      "Notice that the ``Paper`` above has no citations (``'citations': None,``). DfR datasets do not included cited references."
     ]
    },
    {
     "cell_type": "markdown",
     "metadata": {},
     "source": [
      "## Working with featuresets"
     ]
    },
    {
     "cell_type": "markdown",
     "metadata": {},
     "source": [
      "Featuresets are stored in the ``features`` attribute of a ``Corpus`` object. ``Corpus.features`` is just a dict, so you can see which featuresets are available by calling its ``keys`` method."
     ]
    },
    {
     "cell_type": "code",
     "collapsed": false,
     "input": [
      "print 'This corpus contains the following featuresets: {0}'.format(\n",
      "            ', '.join(MyCorpus.features.keys())    )"
     ],
     "language": "python",
     "metadata": {},
     "outputs": [
      {
       "output_type": "stream",
       "stream": "stdout",
       "text": [
        "This corpus contains the following featuresets: unigrams, citations\n"
       ]
      }
     ],
     "prompt_number": 8
    },
    {
     "cell_type": "markdown",
     "metadata": {},
     "source": [
      "It's not uncommon for featuresets to be incomplete; sometimes data won't be available for all of the Papers in the Corpus. An easy way to check the number of Papers for which data is available in a featureset is to get the size (``len``) of the ``features`` element inside of that featureset. For example:"
     ]
    },
    {
     "cell_type": "code",
     "collapsed": false,
     "input": [
      "print 'There are {0} papers with unigram features in this corpus.'.format(\n",
      "            len(MyCorpus.features['unigrams']['features'])    )"
     ],
     "language": "python",
     "metadata": {},
     "outputs": [
      {
       "output_type": "stream",
       "stream": "stdout",
       "text": [
        "There are 241 papers with unigram features in this corpus.\n"
       ]
      }
     ],
     "prompt_number": 9
    },
    {
     "cell_type": "markdown",
     "metadata": {},
     "source": [
      "To check the number of features in a featureset (e.g. the size of a vocabulary), look at the size of the ``index`` element."
     ]
    },
    {
     "cell_type": "code",
     "collapsed": false,
     "input": [
      "print 'There are {0} words in the unigrams featureset'.format(\n",
      "            len(MyCorpus.features['unigrams']['index'])    )"
     ],
     "language": "python",
     "metadata": {},
     "outputs": [
      {
       "output_type": "stream",
       "stream": "stdout",
       "text": [
        "There are 52207 words in the unigrams featureset\n"
       ]
      }
     ],
     "prompt_number": 10
    },
    {
     "cell_type": "markdown",
     "metadata": {},
     "source": [
      "### Applying a stoplist"
     ]
    },
    {
     "cell_type": "markdown",
     "metadata": {},
     "source": [
      "In many cases you may wish to apply a stoplist (a list of features to exclude from analysis) to a featureset."
     ]
    },
    {
     "cell_type": "markdown",
     "metadata": {},
     "source": [
      "You may apply any stoplist you like to a featureset. In this example, we import the [Natural Language ToolKit (NLTK)](http://www.nltk.org/) stopwords corpus."
     ]
    },
    {
     "cell_type": "code",
     "collapsed": false,
     "input": [
      "from nltk.corpus import stopwords\n",
      "stoplist = stopwords.words()"
     ],
     "language": "python",
     "metadata": {},
     "outputs": [],
     "prompt_number": 12
    },
    {
     "cell_type": "markdown",
     "metadata": {},
     "source": [
      "To apply the stoplist to our featureset, we use the ``apply_stoplist`` method. In Tethne, featuresets are not modified in place; instead, a new featureset is generated that reflects the specified changes. The first positional argument, ``'unigrams'``, is the name of the featureset to which the stoplist should be applied. The second positional argument, ``'unigrams_stop'`` is the name of the modified featureset that will be generated after the stoplist is applied. The third positional argument is the stoplist itself."
     ]
    },
    {
     "cell_type": "code",
     "collapsed": false,
     "input": [
      "MyCorpus.apply_stoplist('unigrams', 'unigrams_stop', stoplist)"
     ],
     "language": "python",
     "metadata": {},
     "outputs": [],
     "prompt_number": 13
    },
    {
     "cell_type": "markdown",
     "metadata": {},
     "source": [
      "Checking the size of the new featureset's index, we see that ``apply_stoplist`` removed 568 features (words)."
     ]
    },
    {
     "cell_type": "code",
     "collapsed": false,
     "input": [
      "print 'There are {0} words in the unigrams_stop featureset'.format(\n",
      "            len(MyCorpus.features['unigrams_stop']['index']))"
     ],
     "language": "python",
     "metadata": {},
     "outputs": [
      {
       "output_type": "stream",
       "stream": "stdout",
       "text": [
        "There are 51639 words in the unigrams_stop featureset\n"
       ]
      }
     ],
     "prompt_number": 12
    },
    {
     "cell_type": "markdown",
     "metadata": {},
     "source": [
      "### Applying a filter"
     ]
    },
    {
     "cell_type": "markdown",
     "metadata": {},
     "source": [
      "We may wish to exclude additional features from our featureset, using some other criteria. The ``filter_features`` method allows us to apply an arbitrary filter to a featureset."
     ]
    },
    {
     "cell_type": "markdown",
     "metadata": {},
     "source": [
      "The first step is to define the criteria that will be used to include/exclude features. To do this, we define a function that takes three positional arguments:\n",
      "\n",
      "| Pos | Parameter | Description                                                                                        |\n",
      "| ----| --------- | -------------------------------------------------------------------------------------------------- |\n",
      "| 0   | s         | The feature itself (e.g. a string or integer).                                                     | \n",
      "| 1   | C         | The overall frequency of the feature in the ``Corpus``. e.g. the sum of all counts of the feature. |\n",
      "| 2   | DC        | The number of documents in which the feature occurs.                                               |\n",
      "\n",
      "The function should return ``True`` if a feature is to be included, and ``False`` if it is to be excluded. In the example below, only features that occur more than 3 times overall and in at least two documents, and that are greater than three characters in length, will be retained."
     ]
    },
    {
     "cell_type": "code",
     "collapsed": false,
     "input": [
      "def filt(s, C, DC):\n",
      "    if C > 3 and DC > 1 and len(s) > 3:\n",
      "        return True\n",
      "    return False"
     ],
     "language": "python",
     "metadata": {},
     "outputs": [],
     "prompt_number": 16
    },
    {
     "cell_type": "markdown",
     "metadata": {},
     "source": [
      "Our call to ``filter_features`` is similar to ``apply_stoplist``: ``'unigrams_stop'`` is the featureset to which the filter will be applied, ``'unigrams_filtered'`` is the resulting featureset (to be created), and ``filt`` is the filter function defined above."
     ]
    },
    {
     "cell_type": "code",
     "collapsed": false,
     "input": [
      "MyCorpus.filter_features('unigrams_stop', 'unigrams_filtered', filt)"
     ],
     "language": "python",
     "metadata": {},
     "outputs": [],
     "prompt_number": 17
    },
    {
     "cell_type": "markdown",
     "metadata": {},
     "source": [
      "That filter has a fairly significant impact on the size of the featureset, dropping almost 40,000 features. "
     ]
    },
    {
     "cell_type": "code",
     "collapsed": false,
     "input": [
      "print 'There are {0} words in the filtered featureset'.format(\n",
      "            len(MyCorpus.features['unigrams_filtered']['index']))"
     ],
     "language": "python",
     "metadata": {},
     "outputs": [
      {
       "output_type": "stream",
       "stream": "stdout",
       "text": [
        "There are 12532 words in the filtered featureset\n"
       ]
      }
     ],
     "prompt_number": 18
    },
    {
     "cell_type": "markdown",
     "metadata": {},
     "source": [
      "### Inspecting the featureset"
     ]
    },
    {
     "cell_type": "markdown",
     "metadata": {},
     "source": [
      "Before we do anything more sophisticated, we may want to characterize the distribution of features over time or across journals. We will slice the ``Corpus`` accordingly; here we use a four-year sliding time-window, and also slice by journal title."
     ]
    },
    {
     "cell_type": "code",
     "collapsed": false,
     "input": [
      "MyCorpus.slice('date', 'time_window', window_size=4)\n",
      "MyCorpus.slice('jtitle')"
     ],
     "language": "python",
     "metadata": {},
     "outputs": [],
     "prompt_number": 21
    },
    {
     "cell_type": "markdown",
     "metadata": {},
     "source": [
      "We then create a dictionary that picks out the feature of interest. In this case we're looking for ``'counts'`` of the term ``'evolution'`` in the ``'unigrams_filtered'`` featureset, normalized by the number of Papers in each sice."
     ]
    },
    {
     "cell_type": "code",
     "collapsed": false,
     "input": [
      "fkwargs = {\n",
      "    'featureset': 'unigrams_filtered',\n",
      "    'feature': 'evolution',\n",
      "    'mode': 'counts',\n",
      "    'normed': True,\n",
      "}"
     ],
     "language": "python",
     "metadata": {},
     "outputs": [],
     "prompt_number": 22
    },
    {
     "cell_type": "markdown",
     "metadata": {},
     "source": [
      "We then pass that dictionary as ``fkwargs``, along with ``mode='features'``, to the ``Corpus.plot_distribution`` method. The code below generates a figure that shows the distribution of the term ``'evolution'`` over time."
     ]
    },
    {
     "cell_type": "code",
     "collapsed": false,
     "input": [
      "fig = MyCorpus.plot_distribution('date', mode='features', fkwargs=fkwargs)"
     ],
     "language": "python",
     "metadata": {},
     "outputs": [
      {
       "metadata": {},
       "output_type": "display_data",
       "png": "[encoded data removed]",
       "text": [
        "<matplotlib.figure.Figure at 0x1093f0e90>"
       ]
      }
     ],
     "prompt_number": 23
    },
    {
     "cell_type": "markdown",
     "metadata": {},
     "source": [
      "Providing ``y_axis='jtitle'`` turns the plot into a heatmap. Here we can see the frequency of the term ``'evolution'`` across journals over time. Some additional plotting parameters make the plot a bit more visually appealing."
     ]
    },
    {
     "cell_type": "code",
     "collapsed": false,
     "input": [
      "import matplotlib.pyplot as plt\n",
      "fig = plt.figure(figsize=(30,60))\n",
      "fig = MyCorpus.plot_distribution('date', y_axis='jtitle', mode='features', fig=fig, fkwargs=fkwargs, interpolation='none', aspect=0.8)"
     ],
     "language": "python",
     "metadata": {},
     "outputs": [
      {
       "metadata": {},
       "output_type": "display_data",
       "png": "[encoded data removed]",
       "text": [
        "<matplotlib.figure.Figure at 0x113bd9690>"
       ]
      }
     ],
     "prompt_number": 24
    },
    {
     "cell_type": "markdown",
     "metadata": {},
     "source": [
      "## Topic modeling with featuresets"
     ]
    },
    {
     "cell_type": "markdown",
     "metadata": {},
     "source": [
      "[Latent Dirichlet Allocation](http://en.wikipedia.org/wiki/Latent_Dirichlet_allocation) is a popular Bayesian approach to discovering latent \"topics\" in large corpora. Many digital humanists use a software package called [MALLET](http://mallet.cs.umass.edu/) to fit LDA to text data. One of our objectives is to make it easy to fit LDA and other models to featuresets in Tethne."
     ]
    },
    {
     "cell_type": "markdown",
     "metadata": {},
     "source": [
      "``ModelManager``s are special classes that mediate between data in Tethne and (usually) external modeling software. The ``MALLETModelManager`` can render a featureset into a format that MALLET understands, invoke MALLET's topic modeling functionality with the parameters that you provide, and interpret MALLET's output in ways that make it easier to inspect the resulting model."
     ]
    },
    {
     "cell_type": "markdown",
     "metadata": {},
     "source": [
      "First, import the ``MALLETModelManager`` from the ``tethne.model.managers`` module."
     ]
    },
    {
     "cell_type": "code",
     "collapsed": false,
     "input": [
      "from tethne.model.managers import MALLETModelManager"
     ],
     "language": "python",
     "metadata": {},
     "outputs": [],
     "prompt_number": 32
    },
    {
     "cell_type": "markdown",
     "metadata": {},
     "source": [
      "Next, we'll define some paths. ``malletpath`` will hold the full path to our installation of MALLET. In OSX, installing MALLET just means decompressing the tarball provided on the [MALLET homepage](http://mallet.cs.umass.edu/), and moving the resulting directory someplace where you can find it easily (e.g. ``/Applications``)."
     ]
    },
    {
     "cell_type": "code",
     "collapsed": false,
     "input": [
      "malletpath = '/Applications/mallet-2.0.7'"
     ],
     "language": "python",
     "metadata": {},
     "outputs": [],
     "prompt_number": 33
    },
    {
     "cell_type": "markdown",
     "metadata": {},
     "source": [
      "``outpath`` and ``temppath`` should hold the full paths to output and temporary directories. The temporary directory will hold intermediate objects used by MALLET and Tethne to pass data around. The output directory will hold objects of more lasting value, like the MALLET model object, or figures generated by Tethne."
     ]
    },
    {
     "cell_type": "code",
     "collapsed": false,
     "input": [
      "outpath = \"/Users/erickpeirson/tethne-notebooks/output/MALLET/out\"\n",
      "temppath = \"/Users/erickpeirson/tethne-notebooks/output/MALLET/temp\""
     ],
     "language": "python",
     "metadata": {},
     "outputs": [],
     "prompt_number": 34
    },
    {
     "cell_type": "markdown",
     "metadata": {},
     "source": [
      "To instantiate the ``MALLETModelManager`` we pass the following parameters to its constructor: our ``Corpus`` object, the name of the featureset that we wish to model with (MALLET will assume that these are unigrams), as well as the three paths that we defined above."
     ]
    },
    {
     "cell_type": "code",
     "collapsed": false,
     "input": [
      "MyManager = MALLETModelManager(MyCorpus, 'unigrams_filtered', outpath=outpath, temppath=temppath, mallet_path=malletpath)"
     ],
     "language": "python",
     "metadata": {},
     "outputs": [],
     "prompt_number": 35
    },
    {
     "cell_type": "markdown",
     "metadata": {},
     "source": [
      "Now we're ready to fit the model. The ``build`` method prepares our featureset for modeling, and interacts with MALLET to fit an LDA model to those data. The ``z=50`` parameter tells the ``MALLETModelManager`` how many topics should be in our model. ``max_iter`` controls the maximum number of iterations for MALLET's Gibbs Sampler; 200 iterations is plenty for this small toy corpus. If you're working with a large ``Corpus`` and a large featureset, this process may take some time."
     ]
    },
    {
     "cell_type": "code",
     "collapsed": false,
     "input": [
      "MyManager.build(z=50, max_iter=200, prep=True)"
     ],
     "language": "python",
     "metadata": {},
     "outputs": [
      {
       "metadata": {},
       "output_type": "pyout",
       "prompt_number": 36,
       "text": [
        "<tethne.model.corpus.ldamodel.LDAModel at 0x113e1c810>"
       ]
      },
      {
       "metadata": {},
       "output_type": "display_data",
       "png": "[encoded data removed]",
       "text": [
        "<matplotlib.figure.Figure at 0x115217950>"
       ]
      }
     ],
     "prompt_number": 36
    },
    {
     "cell_type": "markdown",
     "metadata": {},
     "source": [
      "The figure above gives us some indication of whether the model has converged: usually there is a sharp increase in the likelihood of the data given the model, and this tapers off toward an asymptote as the model converges."
     ]
    },
    {
     "cell_type": "markdown",
     "metadata": {},
     "source": [
      "We can inspect the resulting topics using the ``print_topics`` method. "
     ]
    },
    {
     "cell_type": "code",
     "collapsed": false,
     "input": [
      "MyManager.model.print_topics(Nwords=5)"
     ],
     "language": "python",
     "metadata": {},
     "outputs": [
      {
       "output_type": "stream",
       "stream": "stdout",
       "text": [
        "0: species, distribution, flora, british, north\n",
        "1: leaf, water, size, plants, leaves\n",
        "2: botanical, botany, history, plant, plants\n",
        "3: temperature, temperatures, seedlings, spruce, days\n",
        "4: species, population, present, range, large\n",
        "5: plants, populations, habitat, variation, samples\n",
        "6: populations, plants, growing, population, seed\n",
        "7: species, stands, vegetation, forests, forest\n",
        "8: populations, genetic, selection, population, variation\n",
        "9: university, society, state, american, august\n",
        "10: growth, development, root, effect, structure\n",
        "11: species, plants, chromosome, pollen, flowers\n",
        "12: science, research, scientific, problems, biological\n",
        "13: ecology, ecological, plant, species, tropical\n",
        "14: jour, univ, north, john, robert\n",
        "15: great, plants, conditions, term, cases\n",
        "16: plant, species, taxonomy, taxonomic, evolution\n",
        "17: book, volume, series, current, analysis\n",
        "18: species, plants, hybrids, forms, hybrid\n",
        "19: soil, plant, populations, soils, vegetation\n"
       ]
      }
     ],
     "prompt_number": 37
    },
    {
     "cell_type": "markdown",
     "metadata": {},
     "source": [
      "``print_topic`` (singular) will yield the most likely words for a single topic. We can control the number of words using the ``Nwords`` keyword argument."
     ]
    },
    {
     "cell_type": "code",
     "collapsed": false,
     "input": [
      "MyManager.model.print_topic(4, Nwords=10)"
     ],
     "language": "python",
     "metadata": {},
     "outputs": [
      {
       "output_type": "stream",
       "stream": "stdout",
       "text": [
        "species, plants, forms, plant, ecological, habitat, distinct, form, ecotype, races\n"
       ]
      }
     ],
     "prompt_number": 26
    },
    {
     "cell_type": "markdown",
     "metadata": {},
     "source": [
      "If we have sliced our ``Corpus`` by ``'date'``, we can also inspect the representation of each topic over time using ``topic_over_time``. In the example below, we see a plot for topic ``0`` (the top 10 most likely words are listed at the top of the plot) showing the percentage of documents in each slice that contain that topic."
     ]
    },
    {
     "cell_type": "code",
     "collapsed": false,
     "input": [
      "fig = MyManager.topic_over_time(5, plot=True)"
     ],
     "language": "python",
     "metadata": {},
     "outputs": [
      {
       "output_type": "stream",
       "stream": "stdout",
       "text": [
        "plants, populations, habitat, variation, samples, differences, population, plant, length, lawn\n"
       ]
      },
      {
       "metadata": {},
       "output_type": "display_data",
       "png": "[encoded data removed]",
       "text": [
        "<matplotlib.figure.Figure at 0x113f780d0>"
       ]
      }
     ],
     "prompt_number": 40
    },
    {
     "cell_type": "markdown",
     "metadata": {},
     "source": [
      "## Generating networks from topic models"
     ]
    },
    {
     "cell_type": "markdown",
     "metadata": {},
     "source": [
      "The ``features`` module in the ``tethne.networks`` subpackage contains some useful methods for visualizing topic models as networks. You can import it just like the ``authors`` or ``papers`` modules."
     ]
    },
    {
     "cell_type": "code",
     "collapsed": false,
     "input": [
      "from tethne.networks import features"
     ],
     "language": "python",
     "metadata": {},
     "outputs": [],
     "prompt_number": 43
    },
    {
     "cell_type": "markdown",
     "metadata": {},
     "source": [
      "The ``topic_coupling`` function generates a network of words connected on the basis of shared affinity with a topic. If two words *i* and *j* are both associated with a topic *z* with $\\Phi(i|z) >= 0.01$ and $\\Phi(j|z) >= 0.01$, then an edge is drawn between them.\n",
      "\n",
      "``MyManager.model`` is the LDA model generated by MALLET, and should be provided as the first positional argument."
     ]
    },
    {
     "cell_type": "code",
     "collapsed": false,
     "input": [
      "MyGraph = features.topic_coupling(MyManager.model, threshold=0.01)"
     ],
     "language": "python",
     "metadata": {},
     "outputs": [],
     "prompt_number": 44
    },
    {
     "cell_type": "markdown",
     "metadata": {},
     "source": [
      "The resulting graph will be smaller or larger depending on the value that you choose for ``threshold``. You may wish to increase or decrease ``threshold`` to achieve something interpretable."
     ]
    },
    {
     "cell_type": "code",
     "collapsed": false,
     "input": [
      "print 'There are {0} nodes and {1} edges in this graph.'.format(\n",
      "            len(MyGraph.nodes()), len(MyGraph.edges()))"
     ],
     "language": "python",
     "metadata": {},
     "outputs": [
      {
       "output_type": "stream",
       "stream": "stdout",
       "text": [
        "There are 85 nodes and 342 edges in this graph.\n"
       ]
      }
     ],
     "prompt_number": 45
    },
    {
     "cell_type": "markdown",
     "metadata": {},
     "source": [
      "Each edge is given a ``weight`` attribute, which is just the product $\\Phi(i|z)\\Phi(j|z)$. The ``'topics'`` atribute is a list of the topics ``z``."
     ]
    },
    {
     "cell_type": "code",
     "collapsed": false,
     "input": [
      "MyGraph.edges(data=True)[0]"
     ],
     "language": "python",
     "metadata": {},
     "outputs": [
      {
       "metadata": {},
       "output_type": "pyout",
       "prompt_number": 46,
       "text": [
        "('pollen', 'plants', {'topics': [11], 'weight': 0.0008080369388314895})"
       ]
      }
     ],
     "prompt_number": 46
    },
    {
     "cell_type": "markdown",
     "metadata": {},
     "source": [
      "The resulting ``Graph`` can be written to ``GraphML`` just like any other ``Graph``."
     ]
    },
    {
     "cell_type": "code",
     "collapsed": false,
     "input": [
      "from tethne.writers import graph"
     ],
     "language": "python",
     "metadata": {},
     "outputs": [],
     "prompt_number": 33
    },
    {
     "cell_type": "code",
     "collapsed": false,
     "input": [
      "graphpath = '/Users/erickpeirson/tethne-notebooks/output/lda.graphml'\n",
      "graph.to_graphml(MyGraph, graphpath)"
     ],
     "language": "python",
     "metadata": {},
     "outputs": [],
     "prompt_number": 34
    },
    {
     "cell_type": "markdown",
     "metadata": {},
     "source": [
      "The network visualization below was generated in ``Cytoscape``. Edge width is a function of the ``'weight'`` attribute. Edge color is based on the ``'topics'`` attribute, to give some sense of how which clusters of terms belong to which topics. We can see right away that terms like ``plants``, ``populations``, ``species``, and ``selection`` are all very central to the topics retrieved by this model."
     ]
    },
    {
     "cell_type": "markdown",
     "metadata": {},
     "source": [
      "![](http://devo-evo.lab.asu.edu/methods/tethne/images/lda.png)"
     ]
    },
    {
     "cell_type": "markdown",
     "metadata": {},
     "source": [
      "## WoS abstracts"
     ]
    },
    {
     "cell_type": "markdown",
     "metadata": {},
     "source": [
      "JSTOR DfR is not the only source of wordcounts with which we perform topic modeling. For records more recent than about 1990, the Web of Science includes abstracts in their bibliographic records.\n",
      "\n",
      "Let's first spin up our WoS dataset."
     ]
    },
    {
     "cell_type": "code",
     "collapsed": false,
     "input": [
      "from tethne.readers import wos\n",
      "datadirpath = '/Users/erickpeirson/tethne-notebooks/data/wos'\n",
      "MyWoSCorpus = wos.corpus_from_dir(datadirpath)"
     ],
     "language": "python",
     "metadata": {},
     "outputs": [],
     "prompt_number": 47
    },
    {
     "cell_type": "markdown",
     "metadata": {},
     "source": [
      "Here's what one of the abstracts looks like:"
     ]
    },
    {
     "cell_type": "code",
     "collapsed": false,
     "input": [
      "MyWoSCorpus.all_papers()[0]['abstract']"
     ],
     "language": "python",
     "metadata": {},
     "outputs": [
      {
       "metadata": {},
       "output_type": "pyout",
       "prompt_number": 49,
       "text": [
        "'Demographic models are powerful tools for making predictions about the relative importance of transitions from one life stage (e. g., seeds) to another (e. g., nonreproductives); however, they have never been used to compare the relative performance of invasive and noninvasive taxa. I use demographic models parameterized from common garden experiments to develop hypotheses about the role of different life stage transitions in determining differences in performance in invasive and noninvasive congeners in the Commelinaceae. I also extended nested life table response experiment (LTRE) analyses to accommodate interactions between nested and unnested factors. Invasive species outperformed their noninvasive congeners, especially under high-nutrient conditions. This difference in performance did not appear to be due to differences in elasticities of vital rates, but rather to differences in the magnitude of stage transitions. Self-compatible invasive species had greater fecundity in high-nutrient environments and a shorter time to first reproduction, and all invasive species had greater vegetative reproduction than their noninvasive congeners. Thus greater opportunism in sexual and asexual reproduction explained the greater performance of invasive species under high-nutrient conditions. Similar common garden experiments could become a useful tool to predict potential invaders from pools of potential introductions. I show that short-term and controlled experiments considering multiple nutrient environments may accurately predict invasiveness of nonnative plant species.'"
       ]
      }
     ],
     "prompt_number": 49
    },
    {
     "cell_type": "markdown",
     "metadata": {},
     "source": [
      "The ``abstract_to_features`` method converts all of the available abstracts in our ``Corpus`` to a unigram featureset. It takes no arguments. The abstracts will be diced up into their constituent words, punctuation and capitalization is removed, and a featureset called ``abstractTerms`` is generated. By default, ``abstract_to_features`` will apply the NLTK stoplist and Porter stemmer."
     ]
    },
    {
     "cell_type": "code",
     "collapsed": false,
     "input": [
      "MyWoSCorpus.abstract_to_features()"
     ],
     "language": "python",
     "metadata": {},
     "outputs": [],
     "prompt_number": 50
    },
    {
     "cell_type": "markdown",
     "metadata": {},
     "source": [
      "Sure enough, here's our ``'abstractTerms'`` featureset:"
     ]
    },
    {
     "cell_type": "code",
     "collapsed": false,
     "input": [
      "MyWoSCorpus.features.keys()"
     ],
     "language": "python",
     "metadata": {},
     "outputs": [
      {
       "metadata": {},
       "output_type": "pyout",
       "prompt_number": 37,
       "text": [
        "['abstractTerms', 'citations']"
       ]
      }
     ],
     "prompt_number": 37
    },
    {
     "cell_type": "markdown",
     "metadata": {},
     "source": [
      "Since we're not working from OCR texts (that's where JSTOR DfR data comes from), there are far fewer \"junk\" words. We end up with a much smaller vocabulary."
     ]
    },
    {
     "cell_type": "code",
     "collapsed": false,
     "input": [
      "print 'There are {0} features in the abstractTerms featureset.'.format(len(MyWoSCorpus.features['abstractTerms']['index']))"
     ],
     "language": "python",
     "metadata": {},
     "outputs": [
      {
       "output_type": "stream",
       "stream": "stdout",
       "text": [
        "There are 14314 features in the abstractTerms featureset.\n"
       ]
      }
     ],
     "prompt_number": 51
    },
    {
     "cell_type": "markdown",
     "metadata": {},
     "source": [
      "But since not all of our WoS records come from >= 1990, there are a handful for which there are no abstract terms."
     ]
    },
    {
     "cell_type": "code",
     "collapsed": false,
     "input": [
      "print 'Only {0} of {1} papers have abstracts, however.'.format(len(MyWoSCorpus.features['abstractTerms']['features']), len(MyWoSCorpus.papers))"
     ],
     "language": "python",
     "metadata": {},
     "outputs": [
      {
       "output_type": "stream",
       "stream": "stdout",
       "text": [
        "Only 1778 of 1859 papers have abstracts, however.\n"
       ]
      }
     ],
     "prompt_number": 39
    },
    {
     "cell_type": "markdown",
     "metadata": {},
     "source": [
      "The ``'abstractTerms'`` featureset is just like the ``'unigrams'`` featureset from the JSTOR DfR dataset, so we can perform topic modeling with it, too."
     ]
    },
    {
     "cell_type": "code",
     "collapsed": false,
     "input": [
      "wos_outpath = \"/Users/erickpeirson/tethne-notebooks/output/MALLET/wos_out\"\n",
      "MyWoSManager = MALLETModelManager(MyWoSCorpus, 'abstractTerms', outpath=wos_outpath, mallet_path=malletpath)"
     ],
     "language": "python",
     "metadata": {},
     "outputs": [],
     "prompt_number": 52
    },
    {
     "cell_type": "code",
     "collapsed": false,
     "input": [
      "MyWoSManager.build(Z=50, max_iter=300, prep=True)"
     ],
     "language": "python",
     "metadata": {},
     "outputs": [
      {
       "metadata": {},
       "output_type": "pyout",
       "prompt_number": 53,
       "text": [
        "<tethne.model.corpus.ldamodel.LDAModel at 0x1148c2e90>"
       ]
      },
      {
       "metadata": {},
       "output_type": "display_data",
       "png": "[encoded data removed]",
       "text": [
        "<matplotlib.figure.Figure at 0x113b237d0>"
       ]
      }
     ],
     "prompt_number": 53
    },
    {
     "cell_type": "code",
     "collapsed": false,
     "input": [
      "MyWoSManager.model.print_topics(Nwords=5)"
     ],
     "language": "python",
     "metadata": {},
     "outputs": [
      {
       "output_type": "stream",
       "stream": "stdout",
       "text": [
        "0: leaf, area, nitrogen, content, sla\n",
        "1: stem, taxa, garden, suggest, common\n",
        "2: rate, similar, environment, plastic, maximum\n",
        "3: litter, nutrient, foliar, ecosystem, ca\n",
        "4: habitat, small, common, garden, due\n",
        "5: northern, southern, central, region, california\n",
        "6: gradient, common, sex, found, male\n",
        "7: life, time, development, adult, egg\n",
        "8: fish, shape, food, behaviour, prey\n",
        "9: soil, nitrogen, experiment, floor, depth\n",
        "10: field, common, garden, insect, found\n",
        "11: growth, rate, grew, faster, tradeoff\n",
        "12: common, garden, coastal, widespread, land\n",
        "13: site, age, long, short, transplant\n",
        "14: molecular, neutral, loci, dna, drift\n",
        "15: trait, related, commongarden, key, assess\n",
        "16: host, hypothesis, model, support, function\n",
        "17: pattern, rapid, common, order, main\n",
        "18: environment, origin, test, current, behavior\n",
        "19: light, weight, shade, open, wide\n",
        "20: plant, affect, arthropod, fungal, fungi\n",
        "21: season, earlier, bud, time, frost\n",
        "22: garden, common, experiment, found, exhibit\n",
        "23: seed, transfer, set, principal, pc\n",
        "24: common, garden, mu, birch, major\n",
        "25: south, similar, distinct, usa, florida\n",
        "26: cold, spring, summer, winter, year\n",
        "27: larval, impact, suggest, period, china\n",
        "28: water, drought, treatment, loss, mediterranean\n",
        "29: mass, gene, flow, experiment, differ\n",
        "30: height, stress, grown, ii, index\n",
        "31: local, thermal, adapted, reaction, experiment\n",
        "32: tree, forest, beech, wood, ash\n",
        "33: north, european, america, american, spread\n",
        "34: garden, floral, flower, fruit, contrast\n",
        "35: greater, lower, grown, mesic, year\n",
        "36: level, role, important, pollen, system\n",
        "37: effect, relationship, strong, clonal, direct\n",
        "38: biomass, plant, control, grass, aboveground\n",
        "39: root, length, shoot, longer, type\n",
        "40: higher, lower, content, cultivar, tubers\n",
        "41: annual, delta, carbon, net, wue\n",
        "42: high, low, andor, food, effect\n",
        "43: number, total, grown, proportion, differ\n",
        "44: wild, hybrid, found, salmon, zone\n",
        "45: size, larger, sexual, smaller, island\n",
        "46: important, common, research, suggest, design\n",
        "47: data, spatial, scale, approach, global\n",
        "48: success, found, experiment, due, present\n",
        "49: pine, oak, red, spruce, white\n"
       ]
      }
     ],
     "prompt_number": 54
    },
    {
     "cell_type": "code",
     "collapsed": false,
     "input": [
      "MyWoSCorpus.slice('date', window_size=4)"
     ],
     "language": "python",
     "metadata": {},
     "outputs": [],
     "prompt_number": 55
    },
    {
     "cell_type": "code",
     "collapsed": false,
     "input": [
      "fig = MyWoSManager.topic_over_time(0, plot=True)"
     ],
     "language": "python",
     "metadata": {},
     "outputs": [
      {
       "output_type": "stream",
       "stream": "stdout",
       "text": [
        "leaf, area, nitrogen, content, sla, unit, evergreen, ratio, australia, matter\n"
       ]
      },
      {
       "metadata": {},
       "output_type": "display_data",
       "png": "[encoded data removed]",
       "text": [
        "<matplotlib.figure.Figure at 0x113f91b50>"
       ]
      }
     ],
     "prompt_number": 56
    },
    {
     "cell_type": "markdown",
     "metadata": {},
     "source": [
      "## Networks of features based on co-occurrence"
     ]
    },
    {
     "cell_type": "markdown",
     "metadata": {},
     "source": [
      "The ``features`` module in the ``tethne.networks`` subpackage contains a few functions for generating networks of features based on co-occurrence."
     ]
    },
    {
     "cell_type": "code",
     "collapsed": false,
     "input": [
      "from tethne.networks import features"
     ],
     "language": "python",
     "metadata": {},
     "outputs": [],
     "prompt_number": 57
    },
    {
     "cell_type": "markdown",
     "metadata": {},
     "source": [
      "The ``transform`` method allows us to transform the values from one featureset using a custom function. One popular transformation for wordcount data is the [term frequency * inverse document frequency (tf\\*idf)](http://en.wikipedia.org/wiki/Tf%E2%80%93idf) transformation. tf\\*idf weights wordcounts for each document based on how frequent each word is in the rest of the corpus, and is supposed to bring to the foreground the words that are the most \"important\" for each document.\n",
      "\n",
      "The default behavior of ``transform`` is to apply the tf\\*idf transformation. Just as in other feature-manipulating methods, the first argument, ``'abstractTerms'`` is the featureset to be transformed, and the second argument, ``'absTFIDF'`` is the featureset to be generated as a result of the manipulation."
     ]
    },
    {
     "cell_type": "code",
     "collapsed": false,
     "input": [
      "MyWoSCorpus.transform('abstractTerms', 'absTFIDF')"
     ],
     "language": "python",
     "metadata": {},
     "outputs": [
      {
       "output_type": "stream",
       "stream": "stdout",
       "text": [
        "\n"
       ]
      }
     ],
     "prompt_number": 74
    },
    {
     "cell_type": "markdown",
     "metadata": {},
     "source": [
      "I can specify some other transformation by first defining a transformer function, and then passing it as a third argument to ``transform``. A transformer function should accept the following parameters, and return a single numerical value (int or float)."
     ]
    },
    {
     "cell_type": "markdown",
     "metadata": {},
     "source": [
      "| Parameter | Description                                                       |\n",
      "| --------- | ----------------------------------------------------------------- |\n",
      "| ``s``     | Representation of the feature (e.g. string).                      |\n",
      "| ``c``     | Value of the feature in the document (e.g. frequency).            |\n",
      "| ``C``     | Value of the feature in the ``Corpus`` (e.g. global frequency).   |\n",
      "| ``DC``    | Number of documents in which the feature occcurs.                 |\n",
      "| ``N``     | Total number of documents in the ``Corpus``.                      |"
     ]
    },
    {
     "cell_type": "markdown",
     "metadata": {},
     "source": [
      "For example:"
     ]
    },
    {
     "cell_type": "code",
     "collapsed": false,
     "input": [
      "def mytransformer(s, c, C, DC, N):\n",
      "    \"\"\"\n",
      "    Doubles the feature value and divides by the overall value in the Corpus.\n",
      "    \"\"\"\n",
      "    return float(c)*2/(C)"
     ],
     "language": "python",
     "metadata": {},
     "outputs": [],
     "prompt_number": 67
    },
    {
     "cell_type": "markdown",
     "metadata": {},
     "source": [
      "We can then pass transformer function to ``transform`` as the ``transformer`` keyword argument."
     ]
    },
    {
     "cell_type": "code",
     "collapsed": false,
     "input": [
      "MyWoSCorpus.transform('abstractTerms', 'absTransformed', transformer=mytransformer)"
     ],
     "language": "python",
     "metadata": {},
     "outputs": [],
     "prompt_number": 68
    },
    {
     "cell_type": "code",
     "collapsed": false,
     "input": [
      "print 'Before: ', MyWoSCorpus.features['abstractTerms']['papers'][2773][0]   # Value for a particular \n",
      "print 'TF*IDF: ', MyWoSCorpus.features['absTFIDF']['papers'][2773][0]        #  feature and paper.\n",
      "print 'mytransformer: ', MyWoSCorpus.features['absTransformed']['papers'][2773][0]"
     ],
     "language": "python",
     "metadata": {},
     "outputs": [
      {
       "output_type": "stream",
       "stream": "stdout",
       "text": [
        "Before:  ('WOS:000255437400005', 2)\n",
        "TF*IDF:  ('WOS:000255437400005', 0.76519570544854554)\n",
        "mytransformer:  ('WOS:000255437400005', 0.0025031289111389237)\n"
       ]
      }
     ],
     "prompt_number": 75
    },
    {
     "cell_type": "markdown",
     "metadata": {},
     "source": [
      "The ``mutual_information`` function in the ``features`` module generates a network based on the [pointwise mutual information](http://en.wikipedia.org/wiki/Pointwise_mutual_information) of each pair of features in a featureset.\n",
      "\n",
      "The first argument is a list of Papers, just like most other network-building functions. The second argument is the featureset that we wish to use. The third argument, ``indexed_by``, is the field used to index the Papers in the corpus. This is important, because it tells the function how to look up Papers in the featureset. Finally, the fourth argument (``percentile``) tells the function how selective to be in drawing edges: ``percentile=99`` means that only PMI scores in the 99th-or-greater percentile will result in a network edge."
     ]
    },
    {
     "cell_type": "code",
     "collapsed": false,
     "input": [
      "MI_graph = features.mutual_information(MyWoSCorpus.all_papers(), MyWoSCorpus.features['absTFIDF'], \n",
      "                                       indexed_by='wosid', percentile=99 )"
     ],
     "language": "python",
     "metadata": {},
     "outputs": [],
     "prompt_number": 77
    },
    {
     "cell_type": "markdown",
     "metadata": {},
     "source": [
      "Take a look at the ratio of nodes to edges to get a sense of how to tune the ``percentile`` parameter. If you have an extremely high number of edges for the number of nodes, then you should probably increase ``percentile`` to obtain a more legible network. Depending on your field, you may have some guidance from theory as well."
     ]
    },
    {
     "cell_type": "code",
     "collapsed": false,
     "input": [
      "print 'This graph has {0} nodes and {1} edges'.format(len(MI_graph.nodes()), len(MI_graph.edges()))"
     ],
     "language": "python",
     "metadata": {},
     "outputs": [
      {
       "output_type": "stream",
       "stream": "stdout",
       "text": [
        "This graph has 4257 nodes and 9935 edges\n"
       ]
      }
     ],
     "prompt_number": 78
    },
    {
     "cell_type": "markdown",
     "metadata": {},
     "source": [
      "Once again, we'll use the GraphML writer to generate a visualizable network file."
     ]
    },
    {
     "cell_type": "code",
     "collapsed": false,
     "input": [
      "from tethne.writers import graph"
     ],
     "language": "python",
     "metadata": {},
     "outputs": [],
     "prompt_number": 47
    },
    {
     "cell_type": "code",
     "collapsed": false,
     "input": [
      "mi_outpath = '/Users/erickpeirson/tethne-notebooks/output/mi_graph.graphml'"
     ],
     "language": "python",
     "metadata": {},
     "outputs": [],
     "prompt_number": 48
    },
    {
     "cell_type": "code",
     "collapsed": false,
     "input": [
      "graph.to_graphml(MI_graph, mi_outpath)"
     ],
     "language": "python",
     "metadata": {},
     "outputs": [],
     "prompt_number": 49
    },
    {
     "cell_type": "markdown",
     "metadata": {},
     "source": [
      "![](http://devo-evo.lab.asu.edu/methods/tethne/images/pmi_99.png)"
     ]
    }
   ],
   "metadata": {}
  }
 ]
}