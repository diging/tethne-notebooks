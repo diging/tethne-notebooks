{
 "cells": [
  {
   "cell_type": "code",
   "execution_count": 1,
   "metadata": {
    "collapsed": false
   },
   "outputs": [
    {
     "name": "stdout",
     "output_type": "stream",
     "text": [
      "Populating the interactive namespace from numpy and matplotlib\n"
     ]
    }
   ],
   "source": [
    "%pylab inline"
   ]
  },
  {
   "cell_type": "code",
   "execution_count": 2,
   "metadata": {
    "collapsed": true
   },
   "outputs": [],
   "source": [
    "import matplotlib.pyplot as plt"
   ]
  },
  {
   "cell_type": "markdown",
   "metadata": {},
   "source": [
    "# Introduction to Tethne: Words and Topic Modeling"
   ]
  },
  {
   "cell_type": "markdown",
   "metadata": {},
   "source": [
    "In this workbook we'll start working with word-based ``FeatureSet``s, and use the ``model.corpus.mallet`` module to  fit a [Latent Dirichlet Allocation](http://en.wikipedia.org/wiki/Latent_Dirichlet_allocation) (LDA) topic model."
   ]
  },
  {
   "cell_type": "markdown",
   "metadata": {},
   "source": [
    "## Before you start"
   ]
  },
  {
   "cell_type": "markdown",
   "metadata": {},
   "source": [
    "* Download the practice dataset from [here](http://devo-evo.lab.asu.edu/methods/tethne/datasets.zip), and store it in a place where you can find it. You'll need the full path to your dataset.\n"
   ]
  },
  {
   "cell_type": "markdown",
   "metadata": {},
   "source": [
    "## Loading JSTOR DfR datasets"
   ]
  },
  {
   "cell_type": "markdown",
   "metadata": {},
   "source": [
    "First, import the ``dfr`` module from ``tethne.readers``."
   ]
  },
  {
   "cell_type": "code",
   "execution_count": 3,
   "metadata": {
    "collapsed": false
   },
   "outputs": [],
   "source": [
    "from tethne.readers import dfr"
   ]
  },
  {
   "cell_type": "markdown",
   "metadata": {},
   "source": [
    "Unlike WoS datasets, DfR datasets can contain wordcounts, bigrams, trigrams, and quadgrams in addition to bibliographic data. ``read`` will automagically load those data as ``FeatureSet``s. "
   ]
  },
  {
   "cell_type": "code",
   "execution_count": 4,
   "metadata": {
    "collapsed": false
   },
   "outputs": [],
   "source": [
    "corpus = dfr.read('/Users/erickpeirson/Projects/tethne-notebooks/data/dfr')"
   ]
  },
  {
   "cell_type": "code",
   "execution_count": 5,
   "metadata": {
    "collapsed": false
   },
   "outputs": [
    {
     "name": "stdout",
     "output_type": "stream",
     "text": [
      "There are 241 papers in this corpus.\n"
     ]
    }
   ],
   "source": [
    "print 'There are %i papers in this corpus.' % len(corpus.papers)"
   ]
  },
  {
   "cell_type": "code",
   "execution_count": 6,
   "metadata": {
    "collapsed": false
   },
   "outputs": [
    {
     "name": "stdout",
     "output_type": "stream",
     "text": [
      "This corpus contains the following features: \n",
      "\tcitations\n",
      "\twordcounts\n",
      "\tauthors\n"
     ]
    }
   ],
   "source": [
    "print 'This corpus contains the following features: \\n\\t%s' % '\\n\\t'.join(corpus.features.keys())"
   ]
  },
  {
   "cell_type": "markdown",
   "metadata": {},
   "source": [
    "Whereas Corpora generated from WoS datasets are indexed by ``wosid``, Corpora generated from DfR datasets are indexed by ``doi``."
   ]
  },
  {
   "cell_type": "code",
   "execution_count": 7,
   "metadata": {
    "collapsed": false
   },
   "outputs": [
    {
     "data": {
      "text/plain": [
       "['10.2307/2418718',\n",
       " '10.2307/2258178',\n",
       " '10.2307/3241549',\n",
       " '10.2307/2416998',\n",
       " '10.2307/20000814',\n",
       " '10.2307/2428935',\n",
       " '10.2307/2418714',\n",
       " '10.2307/1729159',\n",
       " '10.2307/2407516',\n",
       " '10.2307/2816048']"
      ]
     },
     "execution_count": 7,
     "metadata": {},
     "output_type": "execute_result"
    }
   ],
   "source": [
    "corpus.indexed_papers.keys()[0:10]    # The first 10 dois in the Paper index."
   ]
  },
  {
   "cell_type": "markdown",
   "metadata": {},
   "source": [
    "So you can retrieve specific ``Paper``s from ``Corpus.papers`` using their DOIs:"
   ]
  },
  {
   "cell_type": "code",
   "execution_count": 8,
   "metadata": {
    "collapsed": false
   },
   "outputs": [
    {
     "data": {
      "text/plain": [
       "<tethne.classes.paper.Paper at 0x1075f42d0>"
      ]
     },
     "execution_count": 8,
     "metadata": {},
     "output_type": "execute_result"
    }
   ],
   "source": [
    "corpus['10.2307/2418718']"
   ]
  },
  {
   "cell_type": "markdown",
   "metadata": {},
   "source": [
    "## Working with featuresets"
   ]
  },
  {
   "cell_type": "markdown",
   "metadata": {},
   "source": [
    "``FeatureSet``s are stored in the ``features`` attribute of a ``Corpus`` object. ``Corpus.features`` is just a dict, so you can see which featuresets are available by calling its ``keys`` method."
   ]
  },
  {
   "cell_type": "code",
   "execution_count": 9,
   "metadata": {
    "collapsed": false
   },
   "outputs": [
    {
     "name": "stdout",
     "output_type": "stream",
     "text": [
      "This corpus contains the following featuresets: \n",
      "\tcitations\n",
      "\twordcounts\n",
      "\tauthors\n"
     ]
    }
   ],
   "source": [
    "print 'This corpus contains the following featuresets: \\n\\t{0}'.format(\n",
    "            '\\n\\t'.join(corpus.features.keys())    )"
   ]
  },
  {
   "cell_type": "markdown",
   "metadata": {},
   "source": [
    "It's not uncommon for featuresets to be incomplete; sometimes data won't be available for all of the Papers in the Corpus. An easy way to check the number of Papers for which data is available in a ``FeatureSet`` is to get the size (``len``) of the ``features`` attribute of the ``FeatureSet``. For example:"
   ]
  },
  {
   "cell_type": "code",
   "execution_count": 10,
   "metadata": {
    "collapsed": false
   },
   "outputs": [
    {
     "name": "stdout",
     "output_type": "stream",
     "text": [
      "There are 241 papers with unigram features in this corpus.\n"
     ]
    }
   ],
   "source": [
    "print 'There are %i papers with unigram features in this corpus.' % len(corpus.features['wordcounts'].features)"
   ]
  },
  {
   "cell_type": "markdown",
   "metadata": {},
   "source": [
    "To check the number of features in a featureset (e.g. the size of a vocabulary), look at the size of the ``index`` attribute."
   ]
  },
  {
   "cell_type": "code",
   "execution_count": 11,
   "metadata": {
    "collapsed": false
   },
   "outputs": [
    {
     "name": "stdout",
     "output_type": "stream",
     "text": [
      "There are 52207 words in the unigrams featureset\n"
     ]
    }
   ],
   "source": [
    "print 'There are %i words in the unigrams featureset' % len(corpus.features['wordcounts'].index)"
   ]
  },
  {
   "cell_type": "markdown",
   "metadata": {},
   "source": [
    "``index`` maps words to an integer representation. Here are the first ten words in the ``FeatureSet``:"
   ]
  },
  {
   "cell_type": "code",
   "execution_count": 12,
   "metadata": {
    "collapsed": false
   },
   "outputs": [
    {
     "data": {
      "text/plain": [
       "[(0, 'dynamic'),\n",
       " (1, 'relationships'),\n",
       " (2, 'calculate'),\n",
       " (3, 'physiological'),\n",
       " (4, 'segments'),\n",
       " (5, 'under'),\n",
       " (6, 'emlen'),\n",
       " (7, 'worth'),\n",
       " (8, 'experimentally'),\n",
       " (9, 'alpine')]"
      ]
     },
     "execution_count": 12,
     "metadata": {},
     "output_type": "execute_result"
    }
   ],
   "source": [
    "corpus.features['wordcounts'].index.items()[0:10]"
   ]
  },
  {
   "cell_type": "markdown",
   "metadata": {},
   "source": [
    "### Applying a stoplist"
   ]
  },
  {
   "cell_type": "markdown",
   "metadata": {},
   "source": [
    "In many cases you may wish to apply a stoplist (a list of features to exclude from analysis) to a featureset. In our DfR dataset, the most common words are prepositions and other terms that don't really have anything to do with the topical content of the corpus."
   ]
  },
  {
   "cell_type": "code",
   "execution_count": 13,
   "metadata": {
    "collapsed": false
   },
   "outputs": [
    {
     "data": {
      "text/plain": [
       "[('the', 74619.0),\n",
       " ('of', 67372.0),\n",
       " ('and', 42712.0),\n",
       " ('in', 36453.0),\n",
       " ('a', 22590.0)]"
      ]
     },
     "execution_count": 13,
     "metadata": {},
     "output_type": "execute_result"
    }
   ],
   "source": [
    "corpus.features['wordcounts'].top(5)    # The top 5 words in the FeatureSet."
   ]
  },
  {
   "cell_type": "markdown",
   "metadata": {},
   "source": [
    "You may apply any stoplist you like to a featureset. In this example, we import the [Natural Language ToolKit (NLTK)](http://www.nltk.org/) stopwords corpus."
   ]
  },
  {
   "cell_type": "code",
   "execution_count": 3,
   "metadata": {
    "collapsed": false
   },
   "outputs": [],
   "source": [
    "from nltk.corpus import stopwords\n",
    "stoplist = stopwords.words()"
   ]
  },
  {
   "cell_type": "markdown",
   "metadata": {},
   "source": [
    "We then create a function that will evaluate whether or not a word is in our stoplist. The function should take three arguments:\n",
    "\n",
    "* ``f`` -- the feature itself (the word)\n",
    "* ``v`` -- the number of instances of that feature in a specific document\n",
    "* ``c`` -- the number of instances of that feature in the whole FeatureSet\n",
    "* ``dc`` -- the number of documents that contain that feature\n",
    "\n",
    "This function will be applied to each word in each document. If it returns ``0`` or ``None``, the word will be excluded. Otherwise, it should return a numeric value (in this case, the count for that document).\n",
    "\n",
    "In addition to applying the stoplist, we'll also exclude any word that occurs in more than 50 of the documents and less than 3 documents."
   ]
  },
  {
   "cell_type": "code",
   "execution_count": 17,
   "metadata": {
    "collapsed": true
   },
   "outputs": [],
   "source": [
    "def apply_stoplist(f, v, c, dc):\n",
    "    if f in stoplist or dc > 50 or dc < 3:\n",
    "        return 0\n",
    "    return v"
   ]
  },
  {
   "cell_type": "markdown",
   "metadata": {},
   "source": [
    "We apply the stoplist using the ``transform()`` method. ``FeatureSet``s are not modified in place; instead, a new ``FeatureSet`` is generated that reflects the specified changes. We'll call the new ``FeatureSet`` ``'wordcounts_filtered'``."
   ]
  },
  {
   "cell_type": "code",
   "execution_count": 18,
   "metadata": {
    "collapsed": false
   },
   "outputs": [],
   "source": [
    "corpus.features['wordcounts_filtered'] = corpus.features['wordcounts'].transform(apply_stoplist)"
   ]
  },
  {
   "cell_type": "code",
   "execution_count": 19,
   "metadata": {
    "collapsed": false
   },
   "outputs": [
    {
     "name": "stdout",
     "output_type": "stream",
     "text": [
      "There are 12204 words in the wordcounts_filtered FeatureSet\n"
     ]
    }
   ],
   "source": [
    "print 'There are %i words in the wordcounts_filtered FeatureSet' % len(corpus.features['wordcounts_filtered'].index)"
   ]
  },
  {
   "cell_type": "markdown",
   "metadata": {},
   "source": [
    "## Topic modeling with featuresets"
   ]
  },
  {
   "cell_type": "markdown",
   "metadata": {},
   "source": [
    "[Latent Dirichlet Allocation](http://en.wikipedia.org/wiki/Latent_Dirichlet_allocation) is a popular approach to discovering latent \"topics\" in large corpora. Many digital humanists use a software package called [MALLET](http://mallet.cs.umass.edu/) to fit LDA to text data. Tethne uses MALLET to fit LDA topic models.\n",
    "\n",
    "Start by importing the ``mallet`` module from the ``tethne.model.corpus`` subpackage."
   ]
  },
  {
   "cell_type": "code",
   "execution_count": 4,
   "metadata": {
    "collapsed": false
   },
   "outputs": [],
   "source": [
    "from tethne.model.corpus import mallet"
   ]
  },
  {
   "cell_type": "markdown",
   "metadata": {},
   "source": [
    "Now we'll create a new ``LDAModel`` for our ``Corpus``. The ``featureset_name`` parameter tells the ``LDAModel`` which ``FeatureSet`` we want to use. We'll use our filtered wordcounts."
   ]
  },
  {
   "cell_type": "code",
   "execution_count": 21,
   "metadata": {
    "collapsed": false
   },
   "outputs": [],
   "source": [
    "model = mallet.LDAModel(corpus, featureset_name='wordcounts_filtered')"
   ]
  },
  {
   "cell_type": "markdown",
   "metadata": {},
   "source": [
    "Next we'll fit the model. We need to tell MALLET how many topics to fit (the hyperparameter ``Z``), and how many iterations (``max_iter``) to perform. This step may take a little while, depending on the size of your corpus."
   ]
  },
  {
   "cell_type": "code",
   "execution_count": 47,
   "metadata": {
    "collapsed": true
   },
   "outputs": [],
   "source": [
    "model.fit(Z=50, max_iter=500)"
   ]
  },
  {
   "cell_type": "markdown",
   "metadata": {},
   "source": [
    "You can inspect the inferred topics using the model's ``print_topics()`` method. By default, this will print the top ten words for each topic."
   ]
  },
  {
   "cell_type": "code",
   "execution_count": 48,
   "metadata": {
    "collapsed": false
   },
   "outputs": [
    {
     "name": "stdout",
     "output_type": "stream",
     "text": [
      "Topic\tTop 10 words\n",
      "0  \tchromosomes tetraploid sterile diploid race triploid caespitosa vigorous african pairing\n",
      "1  \tspruce tn black columbia cd dormancy provenances elevation picea boreal\n",
      "2  \tpine scandinavia norway external november altitudes statement dass sweden fur\n",
      "3  \tislands seq island fen isles woodland limestone fern spores floras\n",
      "4  \tfundamental brought genetical real led simply idea purely generation put\n",
      "5  \tterrestrial aquatic width blade heterophylly hidden inflorescences horse flexibility petiole\n",
      "6  \ttypha latifolia domingensis shoot shoots chlorophyll night productivity photoperiod angustifolia\n",
      "7  \tdrought gunnera km mm borealis locality moisture san wet eucalyptus\n",
      "8  \tpublic program social programs policy aaas education scientists conservation professional\n",
      "9  \tecotype turesson cultivated hereditary hiesey ecospecies clausen gregor plantago subspecies\n",
      "10 \tillustrations volumes editors written copies edited editor contributors price pages\n",
      "11 \tnitrogen metabolism fixation fungi mycorrhizal uptake ultrastructure carbon ustilago mycorrhizas\n",
      "12 \tsubsp rotundifolia district tetraploids campanula tetraploid mts purpureum mm diploids\n",
      "13 \tgradient pine elevation gradients moisture quercus climax whittaker dominant associations\n",
      "14 \tmodels fitness effort strategy strategies mortality mathematical adaptations model spatial\n",
      "15 \tpollination inbreeding graminea floral selfing insect insects outbreeding road wind\n",
      "16 \tfacts dealing definition taxonomist places difficulties floras taxonomists definitions refer\n",
      "17 \tsession meeting joint union program dept pm social aibs william\n",
      "18 \tteaching professor experience school sciences curriculum opportunity employer send massachusetts\n",
      "19 \therbarium zealand mm leaflets stems cultures compound rosa varieties sepals\n",
      "20 \ttoday behavior unique developments numerical outstanding aspect proceedings concern precise\n",
      "21 \tservice electron circle medical write nuclear box applications card april\n",
      "22 \tcommittee organization ecologists article training council biosystematics journals meeting descriptive\n",
      "23 \ttillers ns greenland vernalization quadrats island alpinum inflorescence georgia tiller\n",
      "24 \tgreenhouse dormancy alpestre photoperiod hr germinated performance elevations bow medicine\n",
      "25 \tclones transplant clone clonal phenological colorado transplanted flowered texas crown\n",
      "26 \tstands forests elevations ft shrub mesic heath slopes herb stems\n",
      "27 \tillus pages edited chemistry edition physics eds nov jan july\n",
      "28 \tmontane vulgaris berkeley sierran inland prunella race californian mortality cascade\n",
      "29 \tjour jan nov feb oct mar dec dee canad rio\n",
      "30 \twarm cool acclimation respiration dark photosynthetic regime net thermal photosynthesis\n",
      "31 \troom michigan indiana hall building illinois bldg cornell md texas\n",
      "32 \tagrostis festuca tenuis lolium perenne jenkin crosses stolonifera cent pasture\n",
      "33 \tefficiency model resistance calculated convection transpiration variables stomatal air optimal\n",
      "34 \tdesert poa prairie woody subtropical communis sp class phragmites vascular\n",
      "35 \tdisruptive mating divergence subspecies drosophila ssp heredity polymorphism thoday migration\n",
      "36 \tmarsh salt graminea marshes sandy alterniflora sagittaria puccinellia aquatic tall\n",
      "37 \tabundant striking fairly bearing majority failure difficulty typical modified employed\n",
      "38 \tchapters chapter devoted discipline reviewed elementary edition autecology textbook palynology\n",
      "39 \tlawn prostrate erect plantago cn lawns wt poa ns bowling\n",
      "40 \tdarwin cultivated harrison domestic genes crossing varieties inheritance induced domestication\n",
      "41 \tcape snow december january net antarctic biomass moss photosynthesis air\n",
      "42 \twilliam dept david richard george james charles bs ms thomas\n",
      "43 \tecosystem rain productivity ecosystems forests ecologists nutrient succession tropics management\n",
      "44 \tcomponent error sampled estimated expression correlations location trend reflect achieved\n",
      "45 \tplots park ca odoratum contrasting calcareous trial calcium trials anthoxanthum\n",
      "46 \tmr nepal wheat professor barley pakistan accessions wind fertile productivity\n",
      "47 \tarctic relict glacial relicts lakes century botanists stable ice fauna\n",
      "48 \tflushing chilling bud frost burst regression traits variables oregon provenance\n",
      "49 \tspeciation biosystematic stebbins publ biosystematics polyploids chromosomal barriers formal polyploidy\n"
     ]
    }
   ],
   "source": [
    "model.print_topics()"
   ]
  },
  {
   "cell_type": "markdown",
   "metadata": {},
   "source": [
    "We can also look at the representation of a topic over time using the ``topic_over_time()`` method. In the example below we'll print the first five of the topics on the same plot."
   ]
  },
  {
   "cell_type": "code",
   "execution_count": 49,
   "metadata": {
    "collapsed": false
   },
   "outputs": [
    {
     "data": {
      "image/png": "[encoded data removed]",
      "text/plain": [
       "<matplotlib.figure.Figure at 0x10f79ad10>"
      ]
     },
     "metadata": {},
     "output_type": "display_data"
    }
   ],
   "source": [
    "plt.figure(figsize=(15, 5))\n",
    "for k in xrange(5):\n",
    "    x, y = model.topic_over_time(k)\n",
    "    plt.plot(x, y, label='topic {0}'.format(k), lw=2, alpha=0.7)\n",
    "plt.legend(loc='best')\n",
    "plt.show()    "
   ]
  },
  {
   "cell_type": "markdown",
   "metadata": {},
   "source": [
    "## Generating networks from topic models"
   ]
  },
  {
   "cell_type": "markdown",
   "metadata": {},
   "source": [
    "The ``features`` module in the ``tethne.networks`` subpackage contains some useful methods for visualizing topic models as networks. You can import it just like the ``authors`` or ``papers`` modules."
   ]
  },
  {
   "cell_type": "code",
   "execution_count": 5,
   "metadata": {
    "collapsed": false
   },
   "outputs": [],
   "source": [
    "from tethne.networks import topics"
   ]
  },
  {
   "cell_type": "code",
   "execution_count": 51,
   "metadata": {
    "collapsed": false
   },
   "outputs": [],
   "source": [
    "termGraph = topics.terms(model, threshold=0.01)"
   ]
  },
  {
   "cell_type": "code",
   "execution_count": 66,
   "metadata": {
    "collapsed": false
   },
   "outputs": [],
   "source": [
    "termGraph.name = ''"
   ]
  },
  {
   "cell_type": "markdown",
   "metadata": {},
   "source": [
    "The ``topic_coupling`` function generates a network of words connected on the basis of shared affinity with a topic. If two words *i* and *j* are both associated with a topic *z* with $\\Phi(i|z) >= 0.01$ and $\\Phi(j|z) >= 0.01$, then an edge is drawn between them. "
   ]
  },
  {
   "cell_type": "markdown",
   "metadata": {},
   "source": [
    "The resulting graph will be smaller or larger depending on the value that you choose for ``threshold``. You may wish to increase or decrease ``threshold`` to achieve something interpretable."
   ]
  },
  {
   "cell_type": "code",
   "execution_count": 67,
   "metadata": {
    "collapsed": false
   },
   "outputs": [
    {
     "name": "stdout",
     "output_type": "stream",
     "text": [
      "There are 471 nodes and 3155 edges in this graph.\n"
     ]
    }
   ],
   "source": [
    "print 'There are {0} nodes and {1} edges in this graph.'.format(\n",
    "            len(termGraph.nodes()), len(termGraph.edges()))"
   ]
  },
  {
   "cell_type": "markdown",
   "metadata": {},
   "source": [
    "The resulting ``Graph`` can be written to ``GraphML`` just like any other ``Graph``."
   ]
  },
  {
   "cell_type": "code",
   "execution_count": 37,
   "metadata": {
    "collapsed": false
   },
   "outputs": [],
   "source": [
    "from tethne.writers import graph"
   ]
  },
  {
   "cell_type": "code",
   "execution_count": 69,
   "metadata": {
    "collapsed": false
   },
   "outputs": [],
   "source": [
    "graphpath = '/Users/erickpeirson/Projects/tethne-notebooks/output/lda.graphml'\n",
    "graph.write_graphml(termGraph, graphpath)"
   ]
  },
  {
   "cell_type": "markdown",
   "metadata": {},
   "source": [
    "The network visualization below was generated in ``Cytoscape``. Edge width is a function of the ``'weight'`` attribute. Edge color is based on the ``'topics'`` attribute, to give some sense of how which clusters of terms belong to which topics. We can see right away that terms like ``plants``, ``populations``, ``species``, and ``selection`` are all very central to the topics retrieved by this model."
   ]
  },
  {
   "cell_type": "markdown",
   "metadata": {},
   "source": [
    "![](images/lda2.png)"
   ]
  },
  {
   "cell_type": "markdown",
   "metadata": {},
   "source": [
    "## WoS abstracts"
   ]
  },
  {
   "cell_type": "markdown",
   "metadata": {},
   "source": [
    "JSTOR DfR is not the only source of wordcounts with which we perform topic modeling. For records more recent than about 1990, the Web of Science includes abstracts in their bibliographic records.\n",
    "\n",
    "Let's first spin up our WoS dataset."
   ]
  },
  {
   "cell_type": "code",
   "execution_count": 6,
   "metadata": {
    "collapsed": false
   },
   "outputs": [],
   "source": [
    "from tethne.readers import wos\n",
    "wosCorpus = wos.read('/Users/erickpeirson/Projects/tethne-notebooks/data/wos')"
   ]
  },
  {
   "cell_type": "markdown",
   "metadata": {},
   "source": [
    "Here's what one of the abstracts looks like:"
   ]
  },
  {
   "cell_type": "code",
   "execution_count": 7,
   "metadata": {
    "collapsed": false
   },
   "outputs": [
    {
     "data": {
      "text/plain": [
       "u'Demographic models are powerful tools for making predictions about the relative importance of transitions from one life stage (e. g., seeds) to another (e. g., nonreproductives); however, they have never been used to compare the relative performance of invasive and noninvasive taxa. I use demographic models parameterized from common garden experiments to develop hypotheses about the role of different life stage transitions in determining differences in performance in invasive and noninvasive congeners in the Commelinaceae. I also extended nested life table response experiment (LTRE) analyses to accommodate interactions between nested and unnested factors. Invasive species outperformed their noninvasive congeners, especially under high-nutrient conditions. This difference in performance did not appear to be due to differences in elasticities of vital rates, but rather to differences in the magnitude of stage transitions. Self-compatible invasive species had greater fecundity in high-nutrient environments and a shorter time to first reproduction, and all invasive species had greater vegetative reproduction than their noninvasive congeners. Thus greater opportunism in sexual and asexual reproduction explained the greater performance of invasive species under high-nutrient conditions. Similar common garden experiments could become a useful tool to predict potential invaders from pools of potential introductions. I show that short-term and controlled experiments considering multiple nutrient environments may accurately predict invasiveness of nonnative plant species. C1 Washington Univ, Tyson Res Ctr, Dept Biol, St Louis, MO 63130 USA.'"
      ]
     },
     "execution_count": 7,
     "metadata": {},
     "output_type": "execute_result"
    }
   ],
   "source": [
    "wosCorpus[0].abstract"
   ]
  },
  {
   "cell_type": "markdown",
   "metadata": {},
   "source": [
    "The ``abstract_to_features`` method converts all of the available abstracts in our ``Corpus`` to a unigram featureset. It takes no arguments. The abstracts will be diced up into their constituent words, punctuation and capitalization is removed, and a featureset called ``abstractTerms`` is generated. By default, ``abstract_to_features`` will apply the NLTK stoplist and Porter stemmer."
   ]
  },
  {
   "cell_type": "code",
   "execution_count": 8,
   "metadata": {
    "collapsed": false
   },
   "outputs": [],
   "source": [
    "from tethne import tokenize\n",
    "wosCorpus.index_feature('abstract', tokenize=tokenize, structured=True)"
   ]
  },
  {
   "cell_type": "markdown",
   "metadata": {},
   "source": [
    "Sure enough, here's our ``'abstract'`` featureset:"
   ]
  },
  {
   "cell_type": "code",
   "execution_count": 9,
   "metadata": {
    "collapsed": false
   },
   "outputs": [
    {
     "data": {
      "text/plain": [
       "['abstract', 'citations', 'authors']"
      ]
     },
     "execution_count": 9,
     "metadata": {},
     "output_type": "execute_result"
    }
   ],
   "source": [
    "wosCorpus.features.keys()"
   ]
  },
  {
   "cell_type": "markdown",
   "metadata": {},
   "source": [
    "Since we're not working from OCR texts (that's where JSTOR DfR data comes from), there are far fewer \"junk\" words. We end up with a much smaller vocabulary."
   ]
  },
  {
   "cell_type": "code",
   "execution_count": 10,
   "metadata": {
    "collapsed": false
   },
   "outputs": [
    {
     "name": "stdout",
     "output_type": "stream",
     "text": [
      "There are 23732 features in the abstract featureset.\n"
     ]
    }
   ],
   "source": [
    "print 'There are {0} features in the abstract featureset.'.format(len(wosCorpus.features['abstract'].index))"
   ]
  },
  {
   "cell_type": "markdown",
   "metadata": {},
   "source": [
    "But since not all of our WoS records come from >= 1990, there are a handful for which there are no abstract terms."
   ]
  },
  {
   "cell_type": "code",
   "execution_count": 11,
   "metadata": {
    "collapsed": false
   },
   "outputs": [
    {
     "name": "stdout",
     "output_type": "stream",
     "text": [
      "Only 1778 of 1859 papers have abstracts, however.\n"
     ]
    }
   ],
   "source": [
    "print 'Only {0} of {1} papers have abstracts, however.'.format(len(wosCorpus.features['abstract'].features), len(wosCorpus.papers))"
   ]
  },
  {
   "cell_type": "code",
   "execution_count": 12,
   "metadata": {
    "collapsed": false
   },
   "outputs": [],
   "source": [
    "filter = lambda f, v, c, dc: f not in stoplist and 2 < dc < 400\n",
    "wosCorpus.features['abstract_filtered'] = wosCorpus.features['abstract'].transform(filter)"
   ]
  },
  {
   "cell_type": "code",
   "execution_count": 13,
   "metadata": {
    "collapsed": false
   },
   "outputs": [
    {
     "name": "stdout",
     "output_type": "stream",
     "text": [
      "There are 23732 features in the abstract_filtered featureset.\n"
     ]
    }
   ],
   "source": [
    "print 'There are {0} features in the abstract_filtered featureset.'.format(len(wosCorpus.features['abstract_filtered'].index))"
   ]
  },
  {
   "cell_type": "code",
   "execution_count": 14,
   "metadata": {
    "collapsed": false
   },
   "outputs": [
    {
     "data": {
      "text/plain": [
       "tethne.classes.feature.StructuredFeatureSet"
      ]
     },
     "execution_count": 14,
     "metadata": {},
     "output_type": "execute_result"
    }
   ],
   "source": [
    "type(wosCorpus.features['abstract_filtered'])"
   ]
  },
  {
   "cell_type": "markdown",
   "metadata": {},
   "source": [
    "The ``'abstract'`` featureset is similar to the ``'unigrams'`` featureset from the JSTOR DfR dataset, so we can perform topic modeling with it, too."
   ]
  },
  {
   "cell_type": "code",
   "execution_count": 15,
   "metadata": {
    "collapsed": false
   },
   "outputs": [],
   "source": [
    "wosModel = mallet.LDAModel(wosCorpus, featureset_name='abstract_filtered')"
   ]
  },
  {
   "cell_type": "code",
   "execution_count": 18,
   "metadata": {
    "collapsed": false
   },
   "outputs": [],
   "source": [
    "wosModel.fit(Z=50, max_iter=500)"
   ]
  },
  {
   "cell_type": "code",
   "execution_count": 19,
   "metadata": {
    "collapsed": false
   },
   "outputs": [
    {
     "name": "stdout",
     "output_type": "stream",
     "text": [
      "Topic\tTop 10 words\n",
      "0  \ttraits selection variation genetic trait\n",
      "1  \tspecies garden common areas distribution\n",
      "2  \tusa univ ca dept calif\n",
      "3  \tforest canada pine red bc\n",
      "4  \timportant fungal found dept disease\n",
      "5  \tgene garden flow spatial distance\n",
      "6  \tlarvae food larval predation common\n",
      "7  \tseedlings trees height survival high\n",
      "8  \tlife time development history age\n",
      "9  \tvariation differences morphological significant observed\n",
      "10 \tuniv sci dept ctr res\n",
      "11 \tseed seeds germination source seedling\n",
      "12 \tchina sci mexico univ lab\n",
      "13 \tindividuals garden univ dept common\n",
      "14 \tsize body mass larger populations\n",
      "15 \tlight ecotypes canopy ciencias high\n",
      "16 \tgenotypes genetic variation community usa\n",
      "17 \tenvironmental conditions studies results factors\n",
      "18 \teffects effect plant interactions interaction\n",
      "19 \tfrance umr observed expression genes\n",
      "20 \twater drought lower dry higher\n",
      "21 \tinst univ switzerland dept biol\n",
      "22 \treproductive females reproduction sexual males\n",
      "23 \tplasticity phenotypic divergence populations differences\n",
      "24 \tlevels clones higher study significant\n",
      "25 \tleaf area leaves correlated photosynthetic\n",
      "26 \troot elsevier reserved rights low\n",
      "27 \tincreased conditions response responses change\n",
      "28 \tusa univ dept biol state\n",
      "29 \tplants plant flowering competition production\n",
      "30 \tnative invasive range introduced plants\n",
      "31 \therbivores resistance plant plants damage\n",
      "32 \tseason phenology spring cold growing\n",
      "33 \twild fish survival reaction salmon\n",
      "34 \ttemperature degrees northern southern temperatures\n",
      "35 \tgrowth rate rates higher differences\n",
      "36 \tlocal adaptation habitats habitat environments\n",
      "37 \tgeographic variation data variables region\n",
      "38 \tuniv ecol plant dept management\n",
      "39 \tpatterns pattern consistent tests group\n",
      "40 \taustralia univ sci sch biol\n",
      "41 \tpopulations population genetic differentiation diversity\n",
      "42 \tfitness hybrid hybrids offspring maternal\n",
      "43 \tsoil litter nutrient decomposition quality\n",
      "44 \tmetabolic birds physiological differences studies\n",
      "45 \tgenetic analysis variation markers molecular\n",
      "46 \tsites site field common garden\n",
      "47 \tforest species tree soil stands\n",
      "48 \thigh experiments low study due\n",
      "49 \ttolerance dept biol stress usa\n"
     ]
    }
   ],
   "source": [
    "wosModel.print_topics(Nwords=5)"
   ]
  },
  {
   "cell_type": "markdown",
   "metadata": {},
   "source": [
    "``topics.cotopics()`` creates a network of topics, linked by virtue of their co-occurrence in documents. Use the ``threshold`` parameter to tune the density of the graph."
   ]
  },
  {
   "cell_type": "code",
   "execution_count": 39,
   "metadata": {
    "collapsed": false
   },
   "outputs": [],
   "source": [
    "coTopicGraph = topics.cotopics(wosModel, threshold=0.15)"
   ]
  },
  {
   "cell_type": "code",
   "execution_count": 44,
   "metadata": {
    "collapsed": false
   },
   "outputs": [
    {
     "name": "stdout",
     "output_type": "stream",
     "text": [
      "45 nodes and 95 edges\n"
     ]
    }
   ],
   "source": [
    "print '%i nodes and %i edges' % (coTopicGraph.order(), coTopicGraph.size())"
   ]
  },
  {
   "cell_type": "code",
   "execution_count": 41,
   "metadata": {
    "collapsed": true
   },
   "outputs": [],
   "source": [
    "graph.write_graphml(coTopicGraph, '/Users/erickpeirson/Projects/tethne-notebooks/output/lda_coTopics.graphml')"
   ]
  },
  {
   "cell_type": "markdown",
   "metadata": {},
   "source": [
    "![](images/lda_coTopics.png)"
   ]
  },
  {
   "cell_type": "markdown",
   "metadata": {},
   "source": [
    "``topics.topicCoupling()`` creates a network of documents, linked by virtue of containing shared topics. Again, use the ``threshold`` parameter to tune the density of the graph."
   ]
  },
  {
   "cell_type": "code",
   "execution_count": 50,
   "metadata": {
    "collapsed": true
   },
   "outputs": [],
   "source": [
    "topicCoupling = topics.topic_coupling(wosModel, threshold=0.2)"
   ]
  },
  {
   "cell_type": "code",
   "execution_count": 51,
   "metadata": {
    "collapsed": false
   },
   "outputs": [
    {
     "name": "stdout",
     "output_type": "stream",
     "text": [
      "716 nodes and 7685 edges\n"
     ]
    }
   ],
   "source": [
    "print '%i nodes and %i edges' % (topicCoupling.order(), topicCoupling.size())"
   ]
  },
  {
   "cell_type": "code",
   "execution_count": 52,
   "metadata": {
    "collapsed": true
   },
   "outputs": [],
   "source": [
    "graph.write_graphml(topicCoupling, '/Users/erickpeirson/Projects/tethne-notebooks/output/lda_topicCoupling.graphml')"
   ]
  },
  {
   "cell_type": "markdown",
   "metadata": {},
   "source": [
    "![](images/lda_topicCoupling.png)"
   ]
  },
  {
   "cell_type": "code",
   "execution_count": null,
   "metadata": {
    "collapsed": true
   },
   "outputs": [],
   "source": []
  }
 ],
 "metadata": {
  "kernelspec": {
   "display_name": "Python 2",
   "language": "python",
   "name": "python2"
  },
  "language_info": {
   "codemirror_mode": {
    "name": "ipython",
    "version": 2
   },
   "file_extension": ".py",
   "mimetype": "text/x-python",
   "name": "python",
   "nbconvert_exporter": "python",
   "pygments_lexer": "ipython2",
   "version": "2.7.9"
  }
 },
 "nbformat": 4,
 "nbformat_minor": 0
}
