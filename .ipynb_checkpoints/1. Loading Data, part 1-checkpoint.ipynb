{
 "cells": [
  {
   "cell_type": "code",
   "execution_count": 1,
   "metadata": {
    "collapsed": true
   },
   "outputs": [],
   "source": [
    "%matplotlib inline"
   ]
  },
  {
   "cell_type": "code",
   "execution_count": 2,
   "metadata": {
    "collapsed": false
   },
   "outputs": [],
   "source": [
    "from pprint import pprint\n",
    "import matplotlib.pyplot as plt"
   ]
  },
  {
   "cell_type": "markdown",
   "metadata": {},
   "source": [
    "# Introduction to Tethne: Loading Data, part 1"
   ]
  },
  {
   "cell_type": "markdown",
   "metadata": {},
   "source": [
    "In this section we will use the ``tethne.readers.wos`` module to load up some data from the ISI Web of Science. We'll introduce the ``Paper`` and ``Corpus`` classes, and explore some basic aspects of their structure."
   ]
  },
  {
   "cell_type": "markdown",
   "metadata": {},
   "source": [
    "## Using this notebook"
   ]
  },
  {
   "cell_type": "markdown",
   "metadata": {},
   "source": [
    "This is an interative Python notebook. Most of the content is just marked-down text, like this paragraph, that provides expository on some aspect of the Tethne package. Some of the cells are \"code\" cells, which look like this:"
   ]
  },
  {
   "cell_type": "code",
   "execution_count": 3,
   "metadata": {
    "collapsed": false
   },
   "outputs": [
    {
     "name": "stdout",
     "output_type": "stream",
     "text": [
      "This is a code cell!\n"
     ]
    }
   ],
   "source": [
    "print \"This is a code cell!\""
   ]
  },
  {
   "cell_type": "markdown",
   "metadata": {},
   "source": [
    "You can execute the code in a code cell by clicking on it and pressing Shift-Enter on your keyboard, or by clicking the right-arrow \"Run\" button in the toolbar at the top of the page. The cell below will automatically be selected, so you can run many cells in quick succession by repeatedly pressing Shift-Enter (or the \"Run\" button). It's a good idea to run all of the code cells in order, from the top of the tutorial, since many commands later in the tutorial will depend on earlier ones."
   ]
  },
  {
   "cell_type": "markdown",
   "metadata": {},
   "source": [
    "## Before you start"
   ]
  },
  {
   "cell_type": "markdown",
   "metadata": {},
   "source": [
    "* Download the Web of Science practice dataset from [here](http://devo-evo.lab.asu.edu/methods/tethne/datasets.zip), and store it in a place where you can find it. You'll need the full path to your dataset."
   ]
  },
  {
   "cell_type": "markdown",
   "metadata": {},
   "source": [
    "## Importing a ``reader`` module"
   ]
  },
  {
   "cell_type": "markdown",
   "metadata": {},
   "source": [
    "The modules in the ``tethne.readers`` subpackage allow you to read data from a few different databases. The readers for Web of Science and JSTOR DfR datasets are the most rigorously tested, but there is also a reader for Scopus, and one for DSpace (limited use-cases).\n",
    "\n",
    "| Database                | module                    | \n",
    "| ----------------------- |---------------------------|\n",
    "| Web of Science          | ``tethne.readers.wos``    |\n",
    "| JSTOR Data-for-Research | ``tethne.readers.dfr``    |\n",
    "| Scopus                  | ``tethne.readers.scopus`` |\n",
    "| DSpace (experimental)   | ``tethne.readers.dspace`` |"
   ]
  },
  {
   "cell_type": "markdown",
   "metadata": {},
   "source": [
    "You can load the ``tethne.readers.wos`` module by importing it from the ``tethne.readers`` subpackage:"
   ]
  },
  {
   "cell_type": "code",
   "execution_count": 4,
   "metadata": {
    "collapsed": false
   },
   "outputs": [],
   "source": [
    "from tethne.readers import wos"
   ]
  },
  {
   "cell_type": "markdown",
   "metadata": {},
   "source": [
    "You can import other reader modules the same way. To load the JSTOR DfR reader module, you would do:"
   ]
  },
  {
   "cell_type": "code",
   "execution_count": 5,
   "metadata": {
    "collapsed": false
   },
   "outputs": [],
   "source": [
    "from tethne.readers import dfr"
   ]
  },
  {
   "cell_type": "markdown",
   "metadata": {},
   "source": [
    "## Using the ``read`` function"
   ]
  },
  {
   "cell_type": "markdown",
   "metadata": {},
   "source": [
    "The simplest way to load data from a bibliographic dataset is to use the **``read``** method. Each module in the ``tethne.readers`` subpackage should have a ``read`` method. In fact, there should be identically-named versions of all of the common methods in each reader module."
   ]
  },
  {
   "cell_type": "markdown",
   "metadata": {},
   "source": [
    "**``read``** can parse a single data file, and returns a ``Corpus`` object. First I'll create a ``str`` object that holds the path to one of my data files, and then I'll pass that as an argument to ``read``."
   ]
  },
  {
   "cell_type": "code",
   "execution_count": 6,
   "metadata": {
    "collapsed": false
   },
   "outputs": [],
   "source": [
    "# datapath should contain the path to one of your WoS data files.\n",
    "datapath = '/Users/erickpeirson/Downloads/datasets/wos/genecol* OR common garden 1-500.txt'\n",
    "corpus = wos.read(datapath)"
   ]
  },
  {
   "cell_type": "markdown",
   "metadata": {},
   "source": [
    "## Reading more than one data file at a time\n",
    "\n",
    "Often you'll be working with datasets comprised of multiple data files. The Web of Science database only allows you to download 500 records at a time (because they're dirty capitalists). You can use the **``read``** function to load a list of ``Paper``s from a directory containing multiple data files.\n",
    "\n",
    "First I'll create a ``str`` object containing the path to my data directory, and then I'll load those data using **``wos.read``**. The ``read`` function knows that your path is a directory and not a data file; it looks inside of that directory for WoS data files."
   ]
  },
  {
   "cell_type": "code",
   "execution_count": 7,
   "metadata": {
    "collapsed": true
   },
   "outputs": [],
   "source": [
    "datadirpath = '/Users/erickpeirson/Downloads/datasets/wos'\n",
    "corpus = wos.read(datadirpath)"
   ]
  },
  {
   "cell_type": "markdown",
   "metadata": {},
   "source": [
    "## ``Corpus`` objects"
   ]
  },
  {
   "cell_type": "markdown",
   "metadata": {},
   "source": [
    "A ``Corpus`` is a collection of ``Paper``s with superpowers. Most importantly, it provides a consistent way of indexing bibliographic records. Indexing is important, because it sets the stage for all of the subsequent analyses that we may wish to do with our bibliographic data."
   ]
  },
  {
   "cell_type": "code",
   "execution_count": 8,
   "metadata": {
    "collapsed": false
   },
   "outputs": [
    {
     "data": {
      "text/plain": [
       "(tethne.classes.corpus.Corpus, 1859)"
      ]
     },
     "execution_count": 8,
     "metadata": {},
     "output_type": "execute_result"
    }
   ],
   "source": [
    "type(corpus), len(corpus)"
   ]
  },
  {
   "cell_type": "markdown",
   "metadata": {},
   "source": [
    "A ``Corpus`` behaves like a list of ``Paper``s."
   ]
  },
  {
   "cell_type": "code",
   "execution_count": 9,
   "metadata": {
    "collapsed": false
   },
   "outputs": [
    {
     "name": "stdout",
     "output_type": "stream",
     "text": [
      "There are 1859 Papers in my Corpus\n",
      "The first Paper in my Corpus is <tethne.classes.paper.Paper object at 0x111c6aed0>\n",
      "The last Paper in my Corpus is <tethne.classes.paper.Paper object at 0x10ccb4a10>\n"
     ]
    }
   ],
   "source": [
    "print 'There are %i Papers in my Corpus' % len(corpus)\n",
    "print 'The first Paper in my Corpus is %s' % corpus[0]\n",
    "print 'The last Paper in my Corpus is %s' % corpus[-1]"
   ]
  },
  {
   "cell_type": "markdown",
   "metadata": {},
   "source": [
    "Each ``Paper`` represents one bibliographic record. If we inspect a ``Paper``, we should see some structured bibliographic metadata describing a publication. Notice that there is an ``abstract``, title (``atitle``, for 'article title'), and author names (``aulast``, ``auinit``, and ``auuri``)."
   ]
  },
  {
   "cell_type": "code",
   "execution_count": 10,
   "metadata": {
    "collapsed": false
   },
   "outputs": [
    {
     "name": "stdout",
     "output_type": "stream",
     "text": [
      "{'ER': '',\n",
      " 'GA': '161KU',\n",
      " 'ISSN': ['1010-061X', 'J9 J EVOLUTION BIOL'],\n",
      " 'PD': 'JAN',\n",
      " 'PG': 5,\n",
      " 'PT': 'J',\n",
      " 'WC': 'Ecology; Evolutionary Biology; Genetics & Heredity',\n",
      " 'abstract': \"The waterstrider Aquarius najas is wingless in Northern Europe, while winged individuals occur frequently in Central and Southern Europe. To test if the latitudinal difference is genetically controlled, we collected mature individuals from 10 different populations and raised their offspring in 'common garden' laboratory conditions. Half of these populations were from southern and the other half from central Finland. Daylength and temperature do influence wing development among other species of waterstriders, and thus we maintained a similar short daylength and warm conditions for all populations. These conditions should be favourable for wing development in general. Among laboratory-bred individuals several winged individuals appeared, and their proportion varied between populations. The relative frequency of winged individuals was highest in the southern populations. Thus, apart from phenotypic plasticity there seems to be some genetic control over the occurrence of wings, and the latitudinal trend coincides with the direction in natural populations over a larger European scale. Overwinter survival in our laboratory conditions was higher among the wingless individuals. The survival cost may explain why the proportion of winged individuals was lower in the northern populations with more extreme overwintering conditions than in the southern ones. C1 Univ Jyvaskyla, Dept Biol & Environm Sci, FIN-40351 Jyvaskyla, Finland.\",\n",
      " 'authorKeywords': ['LIMNOPORUS-CANALICULATUS',\n",
      "                    'DIMORPHISM',\n",
      "                    'REMIGIS',\n",
      "                    'INSECTS',\n",
      "                    'FLIGHTLESSNESS',\n",
      "                    'DISPERSAL',\n",
      "                    'EVOLUTION',\n",
      "                    'MORPHS'],\n",
      " 'authors_full': [('AHLROTH', 'P'),\n",
      "                  ('ALATALO', 'RV'),\n",
      "                  ('HYVARINEN', 'E'),\n",
      "                  ('SUHONEN', 'J')],\n",
      " 'authors_init': [('AHLROTH', 'P'),\n",
      "                  ('ALATALO', 'R V'),\n",
      "                  ('HYVARINEN', 'E'),\n",
      "                  ('SUHONEN', 'J')],\n",
      " 'citationCount': 20,\n",
      " 'citedReferences': [<tethne.classes.paper.Paper object at 0x111cd53d0>,\n",
      "                     <tethne.classes.paper.Paper object at 0x111cc95d0>,\n",
      "                     <tethne.classes.paper.Paper object at 0x111cd54d0>,\n",
      "                     <tethne.classes.paper.Paper object at 0x111cd5450>,\n",
      "                     <tethne.classes.paper.Paper object at 0x111cd5490>,\n",
      "                     <tethne.classes.paper.Paper object at 0x111cd5550>,\n",
      "                     <tethne.classes.paper.Paper object at 0x111cd5610>,\n",
      "                     <tethne.classes.paper.Paper object at 0x111cd5650>,\n",
      "                     <tethne.classes.paper.Paper object at 0x111cd5690>,\n",
      "                     <tethne.classes.paper.Paper object at 0x111cd56d0>,\n",
      "                     <tethne.classes.paper.Paper object at 0x111cd5710>,\n",
      "                     <tethne.classes.paper.Paper object at 0x111cd5750>,\n",
      "                     <tethne.classes.paper.Paper object at 0x111cd5790>,\n",
      "                     <tethne.classes.paper.Paper object at 0x111cd5810>,\n",
      "                     <tethne.classes.paper.Paper object at 0x111cd57d0>,\n",
      "                     <tethne.classes.paper.Paper object at 0x111cd5850>,\n",
      "                     <tethne.classes.paper.Paper object at 0x111cd5890>,\n",
      "                     <tethne.classes.paper.Paper object at 0x111cd58d0>,\n",
      "                     <tethne.classes.paper.Paper object at 0x111cd5910>,\n",
      "                     <tethne.classes.paper.Paper object at 0x111cd5950>],\n",
      " 'date': 1999,\n",
      " 'documentType': 'Article',\n",
      " 'hashIndex': '32b2d08c4aca5b9d5d242477c06b7d19',\n",
      " 'isoSource': 'J. Evol. Biol.',\n",
      " 'issue': '1',\n",
      " 'journal': 'JOURNAL OF EVOLUTIONARY BIOLOGY',\n",
      " 'keywordsPlus': ['AQUARIUS NAJAS',\n",
      "                  'GEOGRAPHICAL VARIATION',\n",
      "                  'WING POLYMORPHISM'],\n",
      " 'language': 'English',\n",
      " 'pageEnd': 160,\n",
      " 'pageStart': 156,\n",
      " 'publisher': 'BLACKWELL SCIENCE LTD',\n",
      " 'publisherAddress': 'P O BOX 88, OSNEY MEAD, OXFORD OX2 0NE, OXON, ENGLAND',\n",
      " 'publisherCity': 'OXFORD',\n",
      " 'reprintAddress': 'Ahlroth, P (reprint author), Univ Jyvaskyla, Dept Biol & Environm Sci, POB 35, FIN-40351 Jyvaskyla, Finland.',\n",
      " 'subject': ['Environmental Sciences & Ecology; Evolutionary Biology; Genetics &',\n",
      "             'Heredity'],\n",
      " 'timesCited': [14, 'Z9 17'],\n",
      " 'title': 'Geographical Variation In Wing Polymorphism Of The Waterstrider Aquarius Najas (Heteroptera, Gerridae)',\n",
      " 'volume': '12',\n",
      " 'wosid': 'WOS:000078288500016'}\n"
     ]
    }
   ],
   "source": [
    "pprint(corpus[0].__dict__)"
   ]
  },
  {
   "cell_type": "markdown",
   "metadata": {},
   "source": [
    "Since we're working with WoS data, there is also a very long list of ``citedReferences``. Each citation in that list has some of the same fields as the records in your dataset. There are far fewer fields in these citations, simply because not very much information is contained in the original Web of Science data."
   ]
  },
  {
   "cell_type": "code",
   "execution_count": 11,
   "metadata": {
    "collapsed": false,
    "scrolled": true
   },
   "outputs": [
    {
     "name": "stdout",
     "output_type": "stream",
     "text": [
      "{'authors_init': [(u'BLANCKENHORN', u'W U')],\n",
      " 'date': 1991,\n",
      " 'doi': '10.2307/2409899',\n",
      " 'journal': u'EVOLUTION',\n",
      " 'pageStart': '1520',\n",
      " 'volume': '45'}\n"
     ]
    }
   ],
   "source": [
    "pprint(corpus[0].citedReferences[0].__dict__)"
   ]
  }
 ],
 "metadata": {
  "kernelspec": {
   "display_name": "Python 2",
   "language": "python",
   "name": "python2"
  },
  "language_info": {
   "codemirror_mode": {
    "name": "ipython",
    "version": 2
   },
   "file_extension": ".py",
   "mimetype": "text/x-python",
   "name": "python",
   "nbconvert_exporter": "python",
   "pygments_lexer": "ipython2",
   "version": "2.7.9"
  }
 },
 "nbformat": 4,
 "nbformat_minor": 0
}
