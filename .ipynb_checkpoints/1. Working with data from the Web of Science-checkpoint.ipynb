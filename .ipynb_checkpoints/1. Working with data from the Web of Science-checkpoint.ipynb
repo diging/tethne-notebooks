{
 "cells": [
  {
   "cell_type": "code",
   "execution_count": 1,
   "metadata": {
    "collapsed": true
   },
   "outputs": [],
   "source": [
    "%matplotlib inline"
   ]
  },
  {
   "cell_type": "code",
   "execution_count": 2,
   "metadata": {
    "collapsed": false
   },
   "outputs": [],
   "source": [
    "from pprint import pprint\n",
    "import matplotlib.pyplot as plt"
   ]
  },
  {
   "cell_type": "markdown",
   "metadata": {},
   "source": [
    "# Introduction to Tethne: Loading Data, part 1"
   ]
  },
  {
   "cell_type": "markdown",
   "metadata": {},
   "source": [
    "In this notebook we will take our first steps with the Tethne Python package. We'll parse some bibliographic records from the ISI Web of Science, and take a look at the ``Corpus`` class and its various features. We'll then use some of the functions in ``tethne.networks`` to generate some simple networks from our bibliographic dataset."
   ]
  },
  {
   "cell_type": "markdown",
   "metadata": {},
   "source": [
    "## Methods in Digital & Computational Humanities\n",
    "\n",
    "This notebook is part of a cluster of learning resources developed by the [Laubichler Lab](http://devo-evo.lab.asu.edu) and the [Digital Innovation Group](http://diging.asu.edu) at Arizona State University as part of an initiative for digital and computational humanities (d+cH). For more information, see our evolving online methods course at [https://diging.atlassian.net/wiki/display/DCH](https://diging.atlassian.net/wiki/display/DCH).\n",
    "\n",
    "### Getting Help\n",
    "\n",
    "Development of the Tethne project is led by [Erick Peirson](http://asu.academia.edu/erickpeirson). To get help, first check our [issue tracking system on GitHub](http://github.com/diging/tethne/issues). There, you can search for questions and problems reported by other users, or ask a question of your own. You can also reach Erick via e-mail at erick.peirson@asu.edu.\n",
    "\n",
    "### Documentation & Tutorials\n",
    "\n",
    "Additional documentation and tutorials for the Tethne Python package are available at .... \n",
    "\n"
   ]
  },
  {
   "cell_type": "markdown",
   "metadata": {},
   "source": [
    "## Using this notebook\n",
    "\n",
    "This is an interactive Python notebook. Most of the content is just marked-down text, like this paragraph, that provides expository on some aspect of the Tethne package. Some of the cells are \"code\" cells, which look like this:"
   ]
  },
  {
   "cell_type": "code",
   "execution_count": 3,
   "metadata": {
    "collapsed": false
   },
   "outputs": [
    {
     "name": "stdout",
     "output_type": "stream",
     "text": [
      "This is a code cell!\n"
     ]
    }
   ],
   "source": [
    "print \"This is a code cell!\""
   ]
  },
  {
   "cell_type": "markdown",
   "metadata": {},
   "source": [
    "You can execute the code in a code cell by clicking on it and pressing Shift-Enter on your keyboard, or by clicking the right-arrow \"Run\" button in the toolbar at the top of the page. The cell below will automatically be selected, so you can run many cells in quick succession by repeatedly pressing Shift-Enter (or the \"Run\" button). It's a good idea to run all of the code cells in order, from the top of the tutorial, since many commands later in the tutorial will depend on earlier ones.\n",
    "\n",
    "### Play!!\n",
    "\n",
    "As we work through the notebook, you'll need to modify certain values depending on where your data is located. You should also experiment! Try changing the parameters in the functions demonstrated below, and re-run the code-cell to see the result. That's what's great about iPython notebooks: you can play around with specific chunks of code without having to re-run the entire script."
   ]
  },
  {
   "cell_type": "markdown",
   "metadata": {},
   "source": [
    "## Getting Bibliographic Data from the ISI Web of Science"
   ]
  },
  {
   "cell_type": "markdown",
   "metadata": {},
   "source": [
    "The ISI Web of Science is a proprietary database owned by Thompson Reuters. It is one of the oldest and most comprehensive scientific bibliographic databases in existance. If you are affiliated with an academic institution, you may have access to this database via an institutional license.\n",
    "\n",
    "For the purpose of this tutorial, you can download a practice dataset from (insert link to dataset). Move the downloaded zip to a place where you can find it, and uncompress its contents. You'll need the full path to the uncompressed dataset.\n",
    "\n",
    "Perform a search for literature of interest using the interface provided.\n",
    "\n",
    "Your search criteria will be informed by the objectives of your research\n",
    "project. If you are attempting to characterize the development of a research\n",
    "field, for example, you should choose terms that pick out that field as uniquely\n",
    "as possible (consider using the ``Publication Name`` search field). You can also\n",
    "pick out literatures originating from particular institutions, by using the\n",
    "``Organization-Enhanced`` search field.\n",
    "\n",
    "![](./images/wos/getting.1.png)\n",
    "\n",
    "Note also that you can restrict your research to one of three indexes in the Web\n",
    "of Science Core Collection:\n",
    "\n",
    "   * Science Citation Index Expanded is the largest index, containing scientific\n",
    "     publications from 1900 onward.\n",
    "   * Social Sciences Citation Index covers 1956 onward.\n",
    "   * Arts & Humanities Citation Index is the smallest index, containing\n",
    "     publications from 1975 onward.\n",
    "     \n",
    "![](./images/wos/getting.1.2.png)\n",
    "\n",
    "Once you have found the papers that you are interested in, find the ``Send to:``\n",
    "menu at the top of the list of results. Click the small orange down-arrow, and\n",
    "select ``Other File Formats``.\n",
    "\n",
    "![](./images/wos/getting.2.png)\n",
    "\n",
    "A small in-browser window should open in the foreground. Specify the range of\n",
    "records that you wish to download. **Note that you can only download 500 records\n",
    "at a time**, so you may have to make multiple download requests. Be sure to\n",
    "specify ``Full Record and Cited References`` in the *Record Content* field, and\n",
    "``Plain Text`` in the *File Format* field. Then click ``Send``.\n",
    "\n",
    "![](./images/wos/getting.3.png)\n",
    "\n",
    "After a few moments, a download should begin. WoS usually returns a field-tagged\n",
    "data file called ``savedrecs.txt``. Put this in a location on your filesystem\n",
    "where you can find it later; this is the input for Tethne's WoS reader methods.\n",
    "\n",
    "![](./images/wos/getting.4.png)"
   ]
  },
  {
   "cell_type": "markdown",
   "metadata": {},
   "source": [
    "## Structure of the WoS Field-Tagged Data File\n",
    "\n",
    "If you open the text file returned by the WoS database (usually named\n",
    "'savedrecs.txt'), you should see a whole bunch of field-tagged data.\n",
    "\"Field-tagged\" means that each metadata field is denoted by a \"tag\" (a\n",
    "two-letter code), followed by values for that field. A complete list of WoS\n",
    "field tags can be found [here](http://images.webofknowledge.com/WOKRS53B4/help/WOS/hs_wos_fieldtags.html). For best results, you should avoid making changes\n",
    "to the contents of WoS data files.\n",
    "\n",
    "The metadata record for each paper in your data file should begin with:\n",
    "\n",
    "```\n",
    "   PT J\n",
    "```\n",
    "\n",
    "...and end with:\n",
    "\n",
    "```\n",
    "   ER\n",
    "```\n",
    "\n",
    "There are two author fields: the AU field is always provided, and values take\n",
    "the form \"Last, FI\". AF is provided if author full-names are available, and\n",
    "values take the form \"Last, First Middle\". For example:\n",
    "\n",
    "```\n",
    "   AU Dauvin, JC\n",
    "      Grimes, S\n",
    "      Bakalem, A\n",
    "   AF Dauvin, Jean-Claude\n",
    "      Grimes, Samir\n",
    "      Bakalem, Ali\n",
    "```\n",
    "\n",
    "Citations are listed in the CR block. For example:\n",
    "\n",
    "```\n",
    "   CR Airoldi L, 2007, OCEANOGR MAR BIOL, V45, P345\n",
    "      Alexander Vera, 2011, Marine Biodiversity, V41, P545, DOI 10.1007/s12526-011-0084-1\n",
    "      Arvanitidis C, 2002, MAR ECOL PROG SER, V244, P139, DOI 10.3354/meps244139\n",
    "      Bakalem A, 2009, ECOL INDIC, V9, P395, DOI 10.1016/j.ecolind.2008.05.008\n",
    "      Bakalem Ali, 1995, Mesogee, V54, P49\n",
    "      …\n",
    "      Zenetos A, 2005, MEDITERR MAR SCI, V6, P63\n",
    "      Zenetos A, 2004, CIESM ATLAS EXOTIC S, V3\n",
    "```\n",
    "\n",
    "More recent records also include the institutional affiliations of authors in the C1\n",
    "block.\n",
    "\n",
    "```\n",
    "   C1 [Wang, Changlin; Washida, Haruhiko; Crofts, Andrew J.; Hamada, Shigeki;\n",
    "   Katsube-Tanaka, Tomoyuki; Kim, Dongwook; Choi, Sang-Bong; Modi, Mahendra; Singh,\n",
    "   Salvinder; Okita, Thomas W.] Washington State Univ, Inst Biol Chem, Pullman, WA 99164\n",
    "   USA.\n",
    "```\n",
    "\n",
    "For more information about WoS field tags, see a list on the Thompson Reuters website,\n",
    "[here](http://images.webofknowledge.com/WOKRS53B4/help/WOS/hs_wos_fieldtags.html).\n"
   ]
  },
  {
   "cell_type": "markdown",
   "metadata": {},
   "source": [
    "## Parsing Web of Science Field-Tagged Data"
   ]
  },
  {
   "cell_type": "markdown",
   "metadata": {},
   "source": [
    "The modules in the ``tethne.readers`` subpackage allow you to parse data from a few different databases. The readers for Web of Science, JSTOR DfR, and Zotero RDF datasets are the most rigorously tested. Request support for a new dataset on our [GitHub project site](http://github.com/diging/tethne/issues).\n",
    "\n",
    "| Database                | module                    | \n",
    "| ----------------------- |---------------------------|\n",
    "| Web of Science          | ``tethne.readers.wos``    |\n",
    "| JSTOR Data-for-Research | ``tethne.readers.dfr``    |\n",
    "| Zotero                  | ``tethne.readers.zotero`` |"
   ]
  },
  {
   "cell_type": "markdown",
   "metadata": {},
   "source": [
    "You can load the ``tethne.readers.wos`` module by importing it from the ``tethne.readers`` subpackage:"
   ]
  },
  {
   "cell_type": "code",
   "execution_count": 4,
   "metadata": {
    "collapsed": false
   },
   "outputs": [],
   "source": [
    "from tethne.readers import wos"
   ]
  },
  {
   "cell_type": "markdown",
   "metadata": {},
   "source": [
    "To parse data from a WoS dataset, use the **``read``** method. Each module in the ``tethne.readers`` subpackage should have a ``read`` method."
   ]
  },
  {
   "cell_type": "markdown",
   "metadata": {},
   "source": [
    "**``read``** can parse a single data file, or a directory full of data files, and returns a ``Corpus`` object. Just pass it a string containing the path to your data. First, try parsing a single WoS field-tagged data file."
   ]
  },
  {
   "cell_type": "code",
   "execution_count": 5,
   "metadata": {
    "collapsed": false
   },
   "outputs": [],
   "source": [
    "corpus = wos.read('/Users/erickpeirson/Dropbox/HSS ThatCamp Workshop/sample_data/wos/savedrecs.txt')"
   ]
  },
  {
   "cell_type": "markdown",
   "metadata": {},
   "source": [
    "You can see how many records were loaded from your data file by evaluating the ``len`` of the ``Corpus``."
   ]
  },
  {
   "cell_type": "code",
   "execution_count": 6,
   "metadata": {
    "collapsed": false
   },
   "outputs": [
    {
     "name": "stdout",
     "output_type": "stream",
     "text": [
      "Loaded 500 records!\n"
     ]
    }
   ],
   "source": [
    "print 'Loaded %i records!' % len(corpus)"
   ]
  },
  {
   "cell_type": "markdown",
   "metadata": {},
   "source": [
    "## Reading more than one data file at a time\n",
    "\n",
    "Often you'll be working with datasets comprised of multiple data files. The Web of Science database only allows you to download 500 records at a time (because they're dirty capitalists). You can use the **``read``** function to load a list of ``Paper``s from a directory containing multiple data files.\n",
    "\n",
    "Instead of providing the path to a single data file, just provide the path to a directory containing several WoS field-tagged data files. The ``read`` function knows that your path is a directory and not a data file; it looks inside of that directory for WoS data files."
   ]
  },
  {
   "cell_type": "code",
   "execution_count": 7,
   "metadata": {
    "collapsed": true
   },
   "outputs": [],
   "source": [
    "corpus = wos.read('/Users/erickpeirson/Dropbox/HSS ThatCamp Workshop/sample_data/wos/')"
   ]
  },
  {
   "cell_type": "markdown",
   "metadata": {},
   "source": [
    "We should have quite a few more records this time:"
   ]
  },
  {
   "cell_type": "code",
   "execution_count": 8,
   "metadata": {
    "collapsed": false
   },
   "outputs": [
    {
     "name": "stdout",
     "output_type": "stream",
     "text": [
      "Loaded 1168 records!\n"
     ]
    }
   ],
   "source": [
    "print 'Loaded %i records!' % len(corpus)"
   ]
  },
  {
   "cell_type": "markdown",
   "metadata": {},
   "source": [
    "## ``Corpus`` objects"
   ]
  },
  {
   "cell_type": "markdown",
   "metadata": {},
   "source": [
    "A ``Corpus`` is a collection of ``Paper``s with superpowers. Each ``Paper`` represents one bibliographic record. Most importantly, the ``Corpus`` provides a consistent way of indexing bibliographic records. Indexing is important, because it sets the stage for all of the subsequent analyses that we may wish to do with our bibliographic data."
   ]
  },
  {
   "cell_type": "markdown",
   "metadata": {},
   "source": [
    "A ``Corpus`` behaves like a list of ``Paper``s. We can selecte a single ``Paper`` like this:"
   ]
  },
  {
   "cell_type": "code",
   "execution_count": 9,
   "metadata": {
    "collapsed": false
   },
   "outputs": [
    {
     "data": {
      "text/plain": [
       "{'ER': u'',\n",
       " 'GA': u'804NA',\n",
       " 'ISSN': [u'0022-5010', u'J9 J HIST BIOL'],\n",
       " 'PD': u'SPR',\n",
       " 'PG': 50,\n",
       " 'PT': u'J',\n",
       " 'WC': u'Biology; History & Philosophy Of Science',\n",
       " 'abstract': u'The new discipline of exobiology formed from the intertwining of origin of life research with the search for life or its building blocks on other planets, from 1957-1973. The field was inherently highly interdisciplinary, yet it coalesced very quickly and was responsible in its first twenty years for numerous important contributions to twentieth century life science and planetary sciences such as climatology, the study of mass extinctions, etc. NASA played a very important role in catalyzing the rapid consolidation of exobiology, both through research grants and through sponsored meetings that overcame disciplinary boundaries, bringing together scientists from diverse backgrounds. The presence of a handful of prominent senior scientists such as Joshua Lederberg, Melvin Calvin and Norman Horowitz helped gain credibility for exobiology, in the face of criticism and competition from existing life sciences disciplines. Tensions within the exobiology research community and between NASA-funded science and the academic research community are explored, as are such milestones of discipline formation as journals and professional societies. C1 Franklin & Marshall Coll, Program Sci Technol & Soc, Lancaster, PA 17604 USA.',\n",
       " 'authorKeywords': [u'PRIMITIVE EARTH',\n",
       "  u'LIFE',\n",
       "  u'ORIGIN',\n",
       "  u'HUMANOIDS',\n",
       "  u'MOLECULES',\n",
       "  u'CYANIDE',\n",
       "  u'ADENINE',\n",
       "  u'SPACE'],\n",
       " 'authors_full': [(u'STRICK', u'JE')],\n",
       " 'authors_init': [(u'STRICK', u'J E')],\n",
       " 'citationCount': 118,\n",
       " 'citedReferences': [<tethne.classes.paper.Paper at 0x109fba490>,\n",
       "  <tethne.classes.paper.Paper at 0x109fc34d0>,\n",
       "  <tethne.classes.paper.Paper at 0x109fcef90>,\n",
       "  <tethne.classes.paper.Paper at 0x109fcef50>,\n",
       "  <tethne.classes.paper.Paper at 0x109fcefd0>,\n",
       "  <tethne.classes.paper.Paper at 0x109fdb050>,\n",
       "  <tethne.classes.paper.Paper at 0x109fdb090>,\n",
       "  <tethne.classes.paper.Paper at 0x109fdb110>,\n",
       "  <tethne.classes.paper.Paper at 0x109fdb0d0>,\n",
       "  <tethne.classes.paper.Paper at 0x109fdb150>,\n",
       "  <tethne.classes.paper.Paper at 0x109fdb190>,\n",
       "  <tethne.classes.paper.Paper at 0x109fdb1d0>,\n",
       "  <tethne.classes.paper.Paper at 0x109fdb210>,\n",
       "  <tethne.classes.paper.Paper at 0x109fdb250>,\n",
       "  <tethne.classes.paper.Paper at 0x109fdb290>,\n",
       "  <tethne.classes.paper.Paper at 0x109fdb310>,\n",
       "  <tethne.classes.paper.Paper at 0x109fdb2d0>,\n",
       "  <tethne.classes.paper.Paper at 0x109fdb390>,\n",
       "  <tethne.classes.paper.Paper at 0x109fdb350>,\n",
       "  <tethne.classes.paper.Paper at 0x109fdb410>,\n",
       "  <tethne.classes.paper.Paper at 0x109fdb3d0>,\n",
       "  <tethne.classes.paper.Paper at 0x109fdb490>,\n",
       "  <tethne.classes.paper.Paper at 0x109fdb450>,\n",
       "  <tethne.classes.paper.Paper at 0x109fdb4d0>,\n",
       "  <tethne.classes.paper.Paper at 0x109fdb510>,\n",
       "  <tethne.classes.paper.Paper at 0x109fdb550>,\n",
       "  <tethne.classes.paper.Paper at 0x109fdb590>,\n",
       "  <tethne.classes.paper.Paper at 0x109fdb5d0>,\n",
       "  <tethne.classes.paper.Paper at 0x109fdb650>,\n",
       "  <tethne.classes.paper.Paper at 0x109fdb610>,\n",
       "  <tethne.classes.paper.Paper at 0x109fdb6d0>,\n",
       "  <tethne.classes.paper.Paper at 0x109fdb690>,\n",
       "  <tethne.classes.paper.Paper at 0x109fdb710>,\n",
       "  <tethne.classes.paper.Paper at 0x109fdb750>,\n",
       "  <tethne.classes.paper.Paper at 0x109fdb7d0>,\n",
       "  <tethne.classes.paper.Paper at 0x109fdb810>,\n",
       "  <tethne.classes.paper.Paper at 0x109fdb890>,\n",
       "  <tethne.classes.paper.Paper at 0x109fdb910>,\n",
       "  <tethne.classes.paper.Paper at 0x109fdb950>,\n",
       "  <tethne.classes.paper.Paper at 0x109fdb9d0>,\n",
       "  <tethne.classes.paper.Paper at 0x109fdb990>,\n",
       "  <tethne.classes.paper.Paper at 0x109fdba50>,\n",
       "  <tethne.classes.paper.Paper at 0x109fdba90>,\n",
       "  <tethne.classes.paper.Paper at 0x109fdbb10>,\n",
       "  <tethne.classes.paper.Paper at 0x109fdbad0>,\n",
       "  <tethne.classes.paper.Paper at 0x109fdbb50>,\n",
       "  <tethne.classes.paper.Paper at 0x109fdbb90>,\n",
       "  <tethne.classes.paper.Paper at 0x109fdbc10>,\n",
       "  <tethne.classes.paper.Paper at 0x109fdbbd0>,\n",
       "  <tethne.classes.paper.Paper at 0x109fdbc50>,\n",
       "  <tethne.classes.paper.Paper at 0x109fdbcd0>,\n",
       "  <tethne.classes.paper.Paper at 0x109fdbc90>,\n",
       "  <tethne.classes.paper.Paper at 0x109fdbd50>,\n",
       "  <tethne.classes.paper.Paper at 0x109fdbd90>,\n",
       "  <tethne.classes.paper.Paper at 0x109fdbd10>,\n",
       "  <tethne.classes.paper.Paper at 0x109fdbdd0>,\n",
       "  <tethne.classes.paper.Paper at 0x109fdbe50>,\n",
       "  <tethne.classes.paper.Paper at 0x109fdbe90>,\n",
       "  <tethne.classes.paper.Paper at 0x109fdbed0>,\n",
       "  <tethne.classes.paper.Paper at 0x109fdbf10>,\n",
       "  <tethne.classes.paper.Paper at 0x109fdbf50>,\n",
       "  <tethne.classes.paper.Paper at 0x109fdbfd0>,\n",
       "  <tethne.classes.paper.Paper at 0x109fe5090>,\n",
       "  <tethne.classes.paper.Paper at 0x109fe50d0>,\n",
       "  <tethne.classes.paper.Paper at 0x109fe5110>,\n",
       "  <tethne.classes.paper.Paper at 0x109fe5150>,\n",
       "  <tethne.classes.paper.Paper at 0x109fe5190>,\n",
       "  <tethne.classes.paper.Paper at 0x109fe51d0>,\n",
       "  <tethne.classes.paper.Paper at 0x109fe5210>,\n",
       "  <tethne.classes.paper.Paper at 0x109fe5290>,\n",
       "  <tethne.classes.paper.Paper at 0x109fe52d0>,\n",
       "  <tethne.classes.paper.Paper at 0x109fe5310>,\n",
       "  <tethne.classes.paper.Paper at 0x109fe5350>,\n",
       "  <tethne.classes.paper.Paper at 0x109fe5390>,\n",
       "  <tethne.classes.paper.Paper at 0x109fe53d0>,\n",
       "  <tethne.classes.paper.Paper at 0x109fe5450>,\n",
       "  <tethne.classes.paper.Paper at 0x109fe5410>,\n",
       "  <tethne.classes.paper.Paper at 0x109fe5490>,\n",
       "  <tethne.classes.paper.Paper at 0x109fe54d0>,\n",
       "  <tethne.classes.paper.Paper at 0x109fe5510>,\n",
       "  <tethne.classes.paper.Paper at 0x109fe5550>,\n",
       "  <tethne.classes.paper.Paper at 0x109fe55d0>,\n",
       "  <tethne.classes.paper.Paper at 0x109fe5650>,\n",
       "  <tethne.classes.paper.Paper at 0x109fe5690>,\n",
       "  <tethne.classes.paper.Paper at 0x109fe56d0>,\n",
       "  <tethne.classes.paper.Paper at 0x109fe5710>,\n",
       "  <tethne.classes.paper.Paper at 0x109fe5750>,\n",
       "  <tethne.classes.paper.Paper at 0x109fe57d0>,\n",
       "  <tethne.classes.paper.Paper at 0x109fe5790>,\n",
       "  <tethne.classes.paper.Paper at 0x109fe5850>,\n",
       "  <tethne.classes.paper.Paper at 0x109fe5810>,\n",
       "  <tethne.classes.paper.Paper at 0x109fe58d0>,\n",
       "  <tethne.classes.paper.Paper at 0x109fe5890>,\n",
       "  <tethne.classes.paper.Paper at 0x109fe5910>,\n",
       "  <tethne.classes.paper.Paper at 0x109fe5950>,\n",
       "  <tethne.classes.paper.Paper at 0x109fe5990>,\n",
       "  <tethne.classes.paper.Paper at 0x109fe5a10>,\n",
       "  <tethne.classes.paper.Paper at 0x109fe5a90>,\n",
       "  <tethne.classes.paper.Paper at 0x109fe5ad0>,\n",
       "  <tethne.classes.paper.Paper at 0x109fe5b10>,\n",
       "  <tethne.classes.paper.Paper at 0x109fe5b50>,\n",
       "  <tethne.classes.paper.Paper at 0x109fe5b90>,\n",
       "  <tethne.classes.paper.Paper at 0x109fe5bd0>,\n",
       "  <tethne.classes.paper.Paper at 0x109fe5c50>,\n",
       "  <tethne.classes.paper.Paper at 0x109fe5c90>,\n",
       "  <tethne.classes.paper.Paper at 0x109fe5d10>,\n",
       "  <tethne.classes.paper.Paper at 0x109fe5d90>,\n",
       "  <tethne.classes.paper.Paper at 0x109fe5d50>,\n",
       "  <tethne.classes.paper.Paper at 0x109fe5dd0>,\n",
       "  <tethne.classes.paper.Paper at 0x109fe5e10>,\n",
       "  <tethne.classes.paper.Paper at 0x109fe5cd0>,\n",
       "  <tethne.classes.paper.Paper at 0x109fe5e90>,\n",
       "  <tethne.classes.paper.Paper at 0x109fe5e50>,\n",
       "  <tethne.classes.paper.Paper at 0x109fe5ed0>,\n",
       "  <tethne.classes.paper.Paper at 0x109fe5f10>,\n",
       "  <tethne.classes.paper.Paper at 0x109fe5f50>,\n",
       "  <tethne.classes.paper.Paper at 0x109fe5fd0>,\n",
       "  <tethne.classes.paper.Paper at 0x109fe5f90>],\n",
       " 'date': 2004,\n",
       " 'documentType': u'Review',\n",
       " 'doi': u'10.1023/B:HIST.0000020279.73895.f2',\n",
       " 'emailAddress': u'jamesstrick@earthlink.net',\n",
       " 'isoSource': u'J. Hist. Biol.',\n",
       " 'issue': 1,\n",
       " 'journal': u'JOURNAL OF THE HISTORY OF BIOLOGY',\n",
       " 'keywordsPlus': [u'abiogenesis; archaea; astrobiology; discipline formation; endosymbiosis;',\n",
       "  u'exobiology; extraterrestrial life; microspheres; NASA; origin of life;',\n",
       "  u'planetary science; proteinoids'],\n",
       " 'language': u'English',\n",
       " 'pageEnd': 180,\n",
       " 'pageStart': 131,\n",
       " 'publisher': u'KLUWER ACADEMIC PUBL',\n",
       " 'publisherAddress': u'VAN GODEWIJCKSTRAAT 30, 3311 GZ DORDRECHT, NETHERLANDS',\n",
       " 'publisherCity': u'DORDRECHT',\n",
       " 'reprintAddress': u'Strick, JE (reprint author), Franklin & Marshall Coll, Program Sci Technol & Soc, Lancaster, PA 17604 USA.',\n",
       " 'subject': [u'Life Sciences & Biomedicine - Other Topics; History & Philosophy of',\n",
       "  u'Science'],\n",
       " 'timesCited': [11, u'Z9 11'],\n",
       " 'title': u'Creating A Cosmic Discipline: The Crystallization And Consolidation Of Exobiology, 1957-1973',\n",
       " 'volume': u'37',\n",
       " 'wosid': u'WOS:000220304200007'}"
      ]
     },
     "execution_count": 9,
     "metadata": {},
     "output_type": "execute_result"
    }
   ],
   "source": [
    "corpus[500].__dict__  # [500] gets the 501st Paper, and __dict__ generates a \n",
    "                      #  key-value representation of the data in the Paper."
   ]
  },
  {
   "cell_type": "markdown",
   "metadata": {},
   "source": [
    "There are several things to notice in the output above. First, each ``Paper`` should (generally) have a title:"
   ]
  },
  {
   "cell_type": "code",
   "execution_count": 10,
   "metadata": {
    "collapsed": false
   },
   "outputs": [
    {
     "data": {
      "text/plain": [
       "u'Creating A Cosmic Discipline: The Crystallization And Consolidation Of Exobiology, 1957-1973'"
      ]
     },
     "execution_count": 10,
     "metadata": {},
     "output_type": "execute_result"
    }
   ],
   "source": [
    "corpus[500].title"
   ]
  },
  {
   "cell_type": "markdown",
   "metadata": {},
   "source": [
    "Each Paper should also have a ``date``, ``journal``, and ``wosid`` (WoS accession ID). Many will also have ``doi``s. Note that we can access the attributes of each ``Paper`` using ``.`` notation:"
   ]
  },
  {
   "cell_type": "code",
   "execution_count": 11,
   "metadata": {
    "collapsed": false
   },
   "outputs": [
    {
     "name": "stdout",
     "output_type": "stream",
     "text": [
      "Date:                2004\n",
      "Journal:             JOURNAL OF THE HISTORY OF BIOLOGY\n",
      "WoS accession ID:    WOS:000220304200007\n",
      "DOI:                 10.1023/B:HIST.0000020279.73895.f2\n"
     ]
    }
   ],
   "source": [
    "# corpus[500] gets a Paper, and ``.date`` gets the date attribute.\n",
    "print 'Date:'.ljust(20), corpus[500].date    \n",
    "print 'Journal:'.ljust(20), corpus[500].journal\n",
    "print 'WoS accession ID:'.ljust(20), corpus[500].wosid\n",
    "print 'DOI:'.ljust(20), corpus[500].doi"
   ]
  },
  {
   "cell_type": "markdown",
   "metadata": {},
   "source": [
    "Each ``Paper`` will also have ``authors``. Tethne represents author names as \"tuples\" of the form ``(last, first)``. Depending on the record, ``first`` might be first and middle initials, or first and middle names."
   ]
  },
  {
   "cell_type": "code",
   "execution_count": 12,
   "metadata": {
    "collapsed": false
   },
   "outputs": [
    {
     "data": {
      "text/plain": [
       "[((u'STRICK', u'JE'), 1)]"
      ]
     },
     "execution_count": 12,
     "metadata": {},
     "output_type": "execute_result"
    }
   ],
   "source": [
    "corpus[500].authors"
   ]
  },
  {
   "cell_type": "markdown",
   "metadata": {},
   "source": [
    "Unlike other bibliographic datasets, WoS data contain the cited references of each ``Paper``. Each cited reference is represented as a ``Paper``:"
   ]
  },
  {
   "cell_type": "code",
   "execution_count": 13,
   "metadata": {
    "collapsed": false
   },
   "outputs": [
    {
     "data": {
      "text/plain": [
       "[<tethne.classes.paper.Paper at 0x10d09e3d0>,\n",
       " <tethne.classes.paper.Paper at 0x10d09e4d0>,\n",
       " <tethne.classes.paper.Paper at 0x10d09e510>,\n",
       " <tethne.classes.paper.Paper at 0x10d09e550>,\n",
       " <tethne.classes.paper.Paper at 0x10d09e590>,\n",
       " <tethne.classes.paper.Paper at 0x10d09e5d0>,\n",
       " <tethne.classes.paper.Paper at 0x10d063f90>,\n",
       " <tethne.classes.paper.Paper at 0x10d09e610>,\n",
       " <tethne.classes.paper.Paper at 0x10d09e650>,\n",
       " <tethne.classes.paper.Paper at 0x10d09e690>,\n",
       " <tethne.classes.paper.Paper at 0x10d09e6d0>,\n",
       " <tethne.classes.paper.Paper at 0x10d09e710>,\n",
       " <tethne.classes.paper.Paper at 0x10d09e750>,\n",
       " <tethne.classes.paper.Paper at 0x10d09e7d0>,\n",
       " <tethne.classes.paper.Paper at 0x10d09e810>,\n",
       " <tethne.classes.paper.Paper at 0x10d09e790>,\n",
       " <tethne.classes.paper.Paper at 0x10d09e850>,\n",
       " <tethne.classes.paper.Paper at 0x10d09e890>,\n",
       " <tethne.classes.paper.Paper at 0x10d09e8d0>]"
      ]
     },
     "execution_count": 13,
     "metadata": {},
     "output_type": "execute_result"
    }
   ],
   "source": [
    "corpus[2].citedReferences"
   ]
  },
  {
   "cell_type": "markdown",
   "metadata": {},
   "source": [
    "A \"prettier\" representation of the cited references is available in the ``citations`` attribute."
   ]
  },
  {
   "cell_type": "code",
   "execution_count": 14,
   "metadata": {
    "collapsed": false
   },
   "outputs": [
    {
     "data": {
      "text/plain": [
       "[(u'EHRENBERG CG 1831 SYMBOLAE PHYS SEU IC', 1),\n",
       " (u'SCHWEIGGER AF 1819 BEOBACHTUNGEN NATURH', 1),\n",
       " (u'CUVIER GEORGES 1817 REGNE ANIMAL DISTRIB', 1),\n",
       " (u'DALY M 2007 ZOOTAXA', 1),\n",
       " (u'OWEN R 1843 LECT COMP ANATOMY PH', 1),\n",
       " (u'WINSOR MP 1976 STARFISH JELLYFISH O', 1),\n",
       " (u'JOHNSTON G 1838 HIST BRIT ZOOPHYTES', 1),\n",
       " (u'BENEDEN PVAN 1845 NOUVEAUX MEMOIRES AC', 1),\n",
       " (u'LEUCKART R 1848 MORPHOLOGIE VERWANDT', 1),\n",
       " (u'CARTWRIGHT P 2008 J MAR BIOL ASSOC UK', 1),\n",
       " (u'STEENSTRUP JJS 1845 ALTERNATION GENERATI', 1),\n",
       " (u'FREY H 1847 BEITRAGE KENNTNISS W', 1),\n",
       " (u'DUNN CW 2005 DEV DYNAM', 1),\n",
       " (u'LINNAEUS C 2003 LINNAEUS PHILOS BOT', 1),\n",
       " (u'BRAUN A 1855 AM J SCI ARTS', 3),\n",
       " (u'ELWICK J 2007 STYLES REASONING BRI', 1),\n",
       " (u'HOFMEISTER W 1851 VERGLEICHENDE UNTERS', 1)]"
      ]
     },
     "execution_count": 14,
     "metadata": {},
     "output_type": "execute_result"
    }
   ],
   "source": [
    "corpus[2].citations"
   ]
  },
  {
   "cell_type": "markdown",
   "metadata": {},
   "source": [
    "Each cited reference is represented by what we call an ``'ayjid'``: it contains the **a**uthor name, **y**ear of publication, and the **j**ournal in which it was published. Every ``Paper`` has an ``'ayjid'``."
   ]
  },
  {
   "cell_type": "code",
   "execution_count": 15,
   "metadata": {
    "collapsed": false
   },
   "outputs": [
    {
     "data": {
      "text/plain": [
       "u'NYHART LK 2011 JOURNAL OF THE HISTORY OF BIOLOGY'"
      ]
     },
     "execution_count": 15,
     "metadata": {},
     "output_type": "execute_result"
    }
   ],
   "source": [
    "corpus[2].ayjid"
   ]
  },
  {
   "cell_type": "markdown",
   "metadata": {},
   "source": [
    "## Indexing\n",
    "\n",
    "The most important functionality of the ``Corpus`` is indexing. Indexing provides a way of looking up ``Paper``s by specific attributes, e.g. by the year in which they were published, or by author.\n",
    "\n",
    "Each ``Corpus`` has a single \"primary\" index. For WoS data, the ``wosid`` field (WoS accession ID) is used by default, since every WoS record has one. You can see which field was used as the primary index by accessing the ``.index_by`` attribute of the ``Corpus``."
   ]
  },
  {
   "cell_type": "code",
   "execution_count": 16,
   "metadata": {
    "collapsed": false
   },
   "outputs": [
    {
     "data": {
      "text/plain": [
       "'wosid'"
      ]
     },
     "execution_count": 16,
     "metadata": {},
     "output_type": "execute_result"
    }
   ],
   "source": [
    "corpus.index_by"
   ]
  },
  {
   "cell_type": "markdown",
   "metadata": {},
   "source": [
    "All of the ``Paper``s in the ``Corpus`` are stored by ``wosid`` in the ``indexed_papers`` attribute. The code cell below shows the first ten Papers with their indexing keys."
   ]
  },
  {
   "cell_type": "code",
   "execution_count": 17,
   "metadata": {
    "collapsed": false
   },
   "outputs": [
    {
     "data": {
      "text/plain": [
       "[(u'WOS:000235887200021', <tethne.classes.paper.Paper at 0x10df59790>),\n",
       " (u'WOS:A1992KB57000009', <tethne.classes.paper.Paper at 0x10b7d0f50>),\n",
       " (u'WOS:000295037200001', <tethne.classes.paper.Paper at 0x10d09e350>),\n",
       " (u'WOS:A1986A555900003', <tethne.classes.paper.Paper at 0x10c22d910>),\n",
       " (u'WOS:000260782100010', <tethne.classes.paper.Paper at 0x10d8c8b90>),\n",
       " (u'WOS:A1991GX40800004', <tethne.classes.paper.Paper at 0x10b8a7110>),\n",
       " (u'WOS:A1991GX40800005', <tethne.classes.paper.Paper at 0x10b8b52d0>),\n",
       " (u'WOS:000295037200003', <tethne.classes.paper.Paper at 0x10d09e410>),\n",
       " (u'WOS:A1989CE40700004', <tethne.classes.paper.Paper at 0x10bd5fc10>),\n",
       " (u'WOS:A1991GX40800001', <tethne.classes.paper.Paper at 0x10b851510>)]"
      ]
     },
     "execution_count": 17,
     "metadata": {},
     "output_type": "execute_result"
    }
   ],
   "source": [
    "corpus.indexed_papers.items()[:10]"
   ]
  },
  {
   "cell_type": "markdown",
   "metadata": {},
   "source": [
    "Additional indexes are located in the ``indices`` attribute. The code-cell below shows which fields are already indexed."
   ]
  },
  {
   "cell_type": "code",
   "execution_count": 18,
   "metadata": {
    "collapsed": false
   },
   "outputs": [
    {
     "data": {
      "text/plain": [
       "['citations', 'authors']"
      ]
     },
     "execution_count": 18,
     "metadata": {},
     "output_type": "execute_result"
    }
   ],
   "source": [
    "corpus.indices.keys()"
   ]
  },
  {
   "cell_type": "markdown",
   "metadata": {},
   "source": [
    "We can look up ``Papers`` using the name of an indexed field and some value. For example, to see all of the ``Paper``s in which ``('MAIENSCHEIN', 'J')`` is an author, we could do:"
   ]
  },
  {
   "cell_type": "code",
   "execution_count": 19,
   "metadata": {
    "collapsed": false
   },
   "outputs": [
    {
     "name": "stdout",
     "output_type": "stream",
     "text": [
      "1999 Time, Love, Memory: A Great Biologist And His Quest For The Origins Of Behavior.\n",
      "2006 Sturtevant & Dobzhansky: Two Scientists At Odds, With A Student'S Recollections\n",
      "2001 On Cloning: Advocating History Of Biology In The Public Interest\n",
      "2003 Good Seeing: A Century Of Science At The Carnegie Institution Of Washington. 1902-2002\n",
      "2000 Camillo Golgi And The Neurosciences\n",
      "2000 The Hidden Structure: A Scientific Biography Of Camillo Golgi\n",
      "2005 Jacob'S Ladder. The History Of The Human Genome\n",
      "1993 Why Collaborate\n",
      "2001 Untitled - Introduction\n",
      "1986 Reflections On Ecology And Evolution - Preface\n",
      "1986 Between Ecology And Evolutionary Biology - Introduction\n",
      "1999 Untitled\n",
      "2003 The Rockefeller University Achievements: A Century Of Science For The Benefit Of Mankind. 1901-2001\n"
     ]
    }
   ],
   "source": [
    "for paper in corpus[('authors', ('MAIENSCHEIN', 'J'))]:\n",
    "    print paper.date, paper.title"
   ]
  },
  {
   "cell_type": "markdown",
   "metadata": {},
   "source": [
    "We can create a new index using the ``index()`` method. For example, to index ``Paper``s by ``date``, we could do:"
   ]
  },
  {
   "cell_type": "code",
   "execution_count": 20,
   "metadata": {
    "collapsed": true
   },
   "outputs": [],
   "source": [
    "corpus.index('date')"
   ]
  },
  {
   "cell_type": "markdown",
   "metadata": {},
   "source": [
    "``'date'`` should now show up in the available indices..."
   ]
  },
  {
   "cell_type": "code",
   "execution_count": 21,
   "metadata": {
    "collapsed": false
   },
   "outputs": [
    {
     "data": {
      "text/plain": [
       "['date', 'citations', 'authors']"
      ]
     },
     "execution_count": 21,
     "metadata": {},
     "output_type": "execute_result"
    }
   ],
   "source": [
    "corpus.indices.keys()"
   ]
  },
  {
   "cell_type": "markdown",
   "metadata": {},
   "source": [
    "...and we can now look up all of the ``Paper``s published in 1985:"
   ]
  },
  {
   "cell_type": "code",
   "execution_count": 22,
   "metadata": {
    "collapsed": false
   },
   "outputs": [
    {
     "name": "stdout",
     "output_type": "stream",
     "text": [
      "1985 From Galen Ureters To Harvey Veins\n",
      "1985 Paleontology And Philosophy - A Critique\n",
      "1985 Essay Review - Mayr,Ernst On The History Of Biology\n",
      "1985 The History Of Ecology - Achievements And Opportunities .2.\n",
      "1985 The Historical Bases Of The Concept Of Allelopathy\n",
      "1985 Organotherapy And The Emergence Of Reproductive Endocrinology\n",
      "1985 Conklin,E.G. On Evolution - The Popular Writings Of An Embryologist\n",
      "1985 Essay Review - Stone Ages, Old And New\n",
      "1985 Europe Discovers Civet Cats And Civet\n",
      "1985 Notes On Darwin,Charles Autobiography\n",
      "1985 Weismann And Evolution\n",
      "1985 Keill,James, Cheyne,George, And Newtonian Physiology, 1690-1740\n",
      "1985 Conceptual Models And Analytical Tools - The Biology Of Physicist Delbruck,Max\n",
      "1985 American Morphology In The Late 19Th-Century - The Biology Department At Johns-Hopkins-University\n",
      "1985 The Rise And Fall Of Darwin 2Nd Theory\n"
     ]
    }
   ],
   "source": [
    "for paper in corpus[('date', 1985)]:\n",
    "    print paper.date, paper.title"
   ]
  },
  {
   "cell_type": "markdown",
   "metadata": {},
   "source": [
    "## Simple Networks\n",
    "\n",
    "One of the core features of Tethne is a set of functions for building networks from bibliographic datasets. These functions are located in the ``tethne.networks`` subpackage. In this section, we'll build a coauthorship network.\n",
    "\n",
    "The first step is to import the ``networks`` subpackage."
   ]
  },
  {
   "cell_type": "code",
   "execution_count": 23,
   "metadata": {
    "collapsed": true
   },
   "outputs": [],
   "source": [
    "from tethne import networks"
   ]
  },
  {
   "cell_type": "markdown",
   "metadata": {},
   "source": [
    "Now use the ``coauthors`` function to create the network. We need provide it only our ``Corpus``:"
   ]
  },
  {
   "cell_type": "code",
   "execution_count": 24,
   "metadata": {
    "collapsed": true
   },
   "outputs": [],
   "source": [
    "coauthor_graph = networks.coauthors(corpus)"
   ]
  },
  {
   "cell_type": "markdown",
   "metadata": {},
   "source": [
    "Tethne uses a package called NetworkX to build networks. All of the network-building functions return NetworkX ``Graph`` objects. We can see how large our network is using the ``order()`` and ``size()`` methods:"
   ]
  },
  {
   "cell_type": "code",
   "execution_count": 25,
   "metadata": {
    "collapsed": false
   },
   "outputs": [
    {
     "name": "stdout",
     "output_type": "stream",
     "text": [
      "137\n",
      "96\n"
     ]
    }
   ],
   "source": [
    "print coauthor_graph.order()    # Number of nodes.\n",
    "print coauthor_graph.size()     # Number of edges."
   ]
  },
  {
   "cell_type": "markdown",
   "metadata": {},
   "source": [
    "As you can see, historians of science don't collaborate much.\n",
    "\n",
    "To see a list of nodes, use the ``nodes()`` method:"
   ]
  },
  {
   "cell_type": "code",
   "execution_count": 26,
   "metadata": {
    "collapsed": false
   },
   "outputs": [
    {
     "data": {
      "text/plain": [
       "[(u'WEBER', u'BH'),\n",
       " (u'CAPELOTTI', u'PJ'),\n",
       " (u'GREENE', u'MOTT T'),\n",
       " (u'PRETE', u'FR'),\n",
       " (u'SEYFARTH', u'ERNSTAUGUST'),\n",
       " (u'GAYON', u'JEAN'),\n",
       " (u'BURIAN', u'RM'),\n",
       " (u'DOYLE', u'THOMAS J'),\n",
       " (u'MORGAN', u'GREGORY J'),\n",
       " (u'SIMOES', u'A')]"
      ]
     },
     "execution_count": 26,
     "metadata": {},
     "output_type": "execute_result"
    }
   ],
   "source": [
    "coauthor_graph.nodes()[:10]    # [:10] just shows the first ten."
   ]
  },
  {
   "cell_type": "markdown",
   "metadata": {},
   "source": [
    "...and ``edges()`` for edges:"
   ]
  },
  {
   "cell_type": "code",
   "execution_count": 27,
   "metadata": {
    "collapsed": false
   },
   "outputs": [
    {
     "data": {
      "text/plain": [
       "[((u'WEBER', u'BH'), (u'PREBBLE', u'JN'), {'weight': 1}),\n",
       " ((u'CAPELOTTI', u'PJ'), (u'DEVLIN', u'CL'), {'weight': 1}),\n",
       " ((u'GREENE', u'MOTT T'), (u'GREENE', u'PETER S'), {'weight': 1}),\n",
       " ((u'PRETE', u'FR'), (u'WOLFE', u'MM'), {'weight': 1}),\n",
       " ((u'SEYFARTH', u'ERNSTAUGUST'), (u'ZOTTOLI', u'STEVEN J'), {'weight': 1}),\n",
       " ((u'GAYON', u'JEAN'), (u'OSBORNE', u'MICHAEL A'), {'weight': 1}),\n",
       " ((u'GAYON', u'JEAN'), (u'GOHAU', u'GABRIEL'), {'weight': 1}),\n",
       " ((u'GAYON', u'JEAN'), (u'TIRARD', u'STEPHANC'), {'weight': 1}),\n",
       " ((u'BURIAN', u'RM'), (u'LEDERMAN', u'M'), {'weight': 1}),\n",
       " ((u'BURIAN', u'RM'), (u'ZALLEN', u'D'), {'weight': 1})]"
      ]
     },
     "execution_count": 27,
     "metadata": {},
     "output_type": "execute_result"
    }
   ],
   "source": [
    "coauthor_graph.edges(data=True)[:10]    # [:10] just shows the first ten.\n",
    "                                        # data=True tells edges() to return details about each edge."
   ]
  },
  {
   "cell_type": "markdown",
   "metadata": {},
   "source": [
    "For networks with anything more than a few nodes, it's hard to visualize what's going on in the iPython environment. So we'll expore the ``coauthor_graph`` and visualize it in a network analysis package called [Cytoscape](http://cytoscape.org).\n",
    "\n",
    "Cytoscape understands several network file formats. GraphML ((link here)) is probably the most versatile, so we'll use it to export our coauthor graph. \n",
    "\n",
    "The ``tethne.writers.graph`` module has several functions for writing graphs to disk. We'll use ``to_graphml()``:"
   ]
  },
  {
   "cell_type": "code",
   "execution_count": 28,
   "metadata": {
    "collapsed": true
   },
   "outputs": [],
   "source": [
    "from tethne.writers.graph import to_graphml"
   ]
  },
  {
   "cell_type": "markdown",
   "metadata": {},
   "source": [
    "``to_graphml()`` accepts two arguments: the graph itself, and a string with the path to the output file (that will be created). In the example below, I just put the graph on my desktop."
   ]
  },
  {
   "cell_type": "code",
   "execution_count": 29,
   "metadata": {
    "collapsed": false
   },
   "outputs": [],
   "source": [
    "to_graphml(coauthor_graph, '/Users/erickpeirson/Desktop/coauthors_graph.graphml')"
   ]
  },
  {
   "cell_type": "markdown",
   "metadata": {},
   "source": [
    "If you were to open that file, the first few lines would look something like this:\n",
    "\n",
    "```\n",
    "<?xml version='1.0' encoding='utf-8'?>\n",
    "<graphml xmlns=\"http://graphml.graphdrawing.org/xmlns\" xmlns:xsi=\"http://www.w3.org/2001/XMLSchema-instance\" xsi:schemaLocation=\"http://graphml.graphdrawing.org/xmlns http://graphml.graphdrawing.org/xmlns/1.0/graphml.xsd\">\n",
    "  <key attr.name=\"weight\" attr.type=\"int\" for=\"edge\" id=\"weight\" />\n",
    "  <key attr.name=\"documentCount\" attr.type=\"int\" for=\"node\" id=\"documentCount\" />\n",
    "  <key attr.name=\"count\" attr.type=\"double\" for=\"node\" id=\"count\" />\n",
    "  <graph edgedefault=\"undirected\">\n",
    "    <node id=\"WEBER, BH\">\n",
    "      <data key=\"count\">1.0</data>\n",
    "      <data key=\"documentCount\">1</data>\n",
    "    </node>\n",
    "    <node id=\"CAPELOTTI, PJ\">\n",
    "      <data key=\"count\">1.0</data>\n",
    "      <data key=\"documentCount\">1</data>\n",
    "    </node>\n",
    "    <node id=\"GREENE, MOTT T\">\n",
    "      <data key=\"count\">3.0</data>\n",
    "      <data key=\"documentCount\">3</data>\n",
    "    </node>\n",
    "    <node id=\"PRETE, FR\">\n",
    "      <data key=\"count\">3.0</data>\n",
    "      <data key=\"documentCount\">3</data>\n",
    "    </node>\n",
    "```\n",
    "\n",
    "Everything in the graph is enclosed between the ``<graphml ...></graphml>`` tags. Each author is represented by a ``<node></node>`` element. Further down, relationships between authors are represented by ``<edge></edge>`` elements.\n",
    "\n",
    "```\n",
    "    <edge source=\"TAUBER, AI\" target=\"BALABAN, M\">\n",
    "      <data key=\"weight\">1</data>\n",
    "    </edge>\n",
    "    <edge source=\"TAUBER, AI\" target=\"PODOLSKY, SH\">\n",
    "      <data key=\"weight\">1</data>\n",
    "    </edge>\n",
    "    <edge source=\"TAUBER, AI\" target=\"CRIST, E\">\n",
    "      <data key=\"weight\">1</data>\n",
    "    </edge>\n",
    "    <edge source=\"RUPKE, N\" target=\"HOSSFELD, U\">\n",
    "      <data key=\"weight\">1</data>\n",
    "    </edge>\n",
    "    <edge source=\"GAWNE, RICHARD\" target=\"NICHOLSON, DANIEL J\">\n",
    "      <data key=\"weight\">1</data>\n",
    "    </edge>\n",
    "```\n",
    "\n",
    "## Visualization in Cytoscape\n",
    "\n",
    "Go ahead and load Cytoscape. After the application loads, you should see a splash screen like the one below. Click on \"From network file\", then select your graphml file and click OK.\n",
    "\n",
    "![](./images/cytoscape/cytoscape.1.png)\n",
    "\n",
    "Once the network loads, you'll see a jumble of nodes and edges. Click on the \"Apply Preferred Layout\" button (it looks like nodes with arrows pointing in various directions) at the top of the screen.\n",
    "\n",
    "![](./images/cytoscape/cytoscape.2.png)\n",
    "\n",
    "By default, this should apply a force-directed layout. After a few moments, your network should look something like the image below.\n",
    "\n",
    "![](./images/cytoscape/cytoscape.3.png)\n",
    "\n",
    "We can visualize attributes of the graph in the \"Styles\" menu. Click on \"Styles\" in the upper left. In the example below, I set node & height widths to be equal, and set node size as a continuous function of \"count\" (this is the number of papers written by each author.\n",
    "\n",
    "![](./images/cytoscape/cytoscape.4.png)\n",
    "\n",
    "We can set edge attributes, too. In the example below, I set edge width to be a function of \"weight\", which is the number of papers that the two connected authors wrote together.\n",
    "\n",
    "![](./images/cytoscape/cytoscape.5.png)\n",
    "\n",
    "You can zoom in and out to take a closer look at parts of the graph. If you click on the \"network\" tab in the upper left, you'll see a mini version of your network in the lower left, with a blue box showing which area you're currently viewing.\n",
    "\n",
    "![](./images/cytoscape/cytoscape.6.png)"
   ]
  },
  {
   "cell_type": "markdown",
   "metadata": {},
   "source": [
    "## Bibliographic Coupling\n",
    "\n",
    "Bibliographic coupling can be a useful and computationally cheap way to explore the \n",
    "thematic topology of a large scientific literature.\n",
    "\n",
    "[Bibliographic coupling](http://en.wikipedia.org/wiki/Bibliographic_coupling) was first \n",
    "proposed as a method for detecting latent topical affinities among research publications\n",
    "by Myer M. Kessler at MIT in 1958. In 1972, J.C. Donohue suggested that bibliographic \n",
    "coupling could be used to the map \"research fronts\" in science, and this method, along \n",
    "with co-citation analysis and other citation-based clustering techniques, became a core \n",
    "methodology of the science-mapping craze of the 1970s. Bibliographic coupling is still \n",
    "employed in the context of both information-retrieval and science-studies.\n",
    "\n",
    "Two papers are bibliographically coupled if they both cite at least some of the same\n",
    "papers. The core assumption of bibliographic coupling analysis is that if two papers\n",
    "cite similar literatures, then they must be topically related in some way. That is, they\n",
    "are more likely to be related to each other than to papers with which they share no cited\n",
    "references.\n",
    "\n",
    "![](./images/wos/citationnetworks.png)\n",
    "\n",
    "What we are aiming for is a graph model of our bibliographic\n",
    "data that reveals thematically coherent and informative clusters of documents. We will use\n",
    "Tethne's `bibligraphic_coupling()` function to generate such a network."
   ]
  },
  {
   "cell_type": "markdown",
   "metadata": {},
   "source": [
    "First we import the function:"
   ]
  },
  {
   "cell_type": "code",
   "execution_count": 30,
   "metadata": {
    "collapsed": true
   },
   "outputs": [],
   "source": [
    "from tethne import bibliographic_coupling"
   ]
  },
  {
   "cell_type": "markdown",
   "metadata": {},
   "source": [
    "We use this function just like the ``coauthors()`` function -- passing the ``Corpus`` are our first argument -- but we can also pass additional arguments. ``min_weight`` indicates that two ``Paper``s must share at least three cited references to be coupled. ``node_attrs`` tells the function to add additional information to each node; in this case, ``'date'`` and ``'title'``."
   ]
  },
  {
   "cell_type": "code",
   "execution_count": 41,
   "metadata": {
    "collapsed": false
   },
   "outputs": [],
   "source": [
    "coupling_graph = bibliographic_coupling(corpus, min_weight=3, node_attrs=['date', 'title'])"
   ]
  },
  {
   "cell_type": "markdown",
   "metadata": {},
   "source": [
    "We can \"tune\" this function by increasing or decreasing ``min_weight`` to yield more or less dense graphs. ``order()`` (the number of nodes) and ``size()`` (the number of edges) give us a sense of the density of the graph."
   ]
  },
  {
   "cell_type": "code",
   "execution_count": 42,
   "metadata": {
    "collapsed": false
   },
   "outputs": [
    {
     "data": {
      "text/plain": [
       "(438, 1798)"
      ]
     },
     "execution_count": 42,
     "metadata": {},
     "output_type": "execute_result"
    }
   ],
   "source": [
    "coupling_graph.order(), coupling_graph.size()"
   ]
  },
  {
   "cell_type": "markdown",
   "metadata": {},
   "source": [
    "We can use the ``to_graphml()`` function once again to write the graph to disk, so that we can visualize it in Cytoscape."
   ]
  },
  {
   "cell_type": "code",
   "execution_count": 40,
   "metadata": {
    "collapsed": false
   },
   "outputs": [],
   "source": [
    "to_graphml(coupling_graph, '/Users/erickpeirson/Desktop/coupling_graph.graphml')"
   ]
  },
  {
   "cell_type": "markdown",
   "metadata": {},
   "source": [
    "The resulting graph, with some styling, might look like this:\n",
    "\n",
    "![](./images/cytoscape/bibliocoupling.png)"
   ]
  }
 ],
 "metadata": {
  "kernelspec": {
   "display_name": "Python 2",
   "language": "python",
   "name": "python2"
  },
  "language_info": {
   "codemirror_mode": {
    "name": "ipython",
    "version": 2
   },
   "file_extension": ".py",
   "mimetype": "text/x-python",
   "name": "python",
   "nbconvert_exporter": "python",
   "pygments_lexer": "ipython2",
   "version": "2.7.9"
  }
 },
 "nbformat": 4,
 "nbformat_minor": 0
}
