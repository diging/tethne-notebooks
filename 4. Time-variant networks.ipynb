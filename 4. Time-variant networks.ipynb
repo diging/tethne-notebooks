{
 "cells": [
  {
   "cell_type": "code",
   "execution_count": 1,
   "metadata": {
    "collapsed": false
   },
   "outputs": [
    {
     "name": "stdout",
     "output_type": "stream",
     "text": [
      "Populating the interactive namespace from numpy and matplotlib\n"
     ]
    }
   ],
   "source": [
    "%pylab inline"
   ]
  },
  {
   "cell_type": "code",
   "execution_count": 2,
   "metadata": {
    "collapsed": false
   },
   "outputs": [],
   "source": [
    "from pprint import pprint\n",
    "import matplotlib.pyplot as plt"
   ]
  },
  {
   "cell_type": "code",
   "execution_count": 3,
   "metadata": {
    "collapsed": true
   },
   "outputs": [],
   "source": [
    "import networkx as nx\n",
    "from collections import defaultdict\n",
    "import warnings\n",
    "from tethne import networks\n",
    "from tethne.utilities import _iterable"
   ]
  },
  {
   "cell_type": "markdown",
   "metadata": {},
   "source": [
    "# Introduction to Tethne: Time-Variant Networks"
   ]
  },
  {
   "cell_type": "markdown",
   "metadata": {},
   "source": [
    "Now that we can index our ``Corpus`` temporally using the ``slice`` method, we can start to build time-variant networks. In this workbook we'll build a time-variant coauthor network using a ``GraphCollection``."
   ]
  },
  {
   "cell_type": "markdown",
   "metadata": {},
   "source": [
    "## Before you start"
   ]
  },
  {
   "cell_type": "markdown",
   "metadata": {},
   "source": [
    "* Download the Web of Science practice dataset from [here](http://devo-evo.lab.asu.edu/methods/tethne/datasets.zip), and store it in a place where you can find it. You'll need the full path to your dataset.\n",
    "* Complete the tutorial **\"Time and Change, Working with Corpora\"**"
   ]
  },
  {
   "cell_type": "markdown",
   "metadata": {},
   "source": [
    "## Loading data"
   ]
  },
  {
   "cell_type": "markdown",
   "metadata": {},
   "source": [
    "We'll use the same WoS dataset that we've used in previous workbooks. Load it up using **``read()``**."
   ]
  },
  {
   "cell_type": "code",
   "execution_count": 4,
   "metadata": {
    "collapsed": false
   },
   "outputs": [],
   "source": [
    "from tethne.readers.wos import read\n",
    "datadirpath = '/Users/erickpeirson/Projects/tethne-notebooks/data/wos'\n",
    "MyCorpus = read(datadirpath)"
   ]
  },
  {
   "cell_type": "markdown",
   "metadata": {},
   "source": [
    "## Slicing our ``Corpus``"
   ]
  },
  {
   "cell_type": "markdown",
   "metadata": {},
   "source": [
    "To generate a time-variant network, we must first slice our ``Corpus`` temporally. Many research questions about social networks like coauthor networks involve how nodes recruit new neighbors. To look at this in the context of our dataset, we'll want to keep old nodes and edges around even if they don't show up in more recent slices. So we'll do a simple 1-year time-period slice, but with ``cumulative=True``."
   ]
  },
  {
   "cell_type": "markdown",
   "metadata": {},
   "source": [
    "**Note**: In early versions of Tethne, ``slice()`` performed indexing on the spot, and stored the results in memory. As of v0.7.x, ``slice()`` returns a generator over slices. ``slice()`` also no longer operates on non-date fields, since this functionality is already provided by ``index()``."
   ]
  },
  {
   "cell_type": "code",
   "execution_count": 5,
   "metadata": {
    "collapsed": false
   },
   "outputs": [
    {
     "data": {
      "text/plain": [
       "<generator object slice at 0x11298cf00>"
      ]
     },
     "execution_count": 5,
     "metadata": {},
     "output_type": "execute_result"
    }
   ],
   "source": [
    "MyCorpus.slice(window_size=10, step_size=2)"
   ]
  },
  {
   "cell_type": "markdown",
   "metadata": {},
   "source": [
    "## Creating a ``GraphCollection``"
   ]
  },
  {
   "cell_type": "markdown",
   "metadata": {},
   "source": [
    "As the name suggests, a ``GraphCollection`` is a container for graphs. The ``GraphCollection`` class gives us some convenient methods for generating and interrogating time-variant networks. The ``GraphCollection.build`` method allows us to build a series of graphs from our ``Corpus`` -- one graph per slice -- all in one step.\n",
    "\n",
    "First, import ``GraphCollection`` directly from the ``tethne`` package."
   ]
  },
  {
   "cell_type": "code",
   "execution_count": 6,
   "metadata": {
    "collapsed": false
   },
   "outputs": [],
   "source": [
    "from tethne import GraphCollection"
   ]
  },
  {
   "cell_type": "code",
   "execution_count": 7,
   "metadata": {
    "collapsed": false
   },
   "outputs": [],
   "source": [
    "from tethne.networks import coauthors"
   ]
  },
  {
   "cell_type": "markdown",
   "metadata": {},
   "source": [
    "The following code builds a collection of co-authorship networks, using a 3-year cumulative time-window."
   ]
  },
  {
   "cell_type": "code",
   "execution_count": 64,
   "metadata": {
    "collapsed": false
   },
   "outputs": [],
   "source": [
    "MyGraphCollection = GraphCollection(MyCorpus, coauthors, slice_kwargs={'window_size': 10, 'step_size': 2})"
   ]
  },
  {
   "cell_type": "markdown",
   "metadata": {},
   "source": [
    "We passed the ``GraphCollection`` constructor three arguments in the code-block above: \n",
    "\n",
    "1. Our ``Corpus`` instance;\n",
    "2. A network-building function (``coauthors``);\n",
    "3. Keyword arguments for ``slice()``."
   ]
  },
  {
   "cell_type": "markdown",
   "metadata": {},
   "source": [
    "We can use the ``plot_node_distribution`` and ``plot_edge_distribution`` methods to see how many nodes and edges are in the graph at each point in time (technically, how many nodes and edges are in each graph, each of which corresponds to a slice in the ``Corpus``)."
   ]
  },
  {
   "cell_type": "code",
   "execution_count": 65,
   "metadata": {
    "collapsed": false
   },
   "outputs": [
    {
     "data": {
      "image/png": "[encoded data removed]",
      "text/plain": [
       "<matplotlib.figure.Figure at 0x11a79ef50>"
      ]
     },
     "metadata": {},
     "output_type": "display_data"
    }
   ],
   "source": [
    "node_distribution = MyGraphCollection.node_distribution()\n",
    "edge_distribution = MyGraphCollection.edge_distribution()\n",
    "\n",
    "plt.figure(figsize=(15, 4))\n",
    "plt.subplot(121)\n",
    "plt.bar(node_distribution.keys(), node_distribution.values())\n",
    "plt.xlim(min(node_distribution.keys()), max(node_distribution.keys()))\n",
    "plt.ylabel('Number of nodes per graph')\n",
    "\n",
    "plt.subplot(122)\n",
    "plt.bar(edge_distribution.keys(), edge_distribution.values())\n",
    "plt.xlim(min(edge_distribution.keys()), max(edge_distribution.keys()))\n",
    "plt.ylabel('Number of edges per graph')\n",
    "plt.show()"
   ]
  },
  {
   "cell_type": "markdown",
   "metadata": {},
   "source": [
    "## Analyzing time-variant networks"
   ]
  },
  {
   "cell_type": "markdown",
   "metadata": {},
   "source": [
    "The ``GraphCollection`` makes it easy to apply algorithms from [NetworkX](http://networkx.github.io/documentation/networkx-1.9/reference/algorithms.html) across the whole time-variant network (i.e. to all graphs in the ``GraphCollection``). "
   ]
  },
  {
   "cell_type": "markdown",
   "metadata": {},
   "source": [
    "The method ``analyze`` applies an algorithm to all of the graphs in the ``GraphCollection``."
   ]
  },
  {
   "cell_type": "code",
   "execution_count": 66,
   "metadata": {
    "collapsed": false
   },
   "outputs": [],
   "source": [
    "dc = MyGraphCollection.analyze('degree_centrality')"
   ]
  },
  {
   "cell_type": "code",
   "execution_count": 67,
   "metadata": {
    "collapsed": false
   },
   "outputs": [
    {
     "data": {
      "text/plain": [
       "[(57, 0.013333333333333334),\n",
       " (58, 0.01),\n",
       " (59, 0.0033333333333333335),\n",
       " (60, 0.013333333333333334),\n",
       " (61, 0.0033333333333333335),\n",
       " (62, 0.013333333333333334),\n",
       " (63, 0.006666666666666667),\n",
       " (64, 0.013333333333333334),\n",
       " (65, 0.013333333333333334),\n",
       " (66, 0.006666666666666667)]"
      ]
     },
     "execution_count": 67,
     "metadata": {},
     "output_type": "execute_result"
    }
   ],
   "source": [
    "dc[1987].items()[20:30]"
   ]
  },
  {
   "cell_type": "code",
   "execution_count": 68,
   "metadata": {
    "collapsed": false
   },
   "outputs": [],
   "source": [
    "bcentrality = MyGraphCollection.analyze('betweenness_centrality')"
   ]
  },
  {
   "cell_type": "markdown",
   "metadata": {},
   "source": [
    "Some algorithms, like \"degree_centrality\" and \"betweenness_centrality\" return a value for each node in each graph. In that case, the nodes in each graph are updated with those values."
   ]
  },
  {
   "cell_type": "code",
   "execution_count": 75,
   "metadata": {
    "collapsed": false
   },
   "outputs": [
    {
     "data": {
      "text/plain": [
       "[(231,\n",
       "  {'betweenness_centrality': 0.0,\n",
       "   'count': 1.0,\n",
       "   'degree_centrality': 0.002589182968929804,\n",
       "   'documentCount': 1}),\n",
       " (251,\n",
       "  {'betweenness_centrality': 0.0,\n",
       "   'count': 1.0,\n",
       "   'degree_centrality': 0.00028768699654775604,\n",
       "   'documentCount': 1})]"
      ]
     },
     "execution_count": 75,
     "metadata": {},
     "output_type": "execute_result"
    }
   ],
   "source": [
    "MyGraphCollection[2003].nodes(data=True)[15:17]   # Shows the attributes for two of the nodes in the 2008 graph."
   ]
  },
  {
   "cell_type": "markdown",
   "metadata": {},
   "source": [
    "The method ``plot_attr_distribution`` can help to visualize the results of an algorithm across the graphs in the ``GraphCollection``. In the example below, ``attr='degree_centrality'`` selects the degree_centrality attribute, ``etype='node'`` indicates that the attribute belongs to nodes (not edges), and ``stat=mean`` specifies that the Python function ``mean`` should be applied to the collection of values in each graph."
   ]
  },
  {
   "cell_type": "markdown",
   "metadata": {},
   "source": [
    "We can use ``node_history`` to look at how the attribute of a particular node changes across graphs. In the example below, the specified node appears first in 2008, and its centrality increases through 2011."
   ]
  },
  {
   "cell_type": "code",
   "execution_count": 76,
   "metadata": {
    "collapsed": true
   },
   "outputs": [],
   "source": [
    "node_id = MyGraphCollection.node_lookup[(u'WARWICK', u'SI')]\n",
    "warwick_centrality = MyGraphCollection.node_history(node_id, 'degree_centrality')"
   ]
  },
  {
   "cell_type": "code",
   "execution_count": 77,
   "metadata": {
    "collapsed": false
   },
   "outputs": [
    {
     "data": {
      "text/plain": [
       "[(1969, 0.09090909090909091),\n",
       " (1971, 0.09090909090909091),\n",
       " (1973, 0.047619047619047616),\n",
       " (1975, 0.03333333333333333),\n",
       " (1977, 0.03571428571428571),\n",
       " (1979, 0.02702702702702703)]"
      ]
     },
     "execution_count": 77,
     "metadata": {},
     "output_type": "execute_result"
    }
   ],
   "source": [
    "warwick_centrality.items()[:20]"
   ]
  },
  {
   "cell_type": "code",
   "execution_count": 78,
   "metadata": {
    "collapsed": false
   },
   "outputs": [
    {
     "data": {
      "image/png": "[encoded data removed]",
      "text/plain": [
       "<matplotlib.figure.Figure at 0x11cc84750>"
      ]
     },
     "metadata": {},
     "output_type": "display_data"
    }
   ],
   "source": [
    "plt.plot(warwick_centrality.keys(), warwick_centrality.values(), 'ro')\n",
    "plt.ylabel('Degree Centrality')\n",
    "plt.show()"
   ]
  },
  {
   "cell_type": "markdown",
   "metadata": {},
   "source": [
    "## Node indexing"
   ]
  },
  {
   "cell_type": "markdown",
   "metadata": {},
   "source": [
    "Note that in the example above we had to convert our author name, ``(u'WARWICK', u'SI')``, to an id, ``node_id``. That's because the ``GraphCollection`` indexes all of the nodes so that we can track them across graphs. The index is stored in ``GraphCollection.node_index``:"
   ]
  },
  {
   "cell_type": "code",
   "execution_count": 79,
   "metadata": {
    "collapsed": false
   },
   "outputs": [
    {
     "data": {
      "text/plain": [
       "[(0, (u'ANANTARAM', '')),\n",
       " (1, (u'SEN', u'K')),\n",
       " (2, (u'LAROI', u'GH')),\n",
       " (3, (u'DUGLE', u'JR')),\n",
       " (4, (u'BOSCHHUIR', '')),\n",
       " (5, (u'GROOT', u'J')),\n",
       " (6, (u'LEWIS', u'MC')),\n",
       " (7, (u'WILKINS', u'DA')),\n",
       " (8, (u'TAMARIN', u'RH')),\n",
       " (9, (u'MALECHA', u'SR'))]"
      ]
     },
     "execution_count": 79,
     "metadata": {},
     "output_type": "execute_result"
    }
   ],
   "source": [
    "MyGraphCollection.node_index.items()[0:10]    # The first ten nodes in the index."
   ]
  },
  {
   "cell_type": "code",
   "execution_count": 80,
   "metadata": {
    "collapsed": false
   },
   "outputs": [
    {
     "data": {
      "text/plain": [
       "(u'PORTER', u'WARREN P')"
      ]
     },
     "execution_count": 80,
     "metadata": {},
     "output_type": "execute_result"
    }
   ],
   "source": [
    "MyGraphCollection.node_index[2467]    # Get the name of a specific node."
   ]
  },
  {
   "cell_type": "markdown",
   "metadata": {},
   "source": [
    "To look up the index of a node based on its name (e.g. an author name), use ``GraphCollection.node_lookup``:"
   ]
  },
  {
   "cell_type": "code",
   "execution_count": 81,
   "metadata": {
    "collapsed": false
   },
   "outputs": [
    {
     "data": {
      "text/plain": [
       "[((u'LIU', u'SR'), 1069),\n",
       " ((u'IVEY', u'CHRISTOPHER T'), 2146),\n",
       " ((u'BURNS', u'KEVIN C'), 4149),\n",
       " ((u'FERRIER', u'SHARON M'), 4143),\n",
       " ((u'ROOD', u'SB'), 1454),\n",
       " ((u'YOKOYAMA', u'JUN'), 4108),\n",
       " ((u'FRESCHET', u'GREGOIRE T'), 3885),\n",
       " ((u'SEXTON', u'JASON P'), 3980),\n",
       " ((u'PEARSONS', u'TODD N'), 1452),\n",
       " ((u'BALTISBERGER', u'MATTHIAS'), 4138)]"
      ]
     },
     "execution_count": 81,
     "metadata": {},
     "output_type": "execute_result"
    }
   ],
   "source": [
    "MyGraphCollection.node_lookup.items()[0:10]    # The first ten nodes in the lookup table."
   ]
  },
  {
   "cell_type": "code",
   "execution_count": 82,
   "metadata": {
    "collapsed": false
   },
   "outputs": [
    {
     "data": {
      "text/plain": [
       "3980"
      ]
     },
     "execution_count": 82,
     "metadata": {},
     "output_type": "execute_result"
    }
   ],
   "source": [
    "MyGraphCollection.node_lookup[(u'SEXTON', u'JASON P')]    # Get the index of a specific node."
   ]
  },
  {
   "cell_type": "markdown",
   "metadata": {},
   "source": [
    "## Writing dynamic graphs"
   ]
  },
  {
   "cell_type": "markdown",
   "metadata": {},
   "source": [
    "Cytoscape provides support for Dynamic XGMML, which is a network file format that supports time-variant graphs. You can write DXGMML using the ``to_dxgmml`` function in the ``writers.collection`` module."
   ]
  },
  {
   "cell_type": "code",
   "execution_count": 83,
   "metadata": {
    "collapsed": false
   },
   "outputs": [],
   "source": [
    "from tethne.writers import collection"
   ]
  },
  {
   "cell_type": "code",
   "execution_count": 84,
   "metadata": {
    "collapsed": false
   },
   "outputs": [],
   "source": [
    "outpath = '/Users/erickpeirson/Projects/tethne-notebooks/output/my_dynnetwork.xgmml'\n",
    "collection.to_dxgmml(MyGraphCollection, outpath)"
   ]
  },
  {
   "cell_type": "markdown",
   "metadata": {},
   "source": [
    "Here's a snapshot from around 2008. Node size is mapped to betweenness centrality."
   ]
  },
  {
   "cell_type": "markdown",
   "metadata": {},
   "source": [
    "![](http://devo-evo.lab.asu.edu/methods/tethne/images/coauthors_dyn.png)"
   ]
  },
  {
   "cell_type": "markdown",
   "metadata": {},
   "source": [
    "**Caution:** Cytoscape still has a hard time with large dynamic graphs. This is mostly useful for heuristic purposes, or small graphs."
   ]
  }
 ],
 "metadata": {
  "kernelspec": {
   "display_name": "Python 2",
   "language": "python",
   "name": "python2"
  },
  "language_info": {
   "codemirror_mode": {
    "name": "ipython",
    "version": 2
   },
   "file_extension": ".py",
   "mimetype": "text/x-python",
   "name": "python",
   "nbconvert_exporter": "python",
   "pygments_lexer": "ipython2",
   "version": "2.7.9"
  }
 },
 "nbformat": 4,
 "nbformat_minor": 0
}
