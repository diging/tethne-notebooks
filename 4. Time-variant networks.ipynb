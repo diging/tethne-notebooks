{
 "metadata": {
  "name": "",
  "signature": "sha256:7d4785be4c3313c19baccca89c8e8eb233cb02c249d6de9695a67cfa37117817"
 },
 "nbformat": 3,
 "nbformat_minor": 0,
 "worksheets": [
  {
   "cells": [
    {
     "cell_type": "code",
     "collapsed": false,
     "input": [
      "from pprint import pprint\n",
      "import matplotlib.pyplot as plt"
     ],
     "language": "python",
     "metadata": {},
     "outputs": [],
     "prompt_number": 1
    },
    {
     "cell_type": "markdown",
     "metadata": {},
     "source": [
      "# Introduction to Tethne: Time-Variant Networks"
     ]
    },
    {
     "cell_type": "markdown",
     "metadata": {},
     "source": [
      "Now that we can index our ``Corpus`` temporally using the ``slice`` method, we can start to build time-variant networks. In this workbook we'll build a time-variant coauthor network using a ``GraphCollection``."
     ]
    },
    {
     "cell_type": "markdown",
     "metadata": {},
     "source": [
      "## Before you start"
     ]
    },
    {
     "cell_type": "markdown",
     "metadata": {},
     "source": [
      "* Download the Web of Science practice dataset from [here](http://devo-evo.lab.asu.edu/methods/tethne/datasets.zip), and store it in a place where you can find it. You'll need the full path to your dataset.\n",
      "* Complete the tutorial **\"Time and Change, Working with Corpora\"**"
     ]
    },
    {
     "cell_type": "markdown",
     "metadata": {},
     "source": [
      "## Loading data"
     ]
    },
    {
     "cell_type": "markdown",
     "metadata": {},
     "source": [
      "We'll use the same WoS dataset that we've used in previous workbooks. Load it up using **``corpus_from_dir``**."
     ]
    },
    {
     "cell_type": "code",
     "collapsed": false,
     "input": [
      "from tethne.readers import wos\n",
      "datadirpath = '/Users/erickpeirson/tethne-notebooks/data/wos'\n",
      "MyCorpus = wos.corpus_from_dir(datadirpath)"
     ],
     "language": "python",
     "metadata": {},
     "outputs": [],
     "prompt_number": 2
    },
    {
     "cell_type": "markdown",
     "metadata": {},
     "source": [
      "## Slicing our ``Corpus``"
     ]
    },
    {
     "cell_type": "markdown",
     "metadata": {},
     "source": [
      "To generate a time-variant network, we must first slice our ``Corpus`` temporally. Many research questions about social networks like coauthor networks involve how nodes recruit new neighbors. To look at this in the context of our dataset, we'll want to keep old nodes and edges around even if they don't show up in more recent slices. So we'll do a simple 1-year time-period slice, but with ``cumulative=True``."
     ]
    },
    {
     "cell_type": "code",
     "collapsed": false,
     "input": [
      "MyCorpus.slice('date', method='time_window', window_size=3)"
     ],
     "language": "python",
     "metadata": {},
     "outputs": [],
     "prompt_number": 3
    },
    {
     "cell_type": "markdown",
     "metadata": {},
     "source": [
      "## Creating a ``GraphCollection``"
     ]
    },
    {
     "cell_type": "markdown",
     "metadata": {},
     "source": [
      "As the name suggests, a ``GraphCollection`` is a container for graphs. The ``GraphCollection`` class gives us some convenient methods for generating and interrogating time-variant networks. The ``GraphCollection.build`` method allows us to build a series of graphs from our ``Corpus`` -- one graph per slice -- all in one step.\n",
      "\n",
      "First, import ``GraphCollection`` directly from the ``tethne`` package."
     ]
    },
    {
     "cell_type": "code",
     "collapsed": false,
     "input": [
      "from tethne import GraphCollection"
     ],
     "language": "python",
     "metadata": {},
     "outputs": [],
     "prompt_number": 4
    },
    {
     "cell_type": "code",
     "collapsed": false,
     "input": [
      "MyGraphCollection = GraphCollection().build(MyCorpus, 'date', 'authors', 'coauthors')"
     ],
     "language": "python",
     "metadata": {},
     "outputs": [],
     "prompt_number": 5
    },
    {
     "cell_type": "markdown",
     "metadata": {},
     "source": [
      "We passed the ``build`` method four arguments in the code-block above: the first was our ``Corpus``, second was the slice axis to use (``date``); the third and fourth arguments specify which graph-building method to use. ``authors`` picks out the ``authors`` module from the ``tethne.networks`` subpackage, and ``coauthors`` picks out the ``authors.coauthors`` method."
     ]
    },
    {
     "cell_type": "markdown",
     "metadata": {},
     "source": [
      "We can use the ``plot_node_distribution`` and ``plot_edge_distribution`` methods to see how many nodes and edges are in the graph at each point in time (technically, how many nodes and edges are in each graph, each of which corresponds to a slice in the ``Corpus``)."
     ]
    },
    {
     "cell_type": "code",
     "collapsed": false,
     "input": [
      "fig = MyGraphCollection.plot_node_distribution()"
     ],
     "language": "python",
     "metadata": {},
     "outputs": [
      {
       "metadata": {},
       "output_type": "display_data",
       "png": "[encoded data removed]",
       "text": [
        "<matplotlib.figure.Figure at 0x10bd42b10>"
       ]
      }
     ],
     "prompt_number": 6
    },
    {
     "cell_type": "code",
     "collapsed": false,
     "input": [
      "fig = MyGraphCollection.plot_edge_distribution()"
     ],
     "language": "python",
     "metadata": {},
     "outputs": [
      {
       "metadata": {},
       "output_type": "display_data",
       "png": "[encoded data removed]",
       "text": [
        "<matplotlib.figure.Figure at 0x1077baed0>"
       ]
      }
     ],
     "prompt_number": 7
    },
    {
     "cell_type": "markdown",
     "metadata": {},
     "source": [
      "## Analyzing time-variant networks"
     ]
    },
    {
     "cell_type": "markdown",
     "metadata": {},
     "source": [
      "The ``GraphCollection`` makes it easy to apply algorithms from [NetworkX](http://networkx.github.io/documentation/networkx-1.9/reference/algorithms.html) across the whole time-variant network (i.e. to all graphs in the ``GraphCollection``). "
     ]
    },
    {
     "cell_type": "markdown",
     "metadata": {},
     "source": [
      "The method ``analyze`` applies an algorithm to all of the graphs in the ``GraphCollection``."
     ]
    },
    {
     "cell_type": "code",
     "collapsed": false,
     "input": [
      "dc = MyGraphCollection.analyze('degree_centrality')"
     ],
     "language": "python",
     "metadata": {},
     "outputs": [],
     "prompt_number": 8
    },
    {
     "cell_type": "code",
     "collapsed": false,
     "input": [
      "bcentrality = MyGraphCollection.analyze('betweenness_centrality')"
     ],
     "language": "python",
     "metadata": {},
     "outputs": [],
     "prompt_number": 9
    },
    {
     "cell_type": "markdown",
     "metadata": {},
     "source": [
      "Some algorithms, like \"degree_centrality\" and \"betweenness_centrality\" return a value for each node in each graph. In that case, the nodes in each graph are updated with those values."
     ]
    },
    {
     "cell_type": "code",
     "collapsed": false,
     "input": [
      "MyGraphCollection.graphs[2008].nodes(data=True)[0]   # Shows the attributes for one of the nodes in the 2008 graph."
     ],
     "language": "python",
     "metadata": {},
     "outputs": [
      {
       "metadata": {},
       "output_type": "pyout",
       "prompt_number": 10,
       "text": [
        "(2048,\n",
        " {'betweenness_centrality': 0.0,\n",
        "  'degree_centrality': 0.012715033657442034,\n",
        "  'label': 'CHOWN SL'})"
       ]
      }
     ],
     "prompt_number": 10
    },
    {
     "cell_type": "markdown",
     "metadata": {},
     "source": [
      "The method ``plot_attr_distribution`` can help to visualize the results of an algorithm across the graphs in the ``GraphCollection``. In the example below, ``attr='degree_centrality'`` selects the degree_centrality attribute, ``etype='node'`` indicates that the attribute belongs to nodes (not edges), and ``stat=mean`` specifies that the Python function ``mean`` should be applied to the collection of values in each graph."
     ]
    },
    {
     "cell_type": "code",
     "collapsed": false,
     "input": [
      "fig = MyGraphCollection.plot_attr_distribution(attr='degree_centrality', etype='node', stat=mean)"
     ],
     "language": "python",
     "metadata": {},
     "outputs": [
      {
       "metadata": {},
       "output_type": "display_data",
       "png": "[encoded data removed]",
       "text": [
        "<matplotlib.figure.Figure at 0x12bab1510>"
       ]
      }
     ],
     "prompt_number": 11
    },
    {
     "cell_type": "markdown",
     "metadata": {},
     "source": [
      "In the example below, we use the Python function ``max``, instead. Note that the value of the ``stat`` kwarg must be a callable object (a function or method) that accepts a sequence (a list or tuple) of values and returns some number (int or float)."
     ]
    },
    {
     "cell_type": "code",
     "collapsed": false,
     "input": [
      "fig = MyGraphCollection.plot_attr_distribution(attr='betweenness_centrality', etype='node', stat=max)"
     ],
     "language": "python",
     "metadata": {},
     "outputs": [
      {
       "metadata": {},
       "output_type": "display_data",
       "png": "[encoded data removed]",
       "text": [
        "<matplotlib.figure.Figure at 0x10b9f5290>"
       ]
      }
     ],
     "prompt_number": 12
    },
    {
     "cell_type": "markdown",
     "metadata": {},
     "source": [
      "We can use ``node_history`` to look at how the attribute of a particular node changes across graphs. In the example below, the specified node appears first in 2008, and its centrality increases through 2011."
     ]
    },
    {
     "cell_type": "code",
     "collapsed": false,
     "input": [
      "MyGraphCollection.node_history(2467, 'betweenness_centrality')"
     ],
     "language": "python",
     "metadata": {},
     "outputs": [
      {
       "metadata": {},
       "output_type": "pyout",
       "prompt_number": 13,
       "text": [
        "{2008: 0.0,\n",
        " 2009: 0.0,\n",
        " 2010: 2.2313618804846875e-07,\n",
        " 2011: 5.278629836610571e-07}"
       ]
      }
     ],
     "prompt_number": 13
    },
    {
     "cell_type": "markdown",
     "metadata": {},
     "source": [
      "Some NetworkX algorithms return a single value for each graph. In that case, ``analyze`` just returns a ``dict`` mapping graph keys onto values from the algorithm."
     ]
    },
    {
     "cell_type": "code",
     "collapsed": false,
     "input": [
      "ac = MyGraphCollection.analyze('average_clustering')\n",
      "pprint(ac)"
     ],
     "language": "python",
     "metadata": {},
     "outputs": [
      {
       "output_type": "stream",
       "stream": "stdout",
       "text": [
        "{1923: 0.0,\n",
        " 1924: 0.0,\n",
        " 1925: 0.0,\n",
        " 1926: 0.0,\n",
        " 1927: 0.0,\n",
        " 1928: 0.0,\n",
        " 1929: 0.0,\n",
        " 1930: 0.0,\n",
        " 1931: 0.0,\n",
        " 1932: 0.0,\n",
        " 1933: 0.0,\n",
        " 1934: 0.0,\n",
        " 1935: 0.0,\n",
        " 1936: 0.0,\n",
        " 1937: 0.0,\n",
        " 1938: 0.0,\n",
        " 1939: 0.0,\n",
        " 1940: 0.0,\n",
        " 1941: 0.0,\n",
        " 1942: 0.0,\n",
        " 1943: 0.0,\n",
        " 1944: 0.0,\n",
        " 1945: 0.0,\n",
        " 1946: 0.0,\n",
        " 1947: 0.0,\n",
        " 1948: 0.0,\n",
        " 1949: 0.0,\n",
        " 1950: 0.0,\n",
        " 1951: 0.0,\n",
        " 1952: 0.0,\n",
        " 1953: 0.0,\n",
        " 1954: 0.0,\n",
        " 1955: 0.0,\n",
        " 1956: 0.0,\n",
        " 1957: 0.0,\n",
        " 1958: 0.0,\n",
        " 1959: 0.0,\n",
        " 1960: 0.0,\n",
        " 1961: 0.0,\n",
        " 1962: 0.0,\n",
        " 1963: 0.0,\n",
        " 1964: 0.0,\n",
        " 1965: 0.0,\n",
        " 1966: 0.0,\n",
        " 1967: 0.0,\n",
        " 1968: 0.0,\n",
        " 1969: 0.0,\n",
        " 1970: 0.0,\n",
        " 1971: 0.0,\n",
        " 1972: 0.0,\n",
        " 1973: 0.0,\n",
        " 1974: 0.0,\n",
        " 1975: 0.0,\n",
        " 1976: 0.0,\n",
        " 1977: 0.0,\n",
        " 1978: 0.0,\n",
        " 1979: 0.38461538461538464,\n",
        " 1980: 0.3125,\n",
        " 1981: 0.3125,\n",
        " 1982: 0.4,\n",
        " 1983: 0.46153846153846156,\n",
        " 1984: 0.6,\n",
        " 1985: 0.7142857142857143,\n",
        " 1986: 1.0,\n",
        " 1987: 0.75,\n",
        " 1988: 0.66,\n",
        " 1989: 0.5,\n",
        " 1990: 0.547945205479452,\n",
        " 1991: 0.6264705882352941,\n",
        " 1992: 0.7423167848699763,\n",
        " 1993: 0.7563786008230452,\n",
        " 1994: 0.7845112781954887,\n",
        " 1995: 0.7275461380724538,\n",
        " 1996: 0.6901408450704225,\n",
        " 1997: 0.6832260832260832,\n",
        " 1998: 0.7044057794057792,\n",
        " 1999: 0.7055234239444768,\n",
        " 2000: 0.7309353131933778,\n",
        " 2001: 0.7380432769477713,\n",
        " 2002: 0.7749545368051859,\n",
        " 2003: 0.7828568853273471,\n",
        " 2004: 0.7734499711291242,\n",
        " 2005: 0.8108917893856229,\n",
        " 2006: 0.8207744459370726,\n",
        " 2007: 0.8483140845767965,\n",
        " 2008: 0.8527959170113717,\n",
        " 2009: 0.8616494532663184,\n",
        " 2010: 0.8748385408850606,\n",
        " 2011: 0.8774025021476561}\n"
       ]
      }
     ],
     "prompt_number": 14
    },
    {
     "cell_type": "markdown",
     "metadata": {},
     "source": [
      "We can plot those values using MatPlotLib."
     ]
    },
    {
     "cell_type": "code",
     "collapsed": false,
     "input": [
      "fig = plt.plot(ac.keys(), ac.values())"
     ],
     "language": "python",
     "metadata": {},
     "outputs": [
      {
       "metadata": {},
       "output_type": "display_data",
       "png": "[encoded data removed]",
       "text": [
        "<matplotlib.figure.Figure at 0x1077c11d0>"
       ]
      }
     ],
     "prompt_number": 15
    },
    {
     "cell_type": "markdown",
     "metadata": {},
     "source": [
      "## Node indexing"
     ]
    },
    {
     "cell_type": "markdown",
     "metadata": {},
     "source": [
      "Note that the name of the node in the ``node_history`` example is an integer, ``2467``. That's because the ``GraphCollection`` indexes all of the nodes so that we can track them across graphs. The index is stored in ``GraphCollection.node_index``:"
     ]
    },
    {
     "cell_type": "code",
     "collapsed": false,
     "input": [
      "MyGraphCollection.node_index.items()[0:10]    # The first ten nodes in the index."
     ],
     "language": "python",
     "metadata": {},
     "outputs": [
      {
       "metadata": {},
       "output_type": "pyout",
       "prompt_number": 16,
       "text": [
        "[(0, 'SEN K'),\n",
        " (1, 'ANANTARA.M '),\n",
        " (2, 'LAROI GH'),\n",
        " (3, 'DUGLE JR'),\n",
        " (4, 'LEWIS MC'),\n",
        " (5, 'WILKINS DA'),\n",
        " (6, 'BOSCHHUI.R '),\n",
        " (7, 'GROOT J'),\n",
        " (8, 'MALECHA SR'),\n",
        " (9, 'TAMARIN RH')]"
       ]
      }
     ],
     "prompt_number": 16
    },
    {
     "cell_type": "code",
     "collapsed": false,
     "input": [
      "MyGraphCollection.node_index[2467]    # Get the name of a specific node."
     ],
     "language": "python",
     "metadata": {},
     "outputs": [
      {
       "metadata": {},
       "output_type": "pyout",
       "prompt_number": 17,
       "text": [
        "'PRAVOSUDOV VV'"
       ]
      }
     ],
     "prompt_number": 17
    },
    {
     "cell_type": "markdown",
     "metadata": {},
     "source": [
      "To look up the index of a node based on its name (e.g. an author name), use ``GraphCollection.node_lookup``:"
     ]
    },
    {
     "cell_type": "code",
     "collapsed": false,
     "input": [
      "MyGraphCollection.node_lookup.items()[0:10]    # The first ten nodes in the lookup table."
     ],
     "language": "python",
     "metadata": {},
     "outputs": [
      {
       "metadata": {},
       "output_type": "pyout",
       "prompt_number": 18,
       "text": [
        "[('CHEN YH', 1073),\n",
        " ('EVANS JP', 2761),\n",
        " ('KIAER LP', 1419),\n",
        " ('CARCAMO HA', 1676),\n",
        " ('KNOEPP JD', 3766),\n",
        " ('RAO GY', 1997),\n",
        " ('KOS M', 2762),\n",
        " ('BAKER SC', 2238),\n",
        " ('PRAVOSUDOV VV', 2467),\n",
        " ('BARAT M', 2352)]"
       ]
      }
     ],
     "prompt_number": 18
    },
    {
     "cell_type": "code",
     "collapsed": false,
     "input": [
      "MyGraphCollection.node_lookup['PRAVOSUDOV VV']    # Get the index of a specific node."
     ],
     "language": "python",
     "metadata": {},
     "outputs": [
      {
       "metadata": {},
       "output_type": "pyout",
       "prompt_number": 19,
       "text": [
        "2467"
       ]
      }
     ],
     "prompt_number": 19
    },
    {
     "cell_type": "markdown",
     "metadata": {},
     "source": [
      "## Writing dynamic graphs"
     ]
    },
    {
     "cell_type": "markdown",
     "metadata": {},
     "source": [
      "Cytoscape provides support for Dynamic XGMML, which is a network file format that supports time-variant graphs. You can write DXGMML using the ``to_dxgmml`` function in the ``writers.collection`` module."
     ]
    },
    {
     "cell_type": "code",
     "collapsed": false,
     "input": [
      "from tethne.writers import collection"
     ],
     "language": "python",
     "metadata": {},
     "outputs": [],
     "prompt_number": 20
    },
    {
     "cell_type": "code",
     "collapsed": false,
     "input": [
      "outpath = '/Users/erickpeirson/tethne-notebooks/output/my_dynnetwork.xgmml'\n",
      "collection.to_dxgmml(MyGraphCollection, outpath)"
     ],
     "language": "python",
     "metadata": {},
     "outputs": [],
     "prompt_number": 21
    },
    {
     "cell_type": "markdown",
     "metadata": {},
     "source": [
      "Here's a snapshot from around 2008. Node size is mapped to betweenness centrality."
     ]
    },
    {
     "cell_type": "markdown",
     "metadata": {},
     "source": [
      "![](http://devo-evo.lab.asu.edu/methods/tethne/images/coauthors_dyn.png)"
     ]
    },
    {
     "cell_type": "markdown",
     "metadata": {},
     "source": [
      "**Caution:** Cytoscape still has a hard time with large dynamic graphs. This is mostly useful for heuristic purposes, or small graphs."
     ]
    }
   ],
   "metadata": {}
  }
 ]
}