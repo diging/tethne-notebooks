{
 "cells": [
  {
   "cell_type": "code",
   "execution_count": 1,
   "metadata": {
    "collapsed": true
   },
   "outputs": [],
   "source": [
    "%matplotlib inline"
   ]
  },
  {
   "cell_type": "code",
   "execution_count": 2,
   "metadata": {
    "collapsed": false
   },
   "outputs": [],
   "source": [
    "from pprint import pprint"
   ]
  },
  {
   "cell_type": "markdown",
   "metadata": {},
   "source": [
    "# Introduction to Tethne: Loading Data, part 1"
   ]
  },
  {
   "cell_type": "markdown",
   "metadata": {},
   "source": [
    "In this section we will use the ``tethne.readers.wos`` module to load up some data from the ISI Web of Science. We'll introduce the ``Paper`` and ``Corpus`` classes, and explore some basic aspects of their structure."
   ]
  },
  {
   "cell_type": "markdown",
   "metadata": {},
   "source": [
    "## Using this notebook"
   ]
  },
  {
   "cell_type": "markdown",
   "metadata": {},
   "source": [
    "This is an interative Python notebook. Most of the content is just marked-down text, like this paragraph, that provides expository on some aspect of the Tethne package. Some of the cells are \"code\" cells, which look like this:"
   ]
  },
  {
   "cell_type": "code",
   "execution_count": 3,
   "metadata": {
    "collapsed": false
   },
   "outputs": [
    {
     "name": "stdout",
     "output_type": "stream",
     "text": [
      "This is a code cell!\n"
     ]
    }
   ],
   "source": [
    "print \"This is a code cell!\""
   ]
  },
  {
   "cell_type": "markdown",
   "metadata": {},
   "source": [
    "You can execute the code in a code cell by clicking on it and pressing Shift-Enter on your keyboard, or by clicking the right-arrow \"Run\" button in the toolbar at the top of the page. The cell below will automatically be selected, so you can run many cells in quick succession by repeatedly pressing Shift-Enter (or the \"Run\" button). It's a good idea to run all of the code cells in order, from the top of the tutorial, since many commands later in the tutorial will depend on earlier ones."
   ]
  },
  {
   "cell_type": "markdown",
   "metadata": {},
   "source": [
    "## Before you start"
   ]
  },
  {
   "cell_type": "markdown",
   "metadata": {},
   "source": [
    "* Download the Web of Science practice dataset from [here](http://devo-evo.lab.asu.edu/methods/tethne/datasets.zip), and store it in a place where you can find it. You'll need the full path to your dataset."
   ]
  },
  {
   "cell_type": "markdown",
   "metadata": {},
   "source": [
    "## Importing a ``reader`` module"
   ]
  },
  {
   "cell_type": "markdown",
   "metadata": {},
   "source": [
    "The modules in the ``tethne.readers`` subpackage allow you to read data from a few different databases. The readers for Web of Science and JSTOR DfR datasets are the most rigorously tested, but there is also a reader for Scopus, and one for DSpace (limited use-cases).\n",
    "\n",
    "| Database                | module                    | \n",
    "| ----------------------- |---------------------------|\n",
    "| Web of Science          | ``tethne.readers.wos``    |\n",
    "| JSTOR Data-for-Research | ``tethne.readers.dfr``    |\n",
    "| Scopus                  | ``tethne.readers.scopus`` |\n",
    "| DSpace (experimental)   | ``tethne.readers.dspace`` |"
   ]
  },
  {
   "cell_type": "markdown",
   "metadata": {},
   "source": [
    "You can load the ``tethne.readers.wos`` module by importing it from the ``tethne.readers`` subpackage:"
   ]
  },
  {
   "cell_type": "code",
   "execution_count": 4,
   "metadata": {
    "collapsed": false
   },
   "outputs": [],
   "source": [
    "from tethne.readers import wos"
   ]
  },
  {
   "cell_type": "markdown",
   "metadata": {},
   "source": [
    "You can import other reader modules the same way. To load the JSTOR DfR reader module, you would do:"
   ]
  },
  {
   "cell_type": "code",
   "execution_count": 5,
   "metadata": {
    "collapsed": false
   },
   "outputs": [],
   "source": [
    "from tethne.readers import dfr"
   ]
  },
  {
   "cell_type": "markdown",
   "metadata": {},
   "source": [
    "## Using the ``read`` function"
   ]
  },
  {
   "cell_type": "markdown",
   "metadata": {},
   "source": [
    "The simplest way to load data from a bibliographic dataset is to use the **``read``** method. Each module in the ``tethne.readers`` subpackage should have a ``read`` method. In fact, there should be identically-named versions of all of the common methods (you'll see a few more, later, like ``read_corpus``) in each reader module."
   ]
  },
  {
   "cell_type": "markdown",
   "metadata": {},
   "source": [
    "**``read``** parses a single data file, and returns a list of ``Paper``s (we'll discuss what a ``Paper`` is below). First I'll create a ``str`` object that holds the path to one of my data files, and then I'll pass that as an argument to ``read``."
   ]
  },
  {
   "cell_type": "code",
   "execution_count": 8,
   "metadata": {
    "collapsed": false
   },
   "outputs": [],
   "source": [
    "# datapath should contain the path to one of your WoS data files.\n",
    "datapath = '/Users/erickpeirson/Downloads/datasets/wos/genecol* OR common garden 1-500.txt'"
   ]
  },
  {
   "cell_type": "code",
   "execution_count": 9,
   "metadata": {
    "collapsed": false
   },
   "outputs": [],
   "source": [
    "papers = wos.read(datapath)"
   ]
  },
  {
   "cell_type": "markdown",
   "metadata": {},
   "source": [
    "There should be 500 ``Paper``s in the list that we just created (``papers``):"
   ]
  },
  {
   "cell_type": "code",
   "execution_count": 10,
   "metadata": {
    "collapsed": false
   },
   "outputs": [
    {
     "data": {
      "text/plain": [
       "500"
      ]
     },
     "execution_count": 10,
     "metadata": {},
     "output_type": "execute_result"
    }
   ],
   "source": [
    "len(papers)"
   ]
  },
  {
   "cell_type": "markdown",
   "metadata": {},
   "source": [
    "## ``Paper`` objects"
   ]
  },
  {
   "cell_type": "markdown",
   "metadata": {},
   "source": [
    "If you print the first element in the list, you should see some structured bibliographic metadata describing a publication. Notice that there is an ``abstract``, title (``atitle``, for 'article title'), and author names (``aulast``, ``auinit``, and ``auuri``). "
   ]
  },
  {
   "cell_type": "code",
   "execution_count": 12,
   "metadata": {
    "collapsed": false
   },
   "outputs": [
    {
     "name": "stdout",
     "output_type": "stream",
     "text": [
      "{'ER': '',\n",
      " 'FX': ['We were assisted in the field by R. Alex Smith, Catherine Fox, and Scott',\n",
      "        'David. The Rocky Mountain Biological Laboratory (RMBL) provided',\n",
      "        'laboratory space and extensive logistical support. Marc Johnson and',\n",
      "        'Xoaquin Moreira provided helpful comments on earlier manuscript drafts.',\n",
      "        'W. K. Petry, M. Lopez, and S. K. Rudeen were supported by the National',\n",
      "        'Science Foundation Research Experience for Undergraduates (NSF-REU)',\n",
      "        'program under grant number DBI 0753774 to RMBL. K. I. Perry was',\n",
      "        'supported as an NSF-REU supplement on DBI 0731346. W. K. Petry was',\n",
      "        'supported by an NSF Graduate Research Fellowship, and K. A. Mooney by',\n",
      "        'NSF DEB 0919178, a RMBL Ehrlich Fellowship, and the UC-Irvine Academic',\n",
      "        'Senate Council on Research, Computing, and Libraries. Mapping of plants',\n",
      "        'for annual surveys was made possible by NSF grant DBI 0420910 to RMBL.'],\n",
      " 'GA': '219TL',\n",
      " 'ISSN': ['0012-9658', 'J9 ECOLOGY'],\n",
      " 'PD': 'SEP',\n",
      " 'PG': 11,\n",
      " 'PT': 'J',\n",
      " 'WC': 'Ecology',\n",
      " 'abstract': 'A growing body of research documents the importance of plant genetic effects on arthropod community structure. However, the mechanisms underlying these effects are often unclear. Additionally, plant genetic effects have largely been quantified in common gardens, thus inflating the estimates of their importance by minimizing levels of natural variation. Using Valeriana edulis, a dioecious plant with genetically based sex determination, we conducted surveys and experiments on wild-grown individuals to document field patterns of arthropod association between the sexes and the mechanisms underlying these plant genetic effects. Three years of surveys revealed strong and consistent sex-biased arthropod association in wild-grown plants: female plants supported 4-fold, 1.5-fold, and 4-fold higher densities of aphids, aphid predators, and aphid-tending ants, respectively, compared to males. There was mixed evidence that the female bias for aphids was due to higher plant quality, while we found no difference between plant sexes in aphid preference or the top-down effects of predators and tending ants. Female bias for ants was due to both the greater attractiveness of female plants (direct effect mediated by floral nectar) and an independent, weaker effect of higher aphid abundance on females (density-mediated indirect effect). Conversely, the female bias for predators was driven solely by the greater attractiveness of female plants. We did not find interaction modification, i.e., ant-aphid and predator-aphid interactions were equivalent between plant sexes. Plant sex explained 0.24%, 2.28%, and 4.42% of the variance in aphids, predators, and ants, respectively, values comparable to but slightly weaker than those previously reported from common-garden studies. In contrast to the prediction of diminished plant genetic effects with increasing trophic level, we show how weak indirect effects on predators and parasitoids (via herbivores) can be complemented by strong direct effects via common plant traits (floral resources). In summary, we document direct and indirect effects of genetically based sex on a multi-trophic arthropod community that were expressed in wild-grown plants across multiple years. C1 [Petry, William K.; Mooney, Kailen A.] Univ Calif Irvine, Dept Ecol & Evolutionary Biol, Irvine, CA 92697 USA. [Petry, William K.; Perry, Kayla I.; Fremgen, Aleshia; Rudeen, Sarah K.; Lopez, Mitchell; Dryburgh, John; Mooney, Kailen A.] Rocky Mt Biol Labs, Crested Butte, CO 81224 USA. [Perry, Kayla I.] Ohio State Univ, Ohio Agr Res & Dev Ctr, Dept Entomol, Wooster, OH 44691 USA. [Fremgen, Aleshia] Univ Missouri, Dept Fisheries & Wildlife Sci, Columbia, MO 65211 USA.',\n",
      " 'authorKeywords': ['GENETIC SIMILARITY RULE',\n",
      "                    'ANT-APHID INTERACTIONS',\n",
      "                    'ECOSYSTEM GENETICS',\n",
      "                    'FOREST ECOSYSTEM',\n",
      "                    'FOOD-WEB',\n",
      "                    'GENOTYPE',\n",
      "                    'CONSEQUENCES',\n",
      "                    'DEFENSE',\n",
      "                    'HERITABILITY',\n",
      "                    'DIVERSITY'],\n",
      " 'authors_full': [('PETRY', 'WILLIAM K'),\n",
      "                  ('PERRY', 'KAYLA I'),\n",
      "                  ('FREMGEN', 'ALESHIA'),\n",
      "                  ('RUDEEN', 'SARAH K'),\n",
      "                  ('LOPEZ', 'MITCHELL'),\n",
      "                  ('DRYBURGH', 'JOHN'),\n",
      "                  ('MOONEY', 'KAILEN A')],\n",
      " 'authors_init': [('PETRY', 'W K'),\n",
      "                  ('PERRY', 'K I'),\n",
      "                  ('FREMGEN', 'A'),\n",
      "                  ('RUDEEN', 'S K'),\n",
      "                  ('LOPEZ', 'M'),\n",
      "                  ('DRYBURGH', 'J'),\n",
      "                  ('MOONEY', 'K A')],\n",
      " 'citationCount': 49,\n",
      " 'citedReferences': [<tethne.classes.paper.Paper object at 0x1074411d0>,\n",
      "                     <tethne.classes.paper.Paper object at 0x107441290>,\n",
      "                     <tethne.classes.paper.Paper object at 0x107441250>,\n",
      "                     <tethne.classes.paper.Paper object at 0x107441310>,\n",
      "                     <tethne.classes.paper.Paper object at 0x107441350>,\n",
      "                     <tethne.classes.paper.Paper object at 0x107441390>,\n",
      "                     <tethne.classes.paper.Paper object at 0x1074413d0>,\n",
      "                     <tethne.classes.paper.Paper object at 0x107441410>,\n",
      "                     <tethne.classes.paper.Paper object at 0x107441450>,\n",
      "                     <tethne.classes.paper.Paper object at 0x1074414d0>,\n",
      "                     <tethne.classes.paper.Paper object at 0x107441510>,\n",
      "                     <tethne.classes.paper.Paper object at 0x107441550>,\n",
      "                     <tethne.classes.paper.Paper object at 0x107441590>,\n",
      "                     <tethne.classes.paper.Paper object at 0x1074415d0>,\n",
      "                     <tethne.classes.paper.Paper object at 0x107441650>,\n",
      "                     <tethne.classes.paper.Paper object at 0x107441690>,\n",
      "                     <tethne.classes.paper.Paper object at 0x1074416d0>,\n",
      "                     <tethne.classes.paper.Paper object at 0x107441710>,\n",
      "                     <tethne.classes.paper.Paper object at 0x107441750>,\n",
      "                     <tethne.classes.paper.Paper object at 0x107441790>,\n",
      "                     <tethne.classes.paper.Paper object at 0x1074417d0>,\n",
      "                     <tethne.classes.paper.Paper object at 0x107441810>,\n",
      "                     <tethne.classes.paper.Paper object at 0x107441850>,\n",
      "                     <tethne.classes.paper.Paper object at 0x107441890>,\n",
      "                     <tethne.classes.paper.Paper object at 0x1074418d0>,\n",
      "                     <tethne.classes.paper.Paper object at 0x107441910>,\n",
      "                     <tethne.classes.paper.Paper object at 0x107441950>,\n",
      "                     <tethne.classes.paper.Paper object at 0x107441990>,\n",
      "                     <tethne.classes.paper.Paper object at 0x107441a10>,\n",
      "                     <tethne.classes.paper.Paper object at 0x107441a50>,\n",
      "                     <tethne.classes.paper.Paper object at 0x107441a90>,\n",
      "                     <tethne.classes.paper.Paper object at 0x107441b10>,\n",
      "                     <tethne.classes.paper.Paper object at 0x107441b50>,\n",
      "                     <tethne.classes.paper.Paper object at 0x107441b90>,\n",
      "                     <tethne.classes.paper.Paper object at 0x107441bd0>,\n",
      "                     <tethne.classes.paper.Paper object at 0x107441c10>,\n",
      "                     <tethne.classes.paper.Paper object at 0x107441c50>,\n",
      "                     <tethne.classes.paper.Paper object at 0x107441c90>,\n",
      "                     <tethne.classes.paper.Paper object at 0x107441cd0>,\n",
      "                     <tethne.classes.paper.Paper object at 0x107441d10>,\n",
      "                     <tethne.classes.paper.Paper object at 0x107441d50>,\n",
      "                     <tethne.classes.paper.Paper object at 0x107441d90>,\n",
      "                     <tethne.classes.paper.Paper object at 0x107441dd0>,\n",
      "                     <tethne.classes.paper.Paper object at 0x107441e10>,\n",
      "                     <tethne.classes.paper.Paper object at 0x107441e50>,\n",
      "                     <tethne.classes.paper.Paper object at 0x107441e90>,\n",
      "                     <tethne.classes.paper.Paper object at 0x107441ed0>,\n",
      "                     <tethne.classes.paper.Paper object at 0x107441f10>,\n",
      "                     <tethne.classes.paper.Paper object at 0x107441f90>],\n",
      " 'date': 2013,\n",
      " 'documentType': 'Article',\n",
      " 'doi': '10.1890/12-2170.1',\n",
      " 'emailAddress': 'wpetry@uci.edu',\n",
      " 'funding': [('National Science Foundation Research Experience for Undergraduates (NSF-REU) program',\n",
      "              'DBI 0753774'),\n",
      "             ('NSF-REU', 'DBI 0731346'),\n",
      "             ('NSF Graduate Research Fellowship', None),\n",
      "             ('NSF', 'DEB 0919178, DBI 0420910'),\n",
      "             ('RMBL Ehrlich Fellowship', None),\n",
      "             ('UC-Irvine Academic Senate Council on Research, Computing, and Libraries',\n",
      "              None)],\n",
      " 'isoSource': 'Ecology',\n",
      " 'issue': '9',\n",
      " 'journal': 'ECOLOGY',\n",
      " 'keywordsPlus': ['Aphis valerianae; community genetics; dioecy; herbivory; indirect',\n",
      "                  'effects; interaction modification; mutualism; predation; sex-biased',\n",
      "                  'herbivory; tri-trophic interactions; Valeriana edulis'],\n",
      " 'language': 'English',\n",
      " 'pageEnd': 2065,\n",
      " 'pageStart': 2055,\n",
      " 'publisher': 'ECOLOGICAL SOC AMER',\n",
      " 'publisherAddress': '1990 M STREET NW, STE 700, WASHINGTON, DC 20036 USA',\n",
      " 'publisherCity': 'WASHINGTON',\n",
      " 'reprintAddress': 'Petry, WK (reprint author), Univ Calif Irvine, Dept Ecol & Evolutionary Biol, Irvine, CA 92697 USA.',\n",
      " 'subject': 'Environmental Sciences & Ecology',\n",
      " 'timesCited': [0, 'Z9 0'],\n",
      " 'title': 'Mechanisms Underlying Plant Sexual Dimorphism In Multi-Trophic Arthropod Communities',\n",
      " 'volume': '94',\n",
      " 'wosid': 'WOS:000324532900018'}\n"
     ]
    }
   ],
   "source": [
    "pprint(papers[0].__dict__)"
   ]
  },
  {
   "cell_type": "markdown",
   "metadata": {},
   "source": [
    "Since we're working with WoS data, there is also a very long list of ``citatedReferences``. Each citation in that list has some of the same fields as the records in your dataset. Many fields are missing, however, which means that we simply don't have any data for those fields."
   ]
  },
  {
   "cell_type": "code",
   "execution_count": 17,
   "metadata": {
    "collapsed": false
   },
   "outputs": [
    {
     "name": "stdout",
     "output_type": "stream",
     "text": [
      "{'authors_init': [(u'ABDALA-ROBERTS', u'L')],\n",
      " 'date': 2012,\n",
      " 'doi': '10.1111/j.1600-0706.2012.20600.x',\n",
      " 'journal': u'OIKOS',\n",
      " 'pageStart': '1905',\n",
      " 'volume': '121'}\n"
     ]
    }
   ],
   "source": [
    "pprint(papers[0].citedReferences[0].__dict__)"
   ]
  },
  {
   "cell_type": "markdown",
   "metadata": {},
   "source": [
    "All of these records -- both the records in your dataset and the records for their cited references -- are ``Paper`` objects. "
   ]
  },
  {
   "cell_type": "code",
   "execution_count": 18,
   "metadata": {
    "collapsed": false
   },
   "outputs": [
    {
     "data": {
      "text/plain": [
       "tethne.classes.paper.Paper"
      ]
     },
     "execution_count": 18,
     "metadata": {},
     "output_type": "execute_result"
    }
   ],
   "source": [
    "type(papers[0])"
   ]
  },
  {
   "cell_type": "markdown",
   "metadata": {},
   "source": [
    "The ``Paper`` class behaves a lot like a ``dict``. You can access data in a ``Paper`` like you would a ``dict``:"
   ]
  },
  {
   "cell_type": "code",
   "execution_count": 20,
   "metadata": {
    "collapsed": false
   },
   "outputs": [
    {
     "data": {
      "text/plain": [
       "'Mechanisms Underlying Plant Sexual Dimorphism In Multi-Trophic Arthropod Communities'"
      ]
     },
     "execution_count": 20,
     "metadata": {},
     "output_type": "execute_result"
    }
   ],
   "source": [
    "papers[0]['title']"
   ]
  },
  {
   "cell_type": "markdown",
   "metadata": {},
   "source": [
    "## Reading more than one data file at a time"
   ]
  },
  {
   "cell_type": "markdown",
   "metadata": {},
   "source": [
    "Often you'll be working with datasets comprised of multiple data files. The Web of Science database only allows you to download 500 records at a time (because they're dirty capitalists). You can use the **``from_dir``** function to load a list of ``Paper``s from a directory containing multiple data files."
   ]
  },
  {
   "cell_type": "markdown",
   "metadata": {},
   "source": [
    "First I'll create a ``str`` object containing the path to my data directory, and then I'll load those data using **``wos.read``**. ``read`` knows that your path is a directory and not a data file; it looks inside of that directory for WoS data files."
   ]
  },
  {
   "cell_type": "code",
   "execution_count": 24,
   "metadata": {
    "collapsed": false
   },
   "outputs": [],
   "source": [
    "datadirpath = '/Users/erickpeirson/Downloads/datasets/wos'"
   ]
  },
  {
   "cell_type": "code",
   "execution_count": 25,
   "metadata": {
    "collapsed": false
   },
   "outputs": [],
   "source": [
    "papers = wos.read(datadirpath)"
   ]
  },
  {
   "cell_type": "markdown",
   "metadata": {},
   "source": [
    "You should have a much larger list of ``Paper``s now:"
   ]
  },
  {
   "cell_type": "code",
   "execution_count": 26,
   "metadata": {
    "collapsed": false
   },
   "outputs": [
    {
     "data": {
      "text/plain": [
       "1859"
      ]
     },
     "execution_count": 26,
     "metadata": {},
     "output_type": "execute_result"
    }
   ],
   "source": [
    "len(papers)"
   ]
  }
 ],
 "metadata": {
  "kernelspec": {
   "display_name": "Python 2",
   "language": "python",
   "name": "python2"
  },
  "language_info": {
   "codemirror_mode": {
    "name": "ipython",
    "version": 2
   },
   "file_extension": ".py",
   "mimetype": "text/x-python",
   "name": "python",
   "nbconvert_exporter": "python",
   "pygments_lexer": "ipython2",
   "version": "2.7.9"
  }
 },
 "nbformat": 4,
 "nbformat_minor": 0
}
