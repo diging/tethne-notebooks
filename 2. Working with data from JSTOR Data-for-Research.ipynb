{
 "cells": [
  {
   "cell_type": "code",
   "execution_count": 1,
   "metadata": {
    "collapsed": true
   },
   "outputs": [],
   "source": [
    "%matplotlib inline"
   ]
  },
  {
   "cell_type": "code",
   "execution_count": 2,
   "metadata": {
    "collapsed": true
   },
   "outputs": [],
   "source": [
    "from pprint import pprint\n",
    "import matplotlib.pyplot as plt"
   ]
  },
  {
   "cell_type": "markdown",
   "metadata": {},
   "source": [
    "# Introduction to Tethne: Working with data from the Web of Science"
   ]
  },
  {
   "cell_type": "markdown",
   "metadata": {},
   "source": [
    "Now that we have the basics down, in this notebook we'll begin working with data from the [JSTOR Data-for-Research (DfR) portal](http://dfr.jstor.org/?&helpview=about_dfr).\n",
    "\n",
    "The JSTOR DfR portal gives researchers access to\n",
    "bibliographic data and N-grams for the entire JSTOR database.\n",
    "\n",
    "Tethne can use DfR data to generate coauthorship networks, and to improve\n",
    "metadata for Web of Science records. Tethne is also able to use\n",
    "N-gram counts to add information to networks, and can interface with MALLET to perform LDA topic modeling.\n",
    "\n",
    "## Methods in Digital & Computational Humanities\n",
    "\n",
    "This notebook is part of a cluster of learning resources developed by the [Laubichler Lab](http://devo-evo.lab.asu.edu) and the [Digital Innovation Group](http://diging.asu.edu) at Arizona State University as part of an initiative for digital and computational humanities (d+cH). For more information, see our evolving online methods course at [https://diging.atlassian.net/wiki/display/DCH](https://diging.atlassian.net/wiki/display/DCH).\n",
    "\n",
    "### Getting Help\n",
    "\n",
    "Development of the Tethne project is led by [Erick Peirson](http://asu.academia.edu/erickpeirson). To get help, first check our [issue tracking system on GitHub](http://github.com/diging/tethne/issues). There, you can search for questions and problems reported by other users, or ask a question of your own. You can also reach Erick via e-mail at erick.peirson@asu.edu."
   ]
  },
  {
   "cell_type": "markdown",
   "metadata": {},
   "source": [
    "## Getting bibliographic data from JSTOR Data-for-Research\n",
    "\n",
    "For the purpose of this tutorial, you can use the sample dataset from https://www.dropbox.com/s/q2jy87pmy9r6bsa/tethne_workshop_data.zip?dl=0.\n",
    "\n",
    "Access the DfR portal at [http://dfr.jstor.org/](http://dfr.jstor.org/) If you don't already have an\n",
    "account, you will need to [create a new account](http://dfr.jstor.org/accounts/register/).\n",
    "\n",
    "After you've logged in, perform a search using whatever criteria you please.\n",
    "When you have achieved the result that you desire, create a new dataset request.\n",
    "Under the \"Dataset Request\" menu in the upper-right corner of the page, click\n",
    "\"Submit new request\".\n",
    "\n",
    "![](./images/wos/getting.5.png)\n",
    "\n",
    "On the **Download Options** page, select your desired **Data Type**. If you do\n",
    "not intend to make use of the contents of the papers themselves, then \"Citations\n",
    "Only\" is sufficient. Otherwise, choose word counts, bigrams, etc.\n",
    "\n",
    "**Output Format** should be set to **XML**.\n",
    "\n",
    "Give your request a title, and set the maximum number of articles. *Note that\n",
    "the maximum documents allowed per request is 1,000. Setting **Maximum Articles**\n",
    "to a value less than the number of search results will yield a random sample of\n",
    "your results.*\n",
    "\n",
    "![](./images/wos/getting.6.png)\n",
    "\n",
    "Your request should now appear in your list of **Data Requests**. When your\n",
    "request is ready (hours to days later), you will receive an e-mail with a\n",
    "download link. When downloading from the **Data Requests** list, be sure to use\n",
    "the link in the **full dataset** column.\n",
    "\n",
    "![](./images/wos/getting.7.png)\n",
    "\n",
    "When your dataset download is complete, unzip it. The contents should look\n",
    "something like those shown below.\n",
    "\n",
    "![](./images/wos/getting.8.png)\n",
    "\n",
    "``citations.XML`` contains bibliographic data in XML format. The ``bigrams``,\n",
    "``trigrams``, ``wordcounts`` folders contain N-gram counts for each document.\n",
    "\n",
    "If you were to open one of the XML files in the ``wordcounts`` folder, say, you would see some XML that looks like this:\n",
    "\n",
    "```\n",
    "<?xml version=\"1.0\" encoding=\"UTF-8\"?>\n",
    "<article id=\"10.2307/4330482\" >\n",
    "    <wordcount weight=\"21\" > of </wordcount>\n",
    "    <wordcount weight=\"16\" > the </wordcount>\n",
    "    <wordcount weight=\"10\" > university </wordcount>\n",
    "    <wordcount weight=\"10\" > a </wordcount>\n",
    "    <wordcount weight=\"9\" > s </wordcount>\n",
    "    <wordcount weight=\"9\" > d </wordcount>\n",
    "    <wordcount weight=\"9\" > harvard </wordcount>\n",
    "    <wordcount weight=\"8\" > m </wordcount>\n",
    "    <wordcount weight=\"7\" > and </wordcount>\n",
    "    <wordcount weight=\"6\" > u </wordcount>\n",
    "    <wordcount weight=\"6\" > press </wordcount>\n",
    "    <wordcount weight=\"5\" > cambridge </wordcount>\n",
    "    <wordcount weight=\"5\" > massachusetts </wordcount>\n",
    "    <wordcount weight=\"5\" > journal </wordcount>\n",
    "    <wordcount weight=\"4\" > by </wordcount>\n",
    "    ...\n",
    "    <wordcount weight=\"1\" > stephen </wordcount>\n",
    "    <wordcount weight=\"1\" > liver </wordcount>\n",
    "    <wordcount weight=\"1\" > committee </wordcount>\n",
    "    <wordcount weight=\"1\" > school </wordcount>\n",
    "    <wordcount weight=\"1\" > lewontin </wordcount>\n",
    "    <wordcount weight=\"1\" > canguilhem </wordcount>\n",
    "    <wordcount weight=\"1\" > assistant </wordcount>\n",
    "    <wordcount weight=\"1\" > jay </wordcount>\n",
    "    <wordcount weight=\"1\" > state </wordcount>\n",
    "    <wordcount weight=\"1\" > morgan </wordcount>\n",
    "    <wordcount weight=\"1\" > advertising </wordcount>\n",
    "    <wordcount weight=\"1\" > animal </wordcount>\n",
    "    <wordcount weight=\"1\" > is </wordcount>\n",
    "    <wordcount weight=\"1\" > species </wordcount>\n",
    "    <wordcount weight=\"1\" > claude </wordcount>\n",
    "    <wordcount weight=\"1\" > review </wordcount>\n",
    "    <wordcount weight=\"1\" > hunt </wordcount>\n",
    "    <wordcount weight=\"1\" > founder </wordcount>\n",
    "</article>\n",
    "```\n",
    "\n",
    "Each word is represented by a ``<wordcount></wordcount>`` tag. The ``\"weight\"`` attribute gives the number of times that the word occurs in the document, and the word itself is between the tags. We'll come back to this in just a moment."
   ]
  },
  {
   "cell_type": "markdown",
   "metadata": {},
   "source": [
    "## Parsing DfR datasets\n",
    "\n",
    "Just as for WoS data, there is a module in ``tethne.readers`` for working with DfR data. We can import it with:"
   ]
  },
  {
   "cell_type": "code",
   "execution_count": 3,
   "metadata": {
    "collapsed": true
   },
   "outputs": [],
   "source": [
    "from tethne.readers import dfr"
   ]
  },
  {
   "cell_type": "markdown",
   "metadata": {},
   "source": [
    "Once again, ``read()`` accepts a string containing a path to either a single DfR dataset, or a directory containing several. Here, \"DfR dataset\" refers to the folder containing the file \"citations.xml\", and the contents of that folder.\n",
    "\n",
    "This will take considerably more time than loading a WoS dataset. The reason is that Tethne automatically detects and parses all of the wordcount data."
   ]
  },
  {
   "cell_type": "code",
   "execution_count": 4,
   "metadata": {
    "collapsed": true
   },
   "outputs": [],
   "source": [
    "dfr_corpus = dfr.read('/Users/erickpeirson/Dropbox/HSS ThatCamp Workshop/sample_data/DfR')"
   ]
  },
  {
   "cell_type": "markdown",
   "metadata": {},
   "source": [
    "### Combining DfR and WoS data\n",
    "\n",
    "We can combine our datasets using the ``merge()`` function. First, we load our WoS data in a separate ``Corpus``:"
   ]
  },
  {
   "cell_type": "code",
   "execution_count": 5,
   "metadata": {
    "collapsed": true
   },
   "outputs": [],
   "source": [
    "from tethne.readers import wos\n",
    "wos_corpus = wos.read('/Users/erickpeirson/Dropbox/HSS ThatCamp Workshop/sample_data/wos')"
   ]
  },
  {
   "cell_type": "markdown",
   "metadata": {},
   "source": [
    "Both of these datasets are for the Journal of the History of Biology. But note that the WoS and DfR corpora have different numbers of ``Paper``s:"
   ]
  },
  {
   "cell_type": "code",
   "execution_count": 6,
   "metadata": {
    "collapsed": false
   },
   "outputs": [
    {
     "data": {
      "text/plain": [
       "(1917, 1168)"
      ]
     },
     "execution_count": 6,
     "metadata": {},
     "output_type": "execute_result"
    }
   ],
   "source": [
    "len(dfr_corpus), len(wos_corpus)"
   ]
  },
  {
   "cell_type": "markdown",
   "metadata": {},
   "source": [
    "Then import ``merge()`` from ``tethne.readers``:"
   ]
  },
  {
   "cell_type": "code",
   "execution_count": 7,
   "metadata": {
    "collapsed": true
   },
   "outputs": [],
   "source": [
    "from tethne.readers import merge"
   ]
  },
  {
   "cell_type": "markdown",
   "metadata": {},
   "source": [
    "We then create a new ``Corpus`` by passing both ``Corpus`` objects to ``merge()``. If there is conflicting information in the two corpora, the first ``Corpus`` gets priority."
   ]
  },
  {
   "cell_type": "code",
   "execution_count": 8,
   "metadata": {
    "collapsed": true
   },
   "outputs": [],
   "source": [
    "corpus = merge(dfr_corpus, wos_corpus)"
   ]
  },
  {
   "cell_type": "markdown",
   "metadata": {},
   "source": [
    "``merge()`` has combined data where possible, and discarded any duplicates in the original datasets."
   ]
  },
  {
   "cell_type": "code",
   "execution_count": 9,
   "metadata": {
    "collapsed": false
   },
   "outputs": [
    {
     "data": {
      "text/plain": [
       "1627"
      ]
     },
     "execution_count": 9,
     "metadata": {},
     "output_type": "execute_result"
    }
   ],
   "source": [
    "len(corpus)"
   ]
  },
  {
   "cell_type": "markdown",
   "metadata": {},
   "source": [
    "## FeatureSets\n",
    "\n",
    "Our wordcount data are represented by a ``FeatureSet``. A ``FeatureSet`` is a description of how certain sets of elements are distributed across a ``Corpus``. This is kind of like an inversion of an index. For example, we might be interested in which words (elements) are found in which ``Paper``s. We can think of authors as a ``FeatureSet``, too.\n",
    "\n",
    "All of the available ``FeatureSet``s are available in the ``features`` attribute (a dictionary) of our ``Corpus``. We can see the available ``FeatureSet``s by inspecting its:"
   ]
  },
  {
   "cell_type": "code",
   "execution_count": 10,
   "metadata": {
    "collapsed": false
   },
   "outputs": [
    {
     "data": {
      "text/plain": [
       "{'authors': <tethne.classes.feature.FeatureSet at 0x124347810>,\n",
       " 'citations': <tethne.classes.feature.FeatureSet at 0x124347890>,\n",
       " 'wordcounts': <tethne.classes.feature.FeatureSet at 0x10611a3d0>}"
      ]
     },
     "execution_count": 10,
     "metadata": {},
     "output_type": "execute_result"
    }
   ],
   "source": [
    "corpus.features"
   ]
  },
  {
   "cell_type": "markdown",
   "metadata": {},
   "source": [
    "Note that citations and authors are also ``FeatureSet``s. In fact, the majority of network-building functions in Tethne operate on ``FeatureSet``s -- including the ``coauthors()`` and ``bibliographic_coupling()`` functions that we used in the WoS notebook.\n",
    "\n",
    "Each ``FeatureSet`` has several attributes. The ``features`` attribute contains the distribution data itself. These data themselves are ``(element, value)`` tuples. In this case, the elements are words, and the values are wordcounts."
   ]
  },
  {
   "cell_type": "code",
   "execution_count": 11,
   "metadata": {
    "collapsed": false,
    "scrolled": true
   },
   "outputs": [
    {
     "data": {
      "text/plain": [
       "(u'PORTER_CM_2005_JOURNAL_OF_THE_HISTORY_OF_BIOLOGY',\n",
       " [('essay', 1),\n",
       "  ('all', 2),\n",
       "  ('curate', 1),\n",
       "  ('dynamic', 1),\n",
       "  ('resistance', 1),\n",
       "  ('alien', 1),\n",
       "  ('contributions', 1),\n",
       "  ('certainly', 1),\n",
       "  ('william', 1),\n",
       "  ('to', 12),\n",
       "  ('excluded', 1),\n",
       "  ('devotes', 1),\n",
       "  ('summarizes', 1),\n",
       "  ('garden', 1),\n",
       "  ('sloppy', 1),\n",
       "  ('waldo', 1),\n",
       "  ('stiff', 1),\n",
       "  ('did', 2),\n",
       "  ('notes', 1),\n",
       "  ('amerindian', 2),\n",
       "  ('biological', 1),\n",
       "  ('obsolete', 1),\n",
       "  ('second', 1),\n",
       "  ('theory', 1),\n",
       "  ('even', 2),\n",
       "  ('what', 1),\n",
       "  ('burch', 1),\n",
       "  ('contributed', 1),\n",
       "  ('remain', 1),\n",
       "  ('rafinesque', 15),\n",
       "  ('suspect', 1),\n",
       "  ('conduct', 1),\n",
       "  ('publications', 1),\n",
       "  ('loose', 1),\n",
       "  ('superstition', 1),\n",
       "  ('met', 1),\n",
       "  ('separation', 1),\n",
       "  ('alone', 1),\n",
       "  ('consideration', 1),\n",
       "  ('change', 1),\n",
       "  ('extreme', 1),\n",
       "  ('technical', 1),\n",
       "  ('study', 1),\n",
       "  ('moneygrabber', 1),\n",
       "  ('suggestion', 1),\n",
       "  ('opinion', 1),\n",
       "  ('involves', 1),\n",
       "  ('criticism', 1),\n",
       "  ('family', 1),\n",
       "  ('sicily', 1),\n",
       "  ('biota', 1),\n",
       "  ('from', 2),\n",
       "  ('would', 2),\n",
       "  ('doubt', 2),\n",
       "  ('rosetta', 1),\n",
       "  ('memory', 1),\n",
       "  ('today', 1),\n",
       "  ('sort', 1),\n",
       "  ('stone', 1),\n",
       "  ('leonard', 2),\n",
       "  ('hold', 1),\n",
       "  ('corpulent', 1),\n",
       "  ('permits', 1),\n",
       "  ('this', 4),\n",
       "  ('science', 5),\n",
       "  ('work', 1),\n",
       "  ('reviews', 2),\n",
       "  ('emerson', 1),\n",
       "  ('can', 1),\n",
       "  ('believed', 1),\n",
       "  ('meet', 1),\n",
       "  ('history', 4),\n",
       "  ('states', 1),\n",
       "  ('numbers', 1),\n",
       "  ('sense', 1),\n",
       "  ('dress', 1),\n",
       "  ('species', 3),\n",
       "  ('biography', 2),\n",
       "  ('native', 1),\n",
       "  ('united', 1),\n",
       "  ('rather', 1),\n",
       "  ('discussion', 1),\n",
       "  ('acts', 1),\n",
       "  ('nuts', 1),\n",
       "  ('dismissed', 1),\n",
       "  ('rude', 1),\n",
       "  ('critics', 1),\n",
       "  ('such', 1),\n",
       "  ('man', 1),\n",
       "  ('a', 19),\n",
       "  ('natural', 3),\n",
       "  ('nascent', 1),\n",
       "  ('so', 2),\n",
       "  ('dread', 1),\n",
       "  ('archaeology', 1),\n",
       "  ('interpretation', 1),\n",
       "  ('welcomed', 1),\n",
       "  ('indeed', 1),\n",
       "  ('soon', 1),\n",
       "  ('years', 1),\n",
       "  ('including', 1),\n",
       "  ('still', 1),\n",
       "  ('warren', 9),\n",
       "  ('linguistics', 1),\n",
       "  ('fit', 1),\n",
       "  ('offers', 1),\n",
       "  ('good', 1),\n",
       "  ('somebody', 1),\n",
       "  ('unveiling', 1),\n",
       "  ('fixation', 1),\n",
       "  ('questions', 1),\n",
       "  ('nation', 1),\n",
       "  ('qualified', 1),\n",
       "  ('they', 2),\n",
       "  ('half', 1),\n",
       "  ('communities', 1),\n",
       "  ('now', 2),\n",
       "  ('university', 2),\n",
       "  ('naturalist', 2),\n",
       "  ('habits', 1),\n",
       "  ('found', 1),\n",
       "  ('quarter', 1),\n",
       "  ('mental', 1),\n",
       "  ('fish', 1),\n",
       "  ('engaging', 1),\n",
       "  ('zoology', 1),\n",
       "  ('large', 2),\n",
       "  ('funding', 1),\n",
       "  ('god', 1),\n",
       "  ('furthermore', 2),\n",
       "  ('health', 1),\n",
       "  ('medicine', 1),\n",
       "  ('issue', 2),\n",
       "  ('mercantile', 1),\n",
       "  ('belief', 1),\n",
       "  ('associate', 1),\n",
       "  ('million', 1),\n",
       "  ('immigrated', 1),\n",
       "  ('patronage', 1),\n",
       "  ('language', 1),\n",
       "  ('created', 1),\n",
       "  ('could', 1),\n",
       "  ('david', 1),\n",
       "  ('turn', 1),\n",
       "  ('american', 3),\n",
       "  ('first', 1),\n",
       "  ('origin', 1),\n",
       "  ('botany', 1),\n",
       "  ('researches', 1),\n",
       "  ('number', 1),\n",
       "  ('one', 1),\n",
       "  ('another', 2),\n",
       "  ('threatening', 1),\n",
       "  ('system', 1),\n",
       "  ('tradition', 1),\n",
       "  ('their', 1),\n",
       "  ('zealot', 1),\n",
       "  ('too', 1),\n",
       "  ('xiv', 1),\n",
       "  ('lingering', 1),\n",
       "  ('interests', 1),\n",
       "  ('that', 4),\n",
       "  ('serve', 1),\n",
       "  ('prodigious', 1),\n",
       "  ('heretical', 1),\n",
       "  ('than', 1),\n",
       "  ('colleagues', 1),\n",
       "  ('were', 2),\n",
       "  ('sublime', 1),\n",
       "  ('and', 21),\n",
       "  ('charlotte', 1),\n",
       "  ('portraits', 1),\n",
       "  ('mind', 2),\n",
       "  ('have', 2),\n",
       "  ('need', 1),\n",
       "  ('thought', 1),\n",
       "  ('documents', 1),\n",
       "  ('speculative', 1),\n",
       "  ('able', 1),\n",
       "  ('ideas', 1),\n",
       "  ('also', 6),\n",
       "  ('subjects', 1),\n",
       "  ('which', 2),\n",
       "  ('divert', 1),\n",
       "  ('lecturer', 1),\n",
       "  ('who', 2),\n",
       "  ('procure', 1),\n",
       "  ('most', 1),\n",
       "  ('enduring', 1),\n",
       "  ('awe', 1),\n",
       "  ('knowingly', 1),\n",
       "  ('why', 1),\n",
       "  ('achievement', 1),\n",
       "  ('professor', 1),\n",
       "  ('cover', 1),\n",
       "  ('fact', 1),\n",
       "  ('laws', 1),\n",
       "  ('particularly', 1),\n",
       "  ('show', 1),\n",
       "  ('chapters', 1),\n",
       "  ('dupe', 1),\n",
       "  ('gratified', 1),\n",
       "  ('fine', 1),\n",
       "  ('decade', 1),\n",
       "  ('craziness', 1),\n",
       "  ('with', 4),\n",
       "  ('only', 1),\n",
       "  ('enthusiasm', 1),\n",
       "  ('his', 7),\n",
       "  ('get', 1),\n",
       "  ('cannon', 1),\n",
       "  ('samuel', 2),\n",
       "  ('stripes', 1),\n",
       "  ('parlance', 1),\n",
       "  ('him', 5),\n",
       "  ('societies', 1),\n",
       "  ('artist', 1),\n",
       "  ('lexington', 2),\n",
       "  ('oestreicher', 1),\n",
       "  ('banking', 1),\n",
       "  ('bad', 1),\n",
       "  ('automatic', 1),\n",
       "  ('human', 1),\n",
       "  ('observes', 1),\n",
       "  ('elected', 1),\n",
       "  ('officials', 1),\n",
       "  ('college', 1),\n",
       "  ('are', 1),\n",
       "  ('said', 1),\n",
       "  ('ways', 1),\n",
       "  ('ralph', 1),\n",
       "  ('state', 1),\n",
       "  ('ends', 1),\n",
       "  ('vindicated', 1),\n",
       "  ('catalogs', 1),\n",
       "  ('nature', 2),\n",
       "  ('key', 2),\n",
       "  ('flowering', 1),\n",
       "  ('pagan', 1),\n",
       "  ('many', 7),\n",
       "  ('against', 1),\n",
       "  ('s', 15),\n",
       "  ('constantine', 2),\n",
       "  ('context', 1),\n",
       "  ('faces', 1),\n",
       "  ('exemplary', 1),\n",
       "  ('pp', 1),\n",
       "  ('outsider', 1),\n",
       "  ('transylvania', 1),\n",
       "  ('capable', 1),\n",
       "  ('olum', 4),\n",
       "  ('much', 1),\n",
       "  ('parents', 1),\n",
       "  ('perplexed', 1),\n",
       "  ('worked', 1),\n",
       "  ('presented', 2),\n",
       "  ('plants', 1),\n",
       "  ('commerce', 1),\n",
       "  ('these', 1),\n",
       "  ('kentucky', 2),\n",
       "  ('will', 1),\n",
       "  ('ongoing', 1),\n",
       "  ('error', 1),\n",
       "  ('voice', 1),\n",
       "  ('huckster', 1),\n",
       "  ('costly', 1),\n",
       "  ('almost', 2),\n",
       "  ('is', 2),\n",
       "  ('hoax', 2),\n",
       "  ('minds', 1),\n",
       "  ('in', 17),\n",
       "  ('if', 2),\n",
       "  ('harsh', 1),\n",
       "  ('things', 1),\n",
       "  ('benign', 1),\n",
       "  ('arguments', 1),\n",
       "  ('peoples', 1),\n",
       "  ('european', 1),\n",
       "  ('primary', 1),\n",
       "  ('student', 1),\n",
       "  ('anticipated', 1),\n",
       "  ('scholars', 1),\n",
       "  ('i', 1),\n",
       "  ('perpetrate', 1),\n",
       "  ('academic', 1),\n",
       "  ('the', 20),\n",
       "  ('spend', 1),\n",
       "  ('valuable', 1),\n",
       "  ('not', 3),\n",
       "  ('aspect', 1),\n",
       "  ('walum', 4),\n",
       "  ('yes', 1),\n",
       "  ('book', 5),\n",
       "  ('collections', 1),\n",
       "  ('botanists', 1),\n",
       "  ('has', 1),\n",
       "  ('around', 2),\n",
       "  ('early', 1),\n",
       "  ('game', 1),\n",
       "  ('press', 1),\n",
       "  ('like', 1),\n",
       "  ('collective', 1),\n",
       "  ('informative', 1),\n",
       "  ('raffish', 1),\n",
       "  ('output', 1),\n",
       "  ('competition', 1),\n",
       "  ('born', 1),\n",
       "  ('describing', 1),\n",
       "  ('for', 7),\n",
       "  ('novelty', 1),\n",
       "  ('boggled', 1),\n",
       "  ('creative', 1),\n",
       "  ('porter', 1),\n",
       "  ('be', 1),\n",
       "  ('scientific', 3),\n",
       "  ('power', 1),\n",
       "  ('vexing', 1),\n",
       "  ('by', 1),\n",
       "  ('on', 4),\n",
       "  ('about', 3),\n",
       "  ('of', 22),\n",
       "  ('purported', 1),\n",
       "  ('wilderness', 1),\n",
       "  ('communication', 1),\n",
       "  ('intellectual', 1),\n",
       "  ('esteem', 1),\n",
       "  ('balanced', 1),\n",
       "  ('lastly', 1),\n",
       "  ('way', 1),\n",
       "  ('was', 6),\n",
       "  ('war', 1),\n",
       "  ('regard', 1),\n",
       "  ('but', 3),\n",
       "  ('administrators', 1),\n",
       "  ('illus', 1),\n",
       "  ('comprehending', 1),\n",
       "  ('he', 4),\n",
       "  ('systematics', 1),\n",
       "  ('problem', 1),\n",
       "  ('recognize', 1),\n",
       "  ('sales', 1),\n",
       "  ('an', 6),\n",
       "  ('as', 8),\n",
       "  ('diverse', 1),\n",
       "  ('at', 3),\n",
       "  ('no', 2),\n",
       "  ('when', 1),\n",
       "  ('other', 1),\n",
       "  ('role', 2),\n",
       "  ('reckless', 1),\n",
       "  ('contemporaries', 1),\n",
       "  ('permitting', 1),\n",
       "  ('detractors', 1),\n",
       "  ('m', 2),\n",
       "  ('energy', 1),\n",
       "  ('suppression', 1),\n",
       "  ('jurisprudence', 1),\n",
       "  ('time', 1)])"
      ]
     },
     "execution_count": 11,
     "metadata": {},
     "output_type": "execute_result"
    }
   ],
   "source": [
    "corpus.features['wordcounts'].features.items()[0]    # Just show data for the first Paper."
   ]
  },
  {
   "cell_type": "markdown",
   "metadata": {},
   "source": [
    "The ``index`` contains our \"vocabulary\":"
   ]
  },
  {
   "cell_type": "code",
   "execution_count": 12,
   "metadata": {
    "collapsed": false
   },
   "outputs": [
    {
     "name": "stdout",
     "output_type": "stream",
     "text": [
      "There are 134540 words in the wordcounts featureset\n"
     ]
    }
   ],
   "source": [
    "print 'There are %i words in the wordcounts featureset' % len(corpus.features['wordcounts'].index)"
   ]
  },
  {
   "cell_type": "markdown",
   "metadata": {},
   "source": [
    "We can use the ``feature_distribution()`` method of our ``Corpus`` to look at the distribution of words over time. In the example below I used [MatPlotLib](http://matplotlib.org/) to visualize the distribution."
   ]
  },
  {
   "cell_type": "code",
   "execution_count": 13,
   "metadata": {
    "collapsed": false
   },
   "outputs": [
    {
     "data": {
      "image/png": "[encoded data removed]",
      "text/plain": [
       "<matplotlib.figure.Figure at 0x121678ed0>"
      ]
     },
     "metadata": {},
     "output_type": "display_data"
    }
   ],
   "source": [
    "plt.figure(figsize=(10, 5))\n",
    "\n",
    "plt.bar(*corpus.feature_distribution('wordcounts', 'evolutionary'))    # <-- The action.\n",
    "\n",
    "plt.ylabel('Frequency of the word ``evolutionary`` in this Corpus')\n",
    "plt.xlabel('Publication Date')\n",
    "plt.show()"
   ]
  },
  {
   "cell_type": "markdown",
   "metadata": {},
   "source": [
    "If we add the argument ``mode='documentCounts'``, we get the number of documents in which ``'evolutionary'`` occurs."
   ]
  },
  {
   "cell_type": "code",
   "execution_count": 14,
   "metadata": {
    "collapsed": false
   },
   "outputs": [
    {
     "data": {
      "image/png": "[encoded data removed]",
      "text/plain": [
       "<matplotlib.figure.Figure at 0x1272a0b90>"
      ]
     },
     "metadata": {},
     "output_type": "display_data"
    }
   ],
   "source": [
    "plt.figure(figsize=(10, 5))\n",
    "\n",
    "plt.bar(*corpus.feature_distribution('wordcounts', 'evolutionary', mode='documentCounts'))    # <-- The action.\n",
    "\n",
    "plt.ylabel('Documents containing ``evolutionary``')\n",
    "plt.xlabel('Publication Date')\n",
    "plt.show()"
   ]
  },
  {
   "cell_type": "markdown",
   "metadata": {},
   "source": [
    "Note that we can look how documents themselves are distributed using the ``distribution()`` method."
   ]
  },
  {
   "cell_type": "code",
   "execution_count": 15,
   "metadata": {
    "collapsed": false
   },
   "outputs": [
    {
     "data": {
      "image/png": "[encoded data removed]",
      "text/plain": [
       "<matplotlib.figure.Figure at 0x12165e450>"
      ]
     },
     "metadata": {},
     "output_type": "display_data"
    }
   ],
   "source": [
    "plt.figure(figsize=(10, 5))\n",
    "\n",
    "plt.bar(*corpus.distribution())    # <-- The action.\n",
    "\n",
    "plt.ylabel('Number of Documents')\n",
    "plt.xlabel('Publication Date')\n",
    "plt.show()"
   ]
  },
  {
   "cell_type": "markdown",
   "metadata": {},
   "source": [
    "So, putting these together, we can normalize our ``feature_distribution()`` data to get a sense of the relative use of the word ``'evolution'``."
   ]
  },
  {
   "cell_type": "code",
   "execution_count": 16,
   "metadata": {
    "collapsed": false
   },
   "outputs": [
    {
     "data": {
      "image/png": "[encoded data removed]",
      "text/plain": [
       "<matplotlib.figure.Figure at 0x12745bfd0>"
      ]
     },
     "metadata": {},
     "output_type": "display_data"
    }
   ],
   "source": [
    "dates, N_evolution = corpus.feature_distribution('wordcounts', 'evolutionary', mode='documentCounts')\n",
    "dates, N = corpus.distribution()\n",
    "normalized_frequency = [f/N[i] for i, f in enumerate(N_evolution)]\n",
    "plt.figure(figsize=(10, 5))\n",
    "\n",
    "plt.bar(dates, normalized_frequency)    # <-- The action.\n",
    "\n",
    "plt.ylabel('Proportion of documents containing ``evolutionary``')\n",
    "plt.xlabel('Publication Date')\n",
    "plt.show()"
   ]
  },
  {
   "cell_type": "markdown",
   "metadata": {},
   "source": [
    "## Topic Modeling with DfR wordcounts\n",
    "\n",
    "[Latent Dirichlet Allocation](http://en.wikipedia.org/wiki/Latent_Dirichlet_allocation) is a popular approach to discovering latent \"topics\" in large corpora. Many digital humanists use a software package called [MALLET](http://mallet.cs.umass.edu/) to fit LDA to text data. Tethne uses MALLET to fit LDA topic models.\n",
    "\n",
    "Before we use LDA, however, we need to do some preprocessing. \"Preprocessing\" refers to anything that we do to filter or transform our ``FeatureSet`` prior to analysis. \n",
    "\n",
    "### Pre-processing\n",
    "\n",
    "Two important preprocessing steps are:\n",
    "\n",
    "    1. Removing \"stopwords\" -- common words like \"the\", \"and\", \"but\", \"for\", that don't yield much insight into the contents of documents.\n",
    "    2. Removing words that are too common or too rare. These include typos or OCR artifacts.\n",
    "    \n",
    "We can do both of these by using the ``transform()`` method on our ``FeatureSet``.\n",
    "\n",
    "First, we need a stoplist. [NLTK](http://www.nltk.org/) provides a great stoplist."
   ]
  },
  {
   "cell_type": "code",
   "execution_count": 17,
   "metadata": {
    "collapsed": true
   },
   "outputs": [],
   "source": [
    "from nltk.corpus import stopwords\n",
    "stoplist = stopwords.words()"
   ]
  },
  {
   "cell_type": "markdown",
   "metadata": {},
   "source": [
    "We then need to define what elements to keep, and what elements to discard. We will use a function that will evaluate whether or not a word is in our stoplist. The function should take three arguments:\n",
    "\n",
    "* ``f`` -- the feature itself (the word)\n",
    "* ``v`` -- the number of instances of that feature in a specific document\n",
    "* ``c`` -- the number of instances of that feature in the whole FeatureSet\n",
    "* ``dc`` -- the number of documents that contain that feature\n",
    "\n",
    "This function will be applied to each word in each document. If it returns ``0`` or ``None``, the word will be excluded. Otherwise, it should return a numeric value (in this case, the count for that document).\n",
    "\n",
    "In addition to applying the stoplist, we'll also exclude any word that occurs in more than 500 of the documents and less than 3 documents, and is less than 4 characters in length."
   ]
  },
  {
   "cell_type": "code",
   "execution_count": 18,
   "metadata": {
    "collapsed": true
   },
   "outputs": [],
   "source": [
    "def apply_stoplist(f, v, c, dc):\n",
    "    if f in stoplist or dc > 500 or dc < 3 or len(f) < 4:\n",
    "        return None    # Discard the element.\n",
    "    return v"
   ]
  },
  {
   "cell_type": "markdown",
   "metadata": {},
   "source": [
    "We apply the stoplist using the ``transform()`` method. ``FeatureSet``s are not modified in place; instead, a new ``FeatureSet`` is generated that reflects the specified changes. We'll call the new ``FeatureSet`` ``'wordcounts_filtered'``."
   ]
  },
  {
   "cell_type": "code",
   "execution_count": 19,
   "metadata": {
    "collapsed": true
   },
   "outputs": [],
   "source": [
    "corpus.features['wordcounts_filtered'] = corpus.features['wordcounts'].transform(apply_stoplist)"
   ]
  },
  {
   "cell_type": "markdown",
   "metadata": {},
   "source": [
    "There should be significantly fewer words in our new ``\"wordcounts_filtered\"`` ``FeatureSet``."
   ]
  },
  {
   "cell_type": "code",
   "execution_count": 20,
   "metadata": {
    "collapsed": false
   },
   "outputs": [
    {
     "name": "stdout",
     "output_type": "stream",
     "text": [
      "There are 134540 words in the wordcounts featureset\n",
      "There are 41035 words in the wordcounts_filtered featureset\n"
     ]
    }
   ],
   "source": [
    "print 'There are %i words in the wordcounts featureset' % len(corpus.features['wordcounts'].index)\n",
    "print 'There are %i words in the wordcounts_filtered featureset' % len(corpus.features['wordcounts_filtered'].index)"
   ]
  },
  {
   "cell_type": "markdown",
   "metadata": {},
   "source": [
    "### The LDA topic model\n",
    "\n",
    "Tethne provides a class called ``LDAModel``. You should be able to import it directly from the ``tethne`` package:"
   ]
  },
  {
   "cell_type": "code",
   "execution_count": 21,
   "metadata": {
    "collapsed": true
   },
   "outputs": [],
   "source": [
    "from tethne import LDAModel"
   ]
  },
  {
   "cell_type": "markdown",
   "metadata": {},
   "source": [
    "Now we'll create a new ``LDAModel`` for our ``Corpus``. The ``featureset_name`` parameter tells the ``LDAModel`` which ``FeatureSet`` we want to use. We'll use our filtered wordcounts."
   ]
  },
  {
   "cell_type": "code",
   "execution_count": 22,
   "metadata": {
    "collapsed": false
   },
   "outputs": [],
   "source": [
    "model = LDAModel(corpus, featureset_name='wordcounts_filtered')"
   ]
  },
  {
   "cell_type": "markdown",
   "metadata": {},
   "source": [
    "Next we'll fit the model. We need to tell MALLET how many topics to fit (the hyperparameter ``Z``), and how many iterations (``max_iter``) to perform. This step may take a little while, depending on the size of your corpus."
   ]
  },
  {
   "cell_type": "code",
   "execution_count": 23,
   "metadata": {
    "collapsed": false
   },
   "outputs": [
    {
     "name": "stdout",
     "output_type": "stream",
     "text": []
    }
   ],
   "source": [
    "model.fit(Z=50, max_iter=500)"
   ]
  },
  {
   "cell_type": "markdown",
   "metadata": {},
   "source": [
    "You can inspect the inferred topics using the model's ``print_topics()`` method. By default, this will print the top ten words for each topic."
   ]
  },
  {
   "cell_type": "code",
   "execution_count": 24,
   "metadata": {
    "collapsed": false
   },
   "outputs": [
    {
     "name": "stdout",
     "output_type": "stream",
     "text": [
      "Topic\tTop 10 words\n",
      "0  \tweismann heredity variation inheritance characters vries hereditary johannsen variations transmission\n",
      "1  \thenderson blood oxygen chemistry vinogradskii chemical hemoglobin carbon liebig barcroft\n",
      "2  \tfamily father language romanes white letters autobiography children carpenter mental\n",
      "3  \tfemale women sexual male behavior rats hormones woman control birth\n",
      "4  \tcells immunology cell antibodies jerne immune antibody metchnikoff ehrlich immunity\n",
      "5  \tpractices discipline cultural broader debates emerged fields diverse disciplines project\n",
      "6  \tecology environmental ecological fish conservation management ecologists salmon wildlife fisheries\n",
      "7  \tdisease cancer health rous diseases clinical illness patients symptoms beaumont\n",
      "8  \tharvey blood civet renaissance fernel fish spirits medieval circulation seventeenth\n",
      "9  \tbehavior lorenz agassiz bees instincts girard instinct psychology learning thorpe\n",
      "10 \tzoology museum brooks hopkins morphology johns marine alexander teaching museums\n",
      "11 \thuxley darwinism spencer darwinian wilson ruse revolution bastian sociobiology kingsley\n",
      "12 \tibid notion principle types instance distinct organic proposed phenomena occur\n",
      "13 \tcell cells division organism haeckel wilson embryology nucleus protozoa morphological\n",
      "14 \tmayr synthesis simpson population ernst ecology speciation anderson systematics isolation\n",
      "15 \tmcclintock agricultural corn mexico blakeslee station chase reighard barbara college\n",
      "16 \tletter report committee meeting institute program january march june december\n",
      "17 \tmolecular proteins pauling sequences protein sequence zuckerkandl goodman acid amino\n",
      "18 \tcited referred apparently statement felt edition observed version previously subsequent\n",
      "19 \tleeuwenhoek needham oyster bonnet ibid hamburger royal spemann embryo eggs\n",
      "20 \tmitchell membrane cell synthesis protein boyer williams electron energy acid\n",
      "21 \tclassification genera linnaeus genus candolle characters botany plant temminck botanical\n",
      "22 \tbirds specimens distribution geographical island naturalists islands regions museum bird\n",
      "23 \tlamarck cuvier paris buffon french histoire naturelle france daubenton geoffroy\n",
      "24 \tvirus viruses bacterial phage bacteria bacteriophage delbruck gene cells genetic\n",
      "25 \tmendel traits maupertuis unger kluwer hybrids publishers hybrid dordrecht editor\n",
      "26 \tmolecular biochemistry biochemical sanger institute monod chemistry watson rashevsky protein\n",
      "27 \thooker royal britain victorian joseph college barry professional botany edinburgh\n",
      "28 \tcreation religious theology design religion laws earth belief organic doctrine\n",
      "29 \tbateson galton fisher pearson statistical heredity variation hogben mendelian weldon\n",
      "30 \tmorgan breeding chromosomes drosophila chromosome heredity mendelian breeders inheritance genes\n",
      "31 \tfigure experiment experimentation regeneration techniques images objects visual technique tissue\n",
      "32 \tgoldschmidt physiological chemical cowdry buchner internal cells aging riddle extracts\n",
      "33 \torganism physics systems phenomena laws properties mathematical mechanism conceptual mechanistic\n",
      "34 \twallace lyell letter letters geology geological beagle voyage hooker gray\n",
      "35 \tkammerer wells freud morris humanity politics socialism acquired ethics socialist\n",
      "36 \tbiography essays chapters readers reader historian narrative scholars illus bookshelf\n",
      "37 \tcreighton azara atomic japanese japan radiation spanish spain energy abcc\n",
      "38 \tgerman haeckel germany berlin kuhn wilhelm vogt uber geschichte naef\n",
      "39 \tfossil paleontology gould record agassiz morphology gregory fossils bronn morphological\n",
      "40 \tgenetic muller gene population genes wright dobzhansky populations mutations mutation\n",
      "41 \towen anatomy goethe knox baer grant comparative lectures morphology carpenter\n",
      "42 \tquoted truth thing hope controversy matters criticism attack famous prove\n",
      "43 \teugenics race racial eugenic heredity movement nazi dunn races anthropology\n",
      "44 \tvariation notebooks varieties notebook malthus divergence economy lawrence principle transmutation\n",
      "45 \tnervous nerve wolff haller brain force spinal nerves muscle physiological\n",
      "46 \teconomic local government institutions industry agricultural resources education private practical\n",
      "47 \tplant south africa trees african herbis roux theophrastus dioscorides leaves\n",
      "48 \taristotle heart galen blood male movement semen female pneuma soul\n",
      "49 \tsoviet lysenko haldane russian darlington party union moscow academy geneticists\n"
     ]
    }
   ],
   "source": [
    "model.print_topics()"
   ]
  },
  {
   "cell_type": "markdown",
   "metadata": {},
   "source": [
    "We can also look at the representation of a topic over time using the ``topic_over_time()`` method. In the example below we'll print the first five of the topics on the same plot."
   ]
  },
  {
   "cell_type": "code",
   "execution_count": 28,
   "metadata": {
    "collapsed": false
   },
   "outputs": [
    {
     "data": {
      "image/png": "[encoded data removed]",
      "text/plain": [
       "<matplotlib.figure.Figure at 0x1277b2bd0>"
      ]
     },
     "metadata": {},
     "output_type": "display_data"
    }
   ],
   "source": [
    "plt.figure(figsize=(15, 5))\n",
    "for k in xrange(5):    # Generates numbers k in [0, 4].\n",
    "    x, y = model.topic_over_time(k)    # Gets topic number k.\n",
    "    plt.plot(x, y, label='topic {0}'.format(k), lw=2, alpha=0.7)\n",
    "plt.legend(loc='best')\n",
    "plt.show()    "
   ]
  },
  {
   "cell_type": "markdown",
   "metadata": {},
   "source": [
    "## Generating networks from topic models\n",
    "\n",
    "The ``features`` module in the ``tethne.networks`` subpackage contains some useful methods for visualizing topic models as networks. You can import it just like the ``authors`` or ``papers`` modules."
   ]
  },
  {
   "cell_type": "code",
   "execution_count": 29,
   "metadata": {
    "collapsed": true
   },
   "outputs": [],
   "source": [
    "from tethne.networks import topics"
   ]
  },
  {
   "cell_type": "markdown",
   "metadata": {},
   "source": [
    "The ``terms`` function generates a network of words connected on the basis of shared affinity with a topic. If two words *i* and *j* are both associated with a topic *z* with $\\Phi(i|z) >= 0.01$ and $\\Phi(j|z) >= 0.01$, then an edge is drawn between them. "
   ]
  },
  {
   "cell_type": "code",
   "execution_count": 30,
   "metadata": {
    "collapsed": true
   },
   "outputs": [],
   "source": [
    "termGraph = topics.terms(model, threshold=0.01)"
   ]
  },
  {
   "cell_type": "code",
   "execution_count": 35,
   "metadata": {
    "collapsed": false
   },
   "outputs": [
    {
     "data": {
      "text/plain": [
       "(280, 1105)"
      ]
     },
     "execution_count": 35,
     "metadata": {},
     "output_type": "execute_result"
    }
   ],
   "source": [
    "termGraph.order(), termGraph.size()"
   ]
  },
  {
   "cell_type": "code",
   "execution_count": 36,
   "metadata": {
    "collapsed": true
   },
   "outputs": [],
   "source": [
    "termGraph.name = ''"
   ]
  },
  {
   "cell_type": "code",
   "execution_count": 37,
   "metadata": {
    "collapsed": true
   },
   "outputs": [],
   "source": [
    "from tethne.writers.graph import to_graphml\n",
    "to_graphml(termGraph, '/Users/erickpeirson/Desktop/topic_terms.graphml')"
   ]
  },
  {
   "cell_type": "markdown",
   "metadata": {},
   "source": [
    "![](images/lda2.png)"
   ]
  },
  {
   "cell_type": "code",
   "execution_count": 32,
   "metadata": {
    "collapsed": true
   },
   "outputs": [],
   "source": [
    "topicCoupling = topics.topic_coupling(model, threshold=0.2)"
   ]
  },
  {
   "cell_type": "code",
   "execution_count": 33,
   "metadata": {
    "collapsed": false
   },
   "outputs": [
    {
     "name": "stdout",
     "output_type": "stream",
     "text": [
      "1059 nodes and 17707 edges\n"
     ]
    }
   ],
   "source": [
    "print '%i nodes and %i edges' % (topicCoupling.order(), topicCoupling.size())"
   ]
  },
  {
   "cell_type": "code",
   "execution_count": 38,
   "metadata": {
    "collapsed": true
   },
   "outputs": [],
   "source": [
    "to_graphml(topicCoupling, '/Users/erickpeirson/Desktop/lda_topicCoupling.graphml')"
   ]
  },
  {
   "cell_type": "markdown",
   "metadata": {},
   "source": [
    "![](images/lda_topicCoupling.png)"
   ]
  },
  {
   "cell_type": "code",
   "execution_count": null,
   "metadata": {
    "collapsed": true
   },
   "outputs": [],
   "source": []
  }
 ],
 "metadata": {
  "kernelspec": {
   "display_name": "Python 2",
   "language": "python",
   "name": "python2"
  },
  "language_info": {
   "codemirror_mode": {
    "name": "ipython",
    "version": 2
   },
   "file_extension": ".py",
   "mimetype": "text/x-python",
   "name": "python",
   "nbconvert_exporter": "python",
   "pygments_lexer": "ipython2",
   "version": "2.7.9"
  }
 },
 "nbformat": 4,
 "nbformat_minor": 0
}
