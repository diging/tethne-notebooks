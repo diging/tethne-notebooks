{
 "cells": [
  {
   "cell_type": "code",
   "execution_count": 1,
   "metadata": {
    "collapsed": false
   },
   "outputs": [
    {
     "name": "stdout",
     "output_type": "stream",
     "text": [
      "Populating the interactive namespace from numpy and matplotlib\n"
     ]
    }
   ],
   "source": [
    "%pylab inline"
   ]
  },
  {
   "cell_type": "code",
   "execution_count": 2,
   "metadata": {
    "collapsed": true
   },
   "outputs": [],
   "source": [
    "import matplotlib.pyplot as plt"
   ]
  },
  {
   "cell_type": "markdown",
   "metadata": {},
   "source": [
    "# Introduction to Tethne: Words and Topic Modeling"
   ]
  },
  {
   "cell_type": "markdown",
   "metadata": {},
   "source": [
    "In this workbook we'll start working with word-based ``FeatureSet``s, and use the ``model.corpus.mallet`` module to  fit a [Latent Dirichlet Allocation](http://en.wikipedia.org/wiki/Latent_Dirichlet_allocation) (LDA) topic model."
   ]
  },
  {
   "cell_type": "markdown",
   "metadata": {},
   "source": [
    "## Before you start"
   ]
  },
  {
   "cell_type": "markdown",
   "metadata": {},
   "source": [
    "* Download the practice dataset from [here](http://devo-evo.lab.asu.edu/methods/tethne/datasets.zip), and store it in a place where you can find it. You'll need the full path to your dataset.\n"
   ]
  },
  {
   "cell_type": "markdown",
   "metadata": {},
   "source": [
    "## Loading JSTOR DfR datasets"
   ]
  },
  {
   "cell_type": "markdown",
   "metadata": {},
   "source": [
    "First, import the ``dfr`` module from ``tethne.readers``."
   ]
  },
  {
   "cell_type": "code",
   "execution_count": 3,
   "metadata": {
    "collapsed": false
   },
   "outputs": [],
   "source": [
    "from tethne.readers import dfr"
   ]
  },
  {
   "cell_type": "markdown",
   "metadata": {},
   "source": [
    "Unlike WoS datasets, DfR datasets can contain wordcounts, bigrams, trigrams, and quadgrams in addition to bibliographic data. ``read`` will automagically load those data as ``FeatureSet``s. "
   ]
  },
  {
   "cell_type": "code",
   "execution_count": 4,
   "metadata": {
    "collapsed": false
   },
   "outputs": [],
   "source": [
    "corpus = dfr.read('/Users/erickpeirson/Projects/tethne-notebooks/data/dfr')"
   ]
  },
  {
   "cell_type": "code",
   "execution_count": 5,
   "metadata": {
    "collapsed": false
   },
   "outputs": [
    {
     "name": "stdout",
     "output_type": "stream",
     "text": [
      "There are 241 papers in this corpus.\n"
     ]
    }
   ],
   "source": [
    "print 'There are %i papers in this corpus.' % len(corpus.papers)"
   ]
  },
  {
   "cell_type": "code",
   "execution_count": 6,
   "metadata": {
    "collapsed": false
   },
   "outputs": [
    {
     "name": "stdout",
     "output_type": "stream",
     "text": [
      "This corpus contains the following features: \n",
      "\tcitations\n",
      "\twordcounts\n",
      "\tauthors\n"
     ]
    }
   ],
   "source": [
    "print 'This corpus contains the following features: \\n\\t%s' % '\\n\\t'.join(corpus.features.keys())"
   ]
  },
  {
   "cell_type": "code",
   "execution_count": 19,
   "metadata": {
    "collapsed": false
   },
   "outputs": [],
   "source": [
    "p = corpus[15]"
   ]
  },
  {
   "cell_type": "code",
   "execution_count": 21,
   "metadata": {
    "collapsed": false
   },
   "outputs": [],
   "source": [
    "from tethne.networks.authors import coauthors"
   ]
  },
  {
   "cell_type": "code",
   "execution_count": 22,
   "metadata": {
    "collapsed": true
   },
   "outputs": [],
   "source": [
    "graph = coauthors(corpus)"
   ]
  },
  {
   "cell_type": "code",
   "execution_count": 28,
   "metadata": {
    "collapsed": false
   },
   "outputs": [],
   "source": [
    "from tethne.writers import graph as graphw"
   ]
  },
  {
   "cell_type": "code",
   "execution_count": 29,
   "metadata": {
    "collapsed": true
   },
   "outputs": [],
   "source": [
    "graphw.to_graphml(graph, '/Users/erickpeirson/Desktop/coauthors.graphml')"
   ]
  },
  {
   "cell_type": "markdown",
   "metadata": {},
   "source": [
    "Whereas Corpora generated from WoS datasets are indexed by ``wosid``, Corpora generated from DfR datasets are indexed by ``doi``."
   ]
  },
  {
   "cell_type": "code",
   "execution_count": 7,
   "metadata": {
    "collapsed": false
   },
   "outputs": [
    {
     "data": {
      "text/plain": [
       "['10.2307/2418718',\n",
       " '10.2307/2258178',\n",
       " '10.2307/3241549',\n",
       " '10.2307/2416998',\n",
       " '10.2307/20000814',\n",
       " '10.2307/2428935',\n",
       " '10.2307/2418714',\n",
       " '10.2307/1729159',\n",
       " '10.2307/2407516',\n",
       " '10.2307/2816048']"
      ]
     },
     "execution_count": 7,
     "metadata": {},
     "output_type": "execute_result"
    }
   ],
   "source": [
    "corpus.indexed_papers.keys()[0:10]    # The first 10 dois in the Paper index."
   ]
  },
  {
   "cell_type": "markdown",
   "metadata": {},
   "source": [
    "So you can retrieve specific ``Paper``s from ``Corpus.papers`` using their DOIs:"
   ]
  },
  {
   "cell_type": "code",
   "execution_count": 8,
   "metadata": {
    "collapsed": false
   },
   "outputs": [
    {
     "data": {
      "text/plain": [
       "<tethne.classes.paper.Paper at 0x1076f52d0>"
      ]
     },
     "execution_count": 8,
     "metadata": {},
     "output_type": "execute_result"
    }
   ],
   "source": [
    "corpus['10.2307/2418718']"
   ]
  },
  {
   "cell_type": "markdown",
   "metadata": {},
   "source": [
    "## Working with featuresets"
   ]
  },
  {
   "cell_type": "markdown",
   "metadata": {},
   "source": [
    "``FeatureSet``s are stored in the ``features`` attribute of a ``Corpus`` object. ``Corpus.features`` is just a dict, so you can see which featuresets are available by calling its ``keys`` method."
   ]
  },
  {
   "cell_type": "code",
   "execution_count": 30,
   "metadata": {
    "collapsed": false
   },
   "outputs": [
    {
     "name": "stdout",
     "output_type": "stream",
     "text": [
      "This corpus contains the following featuresets: \n",
      "\tcitations\n",
      "\twordcounts\n",
      "\tauthors\n"
     ]
    }
   ],
   "source": [
    "print 'This corpus contains the following featuresets: \\n\\t{0}'.format(\n",
    "            '\\n\\t'.join(corpus.features.keys())    )"
   ]
  },
  {
   "cell_type": "markdown",
   "metadata": {},
   "source": [
    "It's not uncommon for featuresets to be incomplete; sometimes data won't be available for all of the Papers in the Corpus. An easy way to check the number of Papers for which data is available in a ``FeatureSet`` is to get the size (``len``) of the ``features`` attribute of the ``FeatureSet``. For example:"
   ]
  },
  {
   "cell_type": "code",
   "execution_count": 31,
   "metadata": {
    "collapsed": false
   },
   "outputs": [
    {
     "name": "stdout",
     "output_type": "stream",
     "text": [
      "There are 241 papers with unigram features in this corpus.\n"
     ]
    }
   ],
   "source": [
    "print 'There are %i papers with unigram features in this corpus.' % len(corpus.features['wordcounts'].features)"
   ]
  },
  {
   "cell_type": "markdown",
   "metadata": {},
   "source": [
    "To check the number of features in a featureset (e.g. the size of a vocabulary), look at the size of the ``index`` attribute."
   ]
  },
  {
   "cell_type": "code",
   "execution_count": 32,
   "metadata": {
    "collapsed": false
   },
   "outputs": [
    {
     "name": "stdout",
     "output_type": "stream",
     "text": [
      "There are 52207 words in the unigrams featureset\n"
     ]
    }
   ],
   "source": [
    "print 'There are %i words in the unigrams featureset' % len(corpus.features['wordcounts'].index)"
   ]
  },
  {
   "cell_type": "markdown",
   "metadata": {},
   "source": [
    "``index`` maps words to an integer representation. Here are the first ten words in the ``FeatureSet``:"
   ]
  },
  {
   "cell_type": "code",
   "execution_count": 33,
   "metadata": {
    "collapsed": false
   },
   "outputs": [
    {
     "data": {
      "text/plain": [
       "[(0, 'dynamic'),\n",
       " (1, 'relationships'),\n",
       " (2, 'calculate'),\n",
       " (3, 'physiological'),\n",
       " (4, 'segments'),\n",
       " (5, 'under'),\n",
       " (6, 'emlen'),\n",
       " (7, 'worth'),\n",
       " (8, 'experimentally'),\n",
       " (9, 'alpine')]"
      ]
     },
     "execution_count": 33,
     "metadata": {},
     "output_type": "execute_result"
    }
   ],
   "source": [
    "corpus.features['wordcounts'].index.items()[0:10]"
   ]
  },
  {
   "cell_type": "markdown",
   "metadata": {},
   "source": [
    "### Applying a stoplist"
   ]
  },
  {
   "cell_type": "markdown",
   "metadata": {},
   "source": [
    "In many cases you may wish to apply a stoplist (a list of features to exclude from analysis) to a featureset. In our DfR dataset, the most common words are prepositions and other terms that don't really have anything to do with the topical content of the corpus."
   ]
  },
  {
   "cell_type": "code",
   "execution_count": 34,
   "metadata": {
    "collapsed": false
   },
   "outputs": [
    {
     "data": {
      "text/plain": [
       "[('the', 74619.0),\n",
       " ('of', 67372.0),\n",
       " ('and', 42712.0),\n",
       " ('in', 36453.0),\n",
       " ('a', 22590.0)]"
      ]
     },
     "execution_count": 34,
     "metadata": {},
     "output_type": "execute_result"
    }
   ],
   "source": [
    "corpus.features['wordcounts'].top(5)    # The top 5 words in the FeatureSet."
   ]
  },
  {
   "cell_type": "markdown",
   "metadata": {},
   "source": [
    "You may apply any stoplist you like to a featureset. In this example, we import the [Natural Language ToolKit (NLTK)](http://www.nltk.org/) stopwords corpus."
   ]
  },
  {
   "cell_type": "code",
   "execution_count": 35,
   "metadata": {
    "collapsed": false
   },
   "outputs": [],
   "source": [
    "from nltk.corpus import stopwords\n",
    "stoplist = stopwords.words()"
   ]
  },
  {
   "cell_type": "markdown",
   "metadata": {},
   "source": [
    "We then create a function that will evaluate whether or not a word is in our stoplist. The function should take three arguments:\n",
    "\n",
    "* ``f`` -- the feature itself (the word)\n",
    "* ``v`` -- the number of instances of that feature in a specific document\n",
    "* ``c`` -- the number of instances of that feature in the whole FeatureSet\n",
    "* ``dc`` -- the number of documents that contain that feature\n",
    "\n",
    "This function will be applied to each word in each document. If it returns ``0`` or ``None``, the word will be excluded. Otherwise, it should return a numeric value (in this case, the count for that document).\n",
    "\n",
    "In addition to applying the stoplist, we'll also exclude any word that occurs in more than 50 of the documents and less than 3 documents."
   ]
  },
  {
   "cell_type": "code",
   "execution_count": 36,
   "metadata": {
    "collapsed": true
   },
   "outputs": [],
   "source": [
    "def apply_stoplist(f, v, c, dc):\n",
    "    if f in stoplist or dc > 50 or dc < 3:\n",
    "        return 0\n",
    "    return v"
   ]
  },
  {
   "cell_type": "markdown",
   "metadata": {},
   "source": [
    "We apply the stoplist using the ``transform()`` method. ``FeatureSet``s are not modified in place; instead, a new ``FeatureSet`` is generated that reflects the specified changes. We'll call the new ``FeatureSet`` ``'wordcounts_filtered'``."
   ]
  },
  {
   "cell_type": "code",
   "execution_count": 37,
   "metadata": {
    "collapsed": false
   },
   "outputs": [],
   "source": [
    "corpus.features['wordcounts_filtered'] = corpus.features['wordcounts'].transform(apply_stoplist)"
   ]
  },
  {
   "cell_type": "code",
   "execution_count": 38,
   "metadata": {
    "collapsed": false
   },
   "outputs": [
    {
     "name": "stdout",
     "output_type": "stream",
     "text": [
      "There are 12204 words in the wordcounts_filtered FeatureSet\n"
     ]
    }
   ],
   "source": [
    "print 'There are %i words in the wordcounts_filtered FeatureSet' % len(corpus.features['wordcounts_filtered'].index)"
   ]
  },
  {
   "cell_type": "markdown",
   "metadata": {},
   "source": [
    "## Topic modeling with featuresets"
   ]
  },
  {
   "cell_type": "markdown",
   "metadata": {},
   "source": [
    "[Latent Dirichlet Allocation](http://en.wikipedia.org/wiki/Latent_Dirichlet_allocation) is a popular approach to discovering latent \"topics\" in large corpora. Many digital humanists use a software package called [MALLET](http://mallet.cs.umass.edu/) to fit LDA to text data. Tethne uses MALLET to fit LDA topic models.\n",
    "\n",
    "Start by importing the ``mallet`` module from the ``tethne.model.corpus`` subpackage."
   ]
  },
  {
   "cell_type": "code",
   "execution_count": 39,
   "metadata": {
    "collapsed": false
   },
   "outputs": [],
   "source": [
    "from tethne.model.corpus import mallet"
   ]
  },
  {
   "cell_type": "markdown",
   "metadata": {},
   "source": [
    "Now we'll create a new ``LDAModel`` for our ``Corpus``. The ``featureset_name`` parameter tells the ``LDAModel`` which ``FeatureSet`` we want to use. We'll use our filtered wordcounts."
   ]
  },
  {
   "cell_type": "code",
   "execution_count": 40,
   "metadata": {
    "collapsed": false
   },
   "outputs": [],
   "source": [
    "model = mallet.LDAModel(corpus, featureset_name='wordcounts_filtered')"
   ]
  },
  {
   "cell_type": "markdown",
   "metadata": {},
   "source": [
    "Next we'll fit the model. We need to tell MALLET how many topics to fit (the hyperparameter ``Z``), and how many iterations (``max_iter``) to perform. This step may take a little while, depending on the size of your corpus."
   ]
  },
  {
   "cell_type": "code",
   "execution_count": 41,
   "metadata": {
    "collapsed": true
   },
   "outputs": [],
   "source": [
    "model.fit(Z=50, max_iter=500)"
   ]
  },
  {
   "cell_type": "markdown",
   "metadata": {},
   "source": [
    "You can inspect the inferred topics using the model's ``print_topics()`` method. By default, this will print the top ten words for each topic."
   ]
  },
  {
   "cell_type": "code",
   "execution_count": 42,
   "metadata": {
    "collapsed": false
   },
   "outputs": [
    {
     "name": "stdout",
     "output_type": "stream",
     "text": [
      "Topic\tTop 10 words\n",
      "0  \tproductivity ecosystem food conservation management ecosystems ibp nutrient balance resource\n",
      "1  \trelict ancient relicts lakes dealing places localities fauna marine copenhagen\n",
      "2  \tfairly commonly partial differentiated abundant remain represents considerably condition criteria\n",
      "3  \tzealand herbarium varieties compound impossible referred refer definite bearing taxonomist\n",
      "4  \tcultivated darwin domestic genes constitution crossing changed caused domestication polyploidy\n",
      "5  \tssp wheat nepal fitness subspecies pond barley drummondii pakistan loci\n",
      "6  \tgunnera fossil usa insignis colonies cretaceous polar studying africa palynology\n",
      "7  \train islands island forests tropics spores speciation fern ferns forester\n",
      "8  \twilliam david richard james george charles paul thomas joseph donald\n",
      "9  \tseq fen dunes upland rain bog grazing succession weed dune\n",
      "10 \tillus edition pages chapter chemistry chapters comprehensive elementary presents textbook\n",
      "11 \tpollination floral insects insect km alpestre bees wind pollinators linnaeus\n",
      "12 \tplots park ca odoratum contrasting ph calcium calcareous plot mg\n",
      "13 \tspeciation inbreeding selfing stebbins heredity barriers chromosomal polyploidy polyploids isolating\n",
      "14 \tcrosses lolium perenne jenkin chromosomes festuca cent cross tetraploid diploid\n",
      "15 \troom session indiana meeting michigan hall joint union program building\n",
      "16 \tteaching send professor experience cell service sciences opportunity applications clinical\n",
      "17 \tjour jan nov feb oct mar canad dee dec rio\n",
      "18 \tnitrogen metabolism fixation mycorrhizal fungi uptake fine carbon cell nodules\n",
      "19 \tcommittee public program meeting organization education social policy programs aaas\n",
      "20 \tstable synthesis understand continue idea unique consequences real turn phase\n",
      "21 \tcomponent error location estimated regression correlations chosen proportions estimates variables\n",
      "22 \tharrison ns isles quadrats melanism moths sex durham poa lepidoptera\n",
      "23 \tagrostis tenuis festuca stolonifera grazed salt marsh marshes tolerant alterniflora\n",
      "24 \tstands black spruce boreal shrub vascular floristic stratum sampled vaccinium\n",
      "25 \trace caespitosa stations stanford timberline sierra deschampsia vigorous sterile ecotype\n",
      "26 \tedited physics write nuclear electron circle engineering jan power april\n",
      "27 \ttillers greenland island mr antarctic december alpinum snow cape georgia\n",
      "28 \ttransplant sandy loam colorado clonal clay crown inflorescence inflorescences clones\n",
      "29 \tdept bs ms box st ba ny article po ca\n",
      "30 \tefficiency resistance model optimal air convection variables coefficient transpiration sizes\n",
      "31 \ttypha latifolia clones texas inland domingensis montane vulgaris austin berkeley\n",
      "32 \tspruce tn columbia dormancy provenances cd latitude elevation cone sitka\n",
      "33 \tforests stands pine elevation moisture herb stems canopy shrub beech\n",
      "34 \tmm stems herbarium leaflets rosa fruit branches cultures collective sepals\n",
      "35 \tsubsp rotundifolia district vernalization tetraploids campanula tetraploid mts mm diploid\n",
      "36 \tcn ns geranium purpureum shingle isles localities race slope woodland\n",
      "37 \tnet warm respiration cool dark photosynthesis photosynthetic acclimation regime thermal\n",
      "38 \tbiosystematics biosystematic taxonomists numerical floras phylogenetic categories nomenclature botanists works\n",
      "39 \tecotype turesson hereditary gregor ecospecies clausen pine hiesey hereditas plantago\n",
      "40 \tecologists naturalist succession successional niche models harper biotic ecosystems ecologist\n",
      "41 \tsan wet miles gardens pacific wisconsin cuttings origins valley bella\n",
      "42 \tarctic scandinavia delimitation glacial scandinavian atlantic middle purely lowland norway\n",
      "43 \tdrought moisture alpestre hr precipitation greenhouse photoperiod elevational elevations medicine\n",
      "44 \tlawn erect prostrate plantago lawns wt poa bowling annua weeds\n",
      "45 \televations gradient ft heath mesic slopes xeric cove distributions deciduous\n",
      "46 \tterrestrial aquatic blade width heterophylly hidden horse flexibility gold shape\n",
      "47 \tgraminea disruptive divergence mating drosophila thoday generation migration sagittaria flies\n",
      "48 \tbud chilling flushing frost dormancy photoperiod burst germinated elevation treatments\n",
      "49 \teditors edited illustrations volumes copies editor contributors written journals price\n"
     ]
    }
   ],
   "source": [
    "model.print_topics()"
   ]
  },
  {
   "cell_type": "markdown",
   "metadata": {},
   "source": [
    "We can also look at the representation of a topic over time using the ``topic_over_time()`` method. In the example below we'll print the first five of the topics on the same plot."
   ]
  },
  {
   "cell_type": "code",
   "execution_count": 43,
   "metadata": {
    "collapsed": false
   },
   "outputs": [
    {
     "data": {
      "image/png": "[encoded data removed]",
      "text/plain": [
       "<matplotlib.figure.Figure at 0x10def6590>"
      ]
     },
     "metadata": {},
     "output_type": "display_data"
    }
   ],
   "source": [
    "plt.figure(figsize=(15, 5))\n",
    "for k in xrange(5):\n",
    "    x, y = model.topic_over_time(k)\n",
    "    plt.plot(x, y, label='topic {0}'.format(k), lw=2, alpha=0.7)\n",
    "plt.legend(loc='best')\n",
    "plt.show()    "
   ]
  },
  {
   "cell_type": "markdown",
   "metadata": {},
   "source": [
    "## Generating networks from topic models"
   ]
  },
  {
   "cell_type": "markdown",
   "metadata": {},
   "source": [
    "The ``features`` module in the ``tethne.networks`` subpackage contains some useful methods for visualizing topic models as networks. You can import it just like the ``authors`` or ``papers`` modules."
   ]
  },
  {
   "cell_type": "code",
   "execution_count": 44,
   "metadata": {
    "collapsed": false
   },
   "outputs": [],
   "source": [
    "from tethne.networks import topics"
   ]
  },
  {
   "cell_type": "code",
   "execution_count": 45,
   "metadata": {
    "collapsed": false
   },
   "outputs": [],
   "source": [
    "termGraph = topics.terms(model, threshold=0.01)"
   ]
  },
  {
   "cell_type": "code",
   "execution_count": 46,
   "metadata": {
    "collapsed": false
   },
   "outputs": [],
   "source": [
    "termGraph.name = ''"
   ]
  },
  {
   "cell_type": "markdown",
   "metadata": {},
   "source": [
    "The ``topic_coupling`` function generates a network of words connected on the basis of shared affinity with a topic. If two words *i* and *j* are both associated with a topic *z* with $\\Phi(i|z) >= 0.01$ and $\\Phi(j|z) >= 0.01$, then an edge is drawn between them. "
   ]
  },
  {
   "cell_type": "markdown",
   "metadata": {},
   "source": [
    "The resulting graph will be smaller or larger depending on the value that you choose for ``threshold``. You may wish to increase or decrease ``threshold`` to achieve something interpretable."
   ]
  },
  {
   "cell_type": "code",
   "execution_count": 47,
   "metadata": {
    "collapsed": false
   },
   "outputs": [
    {
     "name": "stdout",
     "output_type": "stream",
     "text": [
      "There are 486 nodes and 3362 edges in this graph.\n"
     ]
    }
   ],
   "source": [
    "print 'There are {0} nodes and {1} edges in this graph.'.format(\n",
    "            len(termGraph.nodes()), len(termGraph.edges()))"
   ]
  },
  {
   "cell_type": "markdown",
   "metadata": {},
   "source": [
    "The resulting ``Graph`` can be written to ``GraphML`` just like any other ``Graph``."
   ]
  },
  {
   "cell_type": "code",
   "execution_count": 48,
   "metadata": {
    "collapsed": false
   },
   "outputs": [],
   "source": [
    "from tethne.writers import graph"
   ]
  },
  {
   "cell_type": "code",
   "execution_count": 49,
   "metadata": {
    "collapsed": false
   },
   "outputs": [],
   "source": [
    "graphpath = '/Users/erickpeirson/Projects/tethne-notebooks/output/lda.graphml'\n",
    "graph.write_graphml(termGraph, graphpath)"
   ]
  },
  {
   "cell_type": "markdown",
   "metadata": {},
   "source": [
    "The network visualization below was generated in ``Cytoscape``. Edge width is a function of the ``'weight'`` attribute. Edge color is based on the ``'topics'`` attribute, to give some sense of how which clusters of terms belong to which topics. We can see right away that terms like ``plants``, ``populations``, ``species``, and ``selection`` are all very central to the topics retrieved by this model."
   ]
  },
  {
   "cell_type": "markdown",
   "metadata": {},
   "source": [
    "![](images/lda2.png)"
   ]
  },
  {
   "cell_type": "markdown",
   "metadata": {},
   "source": [
    "## WoS abstracts"
   ]
  },
  {
   "cell_type": "markdown",
   "metadata": {},
   "source": [
    "JSTOR DfR is not the only source of wordcounts with which we perform topic modeling. For records more recent than about 1990, the Web of Science includes abstracts in their bibliographic records.\n",
    "\n",
    "Let's first spin up our WoS dataset."
   ]
  },
  {
   "cell_type": "code",
   "execution_count": 50,
   "metadata": {
    "collapsed": false
   },
   "outputs": [],
   "source": [
    "from tethne.readers import wos\n",
    "wosCorpus = wos.read('/Users/erickpeirson/Projects/tethne-notebooks/data/wos')"
   ]
  },
  {
   "cell_type": "markdown",
   "metadata": {},
   "source": [
    "Here's what one of the abstracts looks like:"
   ]
  },
  {
   "cell_type": "code",
   "execution_count": 51,
   "metadata": {
    "collapsed": false
   },
   "outputs": [
    {
     "data": {
      "text/plain": [
       "u'Demographic models are powerful tools for making predictions about the relative importance of transitions from one life stage (e. g., seeds) to another (e. g., nonreproductives); however, they have never been used to compare the relative performance of invasive and noninvasive taxa. I use demographic models parameterized from common garden experiments to develop hypotheses about the role of different life stage transitions in determining differences in performance in invasive and noninvasive congeners in the Commelinaceae. I also extended nested life table response experiment (LTRE) analyses to accommodate interactions between nested and unnested factors. Invasive species outperformed their noninvasive congeners, especially under high-nutrient conditions. This difference in performance did not appear to be due to differences in elasticities of vital rates, but rather to differences in the magnitude of stage transitions. Self-compatible invasive species had greater fecundity in high-nutrient environments and a shorter time to first reproduction, and all invasive species had greater vegetative reproduction than their noninvasive congeners. Thus greater opportunism in sexual and asexual reproduction explained the greater performance of invasive species under high-nutrient conditions. Similar common garden experiments could become a useful tool to predict potential invaders from pools of potential introductions. I show that short-term and controlled experiments considering multiple nutrient environments may accurately predict invasiveness of nonnative plant species. C1 Washington Univ, Tyson Res Ctr, Dept Biol, St Louis, MO 63130 USA.'"
      ]
     },
     "execution_count": 51,
     "metadata": {},
     "output_type": "execute_result"
    }
   ],
   "source": [
    "wosCorpus[0].abstract"
   ]
  },
  {
   "cell_type": "markdown",
   "metadata": {},
   "source": [
    "The ``abstract_to_features`` method converts all of the available abstracts in our ``Corpus`` to a unigram featureset. It takes no arguments. The abstracts will be diced up into their constituent words, punctuation and capitalization is removed, and a featureset called ``abstractTerms`` is generated. By default, ``abstract_to_features`` will apply the NLTK stoplist and Porter stemmer."
   ]
  },
  {
   "cell_type": "code",
   "execution_count": 52,
   "metadata": {
    "collapsed": false
   },
   "outputs": [],
   "source": [
    "from tethne import tokenize\n",
    "wosCorpus.index_feature('abstract', tokenize=tokenize, structured=True)"
   ]
  },
  {
   "cell_type": "markdown",
   "metadata": {},
   "source": [
    "Sure enough, here's our ``'abstract'`` featureset:"
   ]
  },
  {
   "cell_type": "code",
   "execution_count": 53,
   "metadata": {
    "collapsed": false
   },
   "outputs": [
    {
     "data": {
      "text/plain": [
       "['abstract', 'citations', 'authors']"
      ]
     },
     "execution_count": 53,
     "metadata": {},
     "output_type": "execute_result"
    }
   ],
   "source": [
    "wosCorpus.features.keys()"
   ]
  },
  {
   "cell_type": "markdown",
   "metadata": {},
   "source": [
    "Since we're not working from OCR texts (that's where JSTOR DfR data comes from), there are far fewer \"junk\" words. We end up with a much smaller vocabulary."
   ]
  },
  {
   "cell_type": "code",
   "execution_count": 54,
   "metadata": {
    "collapsed": false
   },
   "outputs": [
    {
     "name": "stdout",
     "output_type": "stream",
     "text": [
      "There are 23732 features in the abstract featureset.\n"
     ]
    }
   ],
   "source": [
    "print 'There are {0} features in the abstract featureset.'.format(len(wosCorpus.features['abstract'].index))"
   ]
  },
  {
   "cell_type": "markdown",
   "metadata": {},
   "source": [
    "But since not all of our WoS records come from >= 1990, there are a handful for which there are no abstract terms."
   ]
  },
  {
   "cell_type": "code",
   "execution_count": 56,
   "metadata": {
    "collapsed": false
   },
   "outputs": [
    {
     "name": "stdout",
     "output_type": "stream",
     "text": [
      "Only 1778 of 1859 papers have abstracts, however.\n"
     ]
    }
   ],
   "source": [
    "print 'Only {0} of {1} papers have abstracts, however.'.format(len(wosCorpus.features['abstract'].features), len(wosCorpus.papers))"
   ]
  },
  {
   "cell_type": "code",
   "execution_count": 57,
   "metadata": {
    "collapsed": false
   },
   "outputs": [],
   "source": [
    "filter = lambda f, v, c, dc: f not in stoplist and 2 < dc < 400\n",
    "wosCorpus.features['abstract_filtered'] = wosCorpus.features['abstract'].transform(filter)"
   ]
  },
  {
   "cell_type": "code",
   "execution_count": 58,
   "metadata": {
    "collapsed": false
   },
   "outputs": [
    {
     "name": "stdout",
     "output_type": "stream",
     "text": [
      "There are 23732 features in the abstract_filtered featureset.\n"
     ]
    }
   ],
   "source": [
    "print 'There are {0} features in the abstract_filtered featureset.'.format(len(wosCorpus.features['abstract_filtered'].index))"
   ]
  },
  {
   "cell_type": "code",
   "execution_count": 59,
   "metadata": {
    "collapsed": false
   },
   "outputs": [
    {
     "data": {
      "text/plain": [
       "tethne.classes.feature.StructuredFeatureSet"
      ]
     },
     "execution_count": 59,
     "metadata": {},
     "output_type": "execute_result"
    }
   ],
   "source": [
    "type(wosCorpus.features['abstract_filtered'])"
   ]
  },
  {
   "cell_type": "markdown",
   "metadata": {},
   "source": [
    "The ``'abstract'`` featureset is similar to the ``'unigrams'`` featureset from the JSTOR DfR dataset, so we can perform topic modeling with it, too."
   ]
  },
  {
   "cell_type": "code",
   "execution_count": 60,
   "metadata": {
    "collapsed": false
   },
   "outputs": [],
   "source": [
    "wosModel = mallet.LDAModel(wosCorpus, featureset_name='abstract_filtered')"
   ]
  },
  {
   "cell_type": "code",
   "execution_count": 61,
   "metadata": {
    "collapsed": false
   },
   "outputs": [],
   "source": [
    "wosModel.fit(Z=50, max_iter=500)"
   ]
  },
  {
   "cell_type": "code",
   "execution_count": 62,
   "metadata": {
    "collapsed": false
   },
   "outputs": [
    {
     "name": "stdout",
     "output_type": "stream",
     "text": [
      "Topic\tTop 10 words\n",
      "0  \tusa biol dept univ common\n",
      "1  \tresistance tolerance dept usa genotypes\n",
      "2  \tfish wild marine age differences\n",
      "3  \tstress inst studies switzerland experiments\n",
      "4  \tseedlings survival seedling weight conditions\n",
      "5  \twater drought efficiency photosynthetic lower\n",
      "6  \tcompetition clones interaction effect study\n",
      "7  \tuniv germany inst chile ecotypes\n",
      "8  \tpredation predator presence differences risk\n",
      "9  \tseed seeds germination production garden\n",
      "10 \tflowering early season phenology time\n",
      "11 \tvariation genetic patterns geographic pattern\n",
      "12 \tnative invasive range introduced plants\n",
      "13 \ttraits plant biomass root density\n",
      "14 \ttemperature degrees temperatures northern southern\n",
      "15 \tdifferences sites site significant morphological\n",
      "16 \thigh low mexico elevation common\n",
      "17 \tfinland females males biol univ\n",
      "18 \tplant plants herbivores herbivory damage\n",
      "19 \tplant univ pollen floral flower\n",
      "20 \thybrid hybrids fitness wild taxa\n",
      "21 \tanalysis data variables model revealed\n",
      "22 \ttraits selection evolutionary trait divergence\n",
      "23 \tcanada management british bc columbia\n",
      "24 \tforest pine trees provenances height\n",
      "25 \tplasticity phenotypic conditions environmental environments\n",
      "26 \tusa res usda locations state\n",
      "27 \tuniv dept usa sci state\n",
      "28 \tsize small large number garden\n",
      "29 \teffects habitat performance common garden\n",
      "30 \tgrowth rates rate higher experiment\n",
      "31 \tchange climate local adaptation response\n",
      "32 \tflorida birds zealand activity study\n",
      "33 \tcommunity plant communities diversity univ\n",
      "34 \tgenetic differentiation local adaptation gene\n",
      "35 \tleaf ca leaves calif greater\n",
      "36 \tsci china garden peoples lab\n",
      "37 \taustralia france univ umr ctr\n",
      "38 \tlife history dept ecol subspecies\n",
      "39 \tplants light plant availability treatment\n",
      "40 \tspecies garden hypothesis common related\n",
      "41 \tpopulations population garden significant compared\n",
      "42 \tuniv spain fac climatic argentina\n",
      "43 \tuniv ecol dept sweden sci\n",
      "44 \tsize body development time larvae\n",
      "45 \treproductive reproduction production number costs\n",
      "46 \thost plants experiment plant natural\n",
      "47 \tsci common lower experiment exposure\n",
      "48 \tsoil litter forest tree species\n",
      "49 \ttotal study elsevier reserved rights\n"
     ]
    }
   ],
   "source": [
    "wosModel.print_topics(Nwords=5)"
   ]
  },
  {
   "cell_type": "markdown",
   "metadata": {},
   "source": [
    "``topics.cotopics()`` creates a network of topics, linked by virtue of their co-occurrence in documents. Use the ``threshold`` parameter to tune the density of the graph."
   ]
  },
  {
   "cell_type": "code",
   "execution_count": 63,
   "metadata": {
    "collapsed": false
   },
   "outputs": [],
   "source": [
    "coTopicGraph = topics.cotopics(wosModel, threshold=0.15)"
   ]
  },
  {
   "cell_type": "code",
   "execution_count": 64,
   "metadata": {
    "collapsed": false
   },
   "outputs": [
    {
     "name": "stdout",
     "output_type": "stream",
     "text": [
      "44 nodes and 90 edges\n"
     ]
    }
   ],
   "source": [
    "print '%i nodes and %i edges' % (coTopicGraph.order(), coTopicGraph.size())"
   ]
  },
  {
   "cell_type": "code",
   "execution_count": 65,
   "metadata": {
    "collapsed": true
   },
   "outputs": [],
   "source": [
    "graph.write_graphml(coTopicGraph, '/Users/erickpeirson/Projects/tethne-notebooks/output/lda_coTopics.graphml')"
   ]
  },
  {
   "cell_type": "markdown",
   "metadata": {},
   "source": [
    "![](images/lda_coTopics.png)"
   ]
  },
  {
   "cell_type": "markdown",
   "metadata": {},
   "source": [
    "``topics.topicCoupling()`` creates a network of documents, linked by virtue of containing shared topics. Again, use the ``threshold`` parameter to tune the density of the graph."
   ]
  },
  {
   "cell_type": "code",
   "execution_count": 66,
   "metadata": {
    "collapsed": true
   },
   "outputs": [],
   "source": [
    "topicCoupling = topics.topic_coupling(wosModel, threshold=0.2)"
   ]
  },
  {
   "cell_type": "code",
   "execution_count": 67,
   "metadata": {
    "collapsed": false
   },
   "outputs": [
    {
     "name": "stdout",
     "output_type": "stream",
     "text": [
      "742 nodes and 8311 edges\n"
     ]
    }
   ],
   "source": [
    "print '%i nodes and %i edges' % (topicCoupling.order(), topicCoupling.size())"
   ]
  },
  {
   "cell_type": "code",
   "execution_count": 68,
   "metadata": {
    "collapsed": true
   },
   "outputs": [],
   "source": [
    "graph.write_graphml(topicCoupling, '/Users/erickpeirson/Projects/tethne-notebooks/output/lda_topicCoupling.graphml')"
   ]
  },
  {
   "cell_type": "markdown",
   "metadata": {},
   "source": [
    "![](images/lda_topicCoupling.png)"
   ]
  },
  {
   "cell_type": "code",
   "execution_count": 71,
   "metadata": {
    "collapsed": false
   },
   "outputs": [
    {
     "data": {
      "text/plain": [
       "[u'demographic',\n",
       " u'models',\n",
       " u'are',\n",
       " u'powerful',\n",
       " u'tools',\n",
       " u'for',\n",
       " u'making',\n",
       " u'predictions',\n",
       " u'about',\n",
       " u'the',\n",
       " u'relative',\n",
       " u'importance',\n",
       " u'of',\n",
       " u'transitions',\n",
       " u'from',\n",
       " u'one',\n",
       " u'life',\n",
       " u'stage',\n",
       " u'e',\n",
       " u'g',\n",
       " u'seeds',\n",
       " u'to',\n",
       " u'another',\n",
       " u'e',\n",
       " u'g',\n",
       " u'nonreproductives',\n",
       " u'however',\n",
       " u'they',\n",
       " u'have',\n",
       " u'never',\n",
       " u'been',\n",
       " u'used',\n",
       " u'to',\n",
       " u'compare',\n",
       " u'the',\n",
       " u'relative',\n",
       " u'performance',\n",
       " u'of',\n",
       " u'invasive',\n",
       " u'and',\n",
       " u'noninvasive',\n",
       " u'taxa',\n",
       " u'i',\n",
       " u'use',\n",
       " u'demographic',\n",
       " u'models',\n",
       " u'parameterized',\n",
       " u'from',\n",
       " u'common',\n",
       " u'garden',\n",
       " u'experiments',\n",
       " u'to',\n",
       " u'develop',\n",
       " u'hypotheses',\n",
       " u'about',\n",
       " u'the',\n",
       " u'role',\n",
       " u'of',\n",
       " u'different',\n",
       " u'life',\n",
       " u'stage',\n",
       " u'transitions',\n",
       " u'in',\n",
       " u'determining',\n",
       " u'differences',\n",
       " u'in',\n",
       " u'performance',\n",
       " u'in',\n",
       " u'invasive',\n",
       " u'and',\n",
       " u'noninvasive',\n",
       " u'congeners',\n",
       " u'in',\n",
       " u'the',\n",
       " u'commelinaceae',\n",
       " u'i',\n",
       " u'also',\n",
       " u'extended',\n",
       " u'nested',\n",
       " u'life',\n",
       " u'table',\n",
       " u'response',\n",
       " u'experiment',\n",
       " u'ltre',\n",
       " u'analyses',\n",
       " u'to',\n",
       " u'accommodate',\n",
       " u'interactions',\n",
       " u'between',\n",
       " u'nested',\n",
       " u'and',\n",
       " u'unnested',\n",
       " u'factors',\n",
       " u'invasive',\n",
       " u'species',\n",
       " u'outperformed',\n",
       " u'their',\n",
       " u'noninvasive',\n",
       " u'congeners',\n",
       " u'especially',\n",
       " u'under',\n",
       " u'highnutrient',\n",
       " u'conditions',\n",
       " u'this',\n",
       " u'difference',\n",
       " u'in',\n",
       " u'performance',\n",
       " u'did',\n",
       " u'not',\n",
       " u'appear',\n",
       " u'to',\n",
       " u'be',\n",
       " u'due',\n",
       " u'to',\n",
       " u'differences',\n",
       " u'in',\n",
       " u'elasticities',\n",
       " u'of',\n",
       " u'vital',\n",
       " u'rates',\n",
       " u'but',\n",
       " u'rather',\n",
       " u'to',\n",
       " u'differences',\n",
       " u'in',\n",
       " u'the',\n",
       " u'magnitude',\n",
       " u'of',\n",
       " u'stage',\n",
       " u'transitions',\n",
       " u'selfcompatible',\n",
       " u'invasive',\n",
       " u'species',\n",
       " u'had',\n",
       " u'greater',\n",
       " u'fecundity',\n",
       " u'in',\n",
       " u'highnutrient',\n",
       " u'environments',\n",
       " u'and',\n",
       " u'a',\n",
       " u'shorter',\n",
       " u'time',\n",
       " u'to',\n",
       " u'first',\n",
       " u'reproduction',\n",
       " u'and',\n",
       " u'all',\n",
       " u'invasive',\n",
       " u'species',\n",
       " u'had',\n",
       " u'greater',\n",
       " u'vegetative',\n",
       " u'reproduction',\n",
       " u'than',\n",
       " u'their',\n",
       " u'noninvasive',\n",
       " u'congeners',\n",
       " u'thus',\n",
       " u'greater',\n",
       " u'opportunism',\n",
       " u'in',\n",
       " u'sexual',\n",
       " u'and',\n",
       " u'asexual',\n",
       " u'reproduction',\n",
       " u'explained',\n",
       " u'the',\n",
       " u'greater',\n",
       " u'performance',\n",
       " u'of',\n",
       " u'invasive',\n",
       " u'species',\n",
       " u'under',\n",
       " u'highnutrient',\n",
       " u'conditions',\n",
       " u'similar',\n",
       " u'common',\n",
       " u'garden',\n",
       " u'experiments',\n",
       " u'could',\n",
       " u'become',\n",
       " u'a',\n",
       " u'useful',\n",
       " u'tool',\n",
       " u'to',\n",
       " u'predict',\n",
       " u'potential',\n",
       " u'invaders',\n",
       " u'from',\n",
       " u'pools',\n",
       " u'of',\n",
       " u'potential',\n",
       " u'introductions',\n",
       " u'i',\n",
       " u'show',\n",
       " u'that',\n",
       " u'shortterm',\n",
       " u'and',\n",
       " u'controlled',\n",
       " u'experiments',\n",
       " u'considering',\n",
       " u'multiple',\n",
       " u'nutrient',\n",
       " u'environments',\n",
       " u'may',\n",
       " u'accurately',\n",
       " u'predict',\n",
       " u'invasiveness',\n",
       " u'of',\n",
       " u'nonnative',\n",
       " u'plant',\n",
       " u'species',\n",
       " u'c',\n",
       " u'washington',\n",
       " u'univ',\n",
       " u'tyson',\n",
       " u'res',\n",
       " u'ctr',\n",
       " u'dept',\n",
       " u'biol',\n",
       " u'st',\n",
       " u'louis',\n",
       " u'mo',\n",
       " '',\n",
       " u'usa']"
      ]
     },
     "execution_count": 71,
     "metadata": {},
     "output_type": "execute_result"
    }
   ],
   "source": [
    "wosCorpus.features['abstract_filtered'].features.values()[0]"
   ]
  },
  {
   "cell_type": "code",
   "execution_count": null,
   "metadata": {
    "collapsed": true
   },
   "outputs": [],
   "source": []
  }
 ],
 "metadata": {
  "kernelspec": {
   "display_name": "Python 2",
   "language": "python",
   "name": "python2"
  },
  "language_info": {
   "codemirror_mode": {
    "name": "ipython",
    "version": 2
   },
   "file_extension": ".py",
   "mimetype": "text/x-python",
   "name": "python",
   "nbconvert_exporter": "python",
   "pygments_lexer": "ipython2",
   "version": "2.7.9"
  }
 },
 "nbformat": 4,
 "nbformat_minor": 0
}
