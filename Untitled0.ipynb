{
 "metadata": {
  "name": "",
  "signature": "sha256:49f7309c2f766aba684c2d795f1fe5af7ea87323dc0d2021d54fa45046c0b464"
 },
 "nbformat": 3,
 "nbformat_minor": 0,
 "worksheets": []
}