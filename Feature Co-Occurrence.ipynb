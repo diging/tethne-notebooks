{
 "cells": [
  {
   "cell_type": "markdown",
   "metadata": {},
   "source": [
    "## Networks of features based on co-occurrence\n",
    "\n",
    "The ``features`` module in the ``tethne.networks`` subpackage contains a few functions for generating networks of features based on co-occurrence."
   ]
  },
  {
   "cell_type": "code",
   "execution_count": null,
   "metadata": {
    "collapsed": true
   },
   "outputs": [],
   "source": [
    "from tethne.networks import features"
   ]
  },
  {
   "cell_type": "markdown",
   "metadata": {},
   "source": [
    "The ``transform`` method allows us to transform the values from one featureset using a custom function. One popular transformation for wordcount data is the [term frequency * inverse document frequency (tf\\*idf)](http://en.wikipedia.org/wiki/Tf%E2%80%93idf) transformation. tf\\*idf weights wordcounts for each document based on how frequent each word is in the rest of the corpus, and is supposed to bring to the foreground the words that are the most \"important\" for each document.\n",
    "\n",
    "The default behavior of ``transform`` is to apply the tf\\*idf transformation. Just as in other feature-manipulating methods, the first argument, ``'abstractTerms'`` is the featureset to be transformed, and the second argument, ``'absTFIDF'`` is the featureset to be generated as a result of the manipulation."
   ]
  },
  {
   "cell_type": "code",
   "execution_count": null,
   "metadata": {
    "collapsed": true
   },
   "outputs": [],
   "source": [
    "MyWoSCorpus.transform('abstractTerms', 'absTFIDF')"
   ]
  },
  {
   "cell_type": "markdown",
   "metadata": {},
   "source": [
    "I can specify some other transformation by first defining a transformer function, and then passing it as a third argument to ``transform``. A transformer function should accept the following parameters, and return a single numerical value (int or float).\n",
    "\n",
    "| Parameter | Description                                                       |\n",
    "| --------- | ----------------------------------------------------------------- |\n",
    "| ``s``     | Representation of the feature (e.g. string).                      |\n",
    "| ``c``     | Value of the feature in the document (e.g. frequency).            |\n",
    "| ``C``     | Value of the feature in the ``Corpus`` (e.g. global frequency).   |\n",
    "| ``DC``    | Number of documents in which the feature occcurs.                 |\n",
    "| ``N``     | Total number of documents in the ``Corpus``.                      |\n",
    "\n",
    "For example:"
   ]
  },
  {
   "cell_type": "code",
   "execution_count": null,
   "metadata": {
    "collapsed": true
   },
   "outputs": [],
   "source": [
    "def mytransformer(s, c, C, DC, N):\n",
    "    \"\"\"\n",
    "    Doubles the feature value and divides by the overall value in the Corpus.\n",
    "    \"\"\"\n",
    "    return float(c)*2/(C)"
   ]
  },
  {
   "cell_type": "markdown",
   "metadata": {},
   "source": [
    "We can then pass transformer function to ``transform`` as the ``transformer`` keyword argument."
   ]
  },
  {
   "cell_type": "code",
   "execution_count": null,
   "metadata": {
    "collapsed": true
   },
   "outputs": [],
   "source": [
    "MyWoSCorpus.transform('abstractTerms', 'absTransformed', transformer=mytransformer)"
   ]
  },
  {
   "cell_type": "code",
   "execution_count": null,
   "metadata": {
    "collapsed": true
   },
   "outputs": [],
   "source": [
    "print 'Before: ', MyWoSCorpus.features['abstractTerms']['papers'][2773][0]   # Value for a particular \n",
    "print 'TF*IDF: ', MyWoSCorpus.features['absTFIDF']['papers'][2773][0]        #  feature and paper.\n",
    "print 'mytransformer: ', MyWoSCorpus.features['absTransformed']['papers'][2773][0]"
   ]
  },
  {
   "cell_type": "markdown",
   "metadata": {},
   "source": [
    "The ``mutual_information`` function in the ``features`` module generates a network based on the [pointwise mutual information](http://en.wikipedia.org/wiki/Pointwise_mutual_information) of each pair of features in a featureset.\n",
    "\n",
    "The first argument is a list of Papers, just like most other network-building functions. The second argument is the featureset that we wish to use. The third argument, ``indexed_by``, is the field used to index the Papers in the corpus. This is important, because it tells the function how to look up Papers in the featureset. Finally, the fourth argument (``percentile``) tells the function how selective to be in drawing edges: ``percentile=99`` means that only PMI scores in the 99th-or-greater percentile will result in a network edge."
   ]
  },
  {
   "cell_type": "code",
   "execution_count": null,
   "metadata": {
    "collapsed": true
   },
   "outputs": [],
   "source": [
    "MI_graph = features.mutual_information(MyWoSCorpus.all_papers(), MyWoSCorpus.features['absTFIDF'], \n",
    "                                       indexed_by='wosid', percentile=99 )"
   ]
  },
  {
   "cell_type": "markdown",
   "metadata": {},
   "source": [
    "Take a look at the ratio of nodes to edges to get a sense of how to tune the ``percentile`` parameter. If you have an extremely high number of edges for the number of nodes, then you should probably increase ``percentile`` to obtain a more legible network. Depending on your field, you may have some guidance from theory as well."
   ]
  },
  {
   "cell_type": "code",
   "execution_count": null,
   "metadata": {
    "collapsed": true
   },
   "outputs": [],
   "source": [
    "print 'This graph has {0} nodes and {1} edges'.format(len(MI_graph.nodes()), len(MI_graph.edges()))"
   ]
  },
  {
   "cell_type": "markdown",
   "metadata": {},
   "source": [
    "Once again, we'll use the GraphML writer to generate a visualizable network file."
   ]
  },
  {
   "cell_type": "code",
   "execution_count": null,
   "metadata": {
    "collapsed": true
   },
   "outputs": [],
   "source": [
    "from tethne.writers import graph"
   ]
  },
  {
   "cell_type": "code",
   "execution_count": null,
   "metadata": {
    "collapsed": true
   },
   "outputs": [],
   "source": [
    "mi_outpath = '/Users/erickpeirson/tethne-notebooks/output/mi_graph.graphml'"
   ]
  },
  {
   "cell_type": "code",
   "execution_count": null,
   "metadata": {
    "collapsed": true
   },
   "outputs": [],
   "source": [
    "graph.to_graphml(MI_graph, mi_outpath)"
   ]
  },
  {
   "cell_type": "markdown",
   "metadata": {},
   "source": [
    "![](http://devo-evo.lab.asu.edu/methods/tethne/images/pmi_99.png)"
   ]
  },
  {
   "cell_type": "code",
   "execution_count": null,
   "metadata": {
    "collapsed": true
   },
   "outputs": [],
   "source": []
  }
 ],
 "metadata": {
  "kernelspec": {
   "display_name": "Python 2",
   "language": "python",
   "name": "python2"
  },
  "language_info": {
   "codemirror_mode": {
    "name": "ipython",
    "version": 2
   },
   "file_extension": ".py",
   "mimetype": "text/x-python",
   "name": "python",
   "nbconvert_exporter": "python",
   "pygments_lexer": "ipython2",
   "version": "2.7.9"
  }
 },
 "nbformat": 4,
 "nbformat_minor": 0
}
