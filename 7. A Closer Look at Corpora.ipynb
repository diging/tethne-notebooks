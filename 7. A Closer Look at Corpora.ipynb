{
 "cells": [
  {
   "cell_type": "code",
   "execution_count": 1,
   "metadata": {
    "collapsed": true
   },
   "outputs": [],
   "source": [
    "%matplotlib inline"
   ]
  },
  {
   "cell_type": "code",
   "execution_count": 2,
   "metadata": {
    "collapsed": true
   },
   "outputs": [],
   "source": [
    "from pprint import pprint\n",
    "import matplotlib.pyplot as plt"
   ]
  },
  {
   "cell_type": "markdown",
   "metadata": {},
   "source": [
    "# 7. A Closer Look at Corpora"
   ]
  },
  {
   "cell_type": "markdown",
   "metadata": {},
   "source": [
    "A ``Corpus`` is a collection of ``Paper``s with superpowers. Most importantly, it provides a consistent way of indexing bibliographic records. Indexing is important, because it sets the stage for all of the subsequent analyses that we may wish to do with our bibliographic data.\n",
    "\n",
    "In **1. Loading Data, part 1** we used the ``read`` function in ``tethne.readers.wos`` to parse a collection of Web of Science field-tagged data files and build a ``Corpus``."
   ]
  },
  {
   "cell_type": "code",
   "execution_count": 11,
   "metadata": {
    "collapsed": true
   },
   "outputs": [],
   "source": [
    "from tethne.readers import wos\n",
    "datapath = '/Users/erickpeirson/Downloads/datasets/wos'\n",
    "corpus = wos.read(datapath)"
   ]
  },
  {
   "cell_type": "markdown",
   "metadata": {},
   "source": [
    "In this notebook, we'll dive deeper into the guts of the ``Corpus``, focusing on indexing and and features."
   ]
  },
  {
   "cell_type": "markdown",
   "metadata": {},
   "source": [
    "## Setting the primary indexing field: ``index_by``\n",
    "\n",
    "The **primary indexing field** is the field that Tethne uses to identify each of the ``Paper``s in your dataset. Ideally, each one of the records in your bibliographic dataset will have this field. Good candidates include DOIs, URIs, or other unique identifiers.\n",
    "\n",
    "Depending on which module you use, ``read`` will make assumptions about which field to use as the primary index for the ``Paper``s in your dataset. The default for Web of Science data, for example, is ``'wosid'`` (the value of the ``UT`` field-tag)."
   ]
  },
  {
   "cell_type": "code",
   "execution_count": 5,
   "metadata": {
    "collapsed": false
   },
   "outputs": [
    {
     "name": "stdout",
     "output_type": "stream",
     "text": [
      "The primary index field for the Papers in my Corpus is \"wosid\"\n"
     ]
    }
   ],
   "source": [
    "print 'The primary index field for the Papers in my Corpus is \"%s\"' % corpus.index_by"
   ]
  },
  {
   "cell_type": "markdown",
   "metadata": {},
   "source": [
    "The primary index for your ``Corpus`` can be found in the ``indexed_papers`` attribute. ``indexed_papers`` is a dictionary that maps the value of the indexing field for each ``Paper`` onto that ``Paper`` itself."
   ]
  },
  {
   "cell_type": "code",
   "execution_count": 7,
   "metadata": {
    "collapsed": false
   },
   "outputs": [
    {
     "data": {
      "text/plain": [
       "[('WOS:000078288500016', <tethne.classes.paper.Paper at 0x10d886dd0>),\n",
       " ('WOS:000225242500007', <tethne.classes.paper.Paper at 0x10c1c9f50>),\n",
       " ('WOS:000074414100009', <tethne.classes.paper.Paper at 0x10d950890>),\n",
       " ('WOS:000268928200019', <tethne.classes.paper.Paper at 0x110506b10>),\n",
       " ('WOS:000305886800001', <tethne.classes.paper.Paper at 0x109516610>),\n",
       " ('WOS:000275757500014', <tethne.classes.paper.Paper at 0x10fbe6d50>),\n",
       " ('WOS:A1995RV72900015', <tethne.classes.paper.Paper at 0x10e162290>),\n",
       " ('WOS:000308634600013', <tethne.classes.paper.Paper at 0x108b14990>),\n",
       " ('WOS:000314781600006', <tethne.classes.paper.Paper at 0x1083a9350>),\n",
       " ('WOS:000220323300004', <tethne.classes.paper.Paper at 0x10c4e4290>)]"
      ]
     },
     "execution_count": 7,
     "metadata": {},
     "output_type": "execute_result"
    }
   ],
   "source": [
    "corpus.indexed_papers.items()[0:10]    # We'll just show the first ten Papers, for the sake of space."
   ]
  },
  {
   "cell_type": "markdown",
   "metadata": {},
   "source": [
    "So if you know (in this case) the ``wosid`` of a ``Paper``, you can retrieve that ``Paper`` by passing the ``wosid`` to ``indexed_papers``:"
   ]
  },
  {
   "cell_type": "code",
   "execution_count": 8,
   "metadata": {
    "collapsed": false
   },
   "outputs": [
    {
     "data": {
      "text/plain": [
       "<tethne.classes.paper.Paper at 0x10760a490>"
      ]
     },
     "execution_count": 8,
     "metadata": {},
     "output_type": "execute_result"
    }
   ],
   "source": [
    "corpus.indexed_papers['WOS:000321911200011']"
   ]
  },
  {
   "cell_type": "markdown",
   "metadata": {},
   "source": [
    "If you'd prefer to index by a different field, you can pass the ``index_by`` parameter to ``read``."
   ]
  },
  {
   "cell_type": "code",
   "execution_count": 12,
   "metadata": {
    "collapsed": false
   },
   "outputs": [],
   "source": [
    "otherCorpus = wos.read(datapath, index_by='doi')"
   ]
  },
  {
   "cell_type": "code",
   "execution_count": 13,
   "metadata": {
    "collapsed": false
   },
   "outputs": [
    {
     "name": "stdout",
     "output_type": "stream",
     "text": [
      "The primary index field for the Papers in this other Corpus is \"doi\"\n"
     ]
    }
   ],
   "source": [
    "print 'The primary index field for the Papers in this other Corpus is \"%s\"' % otherCorpus.index_by"
   ]
  },
  {
   "cell_type": "markdown",
   "metadata": {},
   "source": [
    "If some of the ``Paper``s lack the indexing field that you specified with the ``index_by`` parameter, Tethne will automatically generate a unique identifier for each of those ``Papers``. For example, in our ``otherCorpus`` that we indexed by ``doi``, most of the papers have valid DOIs, but a few (#1, below) did not -- a nonsensical-looking sequence of alphanumeric characters was used instead."
   ]
  },
  {
   "cell_type": "code",
   "execution_count": 15,
   "metadata": {
    "collapsed": false
   },
   "outputs": [
    {
     "name": "stdout",
     "output_type": "stream",
     "text": [
      "(0) DOI: 10.1007/s004420050317          \t ---> \t Paper: <tethne.classes.paper.Paper object at 0x1080dd0d0>\n",
      "(1) DOI: 44a4e0d3fa05975610ae51e51b02fb3d \t ---> \t Paper: <tethne.classes.paper.Paper object at 0x107ddf1d0>\n",
      "(2) DOI: 10.1111/evo.12036              \t ---> \t Paper: <tethne.classes.paper.Paper object at 0x10d9bb6d0>\n",
      "(3) DOI: 10.1111/nph.12388              \t ---> \t Paper: <tethne.classes.paper.Paper object at 0x11059e090>\n",
      "(4) DOI: 10.1007/s00442-007-0712-4      \t ---> \t Paper: <tethne.classes.paper.Paper object at 0x1197befd0>\n",
      "(5) DOI: 10.1684/ers.2012.0589          \t ---> \t Paper: <tethne.classes.paper.Paper object at 0x122ea5510>\n",
      "(6) DOI: 10.1046/j.1365-2435.2002.00663.x \t ---> \t Paper: <tethne.classes.paper.Paper object at 0x10eebb250>\n",
      "(7) DOI: 10.1080/17550874.2011.577459   \t ---> \t Paper: <tethne.classes.paper.Paper object at 0x109215750>\n",
      "(8) DOI: 10.1016/0378-1127(94)03497-K   \t ---> \t Paper: <tethne.classes.paper.Paper object at 0x108655950>\n",
      "(9) DOI: 10.1111/j.1420-9101.2011.02393.x \t ---> \t Paper: <tethne.classes.paper.Paper object at 0x120158890>\n"
     ]
    }
   ],
   "source": [
    "i = 0\n",
    "for doi, paper in otherCorpus.indexed_papers.items()[0:10]:\n",
    "    print '(%i) DOI: %s \\t ---> \\t Paper: %s' % (i, doi.ljust(30), paper)\n",
    "    i += 1"
   ]
  },
  {
   "cell_type": "markdown",
   "metadata": {},
   "source": [
    "## Other indexing fields\n",
    "\n",
    "In addition to the primary index, you can index the ``Paper``s in your ``Corpus`` using any other fields that you like. By default, the Web of Science ``read`` method will index ``'citations'`` and ``'authors'``:"
   ]
  },
  {
   "cell_type": "code",
   "execution_count": 16,
   "metadata": {
    "collapsed": false
   },
   "outputs": [
    {
     "name": "stdout",
     "output_type": "stream",
     "text": [
      "The following Paper fields have been indexed: \n",
      "\n",
      "\tcitations\n",
      "\tauthors\n"
     ]
    }
   ],
   "source": [
    "print 'The following Paper fields have been indexed: \\n\\n\\t%s' % '\\n\\t'.join(corpus.indices.keys())"
   ]
  },
  {
   "cell_type": "markdown",
   "metadata": {},
   "source": [
    "The ``'citations'`` index, for example, allows us to look up all of the ``Paper``s that contain a particular bibliographic reference:"
   ]
  },
  {
   "cell_type": "code",
   "execution_count": 18,
   "metadata": {
    "collapsed": false
   },
   "outputs": [
    {
     "name": "stdout",
     "output_type": "stream",
     "text": [
      "The following Papers cite WHITFIELD J 2006 NATURE: \n",
      "\n",
      "\tWOS:000252758800011\n",
      "\tWOS:000253464000004 \n",
      "\n",
      "The following Papers cite WANG T 2006 GLOBAL CHANGE BIOL: \n",
      "\n",
      "\tWOS:000282225000019\n",
      "\tWOS:000281546800001\n",
      "\tWOS:000251903200006\n",
      "\tWOS:000292901400010\n",
      "\tWOS:000288656800015\n",
      "\tWOS:000318353300001\n",
      "\tWOS:000296710600017\n",
      "\tWOS:000255552100006\n",
      "\tWOS:000272153800012 \n",
      "\n",
      "The following Papers cite LINKOSALO T 2009 AGR FOREST METEOROL: \n",
      "\n",
      "\tWOS:000298398700003 \n",
      "\n"
     ]
    }
   ],
   "source": [
    "for citation, papers in corpus.indices['citations'].items()[7:10]:   # Show the first three, for space's sake.\n",
    "    print 'The following Papers cite %s: \\n\\n\\t%s \\n' % (citation, '\\n\\t'.join(papers))"
   ]
  },
  {
   "cell_type": "markdown",
   "metadata": {},
   "source": [
    "Notice that the values above are not ``Paper``s themselves, but identifiers. These are the same identifiers used in the primary index, so we can use them to look up ``Paper``s:"
   ]
  },
  {
   "cell_type": "code",
   "execution_count": 20,
   "metadata": {
    "collapsed": false
   },
   "outputs": [
    {
     "name": "stdout",
     "output_type": "stream",
     "text": [
      "['WOS:000311994600006', 'WOS:000304903100014', 'WOS:000248812000005']\n",
      "<tethne.classes.paper.Paper object at 0x112d1fe10>\n",
      "<tethne.classes.paper.Paper object at 0x1121e8310>\n",
      "<tethne.classes.paper.Paper object at 0x1144ad390>\n"
     ]
    }
   ],
   "source": [
    "papers = corpus.indices['citations']['CARLSON SM 2004 EVOL ECOL RES']  # Who cited Carlson 2004?\n",
    "print papers\n",
    "for paper in papers:\n",
    "    print corpus.indexed_papers[paper]"
   ]
  },
  {
   "cell_type": "markdown",
   "metadata": {},
   "source": [
    "We can create new indices using the ``index`` method. For example, to index our ``Corpus`` using the ``authorKeywords`` field:"
   ]
  },
  {
   "cell_type": "code",
   "execution_count": 22,
   "metadata": {
    "collapsed": true
   },
   "outputs": [],
   "source": [
    "corpus.index('authorKeywords')"
   ]
  },
  {
   "cell_type": "code",
   "execution_count": 25,
   "metadata": {
    "collapsed": false
   },
   "outputs": [
    {
     "name": "stdout",
     "output_type": "stream",
     "text": [
      "The following Papers contain the keyword EFFICIENCY: \n",
      "\n",
      "\tWOS:000322031500005\n",
      "\tWOS:000256598600035\n",
      "\tWOS:A1997WW80400007 \n",
      "\n",
      "The following Papers contain the keyword SALVELINUS-ALPINUS L.: \n",
      "\n",
      "\tWOS:000314988900003 \n",
      "\n",
      "The following Papers contain the keyword ALLOCHRONIC SPECIATION: \n",
      "\n",
      "\tWOS:000292040700014 \n",
      "\n",
      "The following Papers contain the keyword AEROBIC PERFORMANCE: \n",
      "\n",
      "\tWOS:000316115400013\n",
      "\tWOS:000316115400014 \n",
      "\n"
     ]
    }
   ],
   "source": [
    "for keyword, papers in corpus.indices['authorKeywords'].items()[6:10]:   # Show the first three, for space's sake.\n",
    "    print 'The following Papers contain the keyword %s: \\n\\n\\t%s \\n' % (keyword, '\\n\\t'.join(papers))"
   ]
  },
  {
   "cell_type": "markdown",
   "metadata": {},
   "source": [
    "Since we're interested in historical trends in our ``Corpus``, we probably also want to index the ``date`` field:"
   ]
  },
  {
   "cell_type": "code",
   "execution_count": 27,
   "metadata": {
    "collapsed": false
   },
   "outputs": [
    {
     "name": "stdout",
     "output_type": "stream",
     "text": [
      "There are 58 Papers from 2003\n",
      "There are 77 Papers from 2004\n",
      "There are 84 Papers from 2005\n",
      "There are 71 Papers from 2006\n",
      "There are 103 Papers from 2007\n",
      "There are 130 Papers from 2008\n",
      "There are 143 Papers from 2009\n",
      "There are 161 Papers from 2010\n",
      "There are 190 Papers from 2011\n",
      "There are 201 Papers from 2012\n"
     ]
    }
   ],
   "source": [
    "corpus.index('date')\n",
    "\n",
    "for date, papers in corpus.indices['date'].items()[-11:-1]:    # Last ten years.\n",
    "    print 'There are %i Papers from %i' % (len(papers), date)"
   ]
  },
  {
   "cell_type": "markdown",
   "metadata": {},
   "source": [
    "We can examine the distribution of ``Paper``s over time using the ``distribution`` method:"
   ]
  },
  {
   "cell_type": "code",
   "execution_count": 29,
   "metadata": {
    "collapsed": false
   },
   "outputs": [
    {
     "data": {
      "text/plain": [
       "[58, 77, 84, 71, 103, 130, 143, 161, 190, 201]"
      ]
     },
     "execution_count": 29,
     "metadata": {},
     "output_type": "execute_result"
    }
   ],
   "source": [
    "corpus.distribution()[-11:-1]    # Last ten years."
   ]
  },
  {
   "cell_type": "code",
   "execution_count": 30,
   "metadata": {
    "collapsed": false
   },
   "outputs": [
    {
     "data": {
      "image/png": "[encoded data removed]",
      "text/plain": [
       "<matplotlib.figure.Figure at 0x117888d50>"
      ]
     },
     "metadata": {},
     "output_type": "display_data"
    }
   ],
   "source": [
    "plt.figure(figsize=(10, 3))\n",
    "start = min(corpus.indices['date'].keys())\n",
    "end = max(corpus.indices['date'].keys())\n",
    "X = range(start, end + 1)\n",
    "plt.plot(X, corpus.distribution(), lw=2)\n",
    "plt.ylabel('Number of Papers')\n",
    "plt.xlim(start, end)\n",
    "plt.show()"
   ]
  },
  {
   "cell_type": "markdown",
   "metadata": {},
   "source": [
    "## Selecting ``Paper``s from the ``Corpus``\n",
    "\n",
    "In previous examples, we selected a ``Paper`` from our ``Corpus`` using the primary index, ``indexed_papers``. In fact, there is a much simpler way! ``Corpus`` allows us to \"select\" ``Paper``s using its built-in ``get`` method:"
   ]
  },
  {
   "cell_type": "code",
   "execution_count": 31,
   "metadata": {
    "collapsed": false
   },
   "outputs": [
    {
     "data": {
      "text/plain": [
       "<tethne.classes.paper.Paper at 0x1126787d0>"
      ]
     },
     "execution_count": 31,
     "metadata": {},
     "output_type": "execute_result"
    }
   ],
   "source": [
    "corpus['WOS:000309391500014']"
   ]
  },
  {
   "cell_type": "markdown",
   "metadata": {},
   "source": [
    "Whoa! But it gets better. We can select ``Paper``s using any of the indices in the ``Corpus``. For example, we can select all of the papers with the ``authorKeyword`` ``LIFE``:"
   ]
  },
  {
   "cell_type": "code",
   "execution_count": 33,
   "metadata": {
    "collapsed": false
   },
   "outputs": [
    {
     "data": {
      "text/plain": [
       "[<tethne.classes.paper.Paper at 0x112580090>,\n",
       " <tethne.classes.paper.Paper at 0x11187ca50>,\n",
       " <tethne.classes.paper.Paper at 0x11e4af9d0>,\n",
       " <tethne.classes.paper.Paper at 0x11dca0290>,\n",
       " <tethne.classes.paper.Paper at 0x11b249b90>,\n",
       " <tethne.classes.paper.Paper at 0x11a83a290>,\n",
       " <tethne.classes.paper.Paper at 0x11eb05910>,\n",
       " <tethne.classes.paper.Paper at 0x112578110>,\n",
       " <tethne.classes.paper.Paper at 0x11db9ce90>]"
      ]
     },
     "execution_count": 33,
     "metadata": {},
     "output_type": "execute_result"
    }
   ],
   "source": [
    "corpus[('authorKeywords', 'LIFE')]"
   ]
  },
  {
   "cell_type": "markdown",
   "metadata": {},
   "source": [
    "We can also select ``Paper``s using several values. For example, with the primary index field:"
   ]
  },
  {
   "cell_type": "code",
   "execution_count": 34,
   "metadata": {
    "collapsed": false
   },
   "outputs": [
    {
     "data": {
      "text/plain": [
       "[<tethne.classes.paper.Paper at 0x1126787d0>,\n",
       " <tethne.classes.paper.Paper at 0x112578110>]"
      ]
     },
     "execution_count": 34,
     "metadata": {},
     "output_type": "execute_result"
    }
   ],
   "source": [
    "corpus[['WOS:000309391500014', 'WOS:000306532900015']]"
   ]
  },
  {
   "cell_type": "markdown",
   "metadata": {},
   "source": [
    "...and with other indexed fields (think of this as an OR search):"
   ]
  },
  {
   "cell_type": "code",
   "execution_count": 36,
   "metadata": {
    "collapsed": false
   },
   "outputs": [
    {
     "data": {
      "text/plain": [
       "[<tethne.classes.paper.Paper at 0x112580090>,\n",
       " <tethne.classes.paper.Paper at 0x11187ca50>,\n",
       " <tethne.classes.paper.Paper at 0x11e4af9d0>,\n",
       " <tethne.classes.paper.Paper at 0x11dca0290>,\n",
       " <tethne.classes.paper.Paper at 0x11b249b90>,\n",
       " <tethne.classes.paper.Paper at 0x11a83a290>,\n",
       " <tethne.classes.paper.Paper at 0x11eb05910>,\n",
       " <tethne.classes.paper.Paper at 0x112578110>,\n",
       " <tethne.classes.paper.Paper at 0x11db9ce90>,\n",
       " <tethne.classes.paper.Paper at 0x1126787d0>,\n",
       " <tethne.classes.paper.Paper at 0x114140fd0>]"
      ]
     },
     "execution_count": 36,
     "metadata": {},
     "output_type": "execute_result"
    }
   ],
   "source": [
    "corpus[('authorKeywords', ['LIFE', 'ENZYME GENOTYPE', 'POLAR AUXIN'])]"
   ]
  },
  {
   "cell_type": "markdown",
   "metadata": {},
   "source": [
    "Since we indexed ``'date'`` earlier, we could select any ``Papers`` published between 2011 and 2012:"
   ]
  },
  {
   "cell_type": "code",
   "execution_count": 38,
   "metadata": {
    "collapsed": false
   },
   "outputs": [
    {
     "name": "stdout",
     "output_type": "stream",
     "text": [
      "There are 1267 Papers published between 2002 and 2012\n"
     ]
    }
   ],
   "source": [
    "papers = corpus[('date', range(2002, 2013))] # range() excludes the \"last\" value.\n",
    "print 'There are %i Papers published between %i and %i' % (len(papers), 2002, 2012)"
   ]
  },
  {
   "cell_type": "markdown",
   "metadata": {},
   "source": [
    "## Features\n",
    "\n",
    "Earlier we used specific fields in our ``Paper``s to create indices. The inverse of an index is what we call a **``FeatureSet``**. A ``FeatureSet`` contains data about the occurrence of specific features across all of the ``Paper``s in our ``Corpus``.\n",
    "\n",
    "The ``read`` method generates a few ``FeatureSet``s by default. All of the available ``FeatureSet``s are stored in a dictionary, the ``features`` attribute."
   ]
  },
  {
   "cell_type": "code",
   "execution_count": 39,
   "metadata": {
    "collapsed": false
   },
   "outputs": [
    {
     "data": {
      "text/plain": [
       "[('citations', <tethne.classes.feature.FeatureSet at 0x123ce0dd0>),\n",
       " ('authors', <tethne.classes.feature.FeatureSet at 0x123ce0d90>)]"
      ]
     },
     "execution_count": 39,
     "metadata": {},
     "output_type": "execute_result"
    }
   ],
   "source": [
    "corpus.features.items()"
   ]
  },
  {
   "cell_type": "markdown",
   "metadata": {},
   "source": [
    "Each ``FeatureSet`` has several properties:\n",
    "\n",
    "**``FeatureSet.index``** maps integer identifiers to specific features. For example, for author names:"
   ]
  },
  {
   "cell_type": "code",
   "execution_count": 40,
   "metadata": {
    "collapsed": false
   },
   "outputs": [
    {
     "name": "stdout",
     "output_type": "stream",
     "text": [
      "0  -->  \"AHLROTH, P\"\n",
      "1  -->  \"SUHONEN, J\"\n",
      "2  -->  \"ALATALO, RV\"\n",
      "3  -->  \"HYVARINEN, E\"\n",
      "4  -->  \"HUSBAND, BC\"\n",
      "5  -->  \"BURGESS, KS\"\n",
      "6  -->  \"FISCHER, M\"\n",
      "7  -->  \"MATTHIES, D\"\n",
      "8  -->  \"ELZINGA, JELMER A\"\n",
      "9  -->  \"BERNASCONI, GIORGINA\"\n"
     ]
    }
   ],
   "source": [
    "featureset = corpus.features['authors']\n",
    "for k, author in featureset.index.items()[0:10]:\n",
    "    print '%i  -->  \"%s\"' % (k, ', '.join(author)) # Author names are stored as (LAST, FIRST M)."
   ]
  },
  {
   "cell_type": "markdown",
   "metadata": {},
   "source": [
    "**``FeatureSet.lookup``** is the reverse of ``index``: it maps features onto their integer IDs:"
   ]
  },
  {
   "cell_type": "code",
   "execution_count": 42,
   "metadata": {
    "collapsed": false
   },
   "outputs": [
    {
     "name": "stdout",
     "output_type": "stream",
     "text": [
      "LIU, SR                    -->  4087\n",
      "IVEY, CHRISTOPHER T        -->  805\n",
      "BURNS, KEVIN C             -->  2338\n",
      "FUTUYMA, DOUGLAS J         -->  4111\n",
      "FERRIER, SHARON M          -->  2687\n",
      "ROOD, SB                   -->  2910\n",
      "YOKOYAMA, JUN              -->  3033\n",
      "DODD, RS                   -->  3211\n",
      "SEXTON, JASON P            -->  3112\n",
      "PEARSONS, TODD N           -->  387\n"
     ]
    }
   ],
   "source": [
    "featureset = corpus.features['authors']\n",
    "for author, k in featureset.lookup.items()[0:10]:\n",
    "    print '%s  -->  %i' % (', '.join(author).ljust(25), k)"
   ]
  },
  {
   "cell_type": "markdown",
   "metadata": {},
   "source": [
    "**``FeatureSet.documentCounts``** shows how many ``Paper``s in our ``Corpus`` have a specific feature:"
   ]
  },
  {
   "cell_type": "code",
   "execution_count": 43,
   "metadata": {
    "collapsed": false
   },
   "outputs": [
    {
     "name": "stdout",
     "output_type": "stream",
     "text": [
      "Feature 0 (which identifies author \"AHLROTH, P\") is found in 1 documents\n",
      "Feature 1 (which identifies author \"SUHONEN, J\") is found in 1 documents\n",
      "Feature 2 (which identifies author \"ALATALO, RV\") is found in 1 documents\n",
      "Feature 3 (which identifies author \"HYVARINEN, E\") is found in 1 documents\n",
      "Feature 4 (which identifies author \"HUSBAND, BC\") is found in 1 documents\n",
      "Feature 5 (which identifies author \"BURGESS, KS\") is found in 1 documents\n",
      "Feature 6 (which identifies author \"FISCHER, M\") is found in 5 documents\n",
      "Feature 7 (which identifies author \"MATTHIES, D\") is found in 4 documents\n",
      "Feature 8 (which identifies author \"ELZINGA, JELMER A\") is found in 1 documents\n",
      "Feature 9 (which identifies author \"BERNASCONI, GIORGINA\") is found in 2 documents\n"
     ]
    }
   ],
   "source": [
    "featureset = corpus.features['authors']\n",
    "for k, count in featureset.documentCounts.items()[0:10]:\n",
    "    print 'Feature %i (which identifies author \"%s\") is found in %i documents' % (k, ', '.join(featureset.index[k]), count)"
   ]
  },
  {
   "cell_type": "markdown",
   "metadata": {},
   "source": [
    "**``FeatureSet.features``** shows how many times each feature occurs in each ``Paper``."
   ]
  },
  {
   "cell_type": "code",
   "execution_count": 44,
   "metadata": {
    "collapsed": false
   },
   "outputs": [
    {
     "data": {
      "text/plain": [
       "('WOS:000078288500016',\n",
       " [(('SUHONEN', 'J'), 1),\n",
       "  (('AHLROTH', 'P'), 1),\n",
       "  (('ALATALO', 'RV'), 1),\n",
       "  (('HYVARINEN', 'E'), 1)])"
      ]
     },
     "execution_count": 44,
     "metadata": {},
     "output_type": "execute_result"
    }
   ],
   "source": [
    "featureset.features.items()[0]"
   ]
  },
  {
   "cell_type": "markdown",
   "metadata": {},
   "source": [
    "We can create a new ``FeatureSet`` from just about any field in our ``Corpus``, using the ``index_feature`` method. For example, suppose that we were interested in the distribution of ``authorKeywords`` across the whole corpus:"
   ]
  },
  {
   "cell_type": "code",
   "execution_count": 46,
   "metadata": {
    "collapsed": false
   },
   "outputs": [
    {
     "data": {
      "text/plain": [
       "['citations', 'authorKeywords', 'authors']"
      ]
     },
     "execution_count": 46,
     "metadata": {},
     "output_type": "execute_result"
    }
   ],
   "source": [
    "corpus.index_feature('authorKeywords')\n",
    "corpus.features.keys()"
   ]
  },
  {
   "cell_type": "code",
   "execution_count": 48,
   "metadata": {
    "collapsed": false
   },
   "outputs": [
    {
     "name": "stdout",
     "output_type": "stream",
     "text": [
      "Keyword EVOLUTION is found in 233 documents\n",
      "Keyword DIMORPHISM is found in 8 documents\n",
      "Keyword LIMNOPORUS-CANALICULATUS is found in 1 documents\n",
      "Keyword DISPERSAL is found in 39 documents\n",
      "Keyword INSECTS is found in 8 documents\n",
      "Keyword MORPHS is found in 1 documents\n",
      "Keyword FLIGHTLESSNESS is found in 1 documents\n",
      "Keyword REMIGIS is found in 1 documents\n",
      "Keyword LIFE-HISTORY is found in 73 documents\n",
      "Keyword LOUISIANA IRISES is found in 3 documents\n"
     ]
    }
   ],
   "source": [
    "featureset = corpus.features['authorKeywords']\n",
    "for k, count in featureset.documentCounts.items()[0:10]:\n",
    "    print 'Keyword %s is found in %i documents' % (featureset.index[k], count)"
   ]
  },
  {
   "cell_type": "code",
   "execution_count": 49,
   "metadata": {
    "collapsed": false
   },
   "outputs": [
    {
     "data": {
      "text/plain": [
       "[('GENETIC SIMILARITY RULE', 1),\n",
       " ('ANT-APHID INTERACTIONS', 1),\n",
       " ('HERITABILITY', 1),\n",
       " ('GENOTYPE', 1),\n",
       " ('CONSEQUENCES', 1),\n",
       " ('FOOD-WEB', 1),\n",
       " ('DEFENSE', 1),\n",
       " ('FOREST ECOSYSTEM', 1),\n",
       " ('DIVERSITY', 1),\n",
       " ('ECOSYSTEM GENETICS', 1)]"
      ]
     },
     "execution_count": 49,
     "metadata": {},
     "output_type": "execute_result"
    }
   ],
   "source": [
    "featureset.features['WOS:000324532900018']    # Feature for a specific Paper."
   ]
  },
  {
   "cell_type": "code",
   "execution_count": 50,
   "metadata": {
    "collapsed": false
   },
   "outputs": [
    {
     "data": {
      "image/png": "[encoded data removed]",
      "text/plain": [
       "<matplotlib.figure.Figure at 0x1174e0610>"
      ]
     },
     "metadata": {},
     "output_type": "display_data"
    }
   ],
   "source": [
    "plt.figure(figsize=(10, 3))\n",
    "years, values = corpus.feature_distribution('authorKeywords', 'DIVERSITY')\n",
    "start = min(years)\n",
    "end = max(years)\n",
    "X = range(start, end + 1)\n",
    "plt.plot(years, values, lw=2)\n",
    "plt.ylabel('Papers with DIVERSITY in authorKeywords')\n",
    "plt.xlim(start, end)\n",
    "plt.show()"
   ]
  }
 ],
 "metadata": {
  "kernelspec": {
   "display_name": "Python 2",
   "language": "python",
   "name": "python2"
  },
  "language_info": {
   "codemirror_mode": {
    "name": "ipython",
    "version": 2
   },
   "file_extension": ".py",
   "mimetype": "text/x-python",
   "name": "python",
   "nbconvert_exporter": "python",
   "pygments_lexer": "ipython2",
   "version": "2.7.9"
  }
 },
 "nbformat": 4,
 "nbformat_minor": 0
}
